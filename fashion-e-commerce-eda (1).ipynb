{
 "cells": [
  {
   "cell_type": "markdown",
   "id": "571e41e2",
   "metadata": {
    "papermill": {
     "duration": 0.013604,
     "end_time": "2023-03-13T21:02:48.150809",
     "exception": false,
     "start_time": "2023-03-13T21:02:48.137205",
     "status": "completed"
    },
    "tags": []
   },
   "source": [
    "# **Welcome**\n",
    "Today we have Used a E-commerce brands Fashion Department and its multi-category Products available."
   ]
  },
  {
   "cell_type": "markdown",
   "id": "54e708ac",
   "metadata": {
    "papermill": {
     "duration": 0.011844,
     "end_time": "2023-03-13T21:02:48.175166",
     "exception": false,
     "start_time": "2023-03-13T21:02:48.163322",
     "status": "completed"
    },
    "tags": []
   },
   "source": [
    "Importing nesseary libareries to perform EDA"
   ]
  },
  {
   "cell_type": "code",
   "execution_count": 1,
   "id": "9d0206a4",
   "metadata": {
    "execution": {
     "iopub.execute_input": "2023-03-13T21:02:48.202865Z",
     "iopub.status.busy": "2023-03-13T21:02:48.202138Z",
     "iopub.status.idle": "2023-03-13T21:02:52.870147Z",
     "shell.execute_reply": "2023-03-13T21:02:52.868972Z"
    },
    "papermill": {
     "duration": 4.685097,
     "end_time": "2023-03-13T21:02:52.873039",
     "exception": false,
     "start_time": "2023-03-13T21:02:48.187942",
     "status": "completed"
    },
    "tags": []
   },
   "outputs": [
    {
     "name": "stderr",
     "output_type": "stream",
     "text": [
      "/opt/conda/lib/python3.7/site-packages/geopandas/_compat.py:115: UserWarning:\n",
      "\n",
      "The Shapely GEOS version (3.9.1-CAPI-1.14.2) is incompatible with the GEOS version PyGEOS was compiled with (3.10.4-CAPI-1.16.2). Conversions between both will be slow.\n",
      "\n"
     ]
    }
   ],
   "source": [
    "import numpy as np\n",
    "import pandas as pd\n",
    "import seaborn as sns \n",
    "import matplotlib.pyplot as plt\n",
    "import cufflinks as cs\n",
    "%matplotlib inline\n",
    "import plotly.express as px\n",
    "import plotly as py\n",
    "import plotly.graph_objs as go\n",
    "from plotly.offline import download_plotlyjs,init_notebook_mode,plot,iplot"
   ]
  },
  {
   "cell_type": "markdown",
   "id": "a6a5113d",
   "metadata": {
    "papermill": {
     "duration": 0.016161,
     "end_time": "2023-03-13T21:02:52.905895",
     "exception": false,
     "start_time": "2023-03-13T21:02:52.889734",
     "status": "completed"
    },
    "tags": []
   },
   "source": [
    "Loading up the file on which we will perform our EDA."
   ]
  },
  {
   "cell_type": "code",
   "execution_count": 2,
   "id": "1bc620cb",
   "metadata": {
    "execution": {
     "iopub.execute_input": "2023-03-13T21:02:52.946898Z",
     "iopub.status.busy": "2023-03-13T21:02:52.945755Z",
     "iopub.status.idle": "2023-03-13T21:02:53.188972Z",
     "shell.execute_reply": "2023-03-13T21:02:53.187838Z"
    },
    "papermill": {
     "duration": 0.267007,
     "end_time": "2023-03-13T21:02:53.192425",
     "exception": false,
     "start_time": "2023-03-13T21:02:52.925418",
     "status": "completed"
    },
    "tags": []
   },
   "outputs": [],
   "source": [
    "men=pd.read_csv('/kaggle/input/e-commerce-big-dataset-from-multi-category/Asosmenfashion.csv')\n",
    "women=pd.read_csv('/kaggle/input/e-commerce-big-dataset-from-multi-category/AsosWomenfashion.csv')"
   ]
  },
  {
   "cell_type": "markdown",
   "id": "43cf2708",
   "metadata": {
    "papermill": {
     "duration": 0.012756,
     "end_time": "2023-03-13T21:02:53.218147",
     "exception": false,
     "start_time": "2023-03-13T21:02:53.205391",
     "status": "completed"
    },
    "tags": []
   },
   "source": [
    "Using head funciton to get top 5 rows from the DataFrame."
   ]
  },
  {
   "cell_type": "code",
   "execution_count": 3,
   "id": "fc21b860",
   "metadata": {
    "execution": {
     "iopub.execute_input": "2023-03-13T21:02:53.246342Z",
     "iopub.status.busy": "2023-03-13T21:02:53.245429Z",
     "iopub.status.idle": "2023-03-13T21:02:53.277309Z",
     "shell.execute_reply": "2023-03-13T21:02:53.275893Z"
    },
    "papermill": {
     "duration": 0.049619,
     "end_time": "2023-03-13T21:02:53.280274",
     "exception": false,
     "start_time": "2023-03-13T21:02:53.230655",
     "status": "completed"
    },
    "tags": []
   },
   "outputs": [
    {
     "data": {
      "text/html": [
       "<div>\n",
       "<style scoped>\n",
       "    .dataframe tbody tr th:only-of-type {\n",
       "        vertical-align: middle;\n",
       "    }\n",
       "\n",
       "    .dataframe tbody tr th {\n",
       "        vertical-align: top;\n",
       "    }\n",
       "\n",
       "    .dataframe thead th {\n",
       "        text-align: right;\n",
       "    }\n",
       "</style>\n",
       "<table border=\"1\" class=\"dataframe\">\n",
       "  <thead>\n",
       "    <tr style=\"text-align: right;\">\n",
       "      <th></th>\n",
       "      <th>product_id</th>\n",
       "      <th>brand_name</th>\n",
       "      <th>title</th>\n",
       "      <th>current_price</th>\n",
       "      <th>previous_price</th>\n",
       "      <th>colour</th>\n",
       "      <th>currency</th>\n",
       "      <th>rrp</th>\n",
       "      <th>productCode</th>\n",
       "      <th>productType</th>\n",
       "    </tr>\n",
       "  </thead>\n",
       "  <tbody>\n",
       "    <tr>\n",
       "      <th>0</th>\n",
       "      <td>204499665</td>\n",
       "      <td>Replay</td>\n",
       "      <td>Replay t-shirt in white</td>\n",
       "      <td>72.0</td>\n",
       "      <td>NaN</td>\n",
       "      <td>NaN</td>\n",
       "      <td>USD</td>\n",
       "      <td>100.0</td>\n",
       "      <td>127434315</td>\n",
       "      <td>Product</td>\n",
       "    </tr>\n",
       "    <tr>\n",
       "      <th>1</th>\n",
       "      <td>203420859</td>\n",
       "      <td>Jack &amp; Jones</td>\n",
       "      <td>Jack &amp; Jones script logo t-shirt in white</td>\n",
       "      <td>17.0</td>\n",
       "      <td>NaN</td>\n",
       "      <td>NaN</td>\n",
       "      <td>USD</td>\n",
       "      <td>21.0</td>\n",
       "      <td>121133019</td>\n",
       "      <td>Product</td>\n",
       "    </tr>\n",
       "    <tr>\n",
       "      <th>2</th>\n",
       "      <td>204285229</td>\n",
       "      <td>Jack &amp; Jones</td>\n",
       "      <td>Jack &amp; Jones logo polo in pale green</td>\n",
       "      <td>34.0</td>\n",
       "      <td>NaN</td>\n",
       "      <td>NaN</td>\n",
       "      <td>USD</td>\n",
       "      <td>43.0</td>\n",
       "      <td>126403589</td>\n",
       "      <td>Product</td>\n",
       "    </tr>\n",
       "    <tr>\n",
       "      <th>3</th>\n",
       "      <td>202261918</td>\n",
       "      <td>Don't Think Twice</td>\n",
       "      <td>DTT denim board shorts in light blue</td>\n",
       "      <td>31.0</td>\n",
       "      <td>NaN</td>\n",
       "      <td>NaN</td>\n",
       "      <td>USD</td>\n",
       "      <td>42.0</td>\n",
       "      <td>116069818</td>\n",
       "      <td>Product</td>\n",
       "    </tr>\n",
       "    <tr>\n",
       "      <th>4</th>\n",
       "      <td>202191610</td>\n",
       "      <td>Another Influence</td>\n",
       "      <td>Another Influence towelling shorts co-ord in m...</td>\n",
       "      <td>23.0</td>\n",
       "      <td>NaN</td>\n",
       "      <td>NaN</td>\n",
       "      <td>USD</td>\n",
       "      <td>48.0</td>\n",
       "      <td>115976447</td>\n",
       "      <td>Product</td>\n",
       "    </tr>\n",
       "  </tbody>\n",
       "</table>\n",
       "</div>"
      ],
      "text/plain": [
       "   product_id         brand_name  \\\n",
       "0   204499665             Replay   \n",
       "1   203420859       Jack & Jones   \n",
       "2   204285229       Jack & Jones   \n",
       "3   202261918  Don't Think Twice   \n",
       "4   202191610  Another Influence   \n",
       "\n",
       "                                               title  current_price  \\\n",
       "0                            Replay t-shirt in white           72.0   \n",
       "1          Jack & Jones script logo t-shirt in white           17.0   \n",
       "2               Jack & Jones logo polo in pale green           34.0   \n",
       "3               DTT denim board shorts in light blue           31.0   \n",
       "4  Another Influence towelling shorts co-ord in m...           23.0   \n",
       "\n",
       "   previous_price  colour currency    rrp  productCode productType  \n",
       "0             NaN     NaN      USD  100.0    127434315     Product  \n",
       "1             NaN     NaN      USD   21.0    121133019     Product  \n",
       "2             NaN     NaN      USD   43.0    126403589     Product  \n",
       "3             NaN     NaN      USD   42.0    116069818     Product  \n",
       "4             NaN     NaN      USD   48.0    115976447     Product  "
      ]
     },
     "execution_count": 3,
     "metadata": {},
     "output_type": "execute_result"
    }
   ],
   "source": [
    "men.head()"
   ]
  },
  {
   "cell_type": "code",
   "execution_count": 4,
   "id": "8b3a6a1e",
   "metadata": {
    "execution": {
     "iopub.execute_input": "2023-03-13T21:02:53.308580Z",
     "iopub.status.busy": "2023-03-13T21:02:53.307270Z",
     "iopub.status.idle": "2023-03-13T21:02:53.331879Z",
     "shell.execute_reply": "2023-03-13T21:02:53.330520Z"
    },
    "papermill": {
     "duration": 0.041424,
     "end_time": "2023-03-13T21:02:53.334562",
     "exception": false,
     "start_time": "2023-03-13T21:02:53.293138",
     "status": "completed"
    },
    "tags": []
   },
   "outputs": [
    {
     "data": {
      "text/plain": [
       "0        28\n",
       "1         4\n",
       "2         9\n",
       "3        11\n",
       "4        25\n",
       "         ..\n",
       "17563     0\n",
       "17564    11\n",
       "17565     0\n",
       "17566    19\n",
       "17567     0\n",
       "Name: Discount %, Length: 17568, dtype: int64"
      ]
     },
     "execution_count": 4,
     "metadata": {},
     "output_type": "execute_result"
    }
   ],
   "source": [
    "men['Discount %']=(men['rrp']-men['current_price'])/100*100\n",
    "men['Discount %'].fillna(int(0),inplace=True)\n",
    "men['Discount %'].apply(lambda x:int(x))"
   ]
  },
  {
   "cell_type": "code",
   "execution_count": 5,
   "id": "d44c3994",
   "metadata": {
    "execution": {
     "iopub.execute_input": "2023-03-13T21:02:53.363023Z",
     "iopub.status.busy": "2023-03-13T21:02:53.362180Z",
     "iopub.status.idle": "2023-03-13T21:02:53.369509Z",
     "shell.execute_reply": "2023-03-13T21:02:53.368519Z"
    },
    "papermill": {
     "duration": 0.024351,
     "end_time": "2023-03-13T21:02:53.371849",
     "exception": false,
     "start_time": "2023-03-13T21:02:53.347498",
     "status": "completed"
    },
    "tags": []
   },
   "outputs": [
    {
     "data": {
      "text/plain": [
       "(17568, 11)"
      ]
     },
     "execution_count": 5,
     "metadata": {},
     "output_type": "execute_result"
    }
   ],
   "source": [
    "men.shape"
   ]
  },
  {
   "cell_type": "code",
   "execution_count": 6,
   "id": "68faf103",
   "metadata": {
    "execution": {
     "iopub.execute_input": "2023-03-13T21:02:53.400097Z",
     "iopub.status.busy": "2023-03-13T21:02:53.399361Z",
     "iopub.status.idle": "2023-03-13T21:02:53.420136Z",
     "shell.execute_reply": "2023-03-13T21:02:53.418874Z"
    },
    "papermill": {
     "duration": 0.037714,
     "end_time": "2023-03-13T21:02:53.422527",
     "exception": false,
     "start_time": "2023-03-13T21:02:53.384813",
     "status": "completed"
    },
    "tags": []
   },
   "outputs": [
    {
     "data": {
      "text/html": [
       "<div>\n",
       "<style scoped>\n",
       "    .dataframe tbody tr th:only-of-type {\n",
       "        vertical-align: middle;\n",
       "    }\n",
       "\n",
       "    .dataframe tbody tr th {\n",
       "        vertical-align: top;\n",
       "    }\n",
       "\n",
       "    .dataframe thead th {\n",
       "        text-align: right;\n",
       "    }\n",
       "</style>\n",
       "<table border=\"1\" class=\"dataframe\">\n",
       "  <thead>\n",
       "    <tr style=\"text-align: right;\">\n",
       "      <th></th>\n",
       "      <th>product_id</th>\n",
       "      <th>brand_name</th>\n",
       "      <th>title</th>\n",
       "      <th>current_price</th>\n",
       "      <th>previous_price</th>\n",
       "      <th>colour</th>\n",
       "      <th>currency</th>\n",
       "      <th>rrp</th>\n",
       "      <th>productCode</th>\n",
       "      <th>productType</th>\n",
       "      <th>Discount %</th>\n",
       "    </tr>\n",
       "  </thead>\n",
       "  <tbody>\n",
       "    <tr>\n",
       "      <th>4452</th>\n",
       "      <td>200360594</td>\n",
       "      <td>FIT HUT</td>\n",
       "      <td>FITHUT 2.8m skipping rope in black</td>\n",
       "      <td>5.68</td>\n",
       "      <td>12.63</td>\n",
       "      <td>NaN</td>\n",
       "      <td>USD</td>\n",
       "      <td>17.37</td>\n",
       "      <td>103374759</td>\n",
       "      <td>Product</td>\n",
       "      <td>11.69</td>\n",
       "    </tr>\n",
       "    <tr>\n",
       "      <th>9743</th>\n",
       "      <td>204499108</td>\n",
       "      <td>Replay</td>\n",
       "      <td>Replay long sleeve logo t-shirt in navy</td>\n",
       "      <td>72.00</td>\n",
       "      <td>NaN</td>\n",
       "      <td>NaN</td>\n",
       "      <td>USD</td>\n",
       "      <td>100.00</td>\n",
       "      <td>127434314</td>\n",
       "      <td>Product</td>\n",
       "      <td>28.00</td>\n",
       "    </tr>\n",
       "    <tr>\n",
       "      <th>17388</th>\n",
       "      <td>203552389</td>\n",
       "      <td>Revolution</td>\n",
       "      <td>Clueless x Revolution Lip Liner - Dionne - ASO...</td>\n",
       "      <td>2.61</td>\n",
       "      <td>8.69</td>\n",
       "      <td>NaN</td>\n",
       "      <td>USD</td>\n",
       "      <td>NaN</td>\n",
       "      <td>121398356</td>\n",
       "      <td>Product</td>\n",
       "      <td>0.00</td>\n",
       "    </tr>\n",
       "  </tbody>\n",
       "</table>\n",
       "</div>"
      ],
      "text/plain": [
       "       product_id  brand_name  \\\n",
       "4452    200360594     FIT HUT   \n",
       "9743    204499108      Replay   \n",
       "17388   203552389  Revolution   \n",
       "\n",
       "                                                   title  current_price  \\\n",
       "4452                  FITHUT 2.8m skipping rope in black           5.68   \n",
       "9743             Replay long sleeve logo t-shirt in navy          72.00   \n",
       "17388  Clueless x Revolution Lip Liner - Dionne - ASO...           2.61   \n",
       "\n",
       "       previous_price  colour currency     rrp  productCode productType  \\\n",
       "4452            12.63     NaN      USD   17.37    103374759     Product   \n",
       "9743              NaN     NaN      USD  100.00    127434314     Product   \n",
       "17388            8.69     NaN      USD     NaN    121398356     Product   \n",
       "\n",
       "       Discount %  \n",
       "4452        11.69  \n",
       "9743        28.00  \n",
       "17388        0.00  "
      ]
     },
     "execution_count": 6,
     "metadata": {},
     "output_type": "execute_result"
    }
   ],
   "source": [
    "men.sample(3)"
   ]
  },
  {
   "cell_type": "markdown",
   "id": "a6b22c8d",
   "metadata": {
    "papermill": {
     "duration": 0.012842,
     "end_time": "2023-03-13T21:02:53.448443",
     "exception": false,
     "start_time": "2023-03-13T21:02:53.435601",
     "status": "completed"
    },
    "tags": []
   },
   "source": [
    "Adding discount column to look for the Discount % one product has on the E-Commerce website in respective to the its Recommended Retail Price."
   ]
  },
  {
   "cell_type": "code",
   "execution_count": 7,
   "id": "481bf484",
   "metadata": {
    "execution": {
     "iopub.execute_input": "2023-03-13T21:02:53.477864Z",
     "iopub.status.busy": "2023-03-13T21:02:53.477405Z",
     "iopub.status.idle": "2023-03-13T21:02:53.513293Z",
     "shell.execute_reply": "2023-03-13T21:02:53.511844Z"
    },
    "papermill": {
     "duration": 0.054363,
     "end_time": "2023-03-13T21:02:53.515875",
     "exception": false,
     "start_time": "2023-03-13T21:02:53.461512",
     "status": "completed"
    },
    "tags": []
   },
   "outputs": [
    {
     "data": {
      "text/plain": [
       "0        65\n",
       "1        19\n",
       "2        74\n",
       "3        25\n",
       "4        51\n",
       "         ..\n",
       "43627    55\n",
       "43628    44\n",
       "43629    30\n",
       "43630    26\n",
       "43631    20\n",
       "Name: Discount %, Length: 43632, dtype: int64"
      ]
     },
     "execution_count": 7,
     "metadata": {},
     "output_type": "execute_result"
    }
   ],
   "source": [
    "women['Discount %']=(women['rrp']-women['current_price'])/100*100\n",
    "women['Discount %'].fillna(int(0),inplace=True)\n",
    "women['Discount %'].apply(lambda x:int(x))"
   ]
  },
  {
   "cell_type": "markdown",
   "id": "6fa72ec2",
   "metadata": {
    "papermill": {
     "duration": 0.01279,
     "end_time": "2023-03-13T21:02:53.542200",
     "exception": false,
     "start_time": "2023-03-13T21:02:53.529410",
     "status": "completed"
    },
    "tags": []
   },
   "source": [
    "sample fuction to show us the sample of the discount column which we introduced above."
   ]
  },
  {
   "cell_type": "code",
   "execution_count": 8,
   "id": "1a246dbb",
   "metadata": {
    "execution": {
     "iopub.execute_input": "2023-03-13T21:02:53.571412Z",
     "iopub.status.busy": "2023-03-13T21:02:53.570084Z",
     "iopub.status.idle": "2023-03-13T21:02:53.591844Z",
     "shell.execute_reply": "2023-03-13T21:02:53.590481Z"
    },
    "papermill": {
     "duration": 0.039161,
     "end_time": "2023-03-13T21:02:53.594602",
     "exception": false,
     "start_time": "2023-03-13T21:02:53.555441",
     "status": "completed"
    },
    "tags": []
   },
   "outputs": [
    {
     "data": {
      "text/html": [
       "<div>\n",
       "<style scoped>\n",
       "    .dataframe tbody tr th:only-of-type {\n",
       "        vertical-align: middle;\n",
       "    }\n",
       "\n",
       "    .dataframe tbody tr th {\n",
       "        vertical-align: top;\n",
       "    }\n",
       "\n",
       "    .dataframe thead th {\n",
       "        text-align: right;\n",
       "    }\n",
       "</style>\n",
       "<table border=\"1\" class=\"dataframe\">\n",
       "  <thead>\n",
       "    <tr style=\"text-align: right;\">\n",
       "      <th></th>\n",
       "      <th>product_id</th>\n",
       "      <th>brand_name</th>\n",
       "      <th>title</th>\n",
       "      <th>current_price</th>\n",
       "      <th>previous_price</th>\n",
       "      <th>colour</th>\n",
       "      <th>currency</th>\n",
       "      <th>rrp</th>\n",
       "      <th>productCode</th>\n",
       "      <th>productType</th>\n",
       "      <th>Discount %</th>\n",
       "    </tr>\n",
       "  </thead>\n",
       "  <tbody>\n",
       "    <tr>\n",
       "      <th>31182</th>\n",
       "      <td>201643333</td>\n",
       "      <td>Waven</td>\n",
       "      <td>Waven Elsa high rise straight leg jeans in Ame...</td>\n",
       "      <td>51.00</td>\n",
       "      <td>NaN</td>\n",
       "      <td>NaN</td>\n",
       "      <td>USD</td>\n",
       "      <td>81.0</td>\n",
       "      <td>114203871</td>\n",
       "      <td>Product</td>\n",
       "      <td>30.0</td>\n",
       "    </tr>\n",
       "    <tr>\n",
       "      <th>27405</th>\n",
       "      <td>204128623</td>\n",
       "      <td>Oskia</td>\n",
       "      <td>Oskia Skincare Saviours Gift Set (Save 25%)</td>\n",
       "      <td>102.64</td>\n",
       "      <td>127.91</td>\n",
       "      <td>NaN</td>\n",
       "      <td>USD</td>\n",
       "      <td>NaN</td>\n",
       "      <td>125405179</td>\n",
       "      <td>Product</td>\n",
       "      <td>0.0</td>\n",
       "    </tr>\n",
       "    <tr>\n",
       "      <th>4004</th>\n",
       "      <td>203453463</td>\n",
       "      <td>Glamorous</td>\n",
       "      <td>Glamorous waist and hip belt with gold double ...</td>\n",
       "      <td>12.00</td>\n",
       "      <td>NaN</td>\n",
       "      <td>NaN</td>\n",
       "      <td>USD</td>\n",
       "      <td>17.0</td>\n",
       "      <td>120743840</td>\n",
       "      <td>Product</td>\n",
       "      <td>5.0</td>\n",
       "    </tr>\n",
       "  </tbody>\n",
       "</table>\n",
       "</div>"
      ],
      "text/plain": [
       "       product_id brand_name  \\\n",
       "31182   201643333      Waven   \n",
       "27405   204128623      Oskia   \n",
       "4004    203453463  Glamorous   \n",
       "\n",
       "                                                   title  current_price  \\\n",
       "31182  Waven Elsa high rise straight leg jeans in Ame...          51.00   \n",
       "27405        Oskia Skincare Saviours Gift Set (Save 25%)         102.64   \n",
       "4004   Glamorous waist and hip belt with gold double ...          12.00   \n",
       "\n",
       "       previous_price  colour currency   rrp  productCode productType  \\\n",
       "31182             NaN     NaN      USD  81.0    114203871     Product   \n",
       "27405          127.91     NaN      USD   NaN    125405179     Product   \n",
       "4004              NaN     NaN      USD  17.0    120743840     Product   \n",
       "\n",
       "       Discount %  \n",
       "31182        30.0  \n",
       "27405         0.0  \n",
       "4004          5.0  "
      ]
     },
     "execution_count": 8,
     "metadata": {},
     "output_type": "execute_result"
    }
   ],
   "source": [
    "women.sample(3)"
   ]
  },
  {
   "cell_type": "markdown",
   "id": "6710cbeb",
   "metadata": {
    "papermill": {
     "duration": 0.013028,
     "end_time": "2023-03-13T21:02:53.621244",
     "exception": false,
     "start_time": "2023-03-13T21:02:53.608216",
     "status": "completed"
    },
    "tags": []
   },
   "source": [
    "isna().sum() to know about the null values present in the DataFrame."
   ]
  },
  {
   "cell_type": "code",
   "execution_count": 9,
   "id": "43135638",
   "metadata": {
    "execution": {
     "iopub.execute_input": "2023-03-13T21:02:53.650507Z",
     "iopub.status.busy": "2023-03-13T21:02:53.650076Z",
     "iopub.status.idle": "2023-03-13T21:02:53.663527Z",
     "shell.execute_reply": "2023-03-13T21:02:53.662329Z"
    },
    "papermill": {
     "duration": 0.031545,
     "end_time": "2023-03-13T21:02:53.666163",
     "exception": false,
     "start_time": "2023-03-13T21:02:53.634618",
     "status": "completed"
    },
    "tags": []
   },
   "outputs": [
    {
     "data": {
      "text/plain": [
       "product_id            0\n",
       "brand_name            0\n",
       "title                 0\n",
       "current_price         0\n",
       "previous_price     6832\n",
       "colour            17568\n",
       "currency              0\n",
       "rrp                8784\n",
       "productCode           0\n",
       "productType           0\n",
       "Discount %            0\n",
       "dtype: int64"
      ]
     },
     "execution_count": 9,
     "metadata": {},
     "output_type": "execute_result"
    }
   ],
   "source": [
    "men.isna().sum()"
   ]
  },
  {
   "cell_type": "markdown",
   "id": "2a0deb69",
   "metadata": {
    "papermill": {
     "duration": 0.013392,
     "end_time": "2023-03-13T21:02:53.693753",
     "exception": false,
     "start_time": "2023-03-13T21:02:53.680361",
     "status": "completed"
    },
    "tags": []
   },
   "source": [
    "shape to know the dimension of the DataFrame"
   ]
  },
  {
   "cell_type": "code",
   "execution_count": 10,
   "id": "d99b3dad",
   "metadata": {
    "execution": {
     "iopub.execute_input": "2023-03-13T21:02:53.723754Z",
     "iopub.status.busy": "2023-03-13T21:02:53.723294Z",
     "iopub.status.idle": "2023-03-13T21:02:53.731154Z",
     "shell.execute_reply": "2023-03-13T21:02:53.729677Z"
    },
    "papermill": {
     "duration": 0.026357,
     "end_time": "2023-03-13T21:02:53.733697",
     "exception": false,
     "start_time": "2023-03-13T21:02:53.707340",
     "status": "completed"
    },
    "tags": []
   },
   "outputs": [
    {
     "data": {
      "text/plain": [
       "(43632, 11)"
      ]
     },
     "execution_count": 10,
     "metadata": {},
     "output_type": "execute_result"
    }
   ],
   "source": [
    "women.shape"
   ]
  },
  {
   "cell_type": "markdown",
   "id": "d0b358ae",
   "metadata": {
    "papermill": {
     "duration": 0.013379,
     "end_time": "2023-03-13T21:02:53.760971",
     "exception": false,
     "start_time": "2023-03-13T21:02:53.747592",
     "status": "completed"
    },
    "tags": []
   },
   "source": [
    "info function to get the data about the DataFrame, returns with column names, null values in it and the type of data it contains."
   ]
  },
  {
   "cell_type": "code",
   "execution_count": 11,
   "id": "df9e2b40",
   "metadata": {
    "execution": {
     "iopub.execute_input": "2023-03-13T21:02:53.790793Z",
     "iopub.status.busy": "2023-03-13T21:02:53.790361Z",
     "iopub.status.idle": "2023-03-13T21:02:53.815205Z",
     "shell.execute_reply": "2023-03-13T21:02:53.813653Z"
    },
    "papermill": {
     "duration": 0.04259,
     "end_time": "2023-03-13T21:02:53.817453",
     "exception": false,
     "start_time": "2023-03-13T21:02:53.774863",
     "status": "completed"
    },
    "tags": []
   },
   "outputs": [
    {
     "name": "stdout",
     "output_type": "stream",
     "text": [
      "<class 'pandas.core.frame.DataFrame'>\n",
      "RangeIndex: 17568 entries, 0 to 17567\n",
      "Data columns (total 11 columns):\n",
      " #   Column          Non-Null Count  Dtype  \n",
      "---  ------          --------------  -----  \n",
      " 0   product_id      17568 non-null  int64  \n",
      " 1   brand_name      17568 non-null  object \n",
      " 2   title           17568 non-null  object \n",
      " 3   current_price   17568 non-null  float64\n",
      " 4   previous_price  10736 non-null  float64\n",
      " 5   colour          0 non-null      float64\n",
      " 6   currency        17568 non-null  object \n",
      " 7   rrp             8784 non-null   float64\n",
      " 8   productCode     17568 non-null  int64  \n",
      " 9   productType     17568 non-null  object \n",
      " 10  Discount %      17568 non-null  float64\n",
      "dtypes: float64(5), int64(2), object(4)\n",
      "memory usage: 1.5+ MB\n"
     ]
    }
   ],
   "source": [
    "men.info()"
   ]
  },
  {
   "cell_type": "code",
   "execution_count": 12,
   "id": "5e2dd5cf",
   "metadata": {
    "execution": {
     "iopub.execute_input": "2023-03-13T21:02:53.846479Z",
     "iopub.status.busy": "2023-03-13T21:02:53.846030Z",
     "iopub.status.idle": "2023-03-13T21:02:53.869286Z",
     "shell.execute_reply": "2023-03-13T21:02:53.867703Z"
    },
    "papermill": {
     "duration": 0.040673,
     "end_time": "2023-03-13T21:02:53.871817",
     "exception": false,
     "start_time": "2023-03-13T21:02:53.831144",
     "status": "completed"
    },
    "tags": []
   },
   "outputs": [
    {
     "name": "stdout",
     "output_type": "stream",
     "text": [
      "<class 'pandas.core.frame.DataFrame'>\n",
      "RangeIndex: 43632 entries, 0 to 43631\n",
      "Data columns (total 11 columns):\n",
      " #   Column          Non-Null Count  Dtype  \n",
      "---  ------          --------------  -----  \n",
      " 0   product_id      43632 non-null  int64  \n",
      " 1   brand_name      43632 non-null  object \n",
      " 2   title           43632 non-null  object \n",
      " 3   current_price   43632 non-null  float64\n",
      " 4   previous_price  14544 non-null  float64\n",
      " 5   colour          0 non-null      float64\n",
      " 6   currency        43632 non-null  object \n",
      " 7   rrp             34542 non-null  float64\n",
      " 8   productCode     43632 non-null  int64  \n",
      " 9   productType     43632 non-null  object \n",
      " 10  Discount %      43632 non-null  float64\n",
      "dtypes: float64(5), int64(2), object(4)\n",
      "memory usage: 3.7+ MB\n"
     ]
    }
   ],
   "source": [
    "women.info()"
   ]
  },
  {
   "cell_type": "markdown",
   "id": "c14eb4f3",
   "metadata": {
    "papermill": {
     "duration": 0.013327,
     "end_time": "2023-03-13T21:02:53.899148",
     "exception": false,
     "start_time": "2023-03-13T21:02:53.885821",
     "status": "completed"
    },
    "tags": []
   },
   "source": [
    "Nunique function to know the unique values the columns or the dataframe has"
   ]
  },
  {
   "cell_type": "code",
   "execution_count": 13,
   "id": "e2db4677",
   "metadata": {
    "execution": {
     "iopub.execute_input": "2023-03-13T21:02:53.929856Z",
     "iopub.status.busy": "2023-03-13T21:02:53.928973Z",
     "iopub.status.idle": "2023-03-13T21:02:53.948727Z",
     "shell.execute_reply": "2023-03-13T21:02:53.947416Z"
    },
    "papermill": {
     "duration": 0.038235,
     "end_time": "2023-03-13T21:02:53.951518",
     "exception": false,
     "start_time": "2023-03-13T21:02:53.913283",
     "status": "completed"
    },
    "tags": []
   },
   "outputs": [
    {
     "data": {
      "text/plain": [
       "product_id        72\n",
       "brand_name        30\n",
       "title             72\n",
       "current_price     49\n",
       "previous_price    23\n",
       "colour             0\n",
       "currency           1\n",
       "rrp               22\n",
       "productCode       72\n",
       "productType        1\n",
       "Discount %        30\n",
       "dtype: int64"
      ]
     },
     "execution_count": 13,
     "metadata": {},
     "output_type": "execute_result"
    }
   ],
   "source": [
    "men.nunique()"
   ]
  },
  {
   "cell_type": "code",
   "execution_count": 14,
   "id": "acb7e161",
   "metadata": {
    "execution": {
     "iopub.execute_input": "2023-03-13T21:02:53.981091Z",
     "iopub.status.busy": "2023-03-13T21:02:53.980678Z",
     "iopub.status.idle": "2023-03-13T21:02:54.007111Z",
     "shell.execute_reply": "2023-03-13T21:02:54.005987Z"
    },
    "papermill": {
     "duration": 0.044235,
     "end_time": "2023-03-13T21:02:54.009657",
     "exception": false,
     "start_time": "2023-03-13T21:02:53.965422",
     "status": "completed"
    },
    "tags": []
   },
   "outputs": [
    {
     "data": {
      "text/plain": [
       "product_id        72\n",
       "brand_name        37\n",
       "title             72\n",
       "current_price     47\n",
       "previous_price    22\n",
       "colour             0\n",
       "currency           1\n",
       "rrp               39\n",
       "productCode       72\n",
       "productType        3\n",
       "Discount %        41\n",
       "dtype: int64"
      ]
     },
     "execution_count": 14,
     "metadata": {},
     "output_type": "execute_result"
    }
   ],
   "source": [
    "women.nunique()"
   ]
  },
  {
   "cell_type": "markdown",
   "id": "6e536891",
   "metadata": {
    "papermill": {
     "duration": 0.01348,
     "end_time": "2023-03-13T21:02:54.037370",
     "exception": false,
     "start_time": "2023-03-13T21:02:54.023890",
     "status": "completed"
    },
    "tags": []
   },
   "source": [
    "Drop fucntion is used here to remove colour column because the whole column is blank."
   ]
  },
  {
   "cell_type": "code",
   "execution_count": 15,
   "id": "5ec5bfba",
   "metadata": {
    "execution": {
     "iopub.execute_input": "2023-03-13T21:02:54.067109Z",
     "iopub.status.busy": "2023-03-13T21:02:54.066675Z",
     "iopub.status.idle": "2023-03-13T21:02:54.075319Z",
     "shell.execute_reply": "2023-03-13T21:02:54.074238Z"
    },
    "papermill": {
     "duration": 0.026419,
     "end_time": "2023-03-13T21:02:54.077654",
     "exception": false,
     "start_time": "2023-03-13T21:02:54.051235",
     "status": "completed"
    },
    "tags": []
   },
   "outputs": [],
   "source": [
    "men.drop('colour',axis=1,inplace=True)"
   ]
  },
  {
   "cell_type": "markdown",
   "id": "211417cc",
   "metadata": {
    "papermill": {
     "duration": 0.013573,
     "end_time": "2023-03-13T21:02:54.105171",
     "exception": false,
     "start_time": "2023-03-13T21:02:54.091598",
     "status": "completed"
    },
    "tags": []
   },
   "source": [
    "Doing the same for women table."
   ]
  },
  {
   "cell_type": "code",
   "execution_count": 16,
   "id": "9292d392",
   "metadata": {
    "execution": {
     "iopub.execute_input": "2023-03-13T21:02:54.135818Z",
     "iopub.status.busy": "2023-03-13T21:02:54.134567Z",
     "iopub.status.idle": "2023-03-13T21:02:54.143555Z",
     "shell.execute_reply": "2023-03-13T21:02:54.142637Z"
    },
    "papermill": {
     "duration": 0.026687,
     "end_time": "2023-03-13T21:02:54.145870",
     "exception": false,
     "start_time": "2023-03-13T21:02:54.119183",
     "status": "completed"
    },
    "tags": []
   },
   "outputs": [],
   "source": [
    "women.drop('colour',axis=1,inplace=True)"
   ]
  },
  {
   "cell_type": "markdown",
   "id": "62bc8793",
   "metadata": {
    "papermill": {
     "duration": 0.013589,
     "end_time": "2023-03-13T21:02:54.173572",
     "exception": false,
     "start_time": "2023-03-13T21:02:54.159983",
     "status": "completed"
    },
    "tags": []
   },
   "source": [
    "Value Counts fucntion used here to know the product SKU's of each brand listed on the E-Commerce Website."
   ]
  },
  {
   "cell_type": "code",
   "execution_count": 17,
   "id": "88fb6fe8",
   "metadata": {
    "execution": {
     "iopub.execute_input": "2023-03-13T21:02:54.204336Z",
     "iopub.status.busy": "2023-03-13T21:02:54.203167Z",
     "iopub.status.idle": "2023-03-13T21:02:54.213573Z",
     "shell.execute_reply": "2023-03-13T21:02:54.212392Z"
    },
    "papermill": {
     "duration": 0.028433,
     "end_time": "2023-03-13T21:02:54.216088",
     "exception": false,
     "start_time": "2023-03-13T21:02:54.187655",
     "status": "completed"
    },
    "tags": []
   },
   "outputs": [
    {
     "data": {
      "text/plain": [
       "Revolution                2928\n",
       "Another Influence         1220\n",
       "Puma                      1220\n",
       "adidas Originals          1220\n",
       "Jack & Jones              1220\n",
       "ASOS DESIGN                976\n",
       "Brave Soul                 732\n",
       "Topman                     732\n",
       "Replay                     732\n",
       "French Connection          732\n",
       "Soul Star                  488\n",
       "Boardmans                  488\n",
       "Truffle Collection         488\n",
       "Revolution Skincare        488\n",
       "Don't Think Twice          244\n",
       "Bench                      244\n",
       "Zoe Ayla                   244\n",
       "FIT HUT                    244\n",
       "adidas performance         244\n",
       "Reebok                     244\n",
       "Polo Ralph Lauren          244\n",
       "Threadbare                 244\n",
       "Vans                       244\n",
       "Barneys Originals Plus     244\n",
       "Original Penguin           244\n",
       "The North Face             244\n",
       "Vivienne Westwood          244\n",
       "Bellfield                  244\n",
       "SVNX                       244\n",
       "Collusion                  244\n",
       "Name: brand_name, dtype: int64"
      ]
     },
     "execution_count": 17,
     "metadata": {},
     "output_type": "execute_result"
    }
   ],
   "source": [
    "m2=men['brand_name'].value_counts()\n",
    "m2"
   ]
  },
  {
   "cell_type": "code",
   "execution_count": 18,
   "id": "e9f10956",
   "metadata": {
    "execution": {
     "iopub.execute_input": "2023-03-13T21:02:54.246785Z",
     "iopub.status.busy": "2023-03-13T21:02:54.246268Z",
     "iopub.status.idle": "2023-03-13T21:02:54.257055Z",
     "shell.execute_reply": "2023-03-13T21:02:54.256187Z"
    },
    "papermill": {
     "duration": 0.028717,
     "end_time": "2023-03-13T21:02:54.259163",
     "exception": false,
     "start_time": "2023-03-13T21:02:54.230446",
     "status": "completed"
    },
    "tags": []
   },
   "outputs": [
    {
     "data": {
      "text/plain": [
       "ASOS DESIGN                    4848\n",
       "French Connection              4848\n",
       "Influence                      3030\n",
       "Dune                           3030\n",
       "Claudia Canova                 2424\n",
       "Truffle Collection Wide Fit    1818\n",
       "Brave Soul                     1212\n",
       "Lola May                       1212\n",
       "Replay                         1212\n",
       "Beauut                         1212\n",
       "Toms                           1212\n",
       "Parisian                       1212\n",
       "Rebellious Fashion             1212\n",
       "Waven                          1212\n",
       "adidas Originals                606\n",
       "Oskia                           606\n",
       "Virgos Lounge                   606\n",
       "LOLA MAY TALL                   606\n",
       "True Decadence                  606\n",
       "Frock and Frill                 606\n",
       "Fiorucci                        606\n",
       "Ginger Ray                      606\n",
       "Liquorish                       606\n",
       "Charles & Keith                 606\n",
       "Mario Badescu                   606\n",
       "AX Paris                        606\n",
       "Glamorous                       606\n",
       "Miss Selfridge                  606\n",
       "ASOS Tall                       606\n",
       "London Rebel                    606\n",
       "Forever Unique                  606\n",
       "Flounce London                  606\n",
       "UNIQUE21                        606\n",
       "UGG                             606\n",
       "Love Moschino                   606\n",
       "Collusion                       606\n",
       "NaaNaa                          606\n",
       "Name: brand_name, dtype: int64"
      ]
     },
     "execution_count": 18,
     "metadata": {},
     "output_type": "execute_result"
    }
   ],
   "source": [
    "w2=women['brand_name'].value_counts()\n",
    "w2"
   ]
  },
  {
   "cell_type": "markdown",
   "id": "d88a75ff",
   "metadata": {
    "papermill": {
     "duration": 0.014162,
     "end_time": "2023-03-13T21:02:54.287617",
     "exception": false,
     "start_time": "2023-03-13T21:02:54.273455",
     "status": "completed"
    },
    "tags": []
   },
   "source": [
    "Groupby has been used here to find avg. price of the product offered by diffrent Brands."
   ]
  },
  {
   "cell_type": "code",
   "execution_count": 19,
   "id": "61697a47",
   "metadata": {
    "execution": {
     "iopub.execute_input": "2023-03-13T21:02:54.318856Z",
     "iopub.status.busy": "2023-03-13T21:02:54.318102Z",
     "iopub.status.idle": "2023-03-13T21:02:54.335157Z",
     "shell.execute_reply": "2023-03-13T21:02:54.334049Z"
    },
    "papermill": {
     "duration": 0.035449,
     "end_time": "2023-03-13T21:02:54.337501",
     "exception": false,
     "start_time": "2023-03-13T21:02:54.302052",
     "status": "completed"
    },
    "tags": []
   },
   "outputs": [
    {
     "data": {
      "text/plain": [
       "brand_name\n",
       "ASOS DESIGN                22.502500\n",
       "Another Influence          25.400000\n",
       "Barneys Originals Plus     21.000000\n",
       "Bellfield                  38.000000\n",
       "Bench                      13.420000\n",
       "Boardmans                  32.000000\n",
       "Brave Soul                 18.193333\n",
       "Collusion                  30.300000\n",
       "Don't Think Twice          31.000000\n",
       "FIT HUT                     5.680000\n",
       "French Connection          50.353333\n",
       "Jack & Jones               27.200000\n",
       "Original Penguin           53.690000\n",
       "Polo Ralph Lauren          76.000000\n",
       "Puma                       42.952000\n",
       "Reebok                     15.000000\n",
       "Replay                     72.000000\n",
       "Revolution                  3.475833\n",
       "Revolution Skincare         7.110000\n",
       "SVNX                        7.110000\n",
       "Soul Star                  30.500000\n",
       "The North Face             99.480000\n",
       "Threadbare                 28.420000\n",
       "Topman                     19.133333\n",
       "Truffle Collection         40.500000\n",
       "Vans                       22.900000\n",
       "Vivienne Westwood         237.000000\n",
       "Zoe Ayla                   24.000000\n",
       "adidas Originals           38.262000\n",
       "adidas performance         25.270000\n",
       "Name: current_price, dtype: float64"
      ]
     },
     "execution_count": 19,
     "metadata": {},
     "output_type": "execute_result"
    }
   ],
   "source": [
    "l=men.groupby('brand_name')['current_price'].mean()\n",
    "w=women.groupby('brand_name')['current_price'].mean()\n",
    "l"
   ]
  },
  {
   "cell_type": "markdown",
   "id": "4941ada3",
   "metadata": {
    "papermill": {
     "duration": 0.014018,
     "end_time": "2023-03-13T21:02:54.365928",
     "exception": false,
     "start_time": "2023-03-13T21:02:54.351910",
     "status": "completed"
    },
    "tags": []
   },
   "source": [
    "**Q1. Which comapny has the highest and the lowest Avg. pricing for men?**"
   ]
  },
  {
   "cell_type": "code",
   "execution_count": 20,
   "id": "80a94375",
   "metadata": {
    "execution": {
     "iopub.execute_input": "2023-03-13T21:02:54.397639Z",
     "iopub.status.busy": "2023-03-13T21:02:54.396453Z",
     "iopub.status.idle": "2023-03-13T21:02:55.838177Z",
     "shell.execute_reply": "2023-03-13T21:02:55.836965Z"
    },
    "papermill": {
     "duration": 1.460352,
     "end_time": "2023-03-13T21:02:55.840785",
     "exception": false,
     "start_time": "2023-03-13T21:02:54.380433",
     "status": "completed"
    },
    "tags": []
   },
   "outputs": [
    {
     "data": {
      "text/html": [
       "        <script type=\"text/javascript\">\n",
       "        window.PlotlyConfig = {MathJaxConfig: 'local'};\n",
       "        if (window.MathJax && window.MathJax.Hub && window.MathJax.Hub.Config) {window.MathJax.Hub.Config({SVG: {font: \"STIX-Web\"}});}\n",
       "        if (typeof require !== 'undefined') {\n",
       "        require.undef(\"plotly\");\n",
       "        requirejs.config({\n",
       "            paths: {\n",
       "                'plotly': ['https://cdn.plot.ly/plotly-2.18.0.min']\n",
       "            }\n",
       "        });\n",
       "        require(['plotly'], function(Plotly) {\n",
       "            window._Plotly = Plotly;\n",
       "        });\n",
       "        }\n",
       "        </script>\n",
       "        "
      ]
     },
     "metadata": {},
     "output_type": "display_data"
    },
    {
     "data": {
      "text/html": [
       "<div>                            <div id=\"cf1ada02-d8bd-4334-95e9-635f98a8f7c0\" class=\"plotly-graph-div\" style=\"height:525px; width:100%;\"></div>            <script type=\"text/javascript\">                require([\"plotly\"], function(Plotly) {                    window.PLOTLYENV=window.PLOTLYENV || {};                                    if (document.getElementById(\"cf1ada02-d8bd-4334-95e9-635f98a8f7c0\")) {                    Plotly.newPlot(                        \"cf1ada02-d8bd-4334-95e9-635f98a8f7c0\",                        [{\"alignmentgroup\":\"True\",\"hovertemplate\":\"<b>%{hovertext}</b><br><br>brand_name=%{x}<br>value=%{y}<extra></extra>\",\"hovertext\":[\"ASOS DESIGN\"],\"legendgroup\":\"ASOS DESIGN\",\"marker\":{\"color\":\"#636efa\",\"pattern\":{\"shape\":\"\"}},\"name\":\"ASOS DESIGN\",\"offsetgroup\":\"ASOS DESIGN\",\"orientation\":\"v\",\"showlegend\":true,\"textposition\":\"auto\",\"x\":[\"ASOS DESIGN\"],\"xaxis\":\"x\",\"y\":[22.502499999999998],\"yaxis\":\"y\",\"type\":\"bar\"},{\"alignmentgroup\":\"True\",\"hovertemplate\":\"<b>%{hovertext}</b><br><br>brand_name=%{x}<br>value=%{y}<extra></extra>\",\"hovertext\":[\"Another Influence\"],\"legendgroup\":\"Another Influence\",\"marker\":{\"color\":\"#EF553B\",\"pattern\":{\"shape\":\"\"}},\"name\":\"Another Influence\",\"offsetgroup\":\"Another Influence\",\"orientation\":\"v\",\"showlegend\":true,\"textposition\":\"auto\",\"x\":[\"Another Influence\"],\"xaxis\":\"x\",\"y\":[25.4],\"yaxis\":\"y\",\"type\":\"bar\"},{\"alignmentgroup\":\"True\",\"hovertemplate\":\"<b>%{hovertext}</b><br><br>brand_name=%{x}<br>value=%{y}<extra></extra>\",\"hovertext\":[\"Barneys Originals Plus\"],\"legendgroup\":\"Barneys Originals Plus\",\"marker\":{\"color\":\"#00cc96\",\"pattern\":{\"shape\":\"\"}},\"name\":\"Barneys Originals Plus\",\"offsetgroup\":\"Barneys Originals Plus\",\"orientation\":\"v\",\"showlegend\":true,\"textposition\":\"auto\",\"x\":[\"Barneys Originals Plus\"],\"xaxis\":\"x\",\"y\":[21.0],\"yaxis\":\"y\",\"type\":\"bar\"},{\"alignmentgroup\":\"True\",\"hovertemplate\":\"<b>%{hovertext}</b><br><br>brand_name=%{x}<br>value=%{y}<extra></extra>\",\"hovertext\":[\"Bellfield\"],\"legendgroup\":\"Bellfield\",\"marker\":{\"color\":\"#ab63fa\",\"pattern\":{\"shape\":\"\"}},\"name\":\"Bellfield\",\"offsetgroup\":\"Bellfield\",\"orientation\":\"v\",\"showlegend\":true,\"textposition\":\"auto\",\"x\":[\"Bellfield\"],\"xaxis\":\"x\",\"y\":[38.0],\"yaxis\":\"y\",\"type\":\"bar\"},{\"alignmentgroup\":\"True\",\"hovertemplate\":\"<b>%{hovertext}</b><br><br>brand_name=%{x}<br>value=%{y}<extra></extra>\",\"hovertext\":[\"Bench\"],\"legendgroup\":\"Bench\",\"marker\":{\"color\":\"#FFA15A\",\"pattern\":{\"shape\":\"\"}},\"name\":\"Bench\",\"offsetgroup\":\"Bench\",\"orientation\":\"v\",\"showlegend\":true,\"textposition\":\"auto\",\"x\":[\"Bench\"],\"xaxis\":\"x\",\"y\":[13.42],\"yaxis\":\"y\",\"type\":\"bar\"},{\"alignmentgroup\":\"True\",\"hovertemplate\":\"<b>%{hovertext}</b><br><br>brand_name=%{x}<br>value=%{y}<extra></extra>\",\"hovertext\":[\"Boardmans\"],\"legendgroup\":\"Boardmans\",\"marker\":{\"color\":\"#19d3f3\",\"pattern\":{\"shape\":\"\"}},\"name\":\"Boardmans\",\"offsetgroup\":\"Boardmans\",\"orientation\":\"v\",\"showlegend\":true,\"textposition\":\"auto\",\"x\":[\"Boardmans\"],\"xaxis\":\"x\",\"y\":[32.0],\"yaxis\":\"y\",\"type\":\"bar\"},{\"alignmentgroup\":\"True\",\"hovertemplate\":\"<b>%{hovertext}</b><br><br>brand_name=%{x}<br>value=%{y}<extra></extra>\",\"hovertext\":[\"Brave Soul\"],\"legendgroup\":\"Brave Soul\",\"marker\":{\"color\":\"#FF6692\",\"pattern\":{\"shape\":\"\"}},\"name\":\"Brave Soul\",\"offsetgroup\":\"Brave Soul\",\"orientation\":\"v\",\"showlegend\":true,\"textposition\":\"auto\",\"x\":[\"Brave Soul\"],\"xaxis\":\"x\",\"y\":[18.193333333333335],\"yaxis\":\"y\",\"type\":\"bar\"},{\"alignmentgroup\":\"True\",\"hovertemplate\":\"<b>%{hovertext}</b><br><br>brand_name=%{x}<br>value=%{y}<extra></extra>\",\"hovertext\":[\"Collusion\"],\"legendgroup\":\"Collusion\",\"marker\":{\"color\":\"#B6E880\",\"pattern\":{\"shape\":\"\"}},\"name\":\"Collusion\",\"offsetgroup\":\"Collusion\",\"orientation\":\"v\",\"showlegend\":true,\"textposition\":\"auto\",\"x\":[\"Collusion\"],\"xaxis\":\"x\",\"y\":[30.3],\"yaxis\":\"y\",\"type\":\"bar\"},{\"alignmentgroup\":\"True\",\"hovertemplate\":\"<b>%{hovertext}</b><br><br>brand_name=%{x}<br>value=%{y}<extra></extra>\",\"hovertext\":[\"Don't Think Twice\"],\"legendgroup\":\"Don't Think Twice\",\"marker\":{\"color\":\"#FF97FF\",\"pattern\":{\"shape\":\"\"}},\"name\":\"Don't Think Twice\",\"offsetgroup\":\"Don't Think Twice\",\"orientation\":\"v\",\"showlegend\":true,\"textposition\":\"auto\",\"x\":[\"Don't Think Twice\"],\"xaxis\":\"x\",\"y\":[31.0],\"yaxis\":\"y\",\"type\":\"bar\"},{\"alignmentgroup\":\"True\",\"hovertemplate\":\"<b>%{hovertext}</b><br><br>brand_name=%{x}<br>value=%{y}<extra></extra>\",\"hovertext\":[\"FIT HUT\"],\"legendgroup\":\"FIT HUT\",\"marker\":{\"color\":\"#FECB52\",\"pattern\":{\"shape\":\"\"}},\"name\":\"FIT HUT\",\"offsetgroup\":\"FIT HUT\",\"orientation\":\"v\",\"showlegend\":true,\"textposition\":\"auto\",\"x\":[\"FIT HUT\"],\"xaxis\":\"x\",\"y\":[5.68],\"yaxis\":\"y\",\"type\":\"bar\"},{\"alignmentgroup\":\"True\",\"hovertemplate\":\"<b>%{hovertext}</b><br><br>brand_name=%{x}<br>value=%{y}<extra></extra>\",\"hovertext\":[\"French Connection\"],\"legendgroup\":\"French Connection\",\"marker\":{\"color\":\"#636efa\",\"pattern\":{\"shape\":\"\"}},\"name\":\"French Connection\",\"offsetgroup\":\"French Connection\",\"orientation\":\"v\",\"showlegend\":true,\"textposition\":\"auto\",\"x\":[\"French Connection\"],\"xaxis\":\"x\",\"y\":[50.35333333333333],\"yaxis\":\"y\",\"type\":\"bar\"},{\"alignmentgroup\":\"True\",\"hovertemplate\":\"<b>%{hovertext}</b><br><br>brand_name=%{x}<br>value=%{y}<extra></extra>\",\"hovertext\":[\"Jack & Jones\"],\"legendgroup\":\"Jack & Jones\",\"marker\":{\"color\":\"#EF553B\",\"pattern\":{\"shape\":\"\"}},\"name\":\"Jack & Jones\",\"offsetgroup\":\"Jack & Jones\",\"orientation\":\"v\",\"showlegend\":true,\"textposition\":\"auto\",\"x\":[\"Jack & Jones\"],\"xaxis\":\"x\",\"y\":[27.2],\"yaxis\":\"y\",\"type\":\"bar\"},{\"alignmentgroup\":\"True\",\"hovertemplate\":\"<b>%{hovertext}</b><br><br>brand_name=%{x}<br>value=%{y}<extra></extra>\",\"hovertext\":[\"Original Penguin\"],\"legendgroup\":\"Original Penguin\",\"marker\":{\"color\":\"#00cc96\",\"pattern\":{\"shape\":\"\"}},\"name\":\"Original Penguin\",\"offsetgroup\":\"Original Penguin\",\"orientation\":\"v\",\"showlegend\":true,\"textposition\":\"auto\",\"x\":[\"Original Penguin\"],\"xaxis\":\"x\",\"y\":[53.69],\"yaxis\":\"y\",\"type\":\"bar\"},{\"alignmentgroup\":\"True\",\"hovertemplate\":\"<b>%{hovertext}</b><br><br>brand_name=%{x}<br>value=%{y}<extra></extra>\",\"hovertext\":[\"Polo Ralph Lauren\"],\"legendgroup\":\"Polo Ralph Lauren\",\"marker\":{\"color\":\"#ab63fa\",\"pattern\":{\"shape\":\"\"}},\"name\":\"Polo Ralph Lauren\",\"offsetgroup\":\"Polo Ralph Lauren\",\"orientation\":\"v\",\"showlegend\":true,\"textposition\":\"auto\",\"x\":[\"Polo Ralph Lauren\"],\"xaxis\":\"x\",\"y\":[76.0],\"yaxis\":\"y\",\"type\":\"bar\"},{\"alignmentgroup\":\"True\",\"hovertemplate\":\"<b>%{hovertext}</b><br><br>brand_name=%{x}<br>value=%{y}<extra></extra>\",\"hovertext\":[\"Puma\"],\"legendgroup\":\"Puma\",\"marker\":{\"color\":\"#FFA15A\",\"pattern\":{\"shape\":\"\"}},\"name\":\"Puma\",\"offsetgroup\":\"Puma\",\"orientation\":\"v\",\"showlegend\":true,\"textposition\":\"auto\",\"x\":[\"Puma\"],\"xaxis\":\"x\",\"y\":[42.952000000000005],\"yaxis\":\"y\",\"type\":\"bar\"},{\"alignmentgroup\":\"True\",\"hovertemplate\":\"<b>%{hovertext}</b><br><br>brand_name=%{x}<br>value=%{y}<extra></extra>\",\"hovertext\":[\"Reebok\"],\"legendgroup\":\"Reebok\",\"marker\":{\"color\":\"#19d3f3\",\"pattern\":{\"shape\":\"\"}},\"name\":\"Reebok\",\"offsetgroup\":\"Reebok\",\"orientation\":\"v\",\"showlegend\":true,\"textposition\":\"auto\",\"x\":[\"Reebok\"],\"xaxis\":\"x\",\"y\":[15.0],\"yaxis\":\"y\",\"type\":\"bar\"},{\"alignmentgroup\":\"True\",\"hovertemplate\":\"<b>%{hovertext}</b><br><br>brand_name=%{x}<br>value=%{y}<extra></extra>\",\"hovertext\":[\"Replay\"],\"legendgroup\":\"Replay\",\"marker\":{\"color\":\"#FF6692\",\"pattern\":{\"shape\":\"\"}},\"name\":\"Replay\",\"offsetgroup\":\"Replay\",\"orientation\":\"v\",\"showlegend\":true,\"textposition\":\"auto\",\"x\":[\"Replay\"],\"xaxis\":\"x\",\"y\":[72.0],\"yaxis\":\"y\",\"type\":\"bar\"},{\"alignmentgroup\":\"True\",\"hovertemplate\":\"<b>%{hovertext}</b><br><br>brand_name=%{x}<br>value=%{y}<extra></extra>\",\"hovertext\":[\"Revolution\"],\"legendgroup\":\"Revolution\",\"marker\":{\"color\":\"#B6E880\",\"pattern\":{\"shape\":\"\"}},\"name\":\"Revolution\",\"offsetgroup\":\"Revolution\",\"orientation\":\"v\",\"showlegend\":true,\"textposition\":\"auto\",\"x\":[\"Revolution\"],\"xaxis\":\"x\",\"y\":[3.475833333333333],\"yaxis\":\"y\",\"type\":\"bar\"},{\"alignmentgroup\":\"True\",\"hovertemplate\":\"<b>%{hovertext}</b><br><br>brand_name=%{x}<br>value=%{y}<extra></extra>\",\"hovertext\":[\"Revolution Skincare\"],\"legendgroup\":\"Revolution Skincare\",\"marker\":{\"color\":\"#FF97FF\",\"pattern\":{\"shape\":\"\"}},\"name\":\"Revolution Skincare\",\"offsetgroup\":\"Revolution Skincare\",\"orientation\":\"v\",\"showlegend\":true,\"textposition\":\"auto\",\"x\":[\"Revolution Skincare\"],\"xaxis\":\"x\",\"y\":[7.109999999999999],\"yaxis\":\"y\",\"type\":\"bar\"},{\"alignmentgroup\":\"True\",\"hovertemplate\":\"<b>%{hovertext}</b><br><br>brand_name=%{x}<br>value=%{y}<extra></extra>\",\"hovertext\":[\"SVNX\"],\"legendgroup\":\"SVNX\",\"marker\":{\"color\":\"#FECB52\",\"pattern\":{\"shape\":\"\"}},\"name\":\"SVNX\",\"offsetgroup\":\"SVNX\",\"orientation\":\"v\",\"showlegend\":true,\"textposition\":\"auto\",\"x\":[\"SVNX\"],\"xaxis\":\"x\",\"y\":[7.11],\"yaxis\":\"y\",\"type\":\"bar\"},{\"alignmentgroup\":\"True\",\"hovertemplate\":\"<b>%{hovertext}</b><br><br>brand_name=%{x}<br>value=%{y}<extra></extra>\",\"hovertext\":[\"Soul Star\"],\"legendgroup\":\"Soul Star\",\"marker\":{\"color\":\"#636efa\",\"pattern\":{\"shape\":\"\"}},\"name\":\"Soul Star\",\"offsetgroup\":\"Soul Star\",\"orientation\":\"v\",\"showlegend\":true,\"textposition\":\"auto\",\"x\":[\"Soul Star\"],\"xaxis\":\"x\",\"y\":[30.5],\"yaxis\":\"y\",\"type\":\"bar\"},{\"alignmentgroup\":\"True\",\"hovertemplate\":\"<b>%{hovertext}</b><br><br>brand_name=%{x}<br>value=%{y}<extra></extra>\",\"hovertext\":[\"The North Face\"],\"legendgroup\":\"The North Face\",\"marker\":{\"color\":\"#EF553B\",\"pattern\":{\"shape\":\"\"}},\"name\":\"The North Face\",\"offsetgroup\":\"The North Face\",\"orientation\":\"v\",\"showlegend\":true,\"textposition\":\"auto\",\"x\":[\"The North Face\"],\"xaxis\":\"x\",\"y\":[99.48],\"yaxis\":\"y\",\"type\":\"bar\"},{\"alignmentgroup\":\"True\",\"hovertemplate\":\"<b>%{hovertext}</b><br><br>brand_name=%{x}<br>value=%{y}<extra></extra>\",\"hovertext\":[\"Threadbare\"],\"legendgroup\":\"Threadbare\",\"marker\":{\"color\":\"#00cc96\",\"pattern\":{\"shape\":\"\"}},\"name\":\"Threadbare\",\"offsetgroup\":\"Threadbare\",\"orientation\":\"v\",\"showlegend\":true,\"textposition\":\"auto\",\"x\":[\"Threadbare\"],\"xaxis\":\"x\",\"y\":[28.42],\"yaxis\":\"y\",\"type\":\"bar\"},{\"alignmentgroup\":\"True\",\"hovertemplate\":\"<b>%{hovertext}</b><br><br>brand_name=%{x}<br>value=%{y}<extra></extra>\",\"hovertext\":[\"Topman\"],\"legendgroup\":\"Topman\",\"marker\":{\"color\":\"#ab63fa\",\"pattern\":{\"shape\":\"\"}},\"name\":\"Topman\",\"offsetgroup\":\"Topman\",\"orientation\":\"v\",\"showlegend\":true,\"textposition\":\"auto\",\"x\":[\"Topman\"],\"xaxis\":\"x\",\"y\":[19.133333333333333],\"yaxis\":\"y\",\"type\":\"bar\"},{\"alignmentgroup\":\"True\",\"hovertemplate\":\"<b>%{hovertext}</b><br><br>brand_name=%{x}<br>value=%{y}<extra></extra>\",\"hovertext\":[\"Truffle Collection\"],\"legendgroup\":\"Truffle Collection\",\"marker\":{\"color\":\"#FFA15A\",\"pattern\":{\"shape\":\"\"}},\"name\":\"Truffle Collection\",\"offsetgroup\":\"Truffle Collection\",\"orientation\":\"v\",\"showlegend\":true,\"textposition\":\"auto\",\"x\":[\"Truffle Collection\"],\"xaxis\":\"x\",\"y\":[40.5],\"yaxis\":\"y\",\"type\":\"bar\"},{\"alignmentgroup\":\"True\",\"hovertemplate\":\"<b>%{hovertext}</b><br><br>brand_name=%{x}<br>value=%{y}<extra></extra>\",\"hovertext\":[\"Vans\"],\"legendgroup\":\"Vans\",\"marker\":{\"color\":\"#19d3f3\",\"pattern\":{\"shape\":\"\"}},\"name\":\"Vans\",\"offsetgroup\":\"Vans\",\"orientation\":\"v\",\"showlegend\":true,\"textposition\":\"auto\",\"x\":[\"Vans\"],\"xaxis\":\"x\",\"y\":[22.9],\"yaxis\":\"y\",\"type\":\"bar\"},{\"alignmentgroup\":\"True\",\"hovertemplate\":\"<b>%{hovertext}</b><br><br>brand_name=%{x}<br>value=%{y}<extra></extra>\",\"hovertext\":[\"Vivienne Westwood\"],\"legendgroup\":\"Vivienne Westwood\",\"marker\":{\"color\":\"#FF6692\",\"pattern\":{\"shape\":\"\"}},\"name\":\"Vivienne Westwood\",\"offsetgroup\":\"Vivienne Westwood\",\"orientation\":\"v\",\"showlegend\":true,\"textposition\":\"auto\",\"x\":[\"Vivienne Westwood\"],\"xaxis\":\"x\",\"y\":[237.0],\"yaxis\":\"y\",\"type\":\"bar\"},{\"alignmentgroup\":\"True\",\"hovertemplate\":\"<b>%{hovertext}</b><br><br>brand_name=%{x}<br>value=%{y}<extra></extra>\",\"hovertext\":[\"Zoe Ayla\"],\"legendgroup\":\"Zoe Ayla\",\"marker\":{\"color\":\"#B6E880\",\"pattern\":{\"shape\":\"\"}},\"name\":\"Zoe Ayla\",\"offsetgroup\":\"Zoe Ayla\",\"orientation\":\"v\",\"showlegend\":true,\"textposition\":\"auto\",\"x\":[\"Zoe Ayla\"],\"xaxis\":\"x\",\"y\":[24.0],\"yaxis\":\"y\",\"type\":\"bar\"},{\"alignmentgroup\":\"True\",\"hovertemplate\":\"<b>%{hovertext}</b><br><br>brand_name=%{x}<br>value=%{y}<extra></extra>\",\"hovertext\":[\"adidas Originals\"],\"legendgroup\":\"adidas Originals\",\"marker\":{\"color\":\"#FF97FF\",\"pattern\":{\"shape\":\"\"}},\"name\":\"adidas Originals\",\"offsetgroup\":\"adidas Originals\",\"orientation\":\"v\",\"showlegend\":true,\"textposition\":\"auto\",\"x\":[\"adidas Originals\"],\"xaxis\":\"x\",\"y\":[38.262],\"yaxis\":\"y\",\"type\":\"bar\"},{\"alignmentgroup\":\"True\",\"hovertemplate\":\"<b>%{hovertext}</b><br><br>brand_name=%{x}<br>value=%{y}<extra></extra>\",\"hovertext\":[\"adidas performance\"],\"legendgroup\":\"adidas performance\",\"marker\":{\"color\":\"#FECB52\",\"pattern\":{\"shape\":\"\"}},\"name\":\"adidas performance\",\"offsetgroup\":\"adidas performance\",\"orientation\":\"v\",\"showlegend\":true,\"textposition\":\"auto\",\"x\":[\"adidas performance\"],\"xaxis\":\"x\",\"y\":[25.27],\"yaxis\":\"y\",\"type\":\"bar\"}],                        {\"template\":{\"data\":{\"histogram2dcontour\":[{\"type\":\"histogram2dcontour\",\"colorbar\":{\"outlinewidth\":0,\"ticks\":\"\"},\"colorscale\":[[0.0,\"#0d0887\"],[0.1111111111111111,\"#46039f\"],[0.2222222222222222,\"#7201a8\"],[0.3333333333333333,\"#9c179e\"],[0.4444444444444444,\"#bd3786\"],[0.5555555555555556,\"#d8576b\"],[0.6666666666666666,\"#ed7953\"],[0.7777777777777778,\"#fb9f3a\"],[0.8888888888888888,\"#fdca26\"],[1.0,\"#f0f921\"]]}],\"choropleth\":[{\"type\":\"choropleth\",\"colorbar\":{\"outlinewidth\":0,\"ticks\":\"\"}}],\"histogram2d\":[{\"type\":\"histogram2d\",\"colorbar\":{\"outlinewidth\":0,\"ticks\":\"\"},\"colorscale\":[[0.0,\"#0d0887\"],[0.1111111111111111,\"#46039f\"],[0.2222222222222222,\"#7201a8\"],[0.3333333333333333,\"#9c179e\"],[0.4444444444444444,\"#bd3786\"],[0.5555555555555556,\"#d8576b\"],[0.6666666666666666,\"#ed7953\"],[0.7777777777777778,\"#fb9f3a\"],[0.8888888888888888,\"#fdca26\"],[1.0,\"#f0f921\"]]}],\"heatmap\":[{\"type\":\"heatmap\",\"colorbar\":{\"outlinewidth\":0,\"ticks\":\"\"},\"colorscale\":[[0.0,\"#0d0887\"],[0.1111111111111111,\"#46039f\"],[0.2222222222222222,\"#7201a8\"],[0.3333333333333333,\"#9c179e\"],[0.4444444444444444,\"#bd3786\"],[0.5555555555555556,\"#d8576b\"],[0.6666666666666666,\"#ed7953\"],[0.7777777777777778,\"#fb9f3a\"],[0.8888888888888888,\"#fdca26\"],[1.0,\"#f0f921\"]]}],\"heatmapgl\":[{\"type\":\"heatmapgl\",\"colorbar\":{\"outlinewidth\":0,\"ticks\":\"\"},\"colorscale\":[[0.0,\"#0d0887\"],[0.1111111111111111,\"#46039f\"],[0.2222222222222222,\"#7201a8\"],[0.3333333333333333,\"#9c179e\"],[0.4444444444444444,\"#bd3786\"],[0.5555555555555556,\"#d8576b\"],[0.6666666666666666,\"#ed7953\"],[0.7777777777777778,\"#fb9f3a\"],[0.8888888888888888,\"#fdca26\"],[1.0,\"#f0f921\"]]}],\"contourcarpet\":[{\"type\":\"contourcarpet\",\"colorbar\":{\"outlinewidth\":0,\"ticks\":\"\"}}],\"contour\":[{\"type\":\"contour\",\"colorbar\":{\"outlinewidth\":0,\"ticks\":\"\"},\"colorscale\":[[0.0,\"#0d0887\"],[0.1111111111111111,\"#46039f\"],[0.2222222222222222,\"#7201a8\"],[0.3333333333333333,\"#9c179e\"],[0.4444444444444444,\"#bd3786\"],[0.5555555555555556,\"#d8576b\"],[0.6666666666666666,\"#ed7953\"],[0.7777777777777778,\"#fb9f3a\"],[0.8888888888888888,\"#fdca26\"],[1.0,\"#f0f921\"]]}],\"surface\":[{\"type\":\"surface\",\"colorbar\":{\"outlinewidth\":0,\"ticks\":\"\"},\"colorscale\":[[0.0,\"#0d0887\"],[0.1111111111111111,\"#46039f\"],[0.2222222222222222,\"#7201a8\"],[0.3333333333333333,\"#9c179e\"],[0.4444444444444444,\"#bd3786\"],[0.5555555555555556,\"#d8576b\"],[0.6666666666666666,\"#ed7953\"],[0.7777777777777778,\"#fb9f3a\"],[0.8888888888888888,\"#fdca26\"],[1.0,\"#f0f921\"]]}],\"mesh3d\":[{\"type\":\"mesh3d\",\"colorbar\":{\"outlinewidth\":0,\"ticks\":\"\"}}],\"scatter\":[{\"fillpattern\":{\"fillmode\":\"overlay\",\"size\":10,\"solidity\":0.2},\"type\":\"scatter\"}],\"parcoords\":[{\"type\":\"parcoords\",\"line\":{\"colorbar\":{\"outlinewidth\":0,\"ticks\":\"\"}}}],\"scatterpolargl\":[{\"type\":\"scatterpolargl\",\"marker\":{\"colorbar\":{\"outlinewidth\":0,\"ticks\":\"\"}}}],\"bar\":[{\"error_x\":{\"color\":\"#2a3f5f\"},\"error_y\":{\"color\":\"#2a3f5f\"},\"marker\":{\"line\":{\"color\":\"#E5ECF6\",\"width\":0.5},\"pattern\":{\"fillmode\":\"overlay\",\"size\":10,\"solidity\":0.2}},\"type\":\"bar\"}],\"scattergeo\":[{\"type\":\"scattergeo\",\"marker\":{\"colorbar\":{\"outlinewidth\":0,\"ticks\":\"\"}}}],\"scatterpolar\":[{\"type\":\"scatterpolar\",\"marker\":{\"colorbar\":{\"outlinewidth\":0,\"ticks\":\"\"}}}],\"histogram\":[{\"marker\":{\"pattern\":{\"fillmode\":\"overlay\",\"size\":10,\"solidity\":0.2}},\"type\":\"histogram\"}],\"scattergl\":[{\"type\":\"scattergl\",\"marker\":{\"colorbar\":{\"outlinewidth\":0,\"ticks\":\"\"}}}],\"scatter3d\":[{\"type\":\"scatter3d\",\"line\":{\"colorbar\":{\"outlinewidth\":0,\"ticks\":\"\"}},\"marker\":{\"colorbar\":{\"outlinewidth\":0,\"ticks\":\"\"}}}],\"scattermapbox\":[{\"type\":\"scattermapbox\",\"marker\":{\"colorbar\":{\"outlinewidth\":0,\"ticks\":\"\"}}}],\"scatterternary\":[{\"type\":\"scatterternary\",\"marker\":{\"colorbar\":{\"outlinewidth\":0,\"ticks\":\"\"}}}],\"scattercarpet\":[{\"type\":\"scattercarpet\",\"marker\":{\"colorbar\":{\"outlinewidth\":0,\"ticks\":\"\"}}}],\"carpet\":[{\"aaxis\":{\"endlinecolor\":\"#2a3f5f\",\"gridcolor\":\"white\",\"linecolor\":\"white\",\"minorgridcolor\":\"white\",\"startlinecolor\":\"#2a3f5f\"},\"baxis\":{\"endlinecolor\":\"#2a3f5f\",\"gridcolor\":\"white\",\"linecolor\":\"white\",\"minorgridcolor\":\"white\",\"startlinecolor\":\"#2a3f5f\"},\"type\":\"carpet\"}],\"table\":[{\"cells\":{\"fill\":{\"color\":\"#EBF0F8\"},\"line\":{\"color\":\"white\"}},\"header\":{\"fill\":{\"color\":\"#C8D4E3\"},\"line\":{\"color\":\"white\"}},\"type\":\"table\"}],\"barpolar\":[{\"marker\":{\"line\":{\"color\":\"#E5ECF6\",\"width\":0.5},\"pattern\":{\"fillmode\":\"overlay\",\"size\":10,\"solidity\":0.2}},\"type\":\"barpolar\"}],\"pie\":[{\"automargin\":true,\"type\":\"pie\"}]},\"layout\":{\"autotypenumbers\":\"strict\",\"colorway\":[\"#636efa\",\"#EF553B\",\"#00cc96\",\"#ab63fa\",\"#FFA15A\",\"#19d3f3\",\"#FF6692\",\"#B6E880\",\"#FF97FF\",\"#FECB52\"],\"font\":{\"color\":\"#2a3f5f\"},\"hovermode\":\"closest\",\"hoverlabel\":{\"align\":\"left\"},\"paper_bgcolor\":\"white\",\"plot_bgcolor\":\"#E5ECF6\",\"polar\":{\"bgcolor\":\"#E5ECF6\",\"angularaxis\":{\"gridcolor\":\"white\",\"linecolor\":\"white\",\"ticks\":\"\"},\"radialaxis\":{\"gridcolor\":\"white\",\"linecolor\":\"white\",\"ticks\":\"\"}},\"ternary\":{\"bgcolor\":\"#E5ECF6\",\"aaxis\":{\"gridcolor\":\"white\",\"linecolor\":\"white\",\"ticks\":\"\"},\"baxis\":{\"gridcolor\":\"white\",\"linecolor\":\"white\",\"ticks\":\"\"},\"caxis\":{\"gridcolor\":\"white\",\"linecolor\":\"white\",\"ticks\":\"\"}},\"coloraxis\":{\"colorbar\":{\"outlinewidth\":0,\"ticks\":\"\"}},\"colorscale\":{\"sequential\":[[0.0,\"#0d0887\"],[0.1111111111111111,\"#46039f\"],[0.2222222222222222,\"#7201a8\"],[0.3333333333333333,\"#9c179e\"],[0.4444444444444444,\"#bd3786\"],[0.5555555555555556,\"#d8576b\"],[0.6666666666666666,\"#ed7953\"],[0.7777777777777778,\"#fb9f3a\"],[0.8888888888888888,\"#fdca26\"],[1.0,\"#f0f921\"]],\"sequentialminus\":[[0.0,\"#0d0887\"],[0.1111111111111111,\"#46039f\"],[0.2222222222222222,\"#7201a8\"],[0.3333333333333333,\"#9c179e\"],[0.4444444444444444,\"#bd3786\"],[0.5555555555555556,\"#d8576b\"],[0.6666666666666666,\"#ed7953\"],[0.7777777777777778,\"#fb9f3a\"],[0.8888888888888888,\"#fdca26\"],[1.0,\"#f0f921\"]],\"diverging\":[[0,\"#8e0152\"],[0.1,\"#c51b7d\"],[0.2,\"#de77ae\"],[0.3,\"#f1b6da\"],[0.4,\"#fde0ef\"],[0.5,\"#f7f7f7\"],[0.6,\"#e6f5d0\"],[0.7,\"#b8e186\"],[0.8,\"#7fbc41\"],[0.9,\"#4d9221\"],[1,\"#276419\"]]},\"xaxis\":{\"gridcolor\":\"white\",\"linecolor\":\"white\",\"ticks\":\"\",\"title\":{\"standoff\":15},\"zerolinecolor\":\"white\",\"automargin\":true,\"zerolinewidth\":2},\"yaxis\":{\"gridcolor\":\"white\",\"linecolor\":\"white\",\"ticks\":\"\",\"title\":{\"standoff\":15},\"zerolinecolor\":\"white\",\"automargin\":true,\"zerolinewidth\":2},\"scene\":{\"xaxis\":{\"backgroundcolor\":\"#E5ECF6\",\"gridcolor\":\"white\",\"linecolor\":\"white\",\"showbackground\":true,\"ticks\":\"\",\"zerolinecolor\":\"white\",\"gridwidth\":2},\"yaxis\":{\"backgroundcolor\":\"#E5ECF6\",\"gridcolor\":\"white\",\"linecolor\":\"white\",\"showbackground\":true,\"ticks\":\"\",\"zerolinecolor\":\"white\",\"gridwidth\":2},\"zaxis\":{\"backgroundcolor\":\"#E5ECF6\",\"gridcolor\":\"white\",\"linecolor\":\"white\",\"showbackground\":true,\"ticks\":\"\",\"zerolinecolor\":\"white\",\"gridwidth\":2}},\"shapedefaults\":{\"line\":{\"color\":\"#2a3f5f\"}},\"annotationdefaults\":{\"arrowcolor\":\"#2a3f5f\",\"arrowhead\":0,\"arrowwidth\":1},\"geo\":{\"bgcolor\":\"white\",\"landcolor\":\"#E5ECF6\",\"subunitcolor\":\"white\",\"showland\":true,\"showlakes\":true,\"lakecolor\":\"white\"},\"title\":{\"x\":0.05},\"mapbox\":{\"style\":\"light\"}}},\"xaxis\":{\"anchor\":\"y\",\"domain\":[0.0,1.0],\"title\":{\"text\":\"brand_name\"},\"categoryorder\":\"array\",\"categoryarray\":[\"ASOS DESIGN\",\"Another Influence\",\"Barneys Originals Plus\",\"Bellfield\",\"Bench\",\"Boardmans\",\"Brave Soul\",\"Collusion\",\"Don't Think Twice\",\"FIT HUT\",\"French Connection\",\"Jack & Jones\",\"Original Penguin\",\"Polo Ralph Lauren\",\"Puma\",\"Reebok\",\"Replay\",\"Revolution\",\"Revolution Skincare\",\"SVNX\",\"Soul Star\",\"The North Face\",\"Threadbare\",\"Topman\",\"Truffle Collection\",\"Vans\",\"Vivienne Westwood\",\"Zoe Ayla\",\"adidas Originals\",\"adidas performance\"]},\"yaxis\":{\"anchor\":\"x\",\"domain\":[0.0,1.0],\"title\":{\"text\":\"value\"}},\"legend\":{\"title\":{\"text\":\"brand_name\"},\"tracegroupgap\":0},\"title\":{\"text\":\"Avg. Price By Brands (Mens)\"},\"barmode\":\"relative\"},                        {\"responsive\": true}                    ).then(function(){\n",
       "                            \n",
       "var gd = document.getElementById('cf1ada02-d8bd-4334-95e9-635f98a8f7c0');\n",
       "var x = new MutationObserver(function (mutations, observer) {{\n",
       "        var display = window.getComputedStyle(gd).display;\n",
       "        if (!display || display === 'none') {{\n",
       "            console.log([gd, 'removed!']);\n",
       "            Plotly.purge(gd);\n",
       "            observer.disconnect();\n",
       "        }}\n",
       "}});\n",
       "\n",
       "// Listen for the removal of the full notebook cells\n",
       "var notebookContainer = gd.closest('#notebook-container');\n",
       "if (notebookContainer) {{\n",
       "    x.observe(notebookContainer, {childList: true});\n",
       "}}\n",
       "\n",
       "// Listen for the clearing of the current output cell\n",
       "var outputEl = gd.closest('.output');\n",
       "if (outputEl) {{\n",
       "    x.observe(outputEl, {childList: true});\n",
       "}}\n",
       "\n",
       "                        })                };                });            </script>        </div>"
      ]
     },
     "metadata": {},
     "output_type": "display_data"
    }
   ],
   "source": [
    "d=px.bar(l,color=l.index,title='Avg. Price By Brands (Mens)',hover_name=l.index)\n",
    "d.show()"
   ]
  },
  {
   "cell_type": "markdown",
   "id": "14d0f694",
   "metadata": {
    "papermill": {
     "duration": 0.014562,
     "end_time": "2023-03-13T21:02:55.870547",
     "exception": false,
     "start_time": "2023-03-13T21:02:55.855985",
     "status": "completed"
    },
    "tags": []
   },
   "source": [
    "Vivienne Westwood is the brand with highest avg. pricing and Revolution is the lowest Avg. pricing."
   ]
  },
  {
   "cell_type": "markdown",
   "id": "553a875f",
   "metadata": {
    "papermill": {
     "duration": 0.014531,
     "end_time": "2023-03-13T21:02:55.900031",
     "exception": false,
     "start_time": "2023-03-13T21:02:55.885500",
     "status": "completed"
    },
    "tags": []
   },
   "source": [
    "**Q2. Which comapny has the highest and the lowest Avg. pricing for women?**"
   ]
  },
  {
   "cell_type": "code",
   "execution_count": 21,
   "id": "c6f31605",
   "metadata": {
    "execution": {
     "iopub.execute_input": "2023-03-13T21:02:55.931772Z",
     "iopub.status.busy": "2023-03-13T21:02:55.931286Z",
     "iopub.status.idle": "2023-03-13T21:02:56.142856Z",
     "shell.execute_reply": "2023-03-13T21:02:56.141580Z"
    },
    "papermill": {
     "duration": 0.230615,
     "end_time": "2023-03-13T21:02:56.145486",
     "exception": false,
     "start_time": "2023-03-13T21:02:55.914871",
     "status": "completed"
    },
    "tags": []
   },
   "outputs": [
    {
     "data": {
      "text/html": [
       "<div>                            <div id=\"8d5d3543-fb17-4091-ba63-a89d1d5f55d7\" class=\"plotly-graph-div\" style=\"height:525px; width:100%;\"></div>            <script type=\"text/javascript\">                require([\"plotly\"], function(Plotly) {                    window.PLOTLYENV=window.PLOTLYENV || {};                                    if (document.getElementById(\"8d5d3543-fb17-4091-ba63-a89d1d5f55d7\")) {                    Plotly.newPlot(                        \"8d5d3543-fb17-4091-ba63-a89d1d5f55d7\",                        [{\"alignmentgroup\":\"True\",\"hovertemplate\":\"<b>%{hovertext}</b><br><br>brand_name=%{x}<br>value=%{y}<extra></extra>\",\"hovertext\":[\"ASOS DESIGN\"],\"legendgroup\":\"ASOS DESIGN\",\"marker\":{\"color\":\"#636efa\",\"pattern\":{\"shape\":\"\"}},\"name\":\"ASOS DESIGN\",\"offsetgroup\":\"ASOS DESIGN\",\"orientation\":\"v\",\"showlegend\":true,\"textposition\":\"auto\",\"x\":[\"ASOS DESIGN\"],\"xaxis\":\"x\",\"y\":[37.957499999999996],\"yaxis\":\"y\",\"type\":\"bar\"},{\"alignmentgroup\":\"True\",\"hovertemplate\":\"<b>%{hovertext}</b><br><br>brand_name=%{x}<br>value=%{y}<extra></extra>\",\"hovertext\":[\"ASOS Tall\"],\"legendgroup\":\"ASOS Tall\",\"marker\":{\"color\":\"#EF553B\",\"pattern\":{\"shape\":\"\"}},\"name\":\"ASOS Tall\",\"offsetgroup\":\"ASOS Tall\",\"orientation\":\"v\",\"showlegend\":true,\"textposition\":\"auto\",\"x\":[\"ASOS Tall\"],\"xaxis\":\"x\",\"y\":[19.9],\"yaxis\":\"y\",\"type\":\"bar\"},{\"alignmentgroup\":\"True\",\"hovertemplate\":\"<b>%{hovertext}</b><br><br>brand_name=%{x}<br>value=%{y}<extra></extra>\",\"hovertext\":[\"AX Paris\"],\"legendgroup\":\"AX Paris\",\"marker\":{\"color\":\"#00cc96\",\"pattern\":{\"shape\":\"\"}},\"name\":\"AX Paris\",\"offsetgroup\":\"AX Paris\",\"orientation\":\"v\",\"showlegend\":true,\"textposition\":\"auto\",\"x\":[\"AX Paris\"],\"xaxis\":\"x\",\"y\":[38.0],\"yaxis\":\"y\",\"type\":\"bar\"},{\"alignmentgroup\":\"True\",\"hovertemplate\":\"<b>%{hovertext}</b><br><br>brand_name=%{x}<br>value=%{y}<extra></extra>\",\"hovertext\":[\"Beauut\"],\"legendgroup\":\"Beauut\",\"marker\":{\"color\":\"#ab63fa\",\"pattern\":{\"shape\":\"\"}},\"name\":\"Beauut\",\"offsetgroup\":\"Beauut\",\"orientation\":\"v\",\"showlegend\":true,\"textposition\":\"auto\",\"x\":[\"Beauut\"],\"xaxis\":\"x\",\"y\":[172.5],\"yaxis\":\"y\",\"type\":\"bar\"},{\"alignmentgroup\":\"True\",\"hovertemplate\":\"<b>%{hovertext}</b><br><br>brand_name=%{x}<br>value=%{y}<extra></extra>\",\"hovertext\":[\"Brave Soul\"],\"legendgroup\":\"Brave Soul\",\"marker\":{\"color\":\"#FFA15A\",\"pattern\":{\"shape\":\"\"}},\"name\":\"Brave Soul\",\"offsetgroup\":\"Brave Soul\",\"orientation\":\"v\",\"showlegend\":true,\"textposition\":\"auto\",\"x\":[\"Brave Soul\"],\"xaxis\":\"x\",\"y\":[35.75],\"yaxis\":\"y\",\"type\":\"bar\"},{\"alignmentgroup\":\"True\",\"hovertemplate\":\"<b>%{hovertext}</b><br><br>brand_name=%{x}<br>value=%{y}<extra></extra>\",\"hovertext\":[\"Charles & Keith\"],\"legendgroup\":\"Charles & Keith\",\"marker\":{\"color\":\"#19d3f3\",\"pattern\":{\"shape\":\"\"}},\"name\":\"Charles & Keith\",\"offsetgroup\":\"Charles & Keith\",\"orientation\":\"v\",\"showlegend\":true,\"textposition\":\"auto\",\"x\":[\"Charles & Keith\"],\"xaxis\":\"x\",\"y\":[72.64],\"yaxis\":\"y\",\"type\":\"bar\"},{\"alignmentgroup\":\"True\",\"hovertemplate\":\"<b>%{hovertext}</b><br><br>brand_name=%{x}<br>value=%{y}<extra></extra>\",\"hovertext\":[\"Claudia Canova\"],\"legendgroup\":\"Claudia Canova\",\"marker\":{\"color\":\"#FF6692\",\"pattern\":{\"shape\":\"\"}},\"name\":\"Claudia Canova\",\"offsetgroup\":\"Claudia Canova\",\"orientation\":\"v\",\"showlegend\":true,\"textposition\":\"auto\",\"x\":[\"Claudia Canova\"],\"xaxis\":\"x\",\"y\":[34.144999999999996],\"yaxis\":\"y\",\"type\":\"bar\"},{\"alignmentgroup\":\"True\",\"hovertemplate\":\"<b>%{hovertext}</b><br><br>brand_name=%{x}<br>value=%{y}<extra></extra>\",\"hovertext\":[\"Collusion\"],\"legendgroup\":\"Collusion\",\"marker\":{\"color\":\"#B6E880\",\"pattern\":{\"shape\":\"\"}},\"name\":\"Collusion\",\"offsetgroup\":\"Collusion\",\"orientation\":\"v\",\"showlegend\":true,\"textposition\":\"auto\",\"x\":[\"Collusion\"],\"xaxis\":\"x\",\"y\":[15.46],\"yaxis\":\"y\",\"type\":\"bar\"},{\"alignmentgroup\":\"True\",\"hovertemplate\":\"<b>%{hovertext}</b><br><br>brand_name=%{x}<br>value=%{y}<extra></extra>\",\"hovertext\":[\"Dune\"],\"legendgroup\":\"Dune\",\"marker\":{\"color\":\"#FF97FF\",\"pattern\":{\"shape\":\"\"}},\"name\":\"Dune\",\"offsetgroup\":\"Dune\",\"orientation\":\"v\",\"showlegend\":true,\"textposition\":\"auto\",\"x\":[\"Dune\"],\"xaxis\":\"x\",\"y\":[67.75],\"yaxis\":\"y\",\"type\":\"bar\"},{\"alignmentgroup\":\"True\",\"hovertemplate\":\"<b>%{hovertext}</b><br><br>brand_name=%{x}<br>value=%{y}<extra></extra>\",\"hovertext\":[\"Fiorucci\"],\"legendgroup\":\"Fiorucci\",\"marker\":{\"color\":\"#FECB52\",\"pattern\":{\"shape\":\"\"}},\"name\":\"Fiorucci\",\"offsetgroup\":\"Fiorucci\",\"orientation\":\"v\",\"showlegend\":true,\"textposition\":\"auto\",\"x\":[\"Fiorucci\"],\"xaxis\":\"x\",\"y\":[48.0],\"yaxis\":\"y\",\"type\":\"bar\"},{\"alignmentgroup\":\"True\",\"hovertemplate\":\"<b>%{hovertext}</b><br><br>brand_name=%{x}<br>value=%{y}<extra></extra>\",\"hovertext\":[\"Flounce London\"],\"legendgroup\":\"Flounce London\",\"marker\":{\"color\":\"#636efa\",\"pattern\":{\"shape\":\"\"}},\"name\":\"Flounce London\",\"offsetgroup\":\"Flounce London\",\"orientation\":\"v\",\"showlegend\":true,\"textposition\":\"auto\",\"x\":[\"Flounce London\"],\"xaxis\":\"x\",\"y\":[31.0],\"yaxis\":\"y\",\"type\":\"bar\"},{\"alignmentgroup\":\"True\",\"hovertemplate\":\"<b>%{hovertext}</b><br><br>brand_name=%{x}<br>value=%{y}<extra></extra>\",\"hovertext\":[\"Forever Unique\"],\"legendgroup\":\"Forever Unique\",\"marker\":{\"color\":\"#EF553B\",\"pattern\":{\"shape\":\"\"}},\"name\":\"Forever Unique\",\"offsetgroup\":\"Forever Unique\",\"orientation\":\"v\",\"showlegend\":true,\"textposition\":\"auto\",\"x\":[\"Forever Unique\"],\"xaxis\":\"x\",\"y\":[43.0],\"yaxis\":\"y\",\"type\":\"bar\"},{\"alignmentgroup\":\"True\",\"hovertemplate\":\"<b>%{hovertext}</b><br><br>brand_name=%{x}<br>value=%{y}<extra></extra>\",\"hovertext\":[\"French Connection\"],\"legendgroup\":\"French Connection\",\"marker\":{\"color\":\"#00cc96\",\"pattern\":{\"shape\":\"\"}},\"name\":\"French Connection\",\"offsetgroup\":\"French Connection\",\"orientation\":\"v\",\"showlegend\":true,\"textposition\":\"auto\",\"x\":[\"French Connection\"],\"xaxis\":\"x\",\"y\":[72.5],\"yaxis\":\"y\",\"type\":\"bar\"},{\"alignmentgroup\":\"True\",\"hovertemplate\":\"<b>%{hovertext}</b><br><br>brand_name=%{x}<br>value=%{y}<extra></extra>\",\"hovertext\":[\"Frock and Frill\"],\"legendgroup\":\"Frock and Frill\",\"marker\":{\"color\":\"#ab63fa\",\"pattern\":{\"shape\":\"\"}},\"name\":\"Frock and Frill\",\"offsetgroup\":\"Frock and Frill\",\"orientation\":\"v\",\"showlegend\":true,\"textposition\":\"auto\",\"x\":[\"Frock and Frill\"],\"xaxis\":\"x\",\"y\":[217.0],\"yaxis\":\"y\",\"type\":\"bar\"},{\"alignmentgroup\":\"True\",\"hovertemplate\":\"<b>%{hovertext}</b><br><br>brand_name=%{x}<br>value=%{y}<extra></extra>\",\"hovertext\":[\"Ginger Ray\"],\"legendgroup\":\"Ginger Ray\",\"marker\":{\"color\":\"#FFA15A\",\"pattern\":{\"shape\":\"\"}},\"name\":\"Ginger Ray\",\"offsetgroup\":\"Ginger Ray\",\"orientation\":\"v\",\"showlegend\":true,\"textposition\":\"auto\",\"x\":[\"Ginger Ray\"],\"xaxis\":\"x\",\"y\":[4.74],\"yaxis\":\"y\",\"type\":\"bar\"},{\"alignmentgroup\":\"True\",\"hovertemplate\":\"<b>%{hovertext}</b><br><br>brand_name=%{x}<br>value=%{y}<extra></extra>\",\"hovertext\":[\"Glamorous\"],\"legendgroup\":\"Glamorous\",\"marker\":{\"color\":\"#19d3f3\",\"pattern\":{\"shape\":\"\"}},\"name\":\"Glamorous\",\"offsetgroup\":\"Glamorous\",\"orientation\":\"v\",\"showlegend\":true,\"textposition\":\"auto\",\"x\":[\"Glamorous\"],\"xaxis\":\"x\",\"y\":[12.0],\"yaxis\":\"y\",\"type\":\"bar\"},{\"alignmentgroup\":\"True\",\"hovertemplate\":\"<b>%{hovertext}</b><br><br>brand_name=%{x}<br>value=%{y}<extra></extra>\",\"hovertext\":[\"Influence\"],\"legendgroup\":\"Influence\",\"marker\":{\"color\":\"#FF6692\",\"pattern\":{\"shape\":\"\"}},\"name\":\"Influence\",\"offsetgroup\":\"Influence\",\"orientation\":\"v\",\"showlegend\":true,\"textposition\":\"auto\",\"x\":[\"Influence\"],\"xaxis\":\"x\",\"y\":[40.2],\"yaxis\":\"y\",\"type\":\"bar\"},{\"alignmentgroup\":\"True\",\"hovertemplate\":\"<b>%{hovertext}</b><br><br>brand_name=%{x}<br>value=%{y}<extra></extra>\",\"hovertext\":[\"LOLA MAY TALL\"],\"legendgroup\":\"LOLA MAY TALL\",\"marker\":{\"color\":\"#B6E880\",\"pattern\":{\"shape\":\"\"}},\"name\":\"LOLA MAY TALL\",\"offsetgroup\":\"LOLA MAY TALL\",\"orientation\":\"v\",\"showlegend\":true,\"textposition\":\"auto\",\"x\":[\"LOLA MAY TALL\"],\"xaxis\":\"x\",\"y\":[43.0],\"yaxis\":\"y\",\"type\":\"bar\"},{\"alignmentgroup\":\"True\",\"hovertemplate\":\"<b>%{hovertext}</b><br><br>brand_name=%{x}<br>value=%{y}<extra></extra>\",\"hovertext\":[\"Liquorish\"],\"legendgroup\":\"Liquorish\",\"marker\":{\"color\":\"#FF97FF\",\"pattern\":{\"shape\":\"\"}},\"name\":\"Liquorish\",\"offsetgroup\":\"Liquorish\",\"orientation\":\"v\",\"showlegend\":true,\"textposition\":\"auto\",\"x\":[\"Liquorish\"],\"xaxis\":\"x\",\"y\":[51.0],\"yaxis\":\"y\",\"type\":\"bar\"},{\"alignmentgroup\":\"True\",\"hovertemplate\":\"<b>%{hovertext}</b><br><br>brand_name=%{x}<br>value=%{y}<extra></extra>\",\"hovertext\":[\"Lola May\"],\"legendgroup\":\"Lola May\",\"marker\":{\"color\":\"#FECB52\",\"pattern\":{\"shape\":\"\"}},\"name\":\"Lola May\",\"offsetgroup\":\"Lola May\",\"orientation\":\"v\",\"showlegend\":true,\"textposition\":\"auto\",\"x\":[\"Lola May\"],\"xaxis\":\"x\",\"y\":[35.71],\"yaxis\":\"y\",\"type\":\"bar\"},{\"alignmentgroup\":\"True\",\"hovertemplate\":\"<b>%{hovertext}</b><br><br>brand_name=%{x}<br>value=%{y}<extra></extra>\",\"hovertext\":[\"London Rebel\"],\"legendgroup\":\"London Rebel\",\"marker\":{\"color\":\"#636efa\",\"pattern\":{\"shape\":\"\"}},\"name\":\"London Rebel\",\"offsetgroup\":\"London Rebel\",\"orientation\":\"v\",\"showlegend\":true,\"textposition\":\"auto\",\"x\":[\"London Rebel\"],\"xaxis\":\"x\",\"y\":[50.53],\"yaxis\":\"y\",\"type\":\"bar\"},{\"alignmentgroup\":\"True\",\"hovertemplate\":\"<b>%{hovertext}</b><br><br>brand_name=%{x}<br>value=%{y}<extra></extra>\",\"hovertext\":[\"Love Moschino\"],\"legendgroup\":\"Love Moschino\",\"marker\":{\"color\":\"#EF553B\",\"pattern\":{\"shape\":\"\"}},\"name\":\"Love Moschino\",\"offsetgroup\":\"Love Moschino\",\"orientation\":\"v\",\"showlegend\":true,\"textposition\":\"auto\",\"x\":[\"Love Moschino\"],\"xaxis\":\"x\",\"y\":[158.0],\"yaxis\":\"y\",\"type\":\"bar\"},{\"alignmentgroup\":\"True\",\"hovertemplate\":\"<b>%{hovertext}</b><br><br>brand_name=%{x}<br>value=%{y}<extra></extra>\",\"hovertext\":[\"Mario Badescu\"],\"legendgroup\":\"Mario Badescu\",\"marker\":{\"color\":\"#00cc96\",\"pattern\":{\"shape\":\"\"}},\"name\":\"Mario Badescu\",\"offsetgroup\":\"Mario Badescu\",\"orientation\":\"v\",\"showlegend\":true,\"textposition\":\"auto\",\"x\":[\"Mario Badescu\"],\"xaxis\":\"x\",\"y\":[20.53],\"yaxis\":\"y\",\"type\":\"bar\"},{\"alignmentgroup\":\"True\",\"hovertemplate\":\"<b>%{hovertext}</b><br><br>brand_name=%{x}<br>value=%{y}<extra></extra>\",\"hovertext\":[\"Miss Selfridge\"],\"legendgroup\":\"Miss Selfridge\",\"marker\":{\"color\":\"#ab63fa\",\"pattern\":{\"shape\":\"\"}},\"name\":\"Miss Selfridge\",\"offsetgroup\":\"Miss Selfridge\",\"orientation\":\"v\",\"showlegend\":true,\"textposition\":\"auto\",\"x\":[\"Miss Selfridge\"],\"xaxis\":\"x\",\"y\":[32.2],\"yaxis\":\"y\",\"type\":\"bar\"},{\"alignmentgroup\":\"True\",\"hovertemplate\":\"<b>%{hovertext}</b><br><br>brand_name=%{x}<br>value=%{y}<extra></extra>\",\"hovertext\":[\"NaaNaa\"],\"legendgroup\":\"NaaNaa\",\"marker\":{\"color\":\"#FFA15A\",\"pattern\":{\"shape\":\"\"}},\"name\":\"NaaNaa\",\"offsetgroup\":\"NaaNaa\",\"orientation\":\"v\",\"showlegend\":true,\"textposition\":\"auto\",\"x\":[\"NaaNaa\"],\"xaxis\":\"x\",\"y\":[48.0],\"yaxis\":\"y\",\"type\":\"bar\"},{\"alignmentgroup\":\"True\",\"hovertemplate\":\"<b>%{hovertext}</b><br><br>brand_name=%{x}<br>value=%{y}<extra></extra>\",\"hovertext\":[\"Oskia\"],\"legendgroup\":\"Oskia\",\"marker\":{\"color\":\"#19d3f3\",\"pattern\":{\"shape\":\"\"}},\"name\":\"Oskia\",\"offsetgroup\":\"Oskia\",\"orientation\":\"v\",\"showlegend\":true,\"textposition\":\"auto\",\"x\":[\"Oskia\"],\"xaxis\":\"x\",\"y\":[102.64],\"yaxis\":\"y\",\"type\":\"bar\"},{\"alignmentgroup\":\"True\",\"hovertemplate\":\"<b>%{hovertext}</b><br><br>brand_name=%{x}<br>value=%{y}<extra></extra>\",\"hovertext\":[\"Parisian\"],\"legendgroup\":\"Parisian\",\"marker\":{\"color\":\"#FF6692\",\"pattern\":{\"shape\":\"\"}},\"name\":\"Parisian\",\"offsetgroup\":\"Parisian\",\"orientation\":\"v\",\"showlegend\":true,\"textposition\":\"auto\",\"x\":[\"Parisian\"],\"xaxis\":\"x\",\"y\":[22.105],\"yaxis\":\"y\",\"type\":\"bar\"},{\"alignmentgroup\":\"True\",\"hovertemplate\":\"<b>%{hovertext}</b><br><br>brand_name=%{x}<br>value=%{y}<extra></extra>\",\"hovertext\":[\"Rebellious Fashion\"],\"legendgroup\":\"Rebellious Fashion\",\"marker\":{\"color\":\"#B6E880\",\"pattern\":{\"shape\":\"\"}},\"name\":\"Rebellious Fashion\",\"offsetgroup\":\"Rebellious Fashion\",\"orientation\":\"v\",\"showlegend\":true,\"textposition\":\"auto\",\"x\":[\"Rebellious Fashion\"],\"xaxis\":\"x\",\"y\":[32.5],\"yaxis\":\"y\",\"type\":\"bar\"},{\"alignmentgroup\":\"True\",\"hovertemplate\":\"<b>%{hovertext}</b><br><br>brand_name=%{x}<br>value=%{y}<extra></extra>\",\"hovertext\":[\"Replay\"],\"legendgroup\":\"Replay\",\"marker\":{\"color\":\"#FF97FF\",\"pattern\":{\"shape\":\"\"}},\"name\":\"Replay\",\"offsetgroup\":\"Replay\",\"orientation\":\"v\",\"showlegend\":true,\"textposition\":\"auto\",\"x\":[\"Replay\"],\"xaxis\":\"x\",\"y\":[100.0],\"yaxis\":\"y\",\"type\":\"bar\"},{\"alignmentgroup\":\"True\",\"hovertemplate\":\"<b>%{hovertext}</b><br><br>brand_name=%{x}<br>value=%{y}<extra></extra>\",\"hovertext\":[\"Toms\"],\"legendgroup\":\"Toms\",\"marker\":{\"color\":\"#FECB52\",\"pattern\":{\"shape\":\"\"}},\"name\":\"Toms\",\"offsetgroup\":\"Toms\",\"orientation\":\"v\",\"showlegend\":true,\"textposition\":\"auto\",\"x\":[\"Toms\"],\"xaxis\":\"x\",\"y\":[45.0],\"yaxis\":\"y\",\"type\":\"bar\"},{\"alignmentgroup\":\"True\",\"hovertemplate\":\"<b>%{hovertext}</b><br><br>brand_name=%{x}<br>value=%{y}<extra></extra>\",\"hovertext\":[\"True Decadence\"],\"legendgroup\":\"True Decadence\",\"marker\":{\"color\":\"#636efa\",\"pattern\":{\"shape\":\"\"}},\"name\":\"True Decadence\",\"offsetgroup\":\"True Decadence\",\"orientation\":\"v\",\"showlegend\":true,\"textposition\":\"auto\",\"x\":[\"True Decadence\"],\"xaxis\":\"x\",\"y\":[100.0],\"yaxis\":\"y\",\"type\":\"bar\"},{\"alignmentgroup\":\"True\",\"hovertemplate\":\"<b>%{hovertext}</b><br><br>brand_name=%{x}<br>value=%{y}<extra></extra>\",\"hovertext\":[\"Truffle Collection Wide Fit\"],\"legendgroup\":\"Truffle Collection Wide Fit\",\"marker\":{\"color\":\"#EF553B\",\"pattern\":{\"shape\":\"\"}},\"name\":\"Truffle Collection Wide Fit\",\"offsetgroup\":\"Truffle Collection Wide Fit\",\"orientation\":\"v\",\"showlegend\":true,\"textposition\":\"auto\",\"x\":[\"Truffle Collection Wide Fit\"],\"xaxis\":\"x\",\"y\":[30.0],\"yaxis\":\"y\",\"type\":\"bar\"},{\"alignmentgroup\":\"True\",\"hovertemplate\":\"<b>%{hovertext}</b><br><br>brand_name=%{x}<br>value=%{y}<extra></extra>\",\"hovertext\":[\"UGG\"],\"legendgroup\":\"UGG\",\"marker\":{\"color\":\"#00cc96\",\"pattern\":{\"shape\":\"\"}},\"name\":\"UGG\",\"offsetgroup\":\"UGG\",\"orientation\":\"v\",\"showlegend\":true,\"textposition\":\"auto\",\"x\":[\"UGG\"],\"xaxis\":\"x\",\"y\":[151.0],\"yaxis\":\"y\",\"type\":\"bar\"},{\"alignmentgroup\":\"True\",\"hovertemplate\":\"<b>%{hovertext}</b><br><br>brand_name=%{x}<br>value=%{y}<extra></extra>\",\"hovertext\":[\"UNIQUE21\"],\"legendgroup\":\"UNIQUE21\",\"marker\":{\"color\":\"#ab63fa\",\"pattern\":{\"shape\":\"\"}},\"name\":\"UNIQUE21\",\"offsetgroup\":\"UNIQUE21\",\"orientation\":\"v\",\"showlegend\":true,\"textposition\":\"auto\",\"x\":[\"UNIQUE21\"],\"xaxis\":\"x\",\"y\":[59.0],\"yaxis\":\"y\",\"type\":\"bar\"},{\"alignmentgroup\":\"True\",\"hovertemplate\":\"<b>%{hovertext}</b><br><br>brand_name=%{x}<br>value=%{y}<extra></extra>\",\"hovertext\":[\"Virgos Lounge\"],\"legendgroup\":\"Virgos Lounge\",\"marker\":{\"color\":\"#FFA15A\",\"pattern\":{\"shape\":\"\"}},\"name\":\"Virgos Lounge\",\"offsetgroup\":\"Virgos Lounge\",\"orientation\":\"v\",\"showlegend\":true,\"textposition\":\"auto\",\"x\":[\"Virgos Lounge\"],\"xaxis\":\"x\",\"y\":[196.0],\"yaxis\":\"y\",\"type\":\"bar\"},{\"alignmentgroup\":\"True\",\"hovertemplate\":\"<b>%{hovertext}</b><br><br>brand_name=%{x}<br>value=%{y}<extra></extra>\",\"hovertext\":[\"Waven\"],\"legendgroup\":\"Waven\",\"marker\":{\"color\":\"#19d3f3\",\"pattern\":{\"shape\":\"\"}},\"name\":\"Waven\",\"offsetgroup\":\"Waven\",\"orientation\":\"v\",\"showlegend\":true,\"textposition\":\"auto\",\"x\":[\"Waven\"],\"xaxis\":\"x\",\"y\":[49.5],\"yaxis\":\"y\",\"type\":\"bar\"},{\"alignmentgroup\":\"True\",\"hovertemplate\":\"<b>%{hovertext}</b><br><br>brand_name=%{x}<br>value=%{y}<extra></extra>\",\"hovertext\":[\"adidas Originals\"],\"legendgroup\":\"adidas Originals\",\"marker\":{\"color\":\"#FF6692\",\"pattern\":{\"shape\":\"\"}},\"name\":\"adidas Originals\",\"offsetgroup\":\"adidas Originals\",\"orientation\":\"v\",\"showlegend\":true,\"textposition\":\"auto\",\"x\":[\"adidas Originals\"],\"xaxis\":\"x\",\"y\":[67.11],\"yaxis\":\"y\",\"type\":\"bar\"}],                        {\"template\":{\"data\":{\"histogram2dcontour\":[{\"type\":\"histogram2dcontour\",\"colorbar\":{\"outlinewidth\":0,\"ticks\":\"\"},\"colorscale\":[[0.0,\"#0d0887\"],[0.1111111111111111,\"#46039f\"],[0.2222222222222222,\"#7201a8\"],[0.3333333333333333,\"#9c179e\"],[0.4444444444444444,\"#bd3786\"],[0.5555555555555556,\"#d8576b\"],[0.6666666666666666,\"#ed7953\"],[0.7777777777777778,\"#fb9f3a\"],[0.8888888888888888,\"#fdca26\"],[1.0,\"#f0f921\"]]}],\"choropleth\":[{\"type\":\"choropleth\",\"colorbar\":{\"outlinewidth\":0,\"ticks\":\"\"}}],\"histogram2d\":[{\"type\":\"histogram2d\",\"colorbar\":{\"outlinewidth\":0,\"ticks\":\"\"},\"colorscale\":[[0.0,\"#0d0887\"],[0.1111111111111111,\"#46039f\"],[0.2222222222222222,\"#7201a8\"],[0.3333333333333333,\"#9c179e\"],[0.4444444444444444,\"#bd3786\"],[0.5555555555555556,\"#d8576b\"],[0.6666666666666666,\"#ed7953\"],[0.7777777777777778,\"#fb9f3a\"],[0.8888888888888888,\"#fdca26\"],[1.0,\"#f0f921\"]]}],\"heatmap\":[{\"type\":\"heatmap\",\"colorbar\":{\"outlinewidth\":0,\"ticks\":\"\"},\"colorscale\":[[0.0,\"#0d0887\"],[0.1111111111111111,\"#46039f\"],[0.2222222222222222,\"#7201a8\"],[0.3333333333333333,\"#9c179e\"],[0.4444444444444444,\"#bd3786\"],[0.5555555555555556,\"#d8576b\"],[0.6666666666666666,\"#ed7953\"],[0.7777777777777778,\"#fb9f3a\"],[0.8888888888888888,\"#fdca26\"],[1.0,\"#f0f921\"]]}],\"heatmapgl\":[{\"type\":\"heatmapgl\",\"colorbar\":{\"outlinewidth\":0,\"ticks\":\"\"},\"colorscale\":[[0.0,\"#0d0887\"],[0.1111111111111111,\"#46039f\"],[0.2222222222222222,\"#7201a8\"],[0.3333333333333333,\"#9c179e\"],[0.4444444444444444,\"#bd3786\"],[0.5555555555555556,\"#d8576b\"],[0.6666666666666666,\"#ed7953\"],[0.7777777777777778,\"#fb9f3a\"],[0.8888888888888888,\"#fdca26\"],[1.0,\"#f0f921\"]]}],\"contourcarpet\":[{\"type\":\"contourcarpet\",\"colorbar\":{\"outlinewidth\":0,\"ticks\":\"\"}}],\"contour\":[{\"type\":\"contour\",\"colorbar\":{\"outlinewidth\":0,\"ticks\":\"\"},\"colorscale\":[[0.0,\"#0d0887\"],[0.1111111111111111,\"#46039f\"],[0.2222222222222222,\"#7201a8\"],[0.3333333333333333,\"#9c179e\"],[0.4444444444444444,\"#bd3786\"],[0.5555555555555556,\"#d8576b\"],[0.6666666666666666,\"#ed7953\"],[0.7777777777777778,\"#fb9f3a\"],[0.8888888888888888,\"#fdca26\"],[1.0,\"#f0f921\"]]}],\"surface\":[{\"type\":\"surface\",\"colorbar\":{\"outlinewidth\":0,\"ticks\":\"\"},\"colorscale\":[[0.0,\"#0d0887\"],[0.1111111111111111,\"#46039f\"],[0.2222222222222222,\"#7201a8\"],[0.3333333333333333,\"#9c179e\"],[0.4444444444444444,\"#bd3786\"],[0.5555555555555556,\"#d8576b\"],[0.6666666666666666,\"#ed7953\"],[0.7777777777777778,\"#fb9f3a\"],[0.8888888888888888,\"#fdca26\"],[1.0,\"#f0f921\"]]}],\"mesh3d\":[{\"type\":\"mesh3d\",\"colorbar\":{\"outlinewidth\":0,\"ticks\":\"\"}}],\"scatter\":[{\"fillpattern\":{\"fillmode\":\"overlay\",\"size\":10,\"solidity\":0.2},\"type\":\"scatter\"}],\"parcoords\":[{\"type\":\"parcoords\",\"line\":{\"colorbar\":{\"outlinewidth\":0,\"ticks\":\"\"}}}],\"scatterpolargl\":[{\"type\":\"scatterpolargl\",\"marker\":{\"colorbar\":{\"outlinewidth\":0,\"ticks\":\"\"}}}],\"bar\":[{\"error_x\":{\"color\":\"#2a3f5f\"},\"error_y\":{\"color\":\"#2a3f5f\"},\"marker\":{\"line\":{\"color\":\"#E5ECF6\",\"width\":0.5},\"pattern\":{\"fillmode\":\"overlay\",\"size\":10,\"solidity\":0.2}},\"type\":\"bar\"}],\"scattergeo\":[{\"type\":\"scattergeo\",\"marker\":{\"colorbar\":{\"outlinewidth\":0,\"ticks\":\"\"}}}],\"scatterpolar\":[{\"type\":\"scatterpolar\",\"marker\":{\"colorbar\":{\"outlinewidth\":0,\"ticks\":\"\"}}}],\"histogram\":[{\"marker\":{\"pattern\":{\"fillmode\":\"overlay\",\"size\":10,\"solidity\":0.2}},\"type\":\"histogram\"}],\"scattergl\":[{\"type\":\"scattergl\",\"marker\":{\"colorbar\":{\"outlinewidth\":0,\"ticks\":\"\"}}}],\"scatter3d\":[{\"type\":\"scatter3d\",\"line\":{\"colorbar\":{\"outlinewidth\":0,\"ticks\":\"\"}},\"marker\":{\"colorbar\":{\"outlinewidth\":0,\"ticks\":\"\"}}}],\"scattermapbox\":[{\"type\":\"scattermapbox\",\"marker\":{\"colorbar\":{\"outlinewidth\":0,\"ticks\":\"\"}}}],\"scatterternary\":[{\"type\":\"scatterternary\",\"marker\":{\"colorbar\":{\"outlinewidth\":0,\"ticks\":\"\"}}}],\"scattercarpet\":[{\"type\":\"scattercarpet\",\"marker\":{\"colorbar\":{\"outlinewidth\":0,\"ticks\":\"\"}}}],\"carpet\":[{\"aaxis\":{\"endlinecolor\":\"#2a3f5f\",\"gridcolor\":\"white\",\"linecolor\":\"white\",\"minorgridcolor\":\"white\",\"startlinecolor\":\"#2a3f5f\"},\"baxis\":{\"endlinecolor\":\"#2a3f5f\",\"gridcolor\":\"white\",\"linecolor\":\"white\",\"minorgridcolor\":\"white\",\"startlinecolor\":\"#2a3f5f\"},\"type\":\"carpet\"}],\"table\":[{\"cells\":{\"fill\":{\"color\":\"#EBF0F8\"},\"line\":{\"color\":\"white\"}},\"header\":{\"fill\":{\"color\":\"#C8D4E3\"},\"line\":{\"color\":\"white\"}},\"type\":\"table\"}],\"barpolar\":[{\"marker\":{\"line\":{\"color\":\"#E5ECF6\",\"width\":0.5},\"pattern\":{\"fillmode\":\"overlay\",\"size\":10,\"solidity\":0.2}},\"type\":\"barpolar\"}],\"pie\":[{\"automargin\":true,\"type\":\"pie\"}]},\"layout\":{\"autotypenumbers\":\"strict\",\"colorway\":[\"#636efa\",\"#EF553B\",\"#00cc96\",\"#ab63fa\",\"#FFA15A\",\"#19d3f3\",\"#FF6692\",\"#B6E880\",\"#FF97FF\",\"#FECB52\"],\"font\":{\"color\":\"#2a3f5f\"},\"hovermode\":\"closest\",\"hoverlabel\":{\"align\":\"left\"},\"paper_bgcolor\":\"white\",\"plot_bgcolor\":\"#E5ECF6\",\"polar\":{\"bgcolor\":\"#E5ECF6\",\"angularaxis\":{\"gridcolor\":\"white\",\"linecolor\":\"white\",\"ticks\":\"\"},\"radialaxis\":{\"gridcolor\":\"white\",\"linecolor\":\"white\",\"ticks\":\"\"}},\"ternary\":{\"bgcolor\":\"#E5ECF6\",\"aaxis\":{\"gridcolor\":\"white\",\"linecolor\":\"white\",\"ticks\":\"\"},\"baxis\":{\"gridcolor\":\"white\",\"linecolor\":\"white\",\"ticks\":\"\"},\"caxis\":{\"gridcolor\":\"white\",\"linecolor\":\"white\",\"ticks\":\"\"}},\"coloraxis\":{\"colorbar\":{\"outlinewidth\":0,\"ticks\":\"\"}},\"colorscale\":{\"sequential\":[[0.0,\"#0d0887\"],[0.1111111111111111,\"#46039f\"],[0.2222222222222222,\"#7201a8\"],[0.3333333333333333,\"#9c179e\"],[0.4444444444444444,\"#bd3786\"],[0.5555555555555556,\"#d8576b\"],[0.6666666666666666,\"#ed7953\"],[0.7777777777777778,\"#fb9f3a\"],[0.8888888888888888,\"#fdca26\"],[1.0,\"#f0f921\"]],\"sequentialminus\":[[0.0,\"#0d0887\"],[0.1111111111111111,\"#46039f\"],[0.2222222222222222,\"#7201a8\"],[0.3333333333333333,\"#9c179e\"],[0.4444444444444444,\"#bd3786\"],[0.5555555555555556,\"#d8576b\"],[0.6666666666666666,\"#ed7953\"],[0.7777777777777778,\"#fb9f3a\"],[0.8888888888888888,\"#fdca26\"],[1.0,\"#f0f921\"]],\"diverging\":[[0,\"#8e0152\"],[0.1,\"#c51b7d\"],[0.2,\"#de77ae\"],[0.3,\"#f1b6da\"],[0.4,\"#fde0ef\"],[0.5,\"#f7f7f7\"],[0.6,\"#e6f5d0\"],[0.7,\"#b8e186\"],[0.8,\"#7fbc41\"],[0.9,\"#4d9221\"],[1,\"#276419\"]]},\"xaxis\":{\"gridcolor\":\"white\",\"linecolor\":\"white\",\"ticks\":\"\",\"title\":{\"standoff\":15},\"zerolinecolor\":\"white\",\"automargin\":true,\"zerolinewidth\":2},\"yaxis\":{\"gridcolor\":\"white\",\"linecolor\":\"white\",\"ticks\":\"\",\"title\":{\"standoff\":15},\"zerolinecolor\":\"white\",\"automargin\":true,\"zerolinewidth\":2},\"scene\":{\"xaxis\":{\"backgroundcolor\":\"#E5ECF6\",\"gridcolor\":\"white\",\"linecolor\":\"white\",\"showbackground\":true,\"ticks\":\"\",\"zerolinecolor\":\"white\",\"gridwidth\":2},\"yaxis\":{\"backgroundcolor\":\"#E5ECF6\",\"gridcolor\":\"white\",\"linecolor\":\"white\",\"showbackground\":true,\"ticks\":\"\",\"zerolinecolor\":\"white\",\"gridwidth\":2},\"zaxis\":{\"backgroundcolor\":\"#E5ECF6\",\"gridcolor\":\"white\",\"linecolor\":\"white\",\"showbackground\":true,\"ticks\":\"\",\"zerolinecolor\":\"white\",\"gridwidth\":2}},\"shapedefaults\":{\"line\":{\"color\":\"#2a3f5f\"}},\"annotationdefaults\":{\"arrowcolor\":\"#2a3f5f\",\"arrowhead\":0,\"arrowwidth\":1},\"geo\":{\"bgcolor\":\"white\",\"landcolor\":\"#E5ECF6\",\"subunitcolor\":\"white\",\"showland\":true,\"showlakes\":true,\"lakecolor\":\"white\"},\"title\":{\"x\":0.05},\"mapbox\":{\"style\":\"light\"}}},\"xaxis\":{\"anchor\":\"y\",\"domain\":[0.0,1.0],\"title\":{\"text\":\"brand_name\"},\"categoryorder\":\"array\",\"categoryarray\":[\"ASOS DESIGN\",\"ASOS Tall\",\"AX Paris\",\"Beauut\",\"Brave Soul\",\"Charles & Keith\",\"Claudia Canova\",\"Collusion\",\"Dune\",\"Fiorucci\",\"Flounce London\",\"Forever Unique\",\"French Connection\",\"Frock and Frill\",\"Ginger Ray\",\"Glamorous\",\"Influence\",\"LOLA MAY TALL\",\"Liquorish\",\"Lola May\",\"London Rebel\",\"Love Moschino\",\"Mario Badescu\",\"Miss Selfridge\",\"NaaNaa\",\"Oskia\",\"Parisian\",\"Rebellious Fashion\",\"Replay\",\"Toms\",\"True Decadence\",\"Truffle Collection Wide Fit\",\"UGG\",\"UNIQUE21\",\"Virgos Lounge\",\"Waven\",\"adidas Originals\"]},\"yaxis\":{\"anchor\":\"x\",\"domain\":[0.0,1.0],\"title\":{\"text\":\"value\"}},\"legend\":{\"title\":{\"text\":\"brand_name\"},\"tracegroupgap\":0},\"title\":{\"text\":\"AVG Price by Brands(Womens)\"},\"barmode\":\"relative\"},                        {\"responsive\": true}                    ).then(function(){\n",
       "                            \n",
       "var gd = document.getElementById('8d5d3543-fb17-4091-ba63-a89d1d5f55d7');\n",
       "var x = new MutationObserver(function (mutations, observer) {{\n",
       "        var display = window.getComputedStyle(gd).display;\n",
       "        if (!display || display === 'none') {{\n",
       "            console.log([gd, 'removed!']);\n",
       "            Plotly.purge(gd);\n",
       "            observer.disconnect();\n",
       "        }}\n",
       "}});\n",
       "\n",
       "// Listen for the removal of the full notebook cells\n",
       "var notebookContainer = gd.closest('#notebook-container');\n",
       "if (notebookContainer) {{\n",
       "    x.observe(notebookContainer, {childList: true});\n",
       "}}\n",
       "\n",
       "// Listen for the clearing of the current output cell\n",
       "var outputEl = gd.closest('.output');\n",
       "if (outputEl) {{\n",
       "    x.observe(outputEl, {childList: true});\n",
       "}}\n",
       "\n",
       "                        })                };                });            </script>        </div>"
      ]
     },
     "metadata": {},
     "output_type": "display_data"
    }
   ],
   "source": [
    "w1=px.bar(w,color=w.index,hover_name=w.index,title='AVG Price by Brands(Womens)')\n",
    "w1.show()"
   ]
  },
  {
   "cell_type": "markdown",
   "id": "28bf7eb5",
   "metadata": {
    "papermill": {
     "duration": 0.015339,
     "end_time": "2023-03-13T21:02:56.176412",
     "exception": false,
     "start_time": "2023-03-13T21:02:56.161073",
     "status": "completed"
    },
    "tags": []
   },
   "source": [
    "Frock and Frill brand has the highest avg. Pricing and Ginger Ray Brand has the lowest avg. pricing."
   ]
  },
  {
   "cell_type": "markdown",
   "id": "fa7dfb77",
   "metadata": {
    "papermill": {
     "duration": 0.014815,
     "end_time": "2023-03-13T21:02:56.206598",
     "exception": false,
     "start_time": "2023-03-13T21:02:56.191783",
     "status": "completed"
    },
    "tags": []
   },
   "source": [
    "**Q3. What is the total share of inventory on offer on website for men?**"
   ]
  },
  {
   "cell_type": "code",
   "execution_count": 22,
   "id": "69a55922",
   "metadata": {
    "execution": {
     "iopub.execute_input": "2023-03-13T21:02:56.239579Z",
     "iopub.status.busy": "2023-03-13T21:02:56.239044Z",
     "iopub.status.idle": "2023-03-13T21:02:56.320461Z",
     "shell.execute_reply": "2023-03-13T21:02:56.319421Z"
    },
    "papermill": {
     "duration": 0.100825,
     "end_time": "2023-03-13T21:02:56.322824",
     "exception": false,
     "start_time": "2023-03-13T21:02:56.221999",
     "status": "completed"
    },
    "tags": []
   },
   "outputs": [
    {
     "data": {
      "text/html": [
       "<div>                            <div id=\"d25f6042-fcfc-4328-8815-1ba7e38beb67\" class=\"plotly-graph-div\" style=\"height:525px; width:100%;\"></div>            <script type=\"text/javascript\">                require([\"plotly\"], function(Plotly) {                    window.PLOTLYENV=window.PLOTLYENV || {};                                    if (document.getElementById(\"d25f6042-fcfc-4328-8815-1ba7e38beb67\")) {                    Plotly.newPlot(                        \"d25f6042-fcfc-4328-8815-1ba7e38beb67\",                        [{\"customdata\":[[\"Revolution\"],[\"Another Influence\"],[\"Puma\"],[\"adidas Originals\"],[\"Jack & Jones\"],[\"ASOS DESIGN\"],[\"Brave Soul\"],[\"Topman\"],[\"Replay\"],[\"French Connection\"],[\"Soul Star\"],[\"Boardmans\"],[\"Truffle Collection\"],[\"Revolution Skincare\"],[\"Don't Think Twice\"],[\"Bench\"],[\"Zoe Ayla\"],[\"FIT HUT\"],[\"adidas performance\"],[\"Reebok\"],[\"Polo Ralph Lauren\"],[\"Threadbare\"],[\"Vans\"],[\"Barneys Originals Plus\"],[\"Original Penguin\"],[\"The North Face\"],[\"Vivienne Westwood\"],[\"Bellfield\"],[\"SVNX\"],[\"Collusion\"]],\"domain\":{\"x\":[0.0,1.0],\"y\":[0.0,1.0]},\"hovertemplate\":\"<b>%{hovertext}</b><br><br>index=%{customdata[0]}<br>value=%{value}<extra></extra>\",\"hovertext\":[\"Revolution\",\"Another Influence\",\"Puma\",\"adidas Originals\",\"Jack & Jones\",\"ASOS DESIGN\",\"Brave Soul\",\"Topman\",\"Replay\",\"French Connection\",\"Soul Star\",\"Boardmans\",\"Truffle Collection\",\"Revolution Skincare\",\"Don't Think Twice\",\"Bench\",\"Zoe Ayla\",\"FIT HUT\",\"adidas performance\",\"Reebok\",\"Polo Ralph Lauren\",\"Threadbare\",\"Vans\",\"Barneys Originals Plus\",\"Original Penguin\",\"The North Face\",\"Vivienne Westwood\",\"Bellfield\",\"SVNX\",\"Collusion\"],\"labels\":[\"Revolution\",\"Another Influence\",\"Puma\",\"adidas Originals\",\"Jack & Jones\",\"ASOS DESIGN\",\"Brave Soul\",\"Topman\",\"Replay\",\"French Connection\",\"Soul Star\",\"Boardmans\",\"Truffle Collection\",\"Revolution Skincare\",\"Don't Think Twice\",\"Bench\",\"Zoe Ayla\",\"FIT HUT\",\"adidas performance\",\"Reebok\",\"Polo Ralph Lauren\",\"Threadbare\",\"Vans\",\"Barneys Originals Plus\",\"Original Penguin\",\"The North Face\",\"Vivienne Westwood\",\"Bellfield\",\"SVNX\",\"Collusion\"],\"legendgroup\":\"\",\"marker\":{\"colors\":[\"#636efa\",\"#EF553B\",\"#00cc96\",\"#ab63fa\",\"#FFA15A\",\"#19d3f3\",\"#FF6692\",\"#B6E880\",\"#FF97FF\",\"#FECB52\",\"#636efa\",\"#EF553B\",\"#00cc96\",\"#ab63fa\",\"#FFA15A\",\"#19d3f3\",\"#FF6692\",\"#B6E880\",\"#FF97FF\",\"#FECB52\",\"#636efa\",\"#EF553B\",\"#00cc96\",\"#ab63fa\",\"#FFA15A\",\"#19d3f3\",\"#FF6692\",\"#B6E880\",\"#FF97FF\",\"#FECB52\"]},\"name\":\"\",\"showlegend\":true,\"values\":[2928,1220,1220,1220,1220,976,732,732,732,732,488,488,488,488,244,244,244,244,244,244,244,244,244,244,244,244,244,244,244,244],\"type\":\"pie\"}],                        {\"template\":{\"data\":{\"histogram2dcontour\":[{\"type\":\"histogram2dcontour\",\"colorbar\":{\"outlinewidth\":0,\"ticks\":\"\"},\"colorscale\":[[0.0,\"#0d0887\"],[0.1111111111111111,\"#46039f\"],[0.2222222222222222,\"#7201a8\"],[0.3333333333333333,\"#9c179e\"],[0.4444444444444444,\"#bd3786\"],[0.5555555555555556,\"#d8576b\"],[0.6666666666666666,\"#ed7953\"],[0.7777777777777778,\"#fb9f3a\"],[0.8888888888888888,\"#fdca26\"],[1.0,\"#f0f921\"]]}],\"choropleth\":[{\"type\":\"choropleth\",\"colorbar\":{\"outlinewidth\":0,\"ticks\":\"\"}}],\"histogram2d\":[{\"type\":\"histogram2d\",\"colorbar\":{\"outlinewidth\":0,\"ticks\":\"\"},\"colorscale\":[[0.0,\"#0d0887\"],[0.1111111111111111,\"#46039f\"],[0.2222222222222222,\"#7201a8\"],[0.3333333333333333,\"#9c179e\"],[0.4444444444444444,\"#bd3786\"],[0.5555555555555556,\"#d8576b\"],[0.6666666666666666,\"#ed7953\"],[0.7777777777777778,\"#fb9f3a\"],[0.8888888888888888,\"#fdca26\"],[1.0,\"#f0f921\"]]}],\"heatmap\":[{\"type\":\"heatmap\",\"colorbar\":{\"outlinewidth\":0,\"ticks\":\"\"},\"colorscale\":[[0.0,\"#0d0887\"],[0.1111111111111111,\"#46039f\"],[0.2222222222222222,\"#7201a8\"],[0.3333333333333333,\"#9c179e\"],[0.4444444444444444,\"#bd3786\"],[0.5555555555555556,\"#d8576b\"],[0.6666666666666666,\"#ed7953\"],[0.7777777777777778,\"#fb9f3a\"],[0.8888888888888888,\"#fdca26\"],[1.0,\"#f0f921\"]]}],\"heatmapgl\":[{\"type\":\"heatmapgl\",\"colorbar\":{\"outlinewidth\":0,\"ticks\":\"\"},\"colorscale\":[[0.0,\"#0d0887\"],[0.1111111111111111,\"#46039f\"],[0.2222222222222222,\"#7201a8\"],[0.3333333333333333,\"#9c179e\"],[0.4444444444444444,\"#bd3786\"],[0.5555555555555556,\"#d8576b\"],[0.6666666666666666,\"#ed7953\"],[0.7777777777777778,\"#fb9f3a\"],[0.8888888888888888,\"#fdca26\"],[1.0,\"#f0f921\"]]}],\"contourcarpet\":[{\"type\":\"contourcarpet\",\"colorbar\":{\"outlinewidth\":0,\"ticks\":\"\"}}],\"contour\":[{\"type\":\"contour\",\"colorbar\":{\"outlinewidth\":0,\"ticks\":\"\"},\"colorscale\":[[0.0,\"#0d0887\"],[0.1111111111111111,\"#46039f\"],[0.2222222222222222,\"#7201a8\"],[0.3333333333333333,\"#9c179e\"],[0.4444444444444444,\"#bd3786\"],[0.5555555555555556,\"#d8576b\"],[0.6666666666666666,\"#ed7953\"],[0.7777777777777778,\"#fb9f3a\"],[0.8888888888888888,\"#fdca26\"],[1.0,\"#f0f921\"]]}],\"surface\":[{\"type\":\"surface\",\"colorbar\":{\"outlinewidth\":0,\"ticks\":\"\"},\"colorscale\":[[0.0,\"#0d0887\"],[0.1111111111111111,\"#46039f\"],[0.2222222222222222,\"#7201a8\"],[0.3333333333333333,\"#9c179e\"],[0.4444444444444444,\"#bd3786\"],[0.5555555555555556,\"#d8576b\"],[0.6666666666666666,\"#ed7953\"],[0.7777777777777778,\"#fb9f3a\"],[0.8888888888888888,\"#fdca26\"],[1.0,\"#f0f921\"]]}],\"mesh3d\":[{\"type\":\"mesh3d\",\"colorbar\":{\"outlinewidth\":0,\"ticks\":\"\"}}],\"scatter\":[{\"fillpattern\":{\"fillmode\":\"overlay\",\"size\":10,\"solidity\":0.2},\"type\":\"scatter\"}],\"parcoords\":[{\"type\":\"parcoords\",\"line\":{\"colorbar\":{\"outlinewidth\":0,\"ticks\":\"\"}}}],\"scatterpolargl\":[{\"type\":\"scatterpolargl\",\"marker\":{\"colorbar\":{\"outlinewidth\":0,\"ticks\":\"\"}}}],\"bar\":[{\"error_x\":{\"color\":\"#2a3f5f\"},\"error_y\":{\"color\":\"#2a3f5f\"},\"marker\":{\"line\":{\"color\":\"#E5ECF6\",\"width\":0.5},\"pattern\":{\"fillmode\":\"overlay\",\"size\":10,\"solidity\":0.2}},\"type\":\"bar\"}],\"scattergeo\":[{\"type\":\"scattergeo\",\"marker\":{\"colorbar\":{\"outlinewidth\":0,\"ticks\":\"\"}}}],\"scatterpolar\":[{\"type\":\"scatterpolar\",\"marker\":{\"colorbar\":{\"outlinewidth\":0,\"ticks\":\"\"}}}],\"histogram\":[{\"marker\":{\"pattern\":{\"fillmode\":\"overlay\",\"size\":10,\"solidity\":0.2}},\"type\":\"histogram\"}],\"scattergl\":[{\"type\":\"scattergl\",\"marker\":{\"colorbar\":{\"outlinewidth\":0,\"ticks\":\"\"}}}],\"scatter3d\":[{\"type\":\"scatter3d\",\"line\":{\"colorbar\":{\"outlinewidth\":0,\"ticks\":\"\"}},\"marker\":{\"colorbar\":{\"outlinewidth\":0,\"ticks\":\"\"}}}],\"scattermapbox\":[{\"type\":\"scattermapbox\",\"marker\":{\"colorbar\":{\"outlinewidth\":0,\"ticks\":\"\"}}}],\"scatterternary\":[{\"type\":\"scatterternary\",\"marker\":{\"colorbar\":{\"outlinewidth\":0,\"ticks\":\"\"}}}],\"scattercarpet\":[{\"type\":\"scattercarpet\",\"marker\":{\"colorbar\":{\"outlinewidth\":0,\"ticks\":\"\"}}}],\"carpet\":[{\"aaxis\":{\"endlinecolor\":\"#2a3f5f\",\"gridcolor\":\"white\",\"linecolor\":\"white\",\"minorgridcolor\":\"white\",\"startlinecolor\":\"#2a3f5f\"},\"baxis\":{\"endlinecolor\":\"#2a3f5f\",\"gridcolor\":\"white\",\"linecolor\":\"white\",\"minorgridcolor\":\"white\",\"startlinecolor\":\"#2a3f5f\"},\"type\":\"carpet\"}],\"table\":[{\"cells\":{\"fill\":{\"color\":\"#EBF0F8\"},\"line\":{\"color\":\"white\"}},\"header\":{\"fill\":{\"color\":\"#C8D4E3\"},\"line\":{\"color\":\"white\"}},\"type\":\"table\"}],\"barpolar\":[{\"marker\":{\"line\":{\"color\":\"#E5ECF6\",\"width\":0.5},\"pattern\":{\"fillmode\":\"overlay\",\"size\":10,\"solidity\":0.2}},\"type\":\"barpolar\"}],\"pie\":[{\"automargin\":true,\"type\":\"pie\"}]},\"layout\":{\"autotypenumbers\":\"strict\",\"colorway\":[\"#636efa\",\"#EF553B\",\"#00cc96\",\"#ab63fa\",\"#FFA15A\",\"#19d3f3\",\"#FF6692\",\"#B6E880\",\"#FF97FF\",\"#FECB52\"],\"font\":{\"color\":\"#2a3f5f\"},\"hovermode\":\"closest\",\"hoverlabel\":{\"align\":\"left\"},\"paper_bgcolor\":\"white\",\"plot_bgcolor\":\"#E5ECF6\",\"polar\":{\"bgcolor\":\"#E5ECF6\",\"angularaxis\":{\"gridcolor\":\"white\",\"linecolor\":\"white\",\"ticks\":\"\"},\"radialaxis\":{\"gridcolor\":\"white\",\"linecolor\":\"white\",\"ticks\":\"\"}},\"ternary\":{\"bgcolor\":\"#E5ECF6\",\"aaxis\":{\"gridcolor\":\"white\",\"linecolor\":\"white\",\"ticks\":\"\"},\"baxis\":{\"gridcolor\":\"white\",\"linecolor\":\"white\",\"ticks\":\"\"},\"caxis\":{\"gridcolor\":\"white\",\"linecolor\":\"white\",\"ticks\":\"\"}},\"coloraxis\":{\"colorbar\":{\"outlinewidth\":0,\"ticks\":\"\"}},\"colorscale\":{\"sequential\":[[0.0,\"#0d0887\"],[0.1111111111111111,\"#46039f\"],[0.2222222222222222,\"#7201a8\"],[0.3333333333333333,\"#9c179e\"],[0.4444444444444444,\"#bd3786\"],[0.5555555555555556,\"#d8576b\"],[0.6666666666666666,\"#ed7953\"],[0.7777777777777778,\"#fb9f3a\"],[0.8888888888888888,\"#fdca26\"],[1.0,\"#f0f921\"]],\"sequentialminus\":[[0.0,\"#0d0887\"],[0.1111111111111111,\"#46039f\"],[0.2222222222222222,\"#7201a8\"],[0.3333333333333333,\"#9c179e\"],[0.4444444444444444,\"#bd3786\"],[0.5555555555555556,\"#d8576b\"],[0.6666666666666666,\"#ed7953\"],[0.7777777777777778,\"#fb9f3a\"],[0.8888888888888888,\"#fdca26\"],[1.0,\"#f0f921\"]],\"diverging\":[[0,\"#8e0152\"],[0.1,\"#c51b7d\"],[0.2,\"#de77ae\"],[0.3,\"#f1b6da\"],[0.4,\"#fde0ef\"],[0.5,\"#f7f7f7\"],[0.6,\"#e6f5d0\"],[0.7,\"#b8e186\"],[0.8,\"#7fbc41\"],[0.9,\"#4d9221\"],[1,\"#276419\"]]},\"xaxis\":{\"gridcolor\":\"white\",\"linecolor\":\"white\",\"ticks\":\"\",\"title\":{\"standoff\":15},\"zerolinecolor\":\"white\",\"automargin\":true,\"zerolinewidth\":2},\"yaxis\":{\"gridcolor\":\"white\",\"linecolor\":\"white\",\"ticks\":\"\",\"title\":{\"standoff\":15},\"zerolinecolor\":\"white\",\"automargin\":true,\"zerolinewidth\":2},\"scene\":{\"xaxis\":{\"backgroundcolor\":\"#E5ECF6\",\"gridcolor\":\"white\",\"linecolor\":\"white\",\"showbackground\":true,\"ticks\":\"\",\"zerolinecolor\":\"white\",\"gridwidth\":2},\"yaxis\":{\"backgroundcolor\":\"#E5ECF6\",\"gridcolor\":\"white\",\"linecolor\":\"white\",\"showbackground\":true,\"ticks\":\"\",\"zerolinecolor\":\"white\",\"gridwidth\":2},\"zaxis\":{\"backgroundcolor\":\"#E5ECF6\",\"gridcolor\":\"white\",\"linecolor\":\"white\",\"showbackground\":true,\"ticks\":\"\",\"zerolinecolor\":\"white\",\"gridwidth\":2}},\"shapedefaults\":{\"line\":{\"color\":\"#2a3f5f\"}},\"annotationdefaults\":{\"arrowcolor\":\"#2a3f5f\",\"arrowhead\":0,\"arrowwidth\":1},\"geo\":{\"bgcolor\":\"white\",\"landcolor\":\"#E5ECF6\",\"subunitcolor\":\"white\",\"showland\":true,\"showlakes\":true,\"lakecolor\":\"white\"},\"title\":{\"x\":0.05},\"mapbox\":{\"style\":\"light\"}}},\"legend\":{\"tracegroupgap\":0},\"title\":{\"text\":\"Men Clothing Market Share in E-Commerce\"}},                        {\"responsive\": true}                    ).then(function(){\n",
       "                            \n",
       "var gd = document.getElementById('d25f6042-fcfc-4328-8815-1ba7e38beb67');\n",
       "var x = new MutationObserver(function (mutations, observer) {{\n",
       "        var display = window.getComputedStyle(gd).display;\n",
       "        if (!display || display === 'none') {{\n",
       "            console.log([gd, 'removed!']);\n",
       "            Plotly.purge(gd);\n",
       "            observer.disconnect();\n",
       "        }}\n",
       "}});\n",
       "\n",
       "// Listen for the removal of the full notebook cells\n",
       "var notebookContainer = gd.closest('#notebook-container');\n",
       "if (notebookContainer) {{\n",
       "    x.observe(notebookContainer, {childList: true});\n",
       "}}\n",
       "\n",
       "// Listen for the clearing of the current output cell\n",
       "var outputEl = gd.closest('.output');\n",
       "if (outputEl) {{\n",
       "    x.observe(outputEl, {childList: true});\n",
       "}}\n",
       "\n",
       "                        })                };                });            </script>        </div>"
      ]
     },
     "metadata": {},
     "output_type": "display_data"
    }
   ],
   "source": [
    "c=px.pie(m2,values=m2.values,names=m2.index,hover_name=m2.index,color=m2.index,title='Men Clothing Market Share in E-Commerce')\n",
    "c.show()"
   ]
  },
  {
   "cell_type": "markdown",
   "id": "3c70542b",
   "metadata": {
    "papermill": {
     "duration": 0.015214,
     "end_time": "2023-03-13T21:02:56.353797",
     "exception": false,
     "start_time": "2023-03-13T21:02:56.338583",
     "status": "completed"
    },
    "tags": []
   },
   "source": [
    "Revolution has the highest SKU available to offer , PUMA ,Another Influence,Adidas Orignals and Jack & Jones have equal no. of products to offer."
   ]
  },
  {
   "cell_type": "markdown",
   "id": "43fb465e",
   "metadata": {
    "papermill": {
     "duration": 0.015322,
     "end_time": "2023-03-13T21:02:56.385375",
     "exception": false,
     "start_time": "2023-03-13T21:02:56.370053",
     "status": "completed"
    },
    "tags": []
   },
   "source": [
    "**Q4. What is the total share of inventory on offer on website for women?**"
   ]
  },
  {
   "cell_type": "code",
   "execution_count": 23,
   "id": "a0d0eb5e",
   "metadata": {
    "execution": {
     "iopub.execute_input": "2023-03-13T21:02:56.418781Z",
     "iopub.status.busy": "2023-03-13T21:02:56.418269Z",
     "iopub.status.idle": "2023-03-13T21:02:56.468944Z",
     "shell.execute_reply": "2023-03-13T21:02:56.467562Z"
    },
    "papermill": {
     "duration": 0.070224,
     "end_time": "2023-03-13T21:02:56.471259",
     "exception": false,
     "start_time": "2023-03-13T21:02:56.401035",
     "status": "completed"
    },
    "tags": []
   },
   "outputs": [
    {
     "data": {
      "text/html": [
       "<div>                            <div id=\"5dea963e-b807-4910-be3a-db0d768da43d\" class=\"plotly-graph-div\" style=\"height:525px; width:100%;\"></div>            <script type=\"text/javascript\">                require([\"plotly\"], function(Plotly) {                    window.PLOTLYENV=window.PLOTLYENV || {};                                    if (document.getElementById(\"5dea963e-b807-4910-be3a-db0d768da43d\")) {                    Plotly.newPlot(                        \"5dea963e-b807-4910-be3a-db0d768da43d\",                        [{\"domain\":{\"x\":[0.0,1.0],\"y\":[0.0,1.0]},\"hovertemplate\":\"<b>%{hovertext}</b><br><br>index=%{label}<br>value=%{value}<extra></extra>\",\"hovertext\":[\"ASOS DESIGN\",\"French Connection\",\"Influence\",\"Dune\",\"Claudia Canova\",\"Truffle Collection Wide Fit\",\"Brave Soul\",\"Lola May\",\"Replay\",\"Beauut\",\"Toms\",\"Parisian\",\"Rebellious Fashion\",\"Waven\",\"adidas Originals\",\"Oskia\",\"Virgos Lounge\",\"LOLA MAY TALL\",\"True Decadence\",\"Frock and Frill\",\"Fiorucci\",\"Ginger Ray\",\"Liquorish\",\"Charles & Keith\",\"Mario Badescu\",\"AX Paris\",\"Glamorous\",\"Miss Selfridge\",\"ASOS Tall\",\"London Rebel\",\"Forever Unique\",\"Flounce London\",\"UNIQUE21\",\"UGG\",\"Love Moschino\",\"Collusion\",\"NaaNaa\"],\"labels\":[\"ASOS DESIGN\",\"French Connection\",\"Influence\",\"Dune\",\"Claudia Canova\",\"Truffle Collection Wide Fit\",\"Brave Soul\",\"Lola May\",\"Replay\",\"Beauut\",\"Toms\",\"Parisian\",\"Rebellious Fashion\",\"Waven\",\"adidas Originals\",\"Oskia\",\"Virgos Lounge\",\"LOLA MAY TALL\",\"True Decadence\",\"Frock and Frill\",\"Fiorucci\",\"Ginger Ray\",\"Liquorish\",\"Charles & Keith\",\"Mario Badescu\",\"AX Paris\",\"Glamorous\",\"Miss Selfridge\",\"ASOS Tall\",\"London Rebel\",\"Forever Unique\",\"Flounce London\",\"UNIQUE21\",\"UGG\",\"Love Moschino\",\"Collusion\",\"NaaNaa\"],\"legendgroup\":\"\",\"name\":\"\",\"showlegend\":true,\"values\":[4848,4848,3030,3030,2424,1818,1212,1212,1212,1212,1212,1212,1212,1212,606,606,606,606,606,606,606,606,606,606,606,606,606,606,606,606,606,606,606,606,606,606,606],\"type\":\"pie\"}],                        {\"template\":{\"data\":{\"histogram2dcontour\":[{\"type\":\"histogram2dcontour\",\"colorbar\":{\"outlinewidth\":0,\"ticks\":\"\"},\"colorscale\":[[0.0,\"#0d0887\"],[0.1111111111111111,\"#46039f\"],[0.2222222222222222,\"#7201a8\"],[0.3333333333333333,\"#9c179e\"],[0.4444444444444444,\"#bd3786\"],[0.5555555555555556,\"#d8576b\"],[0.6666666666666666,\"#ed7953\"],[0.7777777777777778,\"#fb9f3a\"],[0.8888888888888888,\"#fdca26\"],[1.0,\"#f0f921\"]]}],\"choropleth\":[{\"type\":\"choropleth\",\"colorbar\":{\"outlinewidth\":0,\"ticks\":\"\"}}],\"histogram2d\":[{\"type\":\"histogram2d\",\"colorbar\":{\"outlinewidth\":0,\"ticks\":\"\"},\"colorscale\":[[0.0,\"#0d0887\"],[0.1111111111111111,\"#46039f\"],[0.2222222222222222,\"#7201a8\"],[0.3333333333333333,\"#9c179e\"],[0.4444444444444444,\"#bd3786\"],[0.5555555555555556,\"#d8576b\"],[0.6666666666666666,\"#ed7953\"],[0.7777777777777778,\"#fb9f3a\"],[0.8888888888888888,\"#fdca26\"],[1.0,\"#f0f921\"]]}],\"heatmap\":[{\"type\":\"heatmap\",\"colorbar\":{\"outlinewidth\":0,\"ticks\":\"\"},\"colorscale\":[[0.0,\"#0d0887\"],[0.1111111111111111,\"#46039f\"],[0.2222222222222222,\"#7201a8\"],[0.3333333333333333,\"#9c179e\"],[0.4444444444444444,\"#bd3786\"],[0.5555555555555556,\"#d8576b\"],[0.6666666666666666,\"#ed7953\"],[0.7777777777777778,\"#fb9f3a\"],[0.8888888888888888,\"#fdca26\"],[1.0,\"#f0f921\"]]}],\"heatmapgl\":[{\"type\":\"heatmapgl\",\"colorbar\":{\"outlinewidth\":0,\"ticks\":\"\"},\"colorscale\":[[0.0,\"#0d0887\"],[0.1111111111111111,\"#46039f\"],[0.2222222222222222,\"#7201a8\"],[0.3333333333333333,\"#9c179e\"],[0.4444444444444444,\"#bd3786\"],[0.5555555555555556,\"#d8576b\"],[0.6666666666666666,\"#ed7953\"],[0.7777777777777778,\"#fb9f3a\"],[0.8888888888888888,\"#fdca26\"],[1.0,\"#f0f921\"]]}],\"contourcarpet\":[{\"type\":\"contourcarpet\",\"colorbar\":{\"outlinewidth\":0,\"ticks\":\"\"}}],\"contour\":[{\"type\":\"contour\",\"colorbar\":{\"outlinewidth\":0,\"ticks\":\"\"},\"colorscale\":[[0.0,\"#0d0887\"],[0.1111111111111111,\"#46039f\"],[0.2222222222222222,\"#7201a8\"],[0.3333333333333333,\"#9c179e\"],[0.4444444444444444,\"#bd3786\"],[0.5555555555555556,\"#d8576b\"],[0.6666666666666666,\"#ed7953\"],[0.7777777777777778,\"#fb9f3a\"],[0.8888888888888888,\"#fdca26\"],[1.0,\"#f0f921\"]]}],\"surface\":[{\"type\":\"surface\",\"colorbar\":{\"outlinewidth\":0,\"ticks\":\"\"},\"colorscale\":[[0.0,\"#0d0887\"],[0.1111111111111111,\"#46039f\"],[0.2222222222222222,\"#7201a8\"],[0.3333333333333333,\"#9c179e\"],[0.4444444444444444,\"#bd3786\"],[0.5555555555555556,\"#d8576b\"],[0.6666666666666666,\"#ed7953\"],[0.7777777777777778,\"#fb9f3a\"],[0.8888888888888888,\"#fdca26\"],[1.0,\"#f0f921\"]]}],\"mesh3d\":[{\"type\":\"mesh3d\",\"colorbar\":{\"outlinewidth\":0,\"ticks\":\"\"}}],\"scatter\":[{\"fillpattern\":{\"fillmode\":\"overlay\",\"size\":10,\"solidity\":0.2},\"type\":\"scatter\"}],\"parcoords\":[{\"type\":\"parcoords\",\"line\":{\"colorbar\":{\"outlinewidth\":0,\"ticks\":\"\"}}}],\"scatterpolargl\":[{\"type\":\"scatterpolargl\",\"marker\":{\"colorbar\":{\"outlinewidth\":0,\"ticks\":\"\"}}}],\"bar\":[{\"error_x\":{\"color\":\"#2a3f5f\"},\"error_y\":{\"color\":\"#2a3f5f\"},\"marker\":{\"line\":{\"color\":\"#E5ECF6\",\"width\":0.5},\"pattern\":{\"fillmode\":\"overlay\",\"size\":10,\"solidity\":0.2}},\"type\":\"bar\"}],\"scattergeo\":[{\"type\":\"scattergeo\",\"marker\":{\"colorbar\":{\"outlinewidth\":0,\"ticks\":\"\"}}}],\"scatterpolar\":[{\"type\":\"scatterpolar\",\"marker\":{\"colorbar\":{\"outlinewidth\":0,\"ticks\":\"\"}}}],\"histogram\":[{\"marker\":{\"pattern\":{\"fillmode\":\"overlay\",\"size\":10,\"solidity\":0.2}},\"type\":\"histogram\"}],\"scattergl\":[{\"type\":\"scattergl\",\"marker\":{\"colorbar\":{\"outlinewidth\":0,\"ticks\":\"\"}}}],\"scatter3d\":[{\"type\":\"scatter3d\",\"line\":{\"colorbar\":{\"outlinewidth\":0,\"ticks\":\"\"}},\"marker\":{\"colorbar\":{\"outlinewidth\":0,\"ticks\":\"\"}}}],\"scattermapbox\":[{\"type\":\"scattermapbox\",\"marker\":{\"colorbar\":{\"outlinewidth\":0,\"ticks\":\"\"}}}],\"scatterternary\":[{\"type\":\"scatterternary\",\"marker\":{\"colorbar\":{\"outlinewidth\":0,\"ticks\":\"\"}}}],\"scattercarpet\":[{\"type\":\"scattercarpet\",\"marker\":{\"colorbar\":{\"outlinewidth\":0,\"ticks\":\"\"}}}],\"carpet\":[{\"aaxis\":{\"endlinecolor\":\"#2a3f5f\",\"gridcolor\":\"white\",\"linecolor\":\"white\",\"minorgridcolor\":\"white\",\"startlinecolor\":\"#2a3f5f\"},\"baxis\":{\"endlinecolor\":\"#2a3f5f\",\"gridcolor\":\"white\",\"linecolor\":\"white\",\"minorgridcolor\":\"white\",\"startlinecolor\":\"#2a3f5f\"},\"type\":\"carpet\"}],\"table\":[{\"cells\":{\"fill\":{\"color\":\"#EBF0F8\"},\"line\":{\"color\":\"white\"}},\"header\":{\"fill\":{\"color\":\"#C8D4E3\"},\"line\":{\"color\":\"white\"}},\"type\":\"table\"}],\"barpolar\":[{\"marker\":{\"line\":{\"color\":\"#E5ECF6\",\"width\":0.5},\"pattern\":{\"fillmode\":\"overlay\",\"size\":10,\"solidity\":0.2}},\"type\":\"barpolar\"}],\"pie\":[{\"automargin\":true,\"type\":\"pie\"}]},\"layout\":{\"autotypenumbers\":\"strict\",\"colorway\":[\"#636efa\",\"#EF553B\",\"#00cc96\",\"#ab63fa\",\"#FFA15A\",\"#19d3f3\",\"#FF6692\",\"#B6E880\",\"#FF97FF\",\"#FECB52\"],\"font\":{\"color\":\"#2a3f5f\"},\"hovermode\":\"closest\",\"hoverlabel\":{\"align\":\"left\"},\"paper_bgcolor\":\"white\",\"plot_bgcolor\":\"#E5ECF6\",\"polar\":{\"bgcolor\":\"#E5ECF6\",\"angularaxis\":{\"gridcolor\":\"white\",\"linecolor\":\"white\",\"ticks\":\"\"},\"radialaxis\":{\"gridcolor\":\"white\",\"linecolor\":\"white\",\"ticks\":\"\"}},\"ternary\":{\"bgcolor\":\"#E5ECF6\",\"aaxis\":{\"gridcolor\":\"white\",\"linecolor\":\"white\",\"ticks\":\"\"},\"baxis\":{\"gridcolor\":\"white\",\"linecolor\":\"white\",\"ticks\":\"\"},\"caxis\":{\"gridcolor\":\"white\",\"linecolor\":\"white\",\"ticks\":\"\"}},\"coloraxis\":{\"colorbar\":{\"outlinewidth\":0,\"ticks\":\"\"}},\"colorscale\":{\"sequential\":[[0.0,\"#0d0887\"],[0.1111111111111111,\"#46039f\"],[0.2222222222222222,\"#7201a8\"],[0.3333333333333333,\"#9c179e\"],[0.4444444444444444,\"#bd3786\"],[0.5555555555555556,\"#d8576b\"],[0.6666666666666666,\"#ed7953\"],[0.7777777777777778,\"#fb9f3a\"],[0.8888888888888888,\"#fdca26\"],[1.0,\"#f0f921\"]],\"sequentialminus\":[[0.0,\"#0d0887\"],[0.1111111111111111,\"#46039f\"],[0.2222222222222222,\"#7201a8\"],[0.3333333333333333,\"#9c179e\"],[0.4444444444444444,\"#bd3786\"],[0.5555555555555556,\"#d8576b\"],[0.6666666666666666,\"#ed7953\"],[0.7777777777777778,\"#fb9f3a\"],[0.8888888888888888,\"#fdca26\"],[1.0,\"#f0f921\"]],\"diverging\":[[0,\"#8e0152\"],[0.1,\"#c51b7d\"],[0.2,\"#de77ae\"],[0.3,\"#f1b6da\"],[0.4,\"#fde0ef\"],[0.5,\"#f7f7f7\"],[0.6,\"#e6f5d0\"],[0.7,\"#b8e186\"],[0.8,\"#7fbc41\"],[0.9,\"#4d9221\"],[1,\"#276419\"]]},\"xaxis\":{\"gridcolor\":\"white\",\"linecolor\":\"white\",\"ticks\":\"\",\"title\":{\"standoff\":15},\"zerolinecolor\":\"white\",\"automargin\":true,\"zerolinewidth\":2},\"yaxis\":{\"gridcolor\":\"white\",\"linecolor\":\"white\",\"ticks\":\"\",\"title\":{\"standoff\":15},\"zerolinecolor\":\"white\",\"automargin\":true,\"zerolinewidth\":2},\"scene\":{\"xaxis\":{\"backgroundcolor\":\"#E5ECF6\",\"gridcolor\":\"white\",\"linecolor\":\"white\",\"showbackground\":true,\"ticks\":\"\",\"zerolinecolor\":\"white\",\"gridwidth\":2},\"yaxis\":{\"backgroundcolor\":\"#E5ECF6\",\"gridcolor\":\"white\",\"linecolor\":\"white\",\"showbackground\":true,\"ticks\":\"\",\"zerolinecolor\":\"white\",\"gridwidth\":2},\"zaxis\":{\"backgroundcolor\":\"#E5ECF6\",\"gridcolor\":\"white\",\"linecolor\":\"white\",\"showbackground\":true,\"ticks\":\"\",\"zerolinecolor\":\"white\",\"gridwidth\":2}},\"shapedefaults\":{\"line\":{\"color\":\"#2a3f5f\"}},\"annotationdefaults\":{\"arrowcolor\":\"#2a3f5f\",\"arrowhead\":0,\"arrowwidth\":1},\"geo\":{\"bgcolor\":\"white\",\"landcolor\":\"#E5ECF6\",\"subunitcolor\":\"white\",\"showland\":true,\"showlakes\":true,\"lakecolor\":\"white\"},\"title\":{\"x\":0.05},\"mapbox\":{\"style\":\"light\"}}},\"legend\":{\"tracegroupgap\":0},\"title\":{\"text\":\"Women Clothing Market Share in E-Commerce\"}},                        {\"responsive\": true}                    ).then(function(){\n",
       "                            \n",
       "var gd = document.getElementById('5dea963e-b807-4910-be3a-db0d768da43d');\n",
       "var x = new MutationObserver(function (mutations, observer) {{\n",
       "        var display = window.getComputedStyle(gd).display;\n",
       "        if (!display || display === 'none') {{\n",
       "            console.log([gd, 'removed!']);\n",
       "            Plotly.purge(gd);\n",
       "            observer.disconnect();\n",
       "        }}\n",
       "}});\n",
       "\n",
       "// Listen for the removal of the full notebook cells\n",
       "var notebookContainer = gd.closest('#notebook-container');\n",
       "if (notebookContainer) {{\n",
       "    x.observe(notebookContainer, {childList: true});\n",
       "}}\n",
       "\n",
       "// Listen for the clearing of the current output cell\n",
       "var outputEl = gd.closest('.output');\n",
       "if (outputEl) {{\n",
       "    x.observe(outputEl, {childList: true});\n",
       "}}\n",
       "\n",
       "                        })                };                });            </script>        </div>"
      ]
     },
     "metadata": {},
     "output_type": "display_data"
    }
   ],
   "source": [
    "o=px.pie(w2,values=w2.values,names=w2.index,hover_name=w2.index,title='Women Clothing Market Share in E-Commerce')\n",
    "o.show()"
   ]
  },
  {
   "cell_type": "markdown",
   "id": "eaab53e2",
   "metadata": {
    "papermill": {
     "duration": 0.015459,
     "end_time": "2023-03-13T21:02:56.502723",
     "exception": false,
     "start_time": "2023-03-13T21:02:56.487264",
     "status": "completed"
    },
    "tags": []
   },
   "source": [
    "ASOS Design and French Connection is offering the most no. of products on the website."
   ]
  },
  {
   "cell_type": "markdown",
   "id": "b61faebd",
   "metadata": {
    "papermill": {
     "duration": 0.016088,
     "end_time": "2023-03-13T21:02:56.534677",
     "exception": false,
     "start_time": "2023-03-13T21:02:56.518589",
     "status": "completed"
    },
    "tags": []
   },
   "source": [
    "We have used concat to make a single DataFrame from two diffrent tables and added an identifier for them to recognize which row is from what table."
   ]
  },
  {
   "cell_type": "code",
   "execution_count": 24,
   "id": "4e690d6e",
   "metadata": {
    "execution": {
     "iopub.execute_input": "2023-03-13T21:02:56.577144Z",
     "iopub.status.busy": "2023-03-13T21:02:56.576519Z",
     "iopub.status.idle": "2023-03-13T21:02:56.606180Z",
     "shell.execute_reply": "2023-03-13T21:02:56.605090Z"
    },
    "papermill": {
     "duration": 0.058294,
     "end_time": "2023-03-13T21:02:56.609034",
     "exception": false,
     "start_time": "2023-03-13T21:02:56.550740",
     "status": "completed"
    },
    "tags": []
   },
   "outputs": [],
   "source": [
    "al1=pd.concat([men,women],keys=[\"Men\",\"Women\"])\n",
    "al1.reset_index(inplace=True)"
   ]
  },
  {
   "cell_type": "markdown",
   "id": "51a48a3d",
   "metadata": {
    "papermill": {
     "duration": 0.016183,
     "end_time": "2023-03-13T21:02:56.641373",
     "exception": false,
     "start_time": "2023-03-13T21:02:56.625190",
     "status": "completed"
    },
    "tags": []
   },
   "source": [
    "Renaming the Level_0 which indicates what table the data is from."
   ]
  },
  {
   "cell_type": "code",
   "execution_count": 25,
   "id": "0dfc118c",
   "metadata": {
    "execution": {
     "iopub.execute_input": "2023-03-13T21:02:56.677784Z",
     "iopub.status.busy": "2023-03-13T21:02:56.676749Z",
     "iopub.status.idle": "2023-03-13T21:02:56.702675Z",
     "shell.execute_reply": "2023-03-13T21:02:56.701483Z"
    },
    "papermill": {
     "duration": 0.046721,
     "end_time": "2023-03-13T21:02:56.705449",
     "exception": false,
     "start_time": "2023-03-13T21:02:56.658728",
     "status": "completed"
    },
    "tags": []
   },
   "outputs": [
    {
     "data": {
      "text/html": [
       "<div>\n",
       "<style scoped>\n",
       "    .dataframe tbody tr th:only-of-type {\n",
       "        vertical-align: middle;\n",
       "    }\n",
       "\n",
       "    .dataframe tbody tr th {\n",
       "        vertical-align: top;\n",
       "    }\n",
       "\n",
       "    .dataframe thead th {\n",
       "        text-align: right;\n",
       "    }\n",
       "</style>\n",
       "<table border=\"1\" class=\"dataframe\">\n",
       "  <thead>\n",
       "    <tr style=\"text-align: right;\">\n",
       "      <th></th>\n",
       "      <th>For</th>\n",
       "      <th>level_1</th>\n",
       "      <th>product_id</th>\n",
       "      <th>brand_name</th>\n",
       "      <th>title</th>\n",
       "      <th>current_price</th>\n",
       "      <th>previous_price</th>\n",
       "      <th>currency</th>\n",
       "      <th>rrp</th>\n",
       "      <th>productCode</th>\n",
       "      <th>productType</th>\n",
       "      <th>Discount %</th>\n",
       "    </tr>\n",
       "  </thead>\n",
       "  <tbody>\n",
       "    <tr>\n",
       "      <th>0</th>\n",
       "      <td>Men</td>\n",
       "      <td>0</td>\n",
       "      <td>204499665</td>\n",
       "      <td>Replay</td>\n",
       "      <td>Replay t-shirt in white</td>\n",
       "      <td>72.00</td>\n",
       "      <td>NaN</td>\n",
       "      <td>USD</td>\n",
       "      <td>100.00</td>\n",
       "      <td>127434315</td>\n",
       "      <td>Product</td>\n",
       "      <td>28.00</td>\n",
       "    </tr>\n",
       "    <tr>\n",
       "      <th>1</th>\n",
       "      <td>Men</td>\n",
       "      <td>1</td>\n",
       "      <td>203420859</td>\n",
       "      <td>Jack &amp; Jones</td>\n",
       "      <td>Jack &amp; Jones script logo t-shirt in white</td>\n",
       "      <td>17.00</td>\n",
       "      <td>NaN</td>\n",
       "      <td>USD</td>\n",
       "      <td>21.00</td>\n",
       "      <td>121133019</td>\n",
       "      <td>Product</td>\n",
       "      <td>4.00</td>\n",
       "    </tr>\n",
       "    <tr>\n",
       "      <th>2</th>\n",
       "      <td>Men</td>\n",
       "      <td>2</td>\n",
       "      <td>204285229</td>\n",
       "      <td>Jack &amp; Jones</td>\n",
       "      <td>Jack &amp; Jones logo polo in pale green</td>\n",
       "      <td>34.00</td>\n",
       "      <td>NaN</td>\n",
       "      <td>USD</td>\n",
       "      <td>43.00</td>\n",
       "      <td>126403589</td>\n",
       "      <td>Product</td>\n",
       "      <td>9.00</td>\n",
       "    </tr>\n",
       "    <tr>\n",
       "      <th>3</th>\n",
       "      <td>Men</td>\n",
       "      <td>3</td>\n",
       "      <td>202261918</td>\n",
       "      <td>Don't Think Twice</td>\n",
       "      <td>DTT denim board shorts in light blue</td>\n",
       "      <td>31.00</td>\n",
       "      <td>NaN</td>\n",
       "      <td>USD</td>\n",
       "      <td>42.00</td>\n",
       "      <td>116069818</td>\n",
       "      <td>Product</td>\n",
       "      <td>11.00</td>\n",
       "    </tr>\n",
       "    <tr>\n",
       "      <th>4</th>\n",
       "      <td>Men</td>\n",
       "      <td>4</td>\n",
       "      <td>202191610</td>\n",
       "      <td>Another Influence</td>\n",
       "      <td>Another Influence towelling shorts co-ord in m...</td>\n",
       "      <td>23.00</td>\n",
       "      <td>NaN</td>\n",
       "      <td>USD</td>\n",
       "      <td>48.00</td>\n",
       "      <td>115976447</td>\n",
       "      <td>Product</td>\n",
       "      <td>25.00</td>\n",
       "    </tr>\n",
       "    <tr>\n",
       "      <th>...</th>\n",
       "      <td>...</td>\n",
       "      <td>...</td>\n",
       "      <td>...</td>\n",
       "      <td>...</td>\n",
       "      <td>...</td>\n",
       "      <td>...</td>\n",
       "      <td>...</td>\n",
       "      <td>...</td>\n",
       "      <td>...</td>\n",
       "      <td>...</td>\n",
       "      <td>...</td>\n",
       "      <td>...</td>\n",
       "    </tr>\n",
       "    <tr>\n",
       "      <th>61195</th>\n",
       "      <td>Women</td>\n",
       "      <td>43627</td>\n",
       "      <td>203652134</td>\n",
       "      <td>Dune</td>\n",
       "      <td>Dune jacquard logo cross body bag in brown</td>\n",
       "      <td>53.69</td>\n",
       "      <td>66.32</td>\n",
       "      <td>USD</td>\n",
       "      <td>108.96</td>\n",
       "      <td>121950307</td>\n",
       "      <td>Product</td>\n",
       "      <td>55.27</td>\n",
       "    </tr>\n",
       "    <tr>\n",
       "      <th>61196</th>\n",
       "      <td>Women</td>\n",
       "      <td>43628</td>\n",
       "      <td>203778655</td>\n",
       "      <td>Dune</td>\n",
       "      <td>Dune cosmetics bag gift set in tan monogram</td>\n",
       "      <td>47.37</td>\n",
       "      <td>58.43</td>\n",
       "      <td>USD</td>\n",
       "      <td>91.59</td>\n",
       "      <td>122836149</td>\n",
       "      <td>Product</td>\n",
       "      <td>44.22</td>\n",
       "    </tr>\n",
       "    <tr>\n",
       "      <th>61197</th>\n",
       "      <td>Women</td>\n",
       "      <td>43629</td>\n",
       "      <td>203202947</td>\n",
       "      <td>NaaNaa</td>\n",
       "      <td>NaaNaa yellow mini dress with cut out detail a...</td>\n",
       "      <td>48.00</td>\n",
       "      <td>NaN</td>\n",
       "      <td>USD</td>\n",
       "      <td>78.00</td>\n",
       "      <td>120046949</td>\n",
       "      <td>Product</td>\n",
       "      <td>30.00</td>\n",
       "    </tr>\n",
       "    <tr>\n",
       "      <th>61198</th>\n",
       "      <td>Women</td>\n",
       "      <td>43630</td>\n",
       "      <td>204060148</td>\n",
       "      <td>Brave Soul</td>\n",
       "      <td>Brave Soul strappy back swimsuit in navy</td>\n",
       "      <td>27.00</td>\n",
       "      <td>NaN</td>\n",
       "      <td>USD</td>\n",
       "      <td>53.00</td>\n",
       "      <td>124523798</td>\n",
       "      <td>Product</td>\n",
       "      <td>26.00</td>\n",
       "    </tr>\n",
       "    <tr>\n",
       "      <th>61199</th>\n",
       "      <td>Women</td>\n",
       "      <td>43631</td>\n",
       "      <td>204347411</td>\n",
       "      <td>French Connection</td>\n",
       "      <td>French Connection triangle bikini top in pink ...</td>\n",
       "      <td>31.00</td>\n",
       "      <td>NaN</td>\n",
       "      <td>USD</td>\n",
       "      <td>51.00</td>\n",
       "      <td>126673897</td>\n",
       "      <td>MixMatchProduct</td>\n",
       "      <td>20.00</td>\n",
       "    </tr>\n",
       "  </tbody>\n",
       "</table>\n",
       "<p>61200 rows × 12 columns</p>\n",
       "</div>"
      ],
      "text/plain": [
       "         For  level_1  product_id         brand_name  \\\n",
       "0        Men        0   204499665             Replay   \n",
       "1        Men        1   203420859       Jack & Jones   \n",
       "2        Men        2   204285229       Jack & Jones   \n",
       "3        Men        3   202261918  Don't Think Twice   \n",
       "4        Men        4   202191610  Another Influence   \n",
       "...      ...      ...         ...                ...   \n",
       "61195  Women    43627   203652134               Dune   \n",
       "61196  Women    43628   203778655               Dune   \n",
       "61197  Women    43629   203202947             NaaNaa   \n",
       "61198  Women    43630   204060148         Brave Soul   \n",
       "61199  Women    43631   204347411  French Connection   \n",
       "\n",
       "                                                   title  current_price  \\\n",
       "0                                Replay t-shirt in white          72.00   \n",
       "1              Jack & Jones script logo t-shirt in white          17.00   \n",
       "2                   Jack & Jones logo polo in pale green          34.00   \n",
       "3                   DTT denim board shorts in light blue          31.00   \n",
       "4      Another Influence towelling shorts co-ord in m...          23.00   \n",
       "...                                                  ...            ...   \n",
       "61195         Dune jacquard logo cross body bag in brown          53.69   \n",
       "61196        Dune cosmetics bag gift set in tan monogram          47.37   \n",
       "61197  NaaNaa yellow mini dress with cut out detail a...          48.00   \n",
       "61198           Brave Soul strappy back swimsuit in navy          27.00   \n",
       "61199  French Connection triangle bikini top in pink ...          31.00   \n",
       "\n",
       "       previous_price currency     rrp  productCode      productType  \\\n",
       "0                 NaN      USD  100.00    127434315          Product   \n",
       "1                 NaN      USD   21.00    121133019          Product   \n",
       "2                 NaN      USD   43.00    126403589          Product   \n",
       "3                 NaN      USD   42.00    116069818          Product   \n",
       "4                 NaN      USD   48.00    115976447          Product   \n",
       "...               ...      ...     ...          ...              ...   \n",
       "61195           66.32      USD  108.96    121950307          Product   \n",
       "61196           58.43      USD   91.59    122836149          Product   \n",
       "61197             NaN      USD   78.00    120046949          Product   \n",
       "61198             NaN      USD   53.00    124523798          Product   \n",
       "61199             NaN      USD   51.00    126673897  MixMatchProduct   \n",
       "\n",
       "       Discount %  \n",
       "0           28.00  \n",
       "1            4.00  \n",
       "2            9.00  \n",
       "3           11.00  \n",
       "4           25.00  \n",
       "...           ...  \n",
       "61195       55.27  \n",
       "61196       44.22  \n",
       "61197       30.00  \n",
       "61198       26.00  \n",
       "61199       20.00  \n",
       "\n",
       "[61200 rows x 12 columns]"
      ]
     },
     "execution_count": 25,
     "metadata": {},
     "output_type": "execute_result"
    }
   ],
   "source": [
    "al1.rename(columns={'level_0':'For'},inplace=True)\n",
    "al1"
   ]
  },
  {
   "cell_type": "markdown",
   "id": "5e03e6c9",
   "metadata": {
    "papermill": {
     "duration": 0.016462,
     "end_time": "2023-03-13T21:02:56.739263",
     "exception": false,
     "start_time": "2023-03-13T21:02:56.722801",
     "status": "completed"
    },
    "tags": []
   },
   "source": [
    "Drop function is used to drop unesecarry column."
   ]
  },
  {
   "cell_type": "code",
   "execution_count": 26,
   "id": "38eca6cc",
   "metadata": {
    "execution": {
     "iopub.execute_input": "2023-03-13T21:02:56.774884Z",
     "iopub.status.busy": "2023-03-13T21:02:56.774416Z",
     "iopub.status.idle": "2023-03-13T21:02:56.823490Z",
     "shell.execute_reply": "2023-03-13T21:02:56.821831Z"
    },
    "papermill": {
     "duration": 0.070588,
     "end_time": "2023-03-13T21:02:56.826459",
     "exception": false,
     "start_time": "2023-03-13T21:02:56.755871",
     "status": "completed"
    },
    "tags": []
   },
   "outputs": [
    {
     "data": {
      "text/html": [
       "<div>\n",
       "<style scoped>\n",
       "    .dataframe tbody tr th:only-of-type {\n",
       "        vertical-align: middle;\n",
       "    }\n",
       "\n",
       "    .dataframe tbody tr th {\n",
       "        vertical-align: top;\n",
       "    }\n",
       "\n",
       "    .dataframe thead th {\n",
       "        text-align: right;\n",
       "    }\n",
       "</style>\n",
       "<table border=\"1\" class=\"dataframe\">\n",
       "  <thead>\n",
       "    <tr style=\"text-align: right;\">\n",
       "      <th></th>\n",
       "      <th>For</th>\n",
       "      <th>product_id</th>\n",
       "      <th>brand_name</th>\n",
       "      <th>title</th>\n",
       "      <th>current_price</th>\n",
       "      <th>previous_price</th>\n",
       "      <th>currency</th>\n",
       "      <th>rrp</th>\n",
       "      <th>productCode</th>\n",
       "      <th>productType</th>\n",
       "      <th>Discount %</th>\n",
       "    </tr>\n",
       "  </thead>\n",
       "  <tbody>\n",
       "    <tr>\n",
       "      <th>0</th>\n",
       "      <td>Men</td>\n",
       "      <td>204499665</td>\n",
       "      <td>Replay</td>\n",
       "      <td>Replay t-shirt in white</td>\n",
       "      <td>72.00</td>\n",
       "      <td>NaN</td>\n",
       "      <td>USD</td>\n",
       "      <td>100.00</td>\n",
       "      <td>127434315</td>\n",
       "      <td>Product</td>\n",
       "      <td>28.00</td>\n",
       "    </tr>\n",
       "    <tr>\n",
       "      <th>1</th>\n",
       "      <td>Men</td>\n",
       "      <td>203420859</td>\n",
       "      <td>Jack &amp; Jones</td>\n",
       "      <td>Jack &amp; Jones script logo t-shirt in white</td>\n",
       "      <td>17.00</td>\n",
       "      <td>NaN</td>\n",
       "      <td>USD</td>\n",
       "      <td>21.00</td>\n",
       "      <td>121133019</td>\n",
       "      <td>Product</td>\n",
       "      <td>4.00</td>\n",
       "    </tr>\n",
       "    <tr>\n",
       "      <th>2</th>\n",
       "      <td>Men</td>\n",
       "      <td>204285229</td>\n",
       "      <td>Jack &amp; Jones</td>\n",
       "      <td>Jack &amp; Jones logo polo in pale green</td>\n",
       "      <td>34.00</td>\n",
       "      <td>NaN</td>\n",
       "      <td>USD</td>\n",
       "      <td>43.00</td>\n",
       "      <td>126403589</td>\n",
       "      <td>Product</td>\n",
       "      <td>9.00</td>\n",
       "    </tr>\n",
       "    <tr>\n",
       "      <th>3</th>\n",
       "      <td>Men</td>\n",
       "      <td>202261918</td>\n",
       "      <td>Don't Think Twice</td>\n",
       "      <td>DTT denim board shorts in light blue</td>\n",
       "      <td>31.00</td>\n",
       "      <td>NaN</td>\n",
       "      <td>USD</td>\n",
       "      <td>42.00</td>\n",
       "      <td>116069818</td>\n",
       "      <td>Product</td>\n",
       "      <td>11.00</td>\n",
       "    </tr>\n",
       "    <tr>\n",
       "      <th>4</th>\n",
       "      <td>Men</td>\n",
       "      <td>202191610</td>\n",
       "      <td>Another Influence</td>\n",
       "      <td>Another Influence towelling shorts co-ord in m...</td>\n",
       "      <td>23.00</td>\n",
       "      <td>NaN</td>\n",
       "      <td>USD</td>\n",
       "      <td>48.00</td>\n",
       "      <td>115976447</td>\n",
       "      <td>Product</td>\n",
       "      <td>25.00</td>\n",
       "    </tr>\n",
       "    <tr>\n",
       "      <th>...</th>\n",
       "      <td>...</td>\n",
       "      <td>...</td>\n",
       "      <td>...</td>\n",
       "      <td>...</td>\n",
       "      <td>...</td>\n",
       "      <td>...</td>\n",
       "      <td>...</td>\n",
       "      <td>...</td>\n",
       "      <td>...</td>\n",
       "      <td>...</td>\n",
       "      <td>...</td>\n",
       "    </tr>\n",
       "    <tr>\n",
       "      <th>61195</th>\n",
       "      <td>Women</td>\n",
       "      <td>203652134</td>\n",
       "      <td>Dune</td>\n",
       "      <td>Dune jacquard logo cross body bag in brown</td>\n",
       "      <td>53.69</td>\n",
       "      <td>66.32</td>\n",
       "      <td>USD</td>\n",
       "      <td>108.96</td>\n",
       "      <td>121950307</td>\n",
       "      <td>Product</td>\n",
       "      <td>55.27</td>\n",
       "    </tr>\n",
       "    <tr>\n",
       "      <th>61196</th>\n",
       "      <td>Women</td>\n",
       "      <td>203778655</td>\n",
       "      <td>Dune</td>\n",
       "      <td>Dune cosmetics bag gift set in tan monogram</td>\n",
       "      <td>47.37</td>\n",
       "      <td>58.43</td>\n",
       "      <td>USD</td>\n",
       "      <td>91.59</td>\n",
       "      <td>122836149</td>\n",
       "      <td>Product</td>\n",
       "      <td>44.22</td>\n",
       "    </tr>\n",
       "    <tr>\n",
       "      <th>61197</th>\n",
       "      <td>Women</td>\n",
       "      <td>203202947</td>\n",
       "      <td>NaaNaa</td>\n",
       "      <td>NaaNaa yellow mini dress with cut out detail a...</td>\n",
       "      <td>48.00</td>\n",
       "      <td>NaN</td>\n",
       "      <td>USD</td>\n",
       "      <td>78.00</td>\n",
       "      <td>120046949</td>\n",
       "      <td>Product</td>\n",
       "      <td>30.00</td>\n",
       "    </tr>\n",
       "    <tr>\n",
       "      <th>61198</th>\n",
       "      <td>Women</td>\n",
       "      <td>204060148</td>\n",
       "      <td>Brave Soul</td>\n",
       "      <td>Brave Soul strappy back swimsuit in navy</td>\n",
       "      <td>27.00</td>\n",
       "      <td>NaN</td>\n",
       "      <td>USD</td>\n",
       "      <td>53.00</td>\n",
       "      <td>124523798</td>\n",
       "      <td>Product</td>\n",
       "      <td>26.00</td>\n",
       "    </tr>\n",
       "    <tr>\n",
       "      <th>61199</th>\n",
       "      <td>Women</td>\n",
       "      <td>204347411</td>\n",
       "      <td>French Connection</td>\n",
       "      <td>French Connection triangle bikini top in pink ...</td>\n",
       "      <td>31.00</td>\n",
       "      <td>NaN</td>\n",
       "      <td>USD</td>\n",
       "      <td>51.00</td>\n",
       "      <td>126673897</td>\n",
       "      <td>MixMatchProduct</td>\n",
       "      <td>20.00</td>\n",
       "    </tr>\n",
       "  </tbody>\n",
       "</table>\n",
       "<p>61200 rows × 11 columns</p>\n",
       "</div>"
      ],
      "text/plain": [
       "         For  product_id         brand_name  \\\n",
       "0        Men   204499665             Replay   \n",
       "1        Men   203420859       Jack & Jones   \n",
       "2        Men   204285229       Jack & Jones   \n",
       "3        Men   202261918  Don't Think Twice   \n",
       "4        Men   202191610  Another Influence   \n",
       "...      ...         ...                ...   \n",
       "61195  Women   203652134               Dune   \n",
       "61196  Women   203778655               Dune   \n",
       "61197  Women   203202947             NaaNaa   \n",
       "61198  Women   204060148         Brave Soul   \n",
       "61199  Women   204347411  French Connection   \n",
       "\n",
       "                                                   title  current_price  \\\n",
       "0                                Replay t-shirt in white          72.00   \n",
       "1              Jack & Jones script logo t-shirt in white          17.00   \n",
       "2                   Jack & Jones logo polo in pale green          34.00   \n",
       "3                   DTT denim board shorts in light blue          31.00   \n",
       "4      Another Influence towelling shorts co-ord in m...          23.00   \n",
       "...                                                  ...            ...   \n",
       "61195         Dune jacquard logo cross body bag in brown          53.69   \n",
       "61196        Dune cosmetics bag gift set in tan monogram          47.37   \n",
       "61197  NaaNaa yellow mini dress with cut out detail a...          48.00   \n",
       "61198           Brave Soul strappy back swimsuit in navy          27.00   \n",
       "61199  French Connection triangle bikini top in pink ...          31.00   \n",
       "\n",
       "       previous_price currency     rrp  productCode      productType  \\\n",
       "0                 NaN      USD  100.00    127434315          Product   \n",
       "1                 NaN      USD   21.00    121133019          Product   \n",
       "2                 NaN      USD   43.00    126403589          Product   \n",
       "3                 NaN      USD   42.00    116069818          Product   \n",
       "4                 NaN      USD   48.00    115976447          Product   \n",
       "...               ...      ...     ...          ...              ...   \n",
       "61195           66.32      USD  108.96    121950307          Product   \n",
       "61196           58.43      USD   91.59    122836149          Product   \n",
       "61197             NaN      USD   78.00    120046949          Product   \n",
       "61198             NaN      USD   53.00    124523798          Product   \n",
       "61199             NaN      USD   51.00    126673897  MixMatchProduct   \n",
       "\n",
       "       Discount %  \n",
       "0           28.00  \n",
       "1            4.00  \n",
       "2            9.00  \n",
       "3           11.00  \n",
       "4           25.00  \n",
       "...           ...  \n",
       "61195       55.27  \n",
       "61196       44.22  \n",
       "61197       30.00  \n",
       "61198       26.00  \n",
       "61199       20.00  \n",
       "\n",
       "[61200 rows x 11 columns]"
      ]
     },
     "execution_count": 26,
     "metadata": {},
     "output_type": "execute_result"
    }
   ],
   "source": [
    "al1.drop('level_1',axis=1,inplace=True)\n",
    "al1"
   ]
  },
  {
   "cell_type": "code",
   "execution_count": 27,
   "id": "1b5df47c",
   "metadata": {
    "execution": {
     "iopub.execute_input": "2023-03-13T21:02:56.865077Z",
     "iopub.status.busy": "2023-03-13T21:02:56.864595Z",
     "iopub.status.idle": "2023-03-13T21:02:56.891557Z",
     "shell.execute_reply": "2023-03-13T21:02:56.890698Z"
    },
    "papermill": {
     "duration": 0.049297,
     "end_time": "2023-03-13T21:02:56.895155",
     "exception": false,
     "start_time": "2023-03-13T21:02:56.845858",
     "status": "completed"
    },
    "tags": []
   },
   "outputs": [
    {
     "data": {
      "text/html": [
       "<div>\n",
       "<style scoped>\n",
       "    .dataframe tbody tr th:only-of-type {\n",
       "        vertical-align: middle;\n",
       "    }\n",
       "\n",
       "    .dataframe tbody tr th {\n",
       "        vertical-align: top;\n",
       "    }\n",
       "\n",
       "    .dataframe thead th {\n",
       "        text-align: right;\n",
       "    }\n",
       "</style>\n",
       "<table border=\"1\" class=\"dataframe\">\n",
       "  <thead>\n",
       "    <tr style=\"text-align: right;\">\n",
       "      <th></th>\n",
       "      <th>For</th>\n",
       "      <th>product_id</th>\n",
       "      <th>brand_name</th>\n",
       "      <th>title</th>\n",
       "      <th>current_price</th>\n",
       "      <th>previous_price</th>\n",
       "      <th>currency</th>\n",
       "      <th>rrp</th>\n",
       "      <th>productCode</th>\n",
       "      <th>productType</th>\n",
       "      <th>Discount %</th>\n",
       "    </tr>\n",
       "  </thead>\n",
       "  <tbody>\n",
       "    <tr>\n",
       "      <th>0</th>\n",
       "      <td>Men</td>\n",
       "      <td>204499665</td>\n",
       "      <td>Replay</td>\n",
       "      <td>Replay t-shirt in white</td>\n",
       "      <td>72.00</td>\n",
       "      <td>NaN</td>\n",
       "      <td>USD</td>\n",
       "      <td>100.00</td>\n",
       "      <td>127434315</td>\n",
       "      <td>Product</td>\n",
       "      <td>28.00</td>\n",
       "    </tr>\n",
       "    <tr>\n",
       "      <th>1</th>\n",
       "      <td>Men</td>\n",
       "      <td>203420859</td>\n",
       "      <td>Jack &amp; Jones</td>\n",
       "      <td>Jack &amp; Jones script logo t-shirt in white</td>\n",
       "      <td>17.00</td>\n",
       "      <td>NaN</td>\n",
       "      <td>USD</td>\n",
       "      <td>21.00</td>\n",
       "      <td>121133019</td>\n",
       "      <td>Product</td>\n",
       "      <td>4.00</td>\n",
       "    </tr>\n",
       "    <tr>\n",
       "      <th>2</th>\n",
       "      <td>Men</td>\n",
       "      <td>204285229</td>\n",
       "      <td>Jack &amp; Jones</td>\n",
       "      <td>Jack &amp; Jones logo polo in pale green</td>\n",
       "      <td>34.00</td>\n",
       "      <td>NaN</td>\n",
       "      <td>USD</td>\n",
       "      <td>43.00</td>\n",
       "      <td>126403589</td>\n",
       "      <td>Product</td>\n",
       "      <td>9.00</td>\n",
       "    </tr>\n",
       "    <tr>\n",
       "      <th>3</th>\n",
       "      <td>Men</td>\n",
       "      <td>202261918</td>\n",
       "      <td>Don't Think Twice</td>\n",
       "      <td>DTT denim board shorts in light blue</td>\n",
       "      <td>31.00</td>\n",
       "      <td>NaN</td>\n",
       "      <td>USD</td>\n",
       "      <td>42.00</td>\n",
       "      <td>116069818</td>\n",
       "      <td>Product</td>\n",
       "      <td>11.00</td>\n",
       "    </tr>\n",
       "    <tr>\n",
       "      <th>4</th>\n",
       "      <td>Men</td>\n",
       "      <td>202191610</td>\n",
       "      <td>Another Influence</td>\n",
       "      <td>Another Influence towelling shorts co-ord in m...</td>\n",
       "      <td>23.00</td>\n",
       "      <td>NaN</td>\n",
       "      <td>USD</td>\n",
       "      <td>48.00</td>\n",
       "      <td>115976447</td>\n",
       "      <td>Product</td>\n",
       "      <td>25.00</td>\n",
       "    </tr>\n",
       "    <tr>\n",
       "      <th>...</th>\n",
       "      <td>...</td>\n",
       "      <td>...</td>\n",
       "      <td>...</td>\n",
       "      <td>...</td>\n",
       "      <td>...</td>\n",
       "      <td>...</td>\n",
       "      <td>...</td>\n",
       "      <td>...</td>\n",
       "      <td>...</td>\n",
       "      <td>...</td>\n",
       "      <td>...</td>\n",
       "    </tr>\n",
       "    <tr>\n",
       "      <th>61195</th>\n",
       "      <td>Women</td>\n",
       "      <td>203652134</td>\n",
       "      <td>Dune</td>\n",
       "      <td>Dune jacquard logo cross body bag in brown</td>\n",
       "      <td>53.69</td>\n",
       "      <td>66.32</td>\n",
       "      <td>USD</td>\n",
       "      <td>108.96</td>\n",
       "      <td>121950307</td>\n",
       "      <td>Product</td>\n",
       "      <td>55.27</td>\n",
       "    </tr>\n",
       "    <tr>\n",
       "      <th>61196</th>\n",
       "      <td>Women</td>\n",
       "      <td>203778655</td>\n",
       "      <td>Dune</td>\n",
       "      <td>Dune cosmetics bag gift set in tan monogram</td>\n",
       "      <td>47.37</td>\n",
       "      <td>58.43</td>\n",
       "      <td>USD</td>\n",
       "      <td>91.59</td>\n",
       "      <td>122836149</td>\n",
       "      <td>Product</td>\n",
       "      <td>44.22</td>\n",
       "    </tr>\n",
       "    <tr>\n",
       "      <th>61197</th>\n",
       "      <td>Women</td>\n",
       "      <td>203202947</td>\n",
       "      <td>NaaNaa</td>\n",
       "      <td>NaaNaa yellow mini dress with cut out detail a...</td>\n",
       "      <td>48.00</td>\n",
       "      <td>NaN</td>\n",
       "      <td>USD</td>\n",
       "      <td>78.00</td>\n",
       "      <td>120046949</td>\n",
       "      <td>Product</td>\n",
       "      <td>30.00</td>\n",
       "    </tr>\n",
       "    <tr>\n",
       "      <th>61198</th>\n",
       "      <td>Women</td>\n",
       "      <td>204060148</td>\n",
       "      <td>Brave Soul</td>\n",
       "      <td>Brave Soul strappy back swimsuit in navy</td>\n",
       "      <td>27.00</td>\n",
       "      <td>NaN</td>\n",
       "      <td>USD</td>\n",
       "      <td>53.00</td>\n",
       "      <td>124523798</td>\n",
       "      <td>Product</td>\n",
       "      <td>26.00</td>\n",
       "    </tr>\n",
       "    <tr>\n",
       "      <th>61199</th>\n",
       "      <td>Women</td>\n",
       "      <td>204347411</td>\n",
       "      <td>French Connection</td>\n",
       "      <td>French Connection triangle bikini top in pink ...</td>\n",
       "      <td>31.00</td>\n",
       "      <td>NaN</td>\n",
       "      <td>USD</td>\n",
       "      <td>51.00</td>\n",
       "      <td>126673897</td>\n",
       "      <td>MixMatchProduct</td>\n",
       "      <td>20.00</td>\n",
       "    </tr>\n",
       "  </tbody>\n",
       "</table>\n",
       "<p>61200 rows × 11 columns</p>\n",
       "</div>"
      ],
      "text/plain": [
       "         For  product_id         brand_name  \\\n",
       "0        Men   204499665             Replay   \n",
       "1        Men   203420859       Jack & Jones   \n",
       "2        Men   204285229       Jack & Jones   \n",
       "3        Men   202261918  Don't Think Twice   \n",
       "4        Men   202191610  Another Influence   \n",
       "...      ...         ...                ...   \n",
       "61195  Women   203652134               Dune   \n",
       "61196  Women   203778655               Dune   \n",
       "61197  Women   203202947             NaaNaa   \n",
       "61198  Women   204060148         Brave Soul   \n",
       "61199  Women   204347411  French Connection   \n",
       "\n",
       "                                                   title  current_price  \\\n",
       "0                                Replay t-shirt in white          72.00   \n",
       "1              Jack & Jones script logo t-shirt in white          17.00   \n",
       "2                   Jack & Jones logo polo in pale green          34.00   \n",
       "3                   DTT denim board shorts in light blue          31.00   \n",
       "4      Another Influence towelling shorts co-ord in m...          23.00   \n",
       "...                                                  ...            ...   \n",
       "61195         Dune jacquard logo cross body bag in brown          53.69   \n",
       "61196        Dune cosmetics bag gift set in tan monogram          47.37   \n",
       "61197  NaaNaa yellow mini dress with cut out detail a...          48.00   \n",
       "61198           Brave Soul strappy back swimsuit in navy          27.00   \n",
       "61199  French Connection triangle bikini top in pink ...          31.00   \n",
       "\n",
       "       previous_price currency     rrp  productCode      productType  \\\n",
       "0                 NaN      USD  100.00    127434315          Product   \n",
       "1                 NaN      USD   21.00    121133019          Product   \n",
       "2                 NaN      USD   43.00    126403589          Product   \n",
       "3                 NaN      USD   42.00    116069818          Product   \n",
       "4                 NaN      USD   48.00    115976447          Product   \n",
       "...               ...      ...     ...          ...              ...   \n",
       "61195           66.32      USD  108.96    121950307          Product   \n",
       "61196           58.43      USD   91.59    122836149          Product   \n",
       "61197             NaN      USD   78.00    120046949          Product   \n",
       "61198             NaN      USD   53.00    124523798          Product   \n",
       "61199             NaN      USD   51.00    126673897  MixMatchProduct   \n",
       "\n",
       "       Discount %  \n",
       "0           28.00  \n",
       "1            4.00  \n",
       "2            9.00  \n",
       "3           11.00  \n",
       "4           25.00  \n",
       "...           ...  \n",
       "61195       55.27  \n",
       "61196       44.22  \n",
       "61197       30.00  \n",
       "61198       26.00  \n",
       "61199       20.00  \n",
       "\n",
       "[61200 rows x 11 columns]"
      ]
     },
     "execution_count": 27,
     "metadata": {},
     "output_type": "execute_result"
    }
   ],
   "source": [
    "al1"
   ]
  },
  {
   "cell_type": "markdown",
   "id": "f073b6a5",
   "metadata": {
    "papermill": {
     "duration": 0.017189,
     "end_time": "2023-03-13T21:02:56.935226",
     "exception": false,
     "start_time": "2023-03-13T21:02:56.918037",
     "status": "completed"
    },
    "tags": []
   },
   "source": []
  },
  {
   "cell_type": "markdown",
   "id": "c6c7d6c3",
   "metadata": {
    "papermill": {
     "duration": 0.016572,
     "end_time": "2023-03-13T21:02:56.970064",
     "exception": false,
     "start_time": "2023-03-13T21:02:56.953492",
     "status": "completed"
    },
    "tags": []
   },
   "source": [
    "**Q5. Which gender has more products on offer through the website?**"
   ]
  },
  {
   "cell_type": "code",
   "execution_count": 28,
   "id": "5c13ca96",
   "metadata": {
    "execution": {
     "iopub.execute_input": "2023-03-13T21:02:57.006450Z",
     "iopub.status.busy": "2023-03-13T21:02:57.006027Z",
     "iopub.status.idle": "2023-03-13T21:02:57.080006Z",
     "shell.execute_reply": "2023-03-13T21:02:57.079106Z"
    },
    "papermill": {
     "duration": 0.095061,
     "end_time": "2023-03-13T21:02:57.082214",
     "exception": false,
     "start_time": "2023-03-13T21:02:56.987153",
     "status": "completed"
    },
    "tags": []
   },
   "outputs": [
    {
     "data": {
      "text/html": [
       "<div>                            <div id=\"ea751198-48b9-45e9-a18e-03673629447e\" class=\"plotly-graph-div\" style=\"height:525px; width:100%;\"></div>            <script type=\"text/javascript\">                require([\"plotly\"], function(Plotly) {                    window.PLOTLYENV=window.PLOTLYENV || {};                                    if (document.getElementById(\"ea751198-48b9-45e9-a18e-03673629447e\")) {                    Plotly.newPlot(                        \"ea751198-48b9-45e9-a18e-03673629447e\",                        [{\"alignmentgroup\":\"True\",\"hovertemplate\":\"<b>%{hovertext}</b><br><br>For=%{x}<br>value=%{y}<extra></extra>\",\"hovertext\":[17568.0],\"legendgroup\":\"Men\",\"marker\":{\"color\":\"#636efa\",\"pattern\":{\"shape\":\"\"}},\"name\":\"Men\",\"offsetgroup\":\"Men\",\"orientation\":\"v\",\"showlegend\":true,\"textposition\":\"auto\",\"x\":[\"Men\"],\"xaxis\":\"x\",\"y\":[17568],\"yaxis\":\"y\",\"type\":\"bar\"},{\"alignmentgroup\":\"True\",\"hovertemplate\":\"<b>%{hovertext}</b><br><br>For=%{x}<br>value=%{y}<extra></extra>\",\"hovertext\":[43632.0],\"legendgroup\":\"Women\",\"marker\":{\"color\":\"#EF553B\",\"pattern\":{\"shape\":\"\"}},\"name\":\"Women\",\"offsetgroup\":\"Women\",\"orientation\":\"v\",\"showlegend\":true,\"textposition\":\"auto\",\"x\":[\"Women\"],\"xaxis\":\"x\",\"y\":[43632],\"yaxis\":\"y\",\"type\":\"bar\"}],                        {\"template\":{\"data\":{\"histogram2dcontour\":[{\"type\":\"histogram2dcontour\",\"colorbar\":{\"outlinewidth\":0,\"ticks\":\"\"},\"colorscale\":[[0.0,\"#0d0887\"],[0.1111111111111111,\"#46039f\"],[0.2222222222222222,\"#7201a8\"],[0.3333333333333333,\"#9c179e\"],[0.4444444444444444,\"#bd3786\"],[0.5555555555555556,\"#d8576b\"],[0.6666666666666666,\"#ed7953\"],[0.7777777777777778,\"#fb9f3a\"],[0.8888888888888888,\"#fdca26\"],[1.0,\"#f0f921\"]]}],\"choropleth\":[{\"type\":\"choropleth\",\"colorbar\":{\"outlinewidth\":0,\"ticks\":\"\"}}],\"histogram2d\":[{\"type\":\"histogram2d\",\"colorbar\":{\"outlinewidth\":0,\"ticks\":\"\"},\"colorscale\":[[0.0,\"#0d0887\"],[0.1111111111111111,\"#46039f\"],[0.2222222222222222,\"#7201a8\"],[0.3333333333333333,\"#9c179e\"],[0.4444444444444444,\"#bd3786\"],[0.5555555555555556,\"#d8576b\"],[0.6666666666666666,\"#ed7953\"],[0.7777777777777778,\"#fb9f3a\"],[0.8888888888888888,\"#fdca26\"],[1.0,\"#f0f921\"]]}],\"heatmap\":[{\"type\":\"heatmap\",\"colorbar\":{\"outlinewidth\":0,\"ticks\":\"\"},\"colorscale\":[[0.0,\"#0d0887\"],[0.1111111111111111,\"#46039f\"],[0.2222222222222222,\"#7201a8\"],[0.3333333333333333,\"#9c179e\"],[0.4444444444444444,\"#bd3786\"],[0.5555555555555556,\"#d8576b\"],[0.6666666666666666,\"#ed7953\"],[0.7777777777777778,\"#fb9f3a\"],[0.8888888888888888,\"#fdca26\"],[1.0,\"#f0f921\"]]}],\"heatmapgl\":[{\"type\":\"heatmapgl\",\"colorbar\":{\"outlinewidth\":0,\"ticks\":\"\"},\"colorscale\":[[0.0,\"#0d0887\"],[0.1111111111111111,\"#46039f\"],[0.2222222222222222,\"#7201a8\"],[0.3333333333333333,\"#9c179e\"],[0.4444444444444444,\"#bd3786\"],[0.5555555555555556,\"#d8576b\"],[0.6666666666666666,\"#ed7953\"],[0.7777777777777778,\"#fb9f3a\"],[0.8888888888888888,\"#fdca26\"],[1.0,\"#f0f921\"]]}],\"contourcarpet\":[{\"type\":\"contourcarpet\",\"colorbar\":{\"outlinewidth\":0,\"ticks\":\"\"}}],\"contour\":[{\"type\":\"contour\",\"colorbar\":{\"outlinewidth\":0,\"ticks\":\"\"},\"colorscale\":[[0.0,\"#0d0887\"],[0.1111111111111111,\"#46039f\"],[0.2222222222222222,\"#7201a8\"],[0.3333333333333333,\"#9c179e\"],[0.4444444444444444,\"#bd3786\"],[0.5555555555555556,\"#d8576b\"],[0.6666666666666666,\"#ed7953\"],[0.7777777777777778,\"#fb9f3a\"],[0.8888888888888888,\"#fdca26\"],[1.0,\"#f0f921\"]]}],\"surface\":[{\"type\":\"surface\",\"colorbar\":{\"outlinewidth\":0,\"ticks\":\"\"},\"colorscale\":[[0.0,\"#0d0887\"],[0.1111111111111111,\"#46039f\"],[0.2222222222222222,\"#7201a8\"],[0.3333333333333333,\"#9c179e\"],[0.4444444444444444,\"#bd3786\"],[0.5555555555555556,\"#d8576b\"],[0.6666666666666666,\"#ed7953\"],[0.7777777777777778,\"#fb9f3a\"],[0.8888888888888888,\"#fdca26\"],[1.0,\"#f0f921\"]]}],\"mesh3d\":[{\"type\":\"mesh3d\",\"colorbar\":{\"outlinewidth\":0,\"ticks\":\"\"}}],\"scatter\":[{\"fillpattern\":{\"fillmode\":\"overlay\",\"size\":10,\"solidity\":0.2},\"type\":\"scatter\"}],\"parcoords\":[{\"type\":\"parcoords\",\"line\":{\"colorbar\":{\"outlinewidth\":0,\"ticks\":\"\"}}}],\"scatterpolargl\":[{\"type\":\"scatterpolargl\",\"marker\":{\"colorbar\":{\"outlinewidth\":0,\"ticks\":\"\"}}}],\"bar\":[{\"error_x\":{\"color\":\"#2a3f5f\"},\"error_y\":{\"color\":\"#2a3f5f\"},\"marker\":{\"line\":{\"color\":\"#E5ECF6\",\"width\":0.5},\"pattern\":{\"fillmode\":\"overlay\",\"size\":10,\"solidity\":0.2}},\"type\":\"bar\"}],\"scattergeo\":[{\"type\":\"scattergeo\",\"marker\":{\"colorbar\":{\"outlinewidth\":0,\"ticks\":\"\"}}}],\"scatterpolar\":[{\"type\":\"scatterpolar\",\"marker\":{\"colorbar\":{\"outlinewidth\":0,\"ticks\":\"\"}}}],\"histogram\":[{\"marker\":{\"pattern\":{\"fillmode\":\"overlay\",\"size\":10,\"solidity\":0.2}},\"type\":\"histogram\"}],\"scattergl\":[{\"type\":\"scattergl\",\"marker\":{\"colorbar\":{\"outlinewidth\":0,\"ticks\":\"\"}}}],\"scatter3d\":[{\"type\":\"scatter3d\",\"line\":{\"colorbar\":{\"outlinewidth\":0,\"ticks\":\"\"}},\"marker\":{\"colorbar\":{\"outlinewidth\":0,\"ticks\":\"\"}}}],\"scattermapbox\":[{\"type\":\"scattermapbox\",\"marker\":{\"colorbar\":{\"outlinewidth\":0,\"ticks\":\"\"}}}],\"scatterternary\":[{\"type\":\"scatterternary\",\"marker\":{\"colorbar\":{\"outlinewidth\":0,\"ticks\":\"\"}}}],\"scattercarpet\":[{\"type\":\"scattercarpet\",\"marker\":{\"colorbar\":{\"outlinewidth\":0,\"ticks\":\"\"}}}],\"carpet\":[{\"aaxis\":{\"endlinecolor\":\"#2a3f5f\",\"gridcolor\":\"white\",\"linecolor\":\"white\",\"minorgridcolor\":\"white\",\"startlinecolor\":\"#2a3f5f\"},\"baxis\":{\"endlinecolor\":\"#2a3f5f\",\"gridcolor\":\"white\",\"linecolor\":\"white\",\"minorgridcolor\":\"white\",\"startlinecolor\":\"#2a3f5f\"},\"type\":\"carpet\"}],\"table\":[{\"cells\":{\"fill\":{\"color\":\"#EBF0F8\"},\"line\":{\"color\":\"white\"}},\"header\":{\"fill\":{\"color\":\"#C8D4E3\"},\"line\":{\"color\":\"white\"}},\"type\":\"table\"}],\"barpolar\":[{\"marker\":{\"line\":{\"color\":\"#E5ECF6\",\"width\":0.5},\"pattern\":{\"fillmode\":\"overlay\",\"size\":10,\"solidity\":0.2}},\"type\":\"barpolar\"}],\"pie\":[{\"automargin\":true,\"type\":\"pie\"}]},\"layout\":{\"autotypenumbers\":\"strict\",\"colorway\":[\"#636efa\",\"#EF553B\",\"#00cc96\",\"#ab63fa\",\"#FFA15A\",\"#19d3f3\",\"#FF6692\",\"#B6E880\",\"#FF97FF\",\"#FECB52\"],\"font\":{\"color\":\"#2a3f5f\"},\"hovermode\":\"closest\",\"hoverlabel\":{\"align\":\"left\"},\"paper_bgcolor\":\"white\",\"plot_bgcolor\":\"#E5ECF6\",\"polar\":{\"bgcolor\":\"#E5ECF6\",\"angularaxis\":{\"gridcolor\":\"white\",\"linecolor\":\"white\",\"ticks\":\"\"},\"radialaxis\":{\"gridcolor\":\"white\",\"linecolor\":\"white\",\"ticks\":\"\"}},\"ternary\":{\"bgcolor\":\"#E5ECF6\",\"aaxis\":{\"gridcolor\":\"white\",\"linecolor\":\"white\",\"ticks\":\"\"},\"baxis\":{\"gridcolor\":\"white\",\"linecolor\":\"white\",\"ticks\":\"\"},\"caxis\":{\"gridcolor\":\"white\",\"linecolor\":\"white\",\"ticks\":\"\"}},\"coloraxis\":{\"colorbar\":{\"outlinewidth\":0,\"ticks\":\"\"}},\"colorscale\":{\"sequential\":[[0.0,\"#0d0887\"],[0.1111111111111111,\"#46039f\"],[0.2222222222222222,\"#7201a8\"],[0.3333333333333333,\"#9c179e\"],[0.4444444444444444,\"#bd3786\"],[0.5555555555555556,\"#d8576b\"],[0.6666666666666666,\"#ed7953\"],[0.7777777777777778,\"#fb9f3a\"],[0.8888888888888888,\"#fdca26\"],[1.0,\"#f0f921\"]],\"sequentialminus\":[[0.0,\"#0d0887\"],[0.1111111111111111,\"#46039f\"],[0.2222222222222222,\"#7201a8\"],[0.3333333333333333,\"#9c179e\"],[0.4444444444444444,\"#bd3786\"],[0.5555555555555556,\"#d8576b\"],[0.6666666666666666,\"#ed7953\"],[0.7777777777777778,\"#fb9f3a\"],[0.8888888888888888,\"#fdca26\"],[1.0,\"#f0f921\"]],\"diverging\":[[0,\"#8e0152\"],[0.1,\"#c51b7d\"],[0.2,\"#de77ae\"],[0.3,\"#f1b6da\"],[0.4,\"#fde0ef\"],[0.5,\"#f7f7f7\"],[0.6,\"#e6f5d0\"],[0.7,\"#b8e186\"],[0.8,\"#7fbc41\"],[0.9,\"#4d9221\"],[1,\"#276419\"]]},\"xaxis\":{\"gridcolor\":\"white\",\"linecolor\":\"white\",\"ticks\":\"\",\"title\":{\"standoff\":15},\"zerolinecolor\":\"white\",\"automargin\":true,\"zerolinewidth\":2},\"yaxis\":{\"gridcolor\":\"white\",\"linecolor\":\"white\",\"ticks\":\"\",\"title\":{\"standoff\":15},\"zerolinecolor\":\"white\",\"automargin\":true,\"zerolinewidth\":2},\"scene\":{\"xaxis\":{\"backgroundcolor\":\"#E5ECF6\",\"gridcolor\":\"white\",\"linecolor\":\"white\",\"showbackground\":true,\"ticks\":\"\",\"zerolinecolor\":\"white\",\"gridwidth\":2},\"yaxis\":{\"backgroundcolor\":\"#E5ECF6\",\"gridcolor\":\"white\",\"linecolor\":\"white\",\"showbackground\":true,\"ticks\":\"\",\"zerolinecolor\":\"white\",\"gridwidth\":2},\"zaxis\":{\"backgroundcolor\":\"#E5ECF6\",\"gridcolor\":\"white\",\"linecolor\":\"white\",\"showbackground\":true,\"ticks\":\"\",\"zerolinecolor\":\"white\",\"gridwidth\":2}},\"shapedefaults\":{\"line\":{\"color\":\"#2a3f5f\"}},\"annotationdefaults\":{\"arrowcolor\":\"#2a3f5f\",\"arrowhead\":0,\"arrowwidth\":1},\"geo\":{\"bgcolor\":\"white\",\"landcolor\":\"#E5ECF6\",\"subunitcolor\":\"white\",\"showland\":true,\"showlakes\":true,\"lakecolor\":\"white\"},\"title\":{\"x\":0.05},\"mapbox\":{\"style\":\"light\"}}},\"xaxis\":{\"anchor\":\"y\",\"domain\":[0.0,1.0],\"title\":{\"text\":\"For\"},\"categoryorder\":\"array\",\"categoryarray\":[\"Men\",\"Women\"]},\"yaxis\":{\"anchor\":\"x\",\"domain\":[0.0,1.0],\"title\":{\"text\":\"value\"}},\"legend\":{\"title\":{\"text\":\"For\"},\"tracegroupgap\":0},\"title\":{\"text\":\"Products available on website for Men/Women\"},\"barmode\":\"relative\"},                        {\"responsive\": true}                    ).then(function(){\n",
       "                            \n",
       "var gd = document.getElementById('ea751198-48b9-45e9-a18e-03673629447e');\n",
       "var x = new MutationObserver(function (mutations, observer) {{\n",
       "        var display = window.getComputedStyle(gd).display;\n",
       "        if (!display || display === 'none') {{\n",
       "            console.log([gd, 'removed!']);\n",
       "            Plotly.purge(gd);\n",
       "            observer.disconnect();\n",
       "        }}\n",
       "}});\n",
       "\n",
       "// Listen for the removal of the full notebook cells\n",
       "var notebookContainer = gd.closest('#notebook-container');\n",
       "if (notebookContainer) {{\n",
       "    x.observe(notebookContainer, {childList: true});\n",
       "}}\n",
       "\n",
       "// Listen for the clearing of the current output cell\n",
       "var outputEl = gd.closest('.output');\n",
       "if (outputEl) {{\n",
       "    x.observe(outputEl, {childList: true});\n",
       "}}\n",
       "\n",
       "                        })                };                });            </script>        </div>"
      ]
     },
     "metadata": {},
     "output_type": "display_data"
    }
   ],
   "source": [
    "i=al1.groupby('For')['current_price'].count()\n",
    "c=px.bar(i,color=i.index,hover_name=i.values,title='Products available on website for Men/Women')\n",
    "c.show()"
   ]
  },
  {
   "cell_type": "markdown",
   "id": "de0c0cad",
   "metadata": {
    "papermill": {
     "duration": 0.017043,
     "end_time": "2023-03-13T21:02:57.116713",
     "exception": false,
     "start_time": "2023-03-13T21:02:57.099670",
     "status": "completed"
    },
    "tags": []
   },
   "source": [
    "Undoubtedly Women have more no of products on offer through the website."
   ]
  },
  {
   "cell_type": "markdown",
   "id": "d7a04b08",
   "metadata": {
    "papermill": {
     "duration": 0.016968,
     "end_time": "2023-03-13T21:02:57.150937",
     "exception": false,
     "start_time": "2023-03-13T21:02:57.133969",
     "status": "completed"
    },
    "tags": []
   },
   "source": [
    "**Q6. Which gender has cheaper clothes available on Website?**"
   ]
  },
  {
   "cell_type": "code",
   "execution_count": 29,
   "id": "436a0396",
   "metadata": {
    "execution": {
     "iopub.execute_input": "2023-03-13T21:02:57.187676Z",
     "iopub.status.busy": "2023-03-13T21:02:57.187193Z",
     "iopub.status.idle": "2023-03-13T21:02:57.261450Z",
     "shell.execute_reply": "2023-03-13T21:02:57.260288Z"
    },
    "papermill": {
     "duration": 0.095922,
     "end_time": "2023-03-13T21:02:57.264105",
     "exception": false,
     "start_time": "2023-03-13T21:02:57.168183",
     "status": "completed"
    },
    "tags": []
   },
   "outputs": [
    {
     "data": {
      "text/html": [
       "<div>                            <div id=\"0b448ab2-86bc-45b5-8fc3-6c0056d646db\" class=\"plotly-graph-div\" style=\"height:525px; width:100%;\"></div>            <script type=\"text/javascript\">                require([\"plotly\"], function(Plotly) {                    window.PLOTLYENV=window.PLOTLYENV || {};                                    if (document.getElementById(\"0b448ab2-86bc-45b5-8fc3-6c0056d646db\")) {                    Plotly.newPlot(                        \"0b448ab2-86bc-45b5-8fc3-6c0056d646db\",                        [{\"alignmentgroup\":\"True\",\"hovertemplate\":\"<b>%{hovertext}</b><br><br>For=%{x}<br>value=%{y}<extra></extra>\",\"hovertext\":[30.948888888888888],\"legendgroup\":\"Men\",\"marker\":{\"color\":\"#636efa\",\"pattern\":{\"shape\":\"\"}},\"name\":\"Men\",\"offsetgroup\":\"Men\",\"orientation\":\"v\",\"showlegend\":true,\"textposition\":\"auto\",\"x\":[\"Men\"],\"xaxis\":\"x\",\"y\":[30.948888888888888],\"yaxis\":\"y\",\"type\":\"bar\"},{\"alignmentgroup\":\"True\",\"hovertemplate\":\"<b>%{hovertext}</b><br><br>For=%{x}<br>value=%{y}<extra></extra>\",\"hovertext\":[58.567638888888894],\"legendgroup\":\"Women\",\"marker\":{\"color\":\"#EF553B\",\"pattern\":{\"shape\":\"\"}},\"name\":\"Women\",\"offsetgroup\":\"Women\",\"orientation\":\"v\",\"showlegend\":true,\"textposition\":\"auto\",\"x\":[\"Women\"],\"xaxis\":\"x\",\"y\":[58.567638888888894],\"yaxis\":\"y\",\"type\":\"bar\"}],                        {\"template\":{\"data\":{\"histogram2dcontour\":[{\"type\":\"histogram2dcontour\",\"colorbar\":{\"outlinewidth\":0,\"ticks\":\"\"},\"colorscale\":[[0.0,\"#0d0887\"],[0.1111111111111111,\"#46039f\"],[0.2222222222222222,\"#7201a8\"],[0.3333333333333333,\"#9c179e\"],[0.4444444444444444,\"#bd3786\"],[0.5555555555555556,\"#d8576b\"],[0.6666666666666666,\"#ed7953\"],[0.7777777777777778,\"#fb9f3a\"],[0.8888888888888888,\"#fdca26\"],[1.0,\"#f0f921\"]]}],\"choropleth\":[{\"type\":\"choropleth\",\"colorbar\":{\"outlinewidth\":0,\"ticks\":\"\"}}],\"histogram2d\":[{\"type\":\"histogram2d\",\"colorbar\":{\"outlinewidth\":0,\"ticks\":\"\"},\"colorscale\":[[0.0,\"#0d0887\"],[0.1111111111111111,\"#46039f\"],[0.2222222222222222,\"#7201a8\"],[0.3333333333333333,\"#9c179e\"],[0.4444444444444444,\"#bd3786\"],[0.5555555555555556,\"#d8576b\"],[0.6666666666666666,\"#ed7953\"],[0.7777777777777778,\"#fb9f3a\"],[0.8888888888888888,\"#fdca26\"],[1.0,\"#f0f921\"]]}],\"heatmap\":[{\"type\":\"heatmap\",\"colorbar\":{\"outlinewidth\":0,\"ticks\":\"\"},\"colorscale\":[[0.0,\"#0d0887\"],[0.1111111111111111,\"#46039f\"],[0.2222222222222222,\"#7201a8\"],[0.3333333333333333,\"#9c179e\"],[0.4444444444444444,\"#bd3786\"],[0.5555555555555556,\"#d8576b\"],[0.6666666666666666,\"#ed7953\"],[0.7777777777777778,\"#fb9f3a\"],[0.8888888888888888,\"#fdca26\"],[1.0,\"#f0f921\"]]}],\"heatmapgl\":[{\"type\":\"heatmapgl\",\"colorbar\":{\"outlinewidth\":0,\"ticks\":\"\"},\"colorscale\":[[0.0,\"#0d0887\"],[0.1111111111111111,\"#46039f\"],[0.2222222222222222,\"#7201a8\"],[0.3333333333333333,\"#9c179e\"],[0.4444444444444444,\"#bd3786\"],[0.5555555555555556,\"#d8576b\"],[0.6666666666666666,\"#ed7953\"],[0.7777777777777778,\"#fb9f3a\"],[0.8888888888888888,\"#fdca26\"],[1.0,\"#f0f921\"]]}],\"contourcarpet\":[{\"type\":\"contourcarpet\",\"colorbar\":{\"outlinewidth\":0,\"ticks\":\"\"}}],\"contour\":[{\"type\":\"contour\",\"colorbar\":{\"outlinewidth\":0,\"ticks\":\"\"},\"colorscale\":[[0.0,\"#0d0887\"],[0.1111111111111111,\"#46039f\"],[0.2222222222222222,\"#7201a8\"],[0.3333333333333333,\"#9c179e\"],[0.4444444444444444,\"#bd3786\"],[0.5555555555555556,\"#d8576b\"],[0.6666666666666666,\"#ed7953\"],[0.7777777777777778,\"#fb9f3a\"],[0.8888888888888888,\"#fdca26\"],[1.0,\"#f0f921\"]]}],\"surface\":[{\"type\":\"surface\",\"colorbar\":{\"outlinewidth\":0,\"ticks\":\"\"},\"colorscale\":[[0.0,\"#0d0887\"],[0.1111111111111111,\"#46039f\"],[0.2222222222222222,\"#7201a8\"],[0.3333333333333333,\"#9c179e\"],[0.4444444444444444,\"#bd3786\"],[0.5555555555555556,\"#d8576b\"],[0.6666666666666666,\"#ed7953\"],[0.7777777777777778,\"#fb9f3a\"],[0.8888888888888888,\"#fdca26\"],[1.0,\"#f0f921\"]]}],\"mesh3d\":[{\"type\":\"mesh3d\",\"colorbar\":{\"outlinewidth\":0,\"ticks\":\"\"}}],\"scatter\":[{\"fillpattern\":{\"fillmode\":\"overlay\",\"size\":10,\"solidity\":0.2},\"type\":\"scatter\"}],\"parcoords\":[{\"type\":\"parcoords\",\"line\":{\"colorbar\":{\"outlinewidth\":0,\"ticks\":\"\"}}}],\"scatterpolargl\":[{\"type\":\"scatterpolargl\",\"marker\":{\"colorbar\":{\"outlinewidth\":0,\"ticks\":\"\"}}}],\"bar\":[{\"error_x\":{\"color\":\"#2a3f5f\"},\"error_y\":{\"color\":\"#2a3f5f\"},\"marker\":{\"line\":{\"color\":\"#E5ECF6\",\"width\":0.5},\"pattern\":{\"fillmode\":\"overlay\",\"size\":10,\"solidity\":0.2}},\"type\":\"bar\"}],\"scattergeo\":[{\"type\":\"scattergeo\",\"marker\":{\"colorbar\":{\"outlinewidth\":0,\"ticks\":\"\"}}}],\"scatterpolar\":[{\"type\":\"scatterpolar\",\"marker\":{\"colorbar\":{\"outlinewidth\":0,\"ticks\":\"\"}}}],\"histogram\":[{\"marker\":{\"pattern\":{\"fillmode\":\"overlay\",\"size\":10,\"solidity\":0.2}},\"type\":\"histogram\"}],\"scattergl\":[{\"type\":\"scattergl\",\"marker\":{\"colorbar\":{\"outlinewidth\":0,\"ticks\":\"\"}}}],\"scatter3d\":[{\"type\":\"scatter3d\",\"line\":{\"colorbar\":{\"outlinewidth\":0,\"ticks\":\"\"}},\"marker\":{\"colorbar\":{\"outlinewidth\":0,\"ticks\":\"\"}}}],\"scattermapbox\":[{\"type\":\"scattermapbox\",\"marker\":{\"colorbar\":{\"outlinewidth\":0,\"ticks\":\"\"}}}],\"scatterternary\":[{\"type\":\"scatterternary\",\"marker\":{\"colorbar\":{\"outlinewidth\":0,\"ticks\":\"\"}}}],\"scattercarpet\":[{\"type\":\"scattercarpet\",\"marker\":{\"colorbar\":{\"outlinewidth\":0,\"ticks\":\"\"}}}],\"carpet\":[{\"aaxis\":{\"endlinecolor\":\"#2a3f5f\",\"gridcolor\":\"white\",\"linecolor\":\"white\",\"minorgridcolor\":\"white\",\"startlinecolor\":\"#2a3f5f\"},\"baxis\":{\"endlinecolor\":\"#2a3f5f\",\"gridcolor\":\"white\",\"linecolor\":\"white\",\"minorgridcolor\":\"white\",\"startlinecolor\":\"#2a3f5f\"},\"type\":\"carpet\"}],\"table\":[{\"cells\":{\"fill\":{\"color\":\"#EBF0F8\"},\"line\":{\"color\":\"white\"}},\"header\":{\"fill\":{\"color\":\"#C8D4E3\"},\"line\":{\"color\":\"white\"}},\"type\":\"table\"}],\"barpolar\":[{\"marker\":{\"line\":{\"color\":\"#E5ECF6\",\"width\":0.5},\"pattern\":{\"fillmode\":\"overlay\",\"size\":10,\"solidity\":0.2}},\"type\":\"barpolar\"}],\"pie\":[{\"automargin\":true,\"type\":\"pie\"}]},\"layout\":{\"autotypenumbers\":\"strict\",\"colorway\":[\"#636efa\",\"#EF553B\",\"#00cc96\",\"#ab63fa\",\"#FFA15A\",\"#19d3f3\",\"#FF6692\",\"#B6E880\",\"#FF97FF\",\"#FECB52\"],\"font\":{\"color\":\"#2a3f5f\"},\"hovermode\":\"closest\",\"hoverlabel\":{\"align\":\"left\"},\"paper_bgcolor\":\"white\",\"plot_bgcolor\":\"#E5ECF6\",\"polar\":{\"bgcolor\":\"#E5ECF6\",\"angularaxis\":{\"gridcolor\":\"white\",\"linecolor\":\"white\",\"ticks\":\"\"},\"radialaxis\":{\"gridcolor\":\"white\",\"linecolor\":\"white\",\"ticks\":\"\"}},\"ternary\":{\"bgcolor\":\"#E5ECF6\",\"aaxis\":{\"gridcolor\":\"white\",\"linecolor\":\"white\",\"ticks\":\"\"},\"baxis\":{\"gridcolor\":\"white\",\"linecolor\":\"white\",\"ticks\":\"\"},\"caxis\":{\"gridcolor\":\"white\",\"linecolor\":\"white\",\"ticks\":\"\"}},\"coloraxis\":{\"colorbar\":{\"outlinewidth\":0,\"ticks\":\"\"}},\"colorscale\":{\"sequential\":[[0.0,\"#0d0887\"],[0.1111111111111111,\"#46039f\"],[0.2222222222222222,\"#7201a8\"],[0.3333333333333333,\"#9c179e\"],[0.4444444444444444,\"#bd3786\"],[0.5555555555555556,\"#d8576b\"],[0.6666666666666666,\"#ed7953\"],[0.7777777777777778,\"#fb9f3a\"],[0.8888888888888888,\"#fdca26\"],[1.0,\"#f0f921\"]],\"sequentialminus\":[[0.0,\"#0d0887\"],[0.1111111111111111,\"#46039f\"],[0.2222222222222222,\"#7201a8\"],[0.3333333333333333,\"#9c179e\"],[0.4444444444444444,\"#bd3786\"],[0.5555555555555556,\"#d8576b\"],[0.6666666666666666,\"#ed7953\"],[0.7777777777777778,\"#fb9f3a\"],[0.8888888888888888,\"#fdca26\"],[1.0,\"#f0f921\"]],\"diverging\":[[0,\"#8e0152\"],[0.1,\"#c51b7d\"],[0.2,\"#de77ae\"],[0.3,\"#f1b6da\"],[0.4,\"#fde0ef\"],[0.5,\"#f7f7f7\"],[0.6,\"#e6f5d0\"],[0.7,\"#b8e186\"],[0.8,\"#7fbc41\"],[0.9,\"#4d9221\"],[1,\"#276419\"]]},\"xaxis\":{\"gridcolor\":\"white\",\"linecolor\":\"white\",\"ticks\":\"\",\"title\":{\"standoff\":15},\"zerolinecolor\":\"white\",\"automargin\":true,\"zerolinewidth\":2},\"yaxis\":{\"gridcolor\":\"white\",\"linecolor\":\"white\",\"ticks\":\"\",\"title\":{\"standoff\":15},\"zerolinecolor\":\"white\",\"automargin\":true,\"zerolinewidth\":2},\"scene\":{\"xaxis\":{\"backgroundcolor\":\"#E5ECF6\",\"gridcolor\":\"white\",\"linecolor\":\"white\",\"showbackground\":true,\"ticks\":\"\",\"zerolinecolor\":\"white\",\"gridwidth\":2},\"yaxis\":{\"backgroundcolor\":\"#E5ECF6\",\"gridcolor\":\"white\",\"linecolor\":\"white\",\"showbackground\":true,\"ticks\":\"\",\"zerolinecolor\":\"white\",\"gridwidth\":2},\"zaxis\":{\"backgroundcolor\":\"#E5ECF6\",\"gridcolor\":\"white\",\"linecolor\":\"white\",\"showbackground\":true,\"ticks\":\"\",\"zerolinecolor\":\"white\",\"gridwidth\":2}},\"shapedefaults\":{\"line\":{\"color\":\"#2a3f5f\"}},\"annotationdefaults\":{\"arrowcolor\":\"#2a3f5f\",\"arrowhead\":0,\"arrowwidth\":1},\"geo\":{\"bgcolor\":\"white\",\"landcolor\":\"#E5ECF6\",\"subunitcolor\":\"white\",\"showland\":true,\"showlakes\":true,\"lakecolor\":\"white\"},\"title\":{\"x\":0.05},\"mapbox\":{\"style\":\"light\"}}},\"xaxis\":{\"anchor\":\"y\",\"domain\":[0.0,1.0],\"title\":{\"text\":\"For\"},\"categoryorder\":\"array\",\"categoryarray\":[\"Men\",\"Women\"]},\"yaxis\":{\"anchor\":\"x\",\"domain\":[0.0,1.0],\"title\":{\"text\":\"value\"}},\"legend\":{\"title\":{\"text\":\"For\"},\"tracegroupgap\":0},\"title\":{\"text\":\"Avg. Pricing of products for Men/Women\"},\"barmode\":\"relative\"},                        {\"responsive\": true}                    ).then(function(){\n",
       "                            \n",
       "var gd = document.getElementById('0b448ab2-86bc-45b5-8fc3-6c0056d646db');\n",
       "var x = new MutationObserver(function (mutations, observer) {{\n",
       "        var display = window.getComputedStyle(gd).display;\n",
       "        if (!display || display === 'none') {{\n",
       "            console.log([gd, 'removed!']);\n",
       "            Plotly.purge(gd);\n",
       "            observer.disconnect();\n",
       "        }}\n",
       "}});\n",
       "\n",
       "// Listen for the removal of the full notebook cells\n",
       "var notebookContainer = gd.closest('#notebook-container');\n",
       "if (notebookContainer) {{\n",
       "    x.observe(notebookContainer, {childList: true});\n",
       "}}\n",
       "\n",
       "// Listen for the clearing of the current output cell\n",
       "var outputEl = gd.closest('.output');\n",
       "if (outputEl) {{\n",
       "    x.observe(outputEl, {childList: true});\n",
       "}}\n",
       "\n",
       "                        })                };                });            </script>        </div>"
      ]
     },
     "metadata": {},
     "output_type": "display_data"
    }
   ],
   "source": [
    "v=al1.groupby('For')['current_price'].mean()\n",
    "j=px.bar(v,color=v.index,hover_name=v.values,title='Avg. Pricing of products for Men/Women')\n",
    "j.show()"
   ]
  },
  {
   "cell_type": "markdown",
   "id": "6968a62a",
   "metadata": {
    "papermill": {
     "duration": 0.01727,
     "end_time": "2023-03-13T21:02:57.298999",
     "exception": false,
     "start_time": "2023-03-13T21:02:57.281729",
     "status": "completed"
    },
    "tags": []
   },
   "source": [
    "We can clearly see men have cheaper clothes available on the website."
   ]
  },
  {
   "cell_type": "code",
   "execution_count": 30,
   "id": "51d46881",
   "metadata": {
    "execution": {
     "iopub.execute_input": "2023-03-13T21:02:57.336529Z",
     "iopub.status.busy": "2023-03-13T21:02:57.336067Z",
     "iopub.status.idle": "2023-03-13T21:02:57.350949Z",
     "shell.execute_reply": "2023-03-13T21:02:57.349841Z"
    },
    "papermill": {
     "duration": 0.036558,
     "end_time": "2023-03-13T21:02:57.353224",
     "exception": false,
     "start_time": "2023-03-13T21:02:57.316666",
     "status": "completed"
    },
    "tags": []
   },
   "outputs": [
    {
     "data": {
      "text/plain": [
       "brand_name\n",
       "ASOS DESIGN                 0.0\n",
       "ASOS Tall                   0.0\n",
       "AX Paris                   21.0\n",
       "Another Influence          19.8\n",
       "Barneys Originals Plus     51.0\n",
       "                          ...  \n",
       "Vivienne Westwood         135.0\n",
       "Waven                      34.0\n",
       "Zoe Ayla                   33.0\n",
       "adidas Originals            0.0\n",
       "adidas performance          0.0\n",
       "Name: Discount %, Length: 61, dtype: float64"
      ]
     },
     "execution_count": 30,
     "metadata": {},
     "output_type": "execute_result"
    }
   ],
   "source": [
    "r=al1.groupby('brand_name')['Discount %'].mean()\n",
    "r"
   ]
  },
  {
   "cell_type": "markdown",
   "id": "72de5fa7",
   "metadata": {
    "papermill": {
     "duration": 0.017431,
     "end_time": "2023-03-13T21:02:57.388545",
     "exception": false,
     "start_time": "2023-03-13T21:02:57.371114",
     "status": "completed"
    },
    "tags": []
   },
   "source": [
    "**Q7. Which Brands have more discount on the website?**"
   ]
  },
  {
   "cell_type": "code",
   "execution_count": 31,
   "id": "64a14d3c",
   "metadata": {
    "execution": {
     "iopub.execute_input": "2023-03-13T21:02:57.426798Z",
     "iopub.status.busy": "2023-03-13T21:02:57.425596Z",
     "iopub.status.idle": "2023-03-13T21:02:57.737923Z",
     "shell.execute_reply": "2023-03-13T21:02:57.736546Z"
    },
    "papermill": {
     "duration": 0.334049,
     "end_time": "2023-03-13T21:02:57.740531",
     "exception": false,
     "start_time": "2023-03-13T21:02:57.406482",
     "status": "completed"
    },
    "tags": []
   },
   "outputs": [
    {
     "data": {
      "text/html": [
       "<div>                            <div id=\"5df9ae32-5f0d-458a-bda6-6ba80d5d4e71\" class=\"plotly-graph-div\" style=\"height:525px; width:100%;\"></div>            <script type=\"text/javascript\">                require([\"plotly\"], function(Plotly) {                    window.PLOTLYENV=window.PLOTLYENV || {};                                    if (document.getElementById(\"5df9ae32-5f0d-458a-bda6-6ba80d5d4e71\")) {                    Plotly.newPlot(                        \"5df9ae32-5f0d-458a-bda6-6ba80d5d4e71\",                        [{\"alignmentgroup\":\"True\",\"hovertemplate\":\"<b>%{hovertext}</b><br><br>brand_name=%{x}<br>y=%{y}<extra></extra>\",\"hovertext\":[\"ASOS DESIGN\"],\"legendgroup\":\"ASOS DESIGN\",\"marker\":{\"color\":\"#636efa\",\"pattern\":{\"shape\":\"\"}},\"name\":\"ASOS DESIGN\",\"offsetgroup\":\"ASOS DESIGN\",\"orientation\":\"v\",\"showlegend\":true,\"textposition\":\"auto\",\"x\":[\"ASOS DESIGN\"],\"xaxis\":\"x\",\"y\":[0.0],\"yaxis\":\"y\",\"type\":\"bar\"},{\"alignmentgroup\":\"True\",\"hovertemplate\":\"<b>%{hovertext}</b><br><br>brand_name=%{x}<br>y=%{y}<extra></extra>\",\"hovertext\":[\"ASOS Tall\"],\"legendgroup\":\"ASOS Tall\",\"marker\":{\"color\":\"#EF553B\",\"pattern\":{\"shape\":\"\"}},\"name\":\"ASOS Tall\",\"offsetgroup\":\"ASOS Tall\",\"orientation\":\"v\",\"showlegend\":true,\"textposition\":\"auto\",\"x\":[\"ASOS Tall\"],\"xaxis\":\"x\",\"y\":[0.0],\"yaxis\":\"y\",\"type\":\"bar\"},{\"alignmentgroup\":\"True\",\"hovertemplate\":\"<b>%{hovertext}</b><br><br>brand_name=%{x}<br>y=%{y}<extra></extra>\",\"hovertext\":[\"AX Paris\"],\"legendgroup\":\"AX Paris\",\"marker\":{\"color\":\"#00cc96\",\"pattern\":{\"shape\":\"\"}},\"name\":\"AX Paris\",\"offsetgroup\":\"AX Paris\",\"orientation\":\"v\",\"showlegend\":true,\"textposition\":\"auto\",\"x\":[\"AX Paris\"],\"xaxis\":\"x\",\"y\":[21.0],\"yaxis\":\"y\",\"type\":\"bar\"},{\"alignmentgroup\":\"True\",\"hovertemplate\":\"<b>%{hovertext}</b><br><br>brand_name=%{x}<br>y=%{y}<extra></extra>\",\"hovertext\":[\"Another Influence\"],\"legendgroup\":\"Another Influence\",\"marker\":{\"color\":\"#ab63fa\",\"pattern\":{\"shape\":\"\"}},\"name\":\"Another Influence\",\"offsetgroup\":\"Another Influence\",\"orientation\":\"v\",\"showlegend\":true,\"textposition\":\"auto\",\"x\":[\"Another Influence\"],\"xaxis\":\"x\",\"y\":[19.8],\"yaxis\":\"y\",\"type\":\"bar\"},{\"alignmentgroup\":\"True\",\"hovertemplate\":\"<b>%{hovertext}</b><br><br>brand_name=%{x}<br>y=%{y}<extra></extra>\",\"hovertext\":[\"Barneys Originals Plus\"],\"legendgroup\":\"Barneys Originals Plus\",\"marker\":{\"color\":\"#FFA15A\",\"pattern\":{\"shape\":\"\"}},\"name\":\"Barneys Originals Plus\",\"offsetgroup\":\"Barneys Originals Plus\",\"orientation\":\"v\",\"showlegend\":true,\"textposition\":\"auto\",\"x\":[\"Barneys Originals Plus\"],\"xaxis\":\"x\",\"y\":[51.0],\"yaxis\":\"y\",\"type\":\"bar\"},{\"alignmentgroup\":\"True\",\"hovertemplate\":\"<b>%{hovertext}</b><br><br>brand_name=%{x}<br>y=%{y}<extra></extra>\",\"hovertext\":[\"Beauut\"],\"legendgroup\":\"Beauut\",\"marker\":{\"color\":\"#19d3f3\",\"pattern\":{\"shape\":\"\"}},\"name\":\"Beauut\",\"offsetgroup\":\"Beauut\",\"orientation\":\"v\",\"showlegend\":true,\"textposition\":\"auto\",\"x\":[\"Beauut\"],\"xaxis\":\"x\",\"y\":[60.5],\"yaxis\":\"y\",\"type\":\"bar\"},{\"alignmentgroup\":\"True\",\"hovertemplate\":\"<b>%{hovertext}</b><br><br>brand_name=%{x}<br>y=%{y}<extra></extra>\",\"hovertext\":[\"Bellfield\"],\"legendgroup\":\"Bellfield\",\"marker\":{\"color\":\"#FF6692\",\"pattern\":{\"shape\":\"\"}},\"name\":\"Bellfield\",\"offsetgroup\":\"Bellfield\",\"orientation\":\"v\",\"showlegend\":true,\"textposition\":\"auto\",\"x\":[\"Bellfield\"],\"xaxis\":\"x\",\"y\":[54.0],\"yaxis\":\"y\",\"type\":\"bar\"},{\"alignmentgroup\":\"True\",\"hovertemplate\":\"<b>%{hovertext}</b><br><br>brand_name=%{x}<br>y=%{y}<extra></extra>\",\"hovertext\":[\"Bench\"],\"legendgroup\":\"Bench\",\"marker\":{\"color\":\"#B6E880\",\"pattern\":{\"shape\":\"\"}},\"name\":\"Bench\",\"offsetgroup\":\"Bench\",\"orientation\":\"v\",\"showlegend\":true,\"textposition\":\"auto\",\"x\":[\"Bench\"],\"xaxis\":\"x\",\"y\":[19.739999999999995],\"yaxis\":\"y\",\"type\":\"bar\"},{\"alignmentgroup\":\"True\",\"hovertemplate\":\"<b>%{hovertext}</b><br><br>brand_name=%{x}<br>y=%{y}<extra></extra>\",\"hovertext\":[\"Boardmans\"],\"legendgroup\":\"Boardmans\",\"marker\":{\"color\":\"#FF97FF\",\"pattern\":{\"shape\":\"\"}},\"name\":\"Boardmans\",\"offsetgroup\":\"Boardmans\",\"orientation\":\"v\",\"showlegend\":true,\"textposition\":\"auto\",\"x\":[\"Boardmans\"],\"xaxis\":\"x\",\"y\":[27.5],\"yaxis\":\"y\",\"type\":\"bar\"},{\"alignmentgroup\":\"True\",\"hovertemplate\":\"<b>%{hovertext}</b><br><br>brand_name=%{x}<br>y=%{y}<extra></extra>\",\"hovertext\":[\"Brave Soul\"],\"legendgroup\":\"Brave Soul\",\"marker\":{\"color\":\"#FECB52\",\"pattern\":{\"shape\":\"\"}},\"name\":\"Brave Soul\",\"offsetgroup\":\"Brave Soul\",\"orientation\":\"v\",\"showlegend\":true,\"textposition\":\"auto\",\"x\":[\"Brave Soul\"],\"xaxis\":\"x\",\"y\":[28.410267489711934],\"yaxis\":\"y\",\"type\":\"bar\"},{\"alignmentgroup\":\"True\",\"hovertemplate\":\"<b>%{hovertext}</b><br><br>brand_name=%{x}<br>y=%{y}<extra></extra>\",\"hovertext\":[\"Charles & Keith\"],\"legendgroup\":\"Charles & Keith\",\"marker\":{\"color\":\"#636efa\",\"pattern\":{\"shape\":\"\"}},\"name\":\"Charles & Keith\",\"offsetgroup\":\"Charles & Keith\",\"orientation\":\"v\",\"showlegend\":true,\"textposition\":\"auto\",\"x\":[\"Charles & Keith\"],\"xaxis\":\"x\",\"y\":[0.0],\"yaxis\":\"y\",\"type\":\"bar\"},{\"alignmentgroup\":\"True\",\"hovertemplate\":\"<b>%{hovertext}</b><br><br>brand_name=%{x}<br>y=%{y}<extra></extra>\",\"hovertext\":[\"Claudia Canova\"],\"legendgroup\":\"Claudia Canova\",\"marker\":{\"color\":\"#EF553B\",\"pattern\":{\"shape\":\"\"}},\"name\":\"Claudia Canova\",\"offsetgroup\":\"Claudia Canova\",\"orientation\":\"v\",\"showlegend\":true,\"textposition\":\"auto\",\"x\":[\"Claudia Canova\"],\"xaxis\":\"x\",\"y\":[36.095],\"yaxis\":\"y\",\"type\":\"bar\"},{\"alignmentgroup\":\"True\",\"hovertemplate\":\"<b>%{hovertext}</b><br><br>brand_name=%{x}<br>y=%{y}<extra></extra>\",\"hovertext\":[\"Collusion\"],\"legendgroup\":\"Collusion\",\"marker\":{\"color\":\"#00cc96\",\"pattern\":{\"shape\":\"\"}},\"name\":\"Collusion\",\"offsetgroup\":\"Collusion\",\"orientation\":\"v\",\"showlegend\":true,\"textposition\":\"auto\",\"x\":[\"Collusion\"],\"xaxis\":\"x\",\"y\":[0.0],\"yaxis\":\"y\",\"type\":\"bar\"},{\"alignmentgroup\":\"True\",\"hovertemplate\":\"<b>%{hovertext}</b><br><br>brand_name=%{x}<br>y=%{y}<extra></extra>\",\"hovertext\":[\"Don't Think Twice\"],\"legendgroup\":\"Don't Think Twice\",\"marker\":{\"color\":\"#ab63fa\",\"pattern\":{\"shape\":\"\"}},\"name\":\"Don't Think Twice\",\"offsetgroup\":\"Don't Think Twice\",\"orientation\":\"v\",\"showlegend\":true,\"textposition\":\"auto\",\"x\":[\"Don't Think Twice\"],\"xaxis\":\"x\",\"y\":[11.0],\"yaxis\":\"y\",\"type\":\"bar\"},{\"alignmentgroup\":\"True\",\"hovertemplate\":\"<b>%{hovertext}</b><br><br>brand_name=%{x}<br>y=%{y}<extra></extra>\",\"hovertext\":[\"Dune\"],\"legendgroup\":\"Dune\",\"marker\":{\"color\":\"#FFA15A\",\"pattern\":{\"shape\":\"\"}},\"name\":\"Dune\",\"offsetgroup\":\"Dune\",\"orientation\":\"v\",\"showlegend\":true,\"textposition\":\"auto\",\"x\":[\"Dune\"],\"xaxis\":\"x\",\"y\":[55.752],\"yaxis\":\"y\",\"type\":\"bar\"},{\"alignmentgroup\":\"True\",\"hovertemplate\":\"<b>%{hovertext}</b><br><br>brand_name=%{x}<br>y=%{y}<extra></extra>\",\"hovertext\":[\"FIT HUT\"],\"legendgroup\":\"FIT HUT\",\"marker\":{\"color\":\"#19d3f3\",\"pattern\":{\"shape\":\"\"}},\"name\":\"FIT HUT\",\"offsetgroup\":\"FIT HUT\",\"orientation\":\"v\",\"showlegend\":true,\"textposition\":\"auto\",\"x\":[\"FIT HUT\"],\"xaxis\":\"x\",\"y\":[11.690000000000001],\"yaxis\":\"y\",\"type\":\"bar\"},{\"alignmentgroup\":\"True\",\"hovertemplate\":\"<b>%{hovertext}</b><br><br>brand_name=%{x}<br>y=%{y}<extra></extra>\",\"hovertext\":[\"Fiorucci\"],\"legendgroup\":\"Fiorucci\",\"marker\":{\"color\":\"#FF6692\",\"pattern\":{\"shape\":\"\"}},\"name\":\"Fiorucci\",\"offsetgroup\":\"Fiorucci\",\"orientation\":\"v\",\"showlegend\":true,\"textposition\":\"auto\",\"x\":[\"Fiorucci\"],\"xaxis\":\"x\",\"y\":[52.0],\"yaxis\":\"y\",\"type\":\"bar\"},{\"alignmentgroup\":\"True\",\"hovertemplate\":\"<b>%{hovertext}</b><br><br>brand_name=%{x}<br>y=%{y}<extra></extra>\",\"hovertext\":[\"Flounce London\"],\"legendgroup\":\"Flounce London\",\"marker\":{\"color\":\"#B6E880\",\"pattern\":{\"shape\":\"\"}},\"name\":\"Flounce London\",\"offsetgroup\":\"Flounce London\",\"orientation\":\"v\",\"showlegend\":true,\"textposition\":\"auto\",\"x\":[\"Flounce London\"],\"xaxis\":\"x\",\"y\":[17.0],\"yaxis\":\"y\",\"type\":\"bar\"},{\"alignmentgroup\":\"True\",\"hovertemplate\":\"<b>%{hovertext}</b><br><br>brand_name=%{x}<br>y=%{y}<extra></extra>\",\"hovertext\":[\"Forever Unique\"],\"legendgroup\":\"Forever Unique\",\"marker\":{\"color\":\"#FF97FF\",\"pattern\":{\"shape\":\"\"}},\"name\":\"Forever Unique\",\"offsetgroup\":\"Forever Unique\",\"orientation\":\"v\",\"showlegend\":true,\"textposition\":\"auto\",\"x\":[\"Forever Unique\"],\"xaxis\":\"x\",\"y\":[16.0],\"yaxis\":\"y\",\"type\":\"bar\"},{\"alignmentgroup\":\"True\",\"hovertemplate\":\"<b>%{hovertext}</b><br><br>brand_name=%{x}<br>y=%{y}<extra></extra>\",\"hovertext\":[\"French Connection\"],\"legendgroup\":\"French Connection\",\"marker\":{\"color\":\"#FECB52\",\"pattern\":{\"shape\":\"\"}},\"name\":\"French Connection\",\"offsetgroup\":\"French Connection\",\"orientation\":\"v\",\"showlegend\":true,\"textposition\":\"auto\",\"x\":[\"French Connection\"],\"xaxis\":\"x\",\"y\":[42.11856630824372],\"yaxis\":\"y\",\"type\":\"bar\"},{\"alignmentgroup\":\"True\",\"hovertemplate\":\"<b>%{hovertext}</b><br><br>brand_name=%{x}<br>y=%{y}<extra></extra>\",\"hovertext\":[\"Frock and Frill\"],\"legendgroup\":\"Frock and Frill\",\"marker\":{\"color\":\"#636efa\",\"pattern\":{\"shape\":\"\"}},\"name\":\"Frock and Frill\",\"offsetgroup\":\"Frock and Frill\",\"orientation\":\"v\",\"showlegend\":true,\"textposition\":\"auto\",\"x\":[\"Frock and Frill\"],\"xaxis\":\"x\",\"y\":[148.0],\"yaxis\":\"y\",\"type\":\"bar\"},{\"alignmentgroup\":\"True\",\"hovertemplate\":\"<b>%{hovertext}</b><br><br>brand_name=%{x}<br>y=%{y}<extra></extra>\",\"hovertext\":[\"Ginger Ray\"],\"legendgroup\":\"Ginger Ray\",\"marker\":{\"color\":\"#EF553B\",\"pattern\":{\"shape\":\"\"}},\"name\":\"Ginger Ray\",\"offsetgroup\":\"Ginger Ray\",\"orientation\":\"v\",\"showlegend\":true,\"textposition\":\"auto\",\"x\":[\"Ginger Ray\"],\"xaxis\":\"x\",\"y\":[3.949999999999999],\"yaxis\":\"y\",\"type\":\"bar\"},{\"alignmentgroup\":\"True\",\"hovertemplate\":\"<b>%{hovertext}</b><br><br>brand_name=%{x}<br>y=%{y}<extra></extra>\",\"hovertext\":[\"Glamorous\"],\"legendgroup\":\"Glamorous\",\"marker\":{\"color\":\"#00cc96\",\"pattern\":{\"shape\":\"\"}},\"name\":\"Glamorous\",\"offsetgroup\":\"Glamorous\",\"orientation\":\"v\",\"showlegend\":true,\"textposition\":\"auto\",\"x\":[\"Glamorous\"],\"xaxis\":\"x\",\"y\":[5.0],\"yaxis\":\"y\",\"type\":\"bar\"},{\"alignmentgroup\":\"True\",\"hovertemplate\":\"<b>%{hovertext}</b><br><br>brand_name=%{x}<br>y=%{y}<extra></extra>\",\"hovertext\":[\"Influence\"],\"legendgroup\":\"Influence\",\"marker\":{\"color\":\"#ab63fa\",\"pattern\":{\"shape\":\"\"}},\"name\":\"Influence\",\"offsetgroup\":\"Influence\",\"orientation\":\"v\",\"showlegend\":true,\"textposition\":\"auto\",\"x\":[\"Influence\"],\"xaxis\":\"x\",\"y\":[20.0],\"yaxis\":\"y\",\"type\":\"bar\"},{\"alignmentgroup\":\"True\",\"hovertemplate\":\"<b>%{hovertext}</b><br><br>brand_name=%{x}<br>y=%{y}<extra></extra>\",\"hovertext\":[\"Jack & Jones\"],\"legendgroup\":\"Jack & Jones\",\"marker\":{\"color\":\"#FFA15A\",\"pattern\":{\"shape\":\"\"}},\"name\":\"Jack & Jones\",\"offsetgroup\":\"Jack & Jones\",\"orientation\":\"v\",\"showlegend\":true,\"textposition\":\"auto\",\"x\":[\"Jack & Jones\"],\"xaxis\":\"x\",\"y\":[7.0],\"yaxis\":\"y\",\"type\":\"bar\"},{\"alignmentgroup\":\"True\",\"hovertemplate\":\"<b>%{hovertext}</b><br><br>brand_name=%{x}<br>y=%{y}<extra></extra>\",\"hovertext\":[\"LOLA MAY TALL\"],\"legendgroup\":\"LOLA MAY TALL\",\"marker\":{\"color\":\"#19d3f3\",\"pattern\":{\"shape\":\"\"}},\"name\":\"LOLA MAY TALL\",\"offsetgroup\":\"LOLA MAY TALL\",\"orientation\":\"v\",\"showlegend\":true,\"textposition\":\"auto\",\"x\":[\"LOLA MAY TALL\"],\"xaxis\":\"x\",\"y\":[19.0],\"yaxis\":\"y\",\"type\":\"bar\"},{\"alignmentgroup\":\"True\",\"hovertemplate\":\"<b>%{hovertext}</b><br><br>brand_name=%{x}<br>y=%{y}<extra></extra>\",\"hovertext\":[\"Liquorish\"],\"legendgroup\":\"Liquorish\",\"marker\":{\"color\":\"#FF6692\",\"pattern\":{\"shape\":\"\"}},\"name\":\"Liquorish\",\"offsetgroup\":\"Liquorish\",\"orientation\":\"v\",\"showlegend\":true,\"textposition\":\"auto\",\"x\":[\"Liquorish\"],\"xaxis\":\"x\",\"y\":[74.0],\"yaxis\":\"y\",\"type\":\"bar\"},{\"alignmentgroup\":\"True\",\"hovertemplate\":\"<b>%{hovertext}</b><br><br>brand_name=%{x}<br>y=%{y}<extra></extra>\",\"hovertext\":[\"Lola May\"],\"legendgroup\":\"Lola May\",\"marker\":{\"color\":\"#B6E880\",\"pattern\":{\"shape\":\"\"}},\"name\":\"Lola May\",\"offsetgroup\":\"Lola May\",\"orientation\":\"v\",\"showlegend\":true,\"textposition\":\"auto\",\"x\":[\"Lola May\"],\"xaxis\":\"x\",\"y\":[22.925],\"yaxis\":\"y\",\"type\":\"bar\"},{\"alignmentgroup\":\"True\",\"hovertemplate\":\"<b>%{hovertext}</b><br><br>brand_name=%{x}<br>y=%{y}<extra></extra>\",\"hovertext\":[\"London Rebel\"],\"legendgroup\":\"London Rebel\",\"marker\":{\"color\":\"#FF97FF\",\"pattern\":{\"shape\":\"\"}},\"name\":\"London Rebel\",\"offsetgroup\":\"London Rebel\",\"orientation\":\"v\",\"showlegend\":true,\"textposition\":\"auto\",\"x\":[\"London Rebel\"],\"xaxis\":\"x\",\"y\":[48.95],\"yaxis\":\"y\",\"type\":\"bar\"},{\"alignmentgroup\":\"True\",\"hovertemplate\":\"<b>%{hovertext}</b><br><br>brand_name=%{x}<br>y=%{y}<extra></extra>\",\"hovertext\":[\"Love Moschino\"],\"legendgroup\":\"Love Moschino\",\"marker\":{\"color\":\"#FECB52\",\"pattern\":{\"shape\":\"\"}},\"name\":\"Love Moschino\",\"offsetgroup\":\"Love Moschino\",\"orientation\":\"v\",\"showlegend\":true,\"textposition\":\"auto\",\"x\":[\"Love Moschino\"],\"xaxis\":\"x\",\"y\":[67.0],\"yaxis\":\"y\",\"type\":\"bar\"},{\"alignmentgroup\":\"True\",\"hovertemplate\":\"<b>%{hovertext}</b><br><br>brand_name=%{x}<br>y=%{y}<extra></extra>\",\"hovertext\":[\"Mario Badescu\"],\"legendgroup\":\"Mario Badescu\",\"marker\":{\"color\":\"#636efa\",\"pattern\":{\"shape\":\"\"}},\"name\":\"Mario Badescu\",\"offsetgroup\":\"Mario Badescu\",\"orientation\":\"v\",\"showlegend\":true,\"textposition\":\"auto\",\"x\":[\"Mario Badescu\"],\"xaxis\":\"x\",\"y\":[0.0],\"yaxis\":\"y\",\"type\":\"bar\"},{\"alignmentgroup\":\"True\",\"hovertemplate\":\"<b>%{hovertext}</b><br><br>brand_name=%{x}<br>y=%{y}<extra></extra>\",\"hovertext\":[\"Miss Selfridge\"],\"legendgroup\":\"Miss Selfridge\",\"marker\":{\"color\":\"#EF553B\",\"pattern\":{\"shape\":\"\"}},\"name\":\"Miss Selfridge\",\"offsetgroup\":\"Miss Selfridge\",\"orientation\":\"v\",\"showlegend\":true,\"textposition\":\"auto\",\"x\":[\"Miss Selfridge\"],\"xaxis\":\"x\",\"y\":[0.0],\"yaxis\":\"y\",\"type\":\"bar\"},{\"alignmentgroup\":\"True\",\"hovertemplate\":\"<b>%{hovertext}</b><br><br>brand_name=%{x}<br>y=%{y}<extra></extra>\",\"hovertext\":[\"NaaNaa\"],\"legendgroup\":\"NaaNaa\",\"marker\":{\"color\":\"#00cc96\",\"pattern\":{\"shape\":\"\"}},\"name\":\"NaaNaa\",\"offsetgroup\":\"NaaNaa\",\"orientation\":\"v\",\"showlegend\":true,\"textposition\":\"auto\",\"x\":[\"NaaNaa\"],\"xaxis\":\"x\",\"y\":[30.0],\"yaxis\":\"y\",\"type\":\"bar\"},{\"alignmentgroup\":\"True\",\"hovertemplate\":\"<b>%{hovertext}</b><br><br>brand_name=%{x}<br>y=%{y}<extra></extra>\",\"hovertext\":[\"Original Penguin\"],\"legendgroup\":\"Original Penguin\",\"marker\":{\"color\":\"#ab63fa\",\"pattern\":{\"shape\":\"\"}},\"name\":\"Original Penguin\",\"offsetgroup\":\"Original Penguin\",\"orientation\":\"v\",\"showlegend\":true,\"textposition\":\"auto\",\"x\":[\"Original Penguin\"],\"xaxis\":\"x\",\"y\":[55.269999999999996],\"yaxis\":\"y\",\"type\":\"bar\"},{\"alignmentgroup\":\"True\",\"hovertemplate\":\"<b>%{hovertext}</b><br><br>brand_name=%{x}<br>y=%{y}<extra></extra>\",\"hovertext\":[\"Oskia\"],\"legendgroup\":\"Oskia\",\"marker\":{\"color\":\"#FFA15A\",\"pattern\":{\"shape\":\"\"}},\"name\":\"Oskia\",\"offsetgroup\":\"Oskia\",\"orientation\":\"v\",\"showlegend\":true,\"textposition\":\"auto\",\"x\":[\"Oskia\"],\"xaxis\":\"x\",\"y\":[0.0],\"yaxis\":\"y\",\"type\":\"bar\"},{\"alignmentgroup\":\"True\",\"hovertemplate\":\"<b>%{hovertext}</b><br><br>brand_name=%{x}<br>y=%{y}<extra></extra>\",\"hovertext\":[\"Parisian\"],\"legendgroup\":\"Parisian\",\"marker\":{\"color\":\"#19d3f3\",\"pattern\":{\"shape\":\"\"}},\"name\":\"Parisian\",\"offsetgroup\":\"Parisian\",\"orientation\":\"v\",\"showlegend\":true,\"textposition\":\"auto\",\"x\":[\"Parisian\"],\"xaxis\":\"x\",\"y\":[18.955],\"yaxis\":\"y\",\"type\":\"bar\"},{\"alignmentgroup\":\"True\",\"hovertemplate\":\"<b>%{hovertext}</b><br><br>brand_name=%{x}<br>y=%{y}<extra></extra>\",\"hovertext\":[\"Polo Ralph Lauren\"],\"legendgroup\":\"Polo Ralph Lauren\",\"marker\":{\"color\":\"#FF6692\",\"pattern\":{\"shape\":\"\"}},\"name\":\"Polo Ralph Lauren\",\"offsetgroup\":\"Polo Ralph Lauren\",\"orientation\":\"v\",\"showlegend\":true,\"textposition\":\"auto\",\"x\":[\"Polo Ralph Lauren\"],\"xaxis\":\"x\",\"y\":[0.0],\"yaxis\":\"y\",\"type\":\"bar\"},{\"alignmentgroup\":\"True\",\"hovertemplate\":\"<b>%{hovertext}</b><br><br>brand_name=%{x}<br>y=%{y}<extra></extra>\",\"hovertext\":[\"Puma\"],\"legendgroup\":\"Puma\",\"marker\":{\"color\":\"#B6E880\",\"pattern\":{\"shape\":\"\"}},\"name\":\"Puma\",\"offsetgroup\":\"Puma\",\"orientation\":\"v\",\"showlegend\":true,\"textposition\":\"auto\",\"x\":[\"Puma\"],\"xaxis\":\"x\",\"y\":[0.0],\"yaxis\":\"y\",\"type\":\"bar\"},{\"alignmentgroup\":\"True\",\"hovertemplate\":\"<b>%{hovertext}</b><br><br>brand_name=%{x}<br>y=%{y}<extra></extra>\",\"hovertext\":[\"Rebellious Fashion\"],\"legendgroup\":\"Rebellious Fashion\",\"marker\":{\"color\":\"#FF97FF\",\"pattern\":{\"shape\":\"\"}},\"name\":\"Rebellious Fashion\",\"offsetgroup\":\"Rebellious Fashion\",\"orientation\":\"v\",\"showlegend\":true,\"textposition\":\"auto\",\"x\":[\"Rebellious Fashion\"],\"xaxis\":\"x\",\"y\":[22.5],\"yaxis\":\"y\",\"type\":\"bar\"},{\"alignmentgroup\":\"True\",\"hovertemplate\":\"<b>%{hovertext}</b><br><br>brand_name=%{x}<br>y=%{y}<extra></extra>\",\"hovertext\":[\"Reebok\"],\"legendgroup\":\"Reebok\",\"marker\":{\"color\":\"#FECB52\",\"pattern\":{\"shape\":\"\"}},\"name\":\"Reebok\",\"offsetgroup\":\"Reebok\",\"orientation\":\"v\",\"showlegend\":true,\"textposition\":\"auto\",\"x\":[\"Reebok\"],\"xaxis\":\"x\",\"y\":[37.11],\"yaxis\":\"y\",\"type\":\"bar\"},{\"alignmentgroup\":\"True\",\"hovertemplate\":\"<b>%{hovertext}</b><br><br>brand_name=%{x}<br>y=%{y}<extra></extra>\",\"hovertext\":[\"Replay\"],\"legendgroup\":\"Replay\",\"marker\":{\"color\":\"#636efa\",\"pattern\":{\"shape\":\"\"}},\"name\":\"Replay\",\"offsetgroup\":\"Replay\",\"orientation\":\"v\",\"showlegend\":true,\"textposition\":\"auto\",\"x\":[\"Replay\"],\"xaxis\":\"x\",\"y\":[34.23456790123457],\"yaxis\":\"y\",\"type\":\"bar\"},{\"alignmentgroup\":\"True\",\"hovertemplate\":\"<b>%{hovertext}</b><br><br>brand_name=%{x}<br>y=%{y}<extra></extra>\",\"hovertext\":[\"Revolution\"],\"legendgroup\":\"Revolution\",\"marker\":{\"color\":\"#EF553B\",\"pattern\":{\"shape\":\"\"}},\"name\":\"Revolution\",\"offsetgroup\":\"Revolution\",\"orientation\":\"v\",\"showlegend\":true,\"textposition\":\"auto\",\"x\":[\"Revolution\"],\"xaxis\":\"x\",\"y\":[0.0],\"yaxis\":\"y\",\"type\":\"bar\"},{\"alignmentgroup\":\"True\",\"hovertemplate\":\"<b>%{hovertext}</b><br><br>brand_name=%{x}<br>y=%{y}<extra></extra>\",\"hovertext\":[\"Revolution Skincare\"],\"legendgroup\":\"Revolution Skincare\",\"marker\":{\"color\":\"#00cc96\",\"pattern\":{\"shape\":\"\"}},\"name\":\"Revolution Skincare\",\"offsetgroup\":\"Revolution Skincare\",\"orientation\":\"v\",\"showlegend\":true,\"textposition\":\"auto\",\"x\":[\"Revolution Skincare\"],\"xaxis\":\"x\",\"y\":[0.0],\"yaxis\":\"y\",\"type\":\"bar\"},{\"alignmentgroup\":\"True\",\"hovertemplate\":\"<b>%{hovertext}</b><br><br>brand_name=%{x}<br>y=%{y}<extra></extra>\",\"hovertext\":[\"SVNX\"],\"legendgroup\":\"SVNX\",\"marker\":{\"color\":\"#ab63fa\",\"pattern\":{\"shape\":\"\"}},\"name\":\"SVNX\",\"offsetgroup\":\"SVNX\",\"orientation\":\"v\",\"showlegend\":true,\"textposition\":\"auto\",\"x\":[\"SVNX\"],\"xaxis\":\"x\",\"y\":[13.420000000000002],\"yaxis\":\"y\",\"type\":\"bar\"},{\"alignmentgroup\":\"True\",\"hovertemplate\":\"<b>%{hovertext}</b><br><br>brand_name=%{x}<br>y=%{y}<extra></extra>\",\"hovertext\":[\"Soul Star\"],\"legendgroup\":\"Soul Star\",\"marker\":{\"color\":\"#FFA15A\",\"pattern\":{\"shape\":\"\"}},\"name\":\"Soul Star\",\"offsetgroup\":\"Soul Star\",\"orientation\":\"v\",\"showlegend\":true,\"textposition\":\"auto\",\"x\":[\"Soul Star\"],\"xaxis\":\"x\",\"y\":[30.0],\"yaxis\":\"y\",\"type\":\"bar\"},{\"alignmentgroup\":\"True\",\"hovertemplate\":\"<b>%{hovertext}</b><br><br>brand_name=%{x}<br>y=%{y}<extra></extra>\",\"hovertext\":[\"The North Face\"],\"legendgroup\":\"The North Face\",\"marker\":{\"color\":\"#19d3f3\",\"pattern\":{\"shape\":\"\"}},\"name\":\"The North Face\",\"offsetgroup\":\"The North Face\",\"orientation\":\"v\",\"showlegend\":true,\"textposition\":\"auto\",\"x\":[\"The North Face\"],\"xaxis\":\"x\",\"y\":[0.0],\"yaxis\":\"y\",\"type\":\"bar\"},{\"alignmentgroup\":\"True\",\"hovertemplate\":\"<b>%{hovertext}</b><br><br>brand_name=%{x}<br>y=%{y}<extra></extra>\",\"hovertext\":[\"Threadbare\"],\"legendgroup\":\"Threadbare\",\"marker\":{\"color\":\"#FF6692\",\"pattern\":{\"shape\":\"\"}},\"name\":\"Threadbare\",\"offsetgroup\":\"Threadbare\",\"orientation\":\"v\",\"showlegend\":true,\"textposition\":\"auto\",\"x\":[\"Threadbare\"],\"xaxis\":\"x\",\"y\":[34.739999999999995],\"yaxis\":\"y\",\"type\":\"bar\"},{\"alignmentgroup\":\"True\",\"hovertemplate\":\"<b>%{hovertext}</b><br><br>brand_name=%{x}<br>y=%{y}<extra></extra>\",\"hovertext\":[\"Toms\"],\"legendgroup\":\"Toms\",\"marker\":{\"color\":\"#B6E880\",\"pattern\":{\"shape\":\"\"}},\"name\":\"Toms\",\"offsetgroup\":\"Toms\",\"orientation\":\"v\",\"showlegend\":true,\"textposition\":\"auto\",\"x\":[\"Toms\"],\"xaxis\":\"x\",\"y\":[16.0],\"yaxis\":\"y\",\"type\":\"bar\"},{\"alignmentgroup\":\"True\",\"hovertemplate\":\"<b>%{hovertext}</b><br><br>brand_name=%{x}<br>y=%{y}<extra></extra>\",\"hovertext\":[\"Topman\"],\"legendgroup\":\"Topman\",\"marker\":{\"color\":\"#FF97FF\",\"pattern\":{\"shape\":\"\"}},\"name\":\"Topman\",\"offsetgroup\":\"Topman\",\"orientation\":\"v\",\"showlegend\":true,\"textposition\":\"auto\",\"x\":[\"Topman\"],\"xaxis\":\"x\",\"y\":[0.0],\"yaxis\":\"y\",\"type\":\"bar\"},{\"alignmentgroup\":\"True\",\"hovertemplate\":\"<b>%{hovertext}</b><br><br>brand_name=%{x}<br>y=%{y}<extra></extra>\",\"hovertext\":[\"True Decadence\"],\"legendgroup\":\"True Decadence\",\"marker\":{\"color\":\"#FECB52\",\"pattern\":{\"shape\":\"\"}},\"name\":\"True Decadence\",\"offsetgroup\":\"True Decadence\",\"orientation\":\"v\",\"showlegend\":true,\"textposition\":\"auto\",\"x\":[\"True Decadence\"],\"xaxis\":\"x\",\"y\":[76.0],\"yaxis\":\"y\",\"type\":\"bar\"},{\"alignmentgroup\":\"True\",\"hovertemplate\":\"<b>%{hovertext}</b><br><br>brand_name=%{x}<br>y=%{y}<extra></extra>\",\"hovertext\":[\"Truffle Collection\"],\"legendgroup\":\"Truffle Collection\",\"marker\":{\"color\":\"#636efa\",\"pattern\":{\"shape\":\"\"}},\"name\":\"Truffle Collection\",\"offsetgroup\":\"Truffle Collection\",\"orientation\":\"v\",\"showlegend\":true,\"textposition\":\"auto\",\"x\":[\"Truffle Collection\"],\"xaxis\":\"x\",\"y\":[31.5],\"yaxis\":\"y\",\"type\":\"bar\"},{\"alignmentgroup\":\"True\",\"hovertemplate\":\"<b>%{hovertext}</b><br><br>brand_name=%{x}<br>y=%{y}<extra></extra>\",\"hovertext\":[\"Truffle Collection Wide Fit\"],\"legendgroup\":\"Truffle Collection Wide Fit\",\"marker\":{\"color\":\"#EF553B\",\"pattern\":{\"shape\":\"\"}},\"name\":\"Truffle Collection Wide Fit\",\"offsetgroup\":\"Truffle Collection Wide Fit\",\"orientation\":\"v\",\"showlegend\":true,\"textposition\":\"auto\",\"x\":[\"Truffle Collection Wide Fit\"],\"xaxis\":\"x\",\"y\":[19.666666666666668],\"yaxis\":\"y\",\"type\":\"bar\"},{\"alignmentgroup\":\"True\",\"hovertemplate\":\"<b>%{hovertext}</b><br><br>brand_name=%{x}<br>y=%{y}<extra></extra>\",\"hovertext\":[\"UGG\"],\"legendgroup\":\"UGG\",\"marker\":{\"color\":\"#00cc96\",\"pattern\":{\"shape\":\"\"}},\"name\":\"UGG\",\"offsetgroup\":\"UGG\",\"orientation\":\"v\",\"showlegend\":true,\"textposition\":\"auto\",\"x\":[\"UGG\"],\"xaxis\":\"x\",\"y\":[55.000000000000014],\"yaxis\":\"y\",\"type\":\"bar\"},{\"alignmentgroup\":\"True\",\"hovertemplate\":\"<b>%{hovertext}</b><br><br>brand_name=%{x}<br>y=%{y}<extra></extra>\",\"hovertext\":[\"UNIQUE21\"],\"legendgroup\":\"UNIQUE21\",\"marker\":{\"color\":\"#ab63fa\",\"pattern\":{\"shape\":\"\"}},\"name\":\"UNIQUE21\",\"offsetgroup\":\"UNIQUE21\",\"orientation\":\"v\",\"showlegend\":true,\"textposition\":\"auto\",\"x\":[\"UNIQUE21\"],\"xaxis\":\"x\",\"y\":[28.000000000000007],\"yaxis\":\"y\",\"type\":\"bar\"},{\"alignmentgroup\":\"True\",\"hovertemplate\":\"<b>%{hovertext}</b><br><br>brand_name=%{x}<br>y=%{y}<extra></extra>\",\"hovertext\":[\"Vans\"],\"legendgroup\":\"Vans\",\"marker\":{\"color\":\"#FFA15A\",\"pattern\":{\"shape\":\"\"}},\"name\":\"Vans\",\"offsetgroup\":\"Vans\",\"orientation\":\"v\",\"showlegend\":true,\"textposition\":\"auto\",\"x\":[\"Vans\"],\"xaxis\":\"x\",\"y\":[0.0],\"yaxis\":\"y\",\"type\":\"bar\"},{\"alignmentgroup\":\"True\",\"hovertemplate\":\"<b>%{hovertext}</b><br><br>brand_name=%{x}<br>y=%{y}<extra></extra>\",\"hovertext\":[\"Virgos Lounge\"],\"legendgroup\":\"Virgos Lounge\",\"marker\":{\"color\":\"#19d3f3\",\"pattern\":{\"shape\":\"\"}},\"name\":\"Virgos Lounge\",\"offsetgroup\":\"Virgos Lounge\",\"orientation\":\"v\",\"showlegend\":true,\"textposition\":\"auto\",\"x\":[\"Virgos Lounge\"],\"xaxis\":\"x\",\"y\":[115.99999999999997],\"yaxis\":\"y\",\"type\":\"bar\"},{\"alignmentgroup\":\"True\",\"hovertemplate\":\"<b>%{hovertext}</b><br><br>brand_name=%{x}<br>y=%{y}<extra></extra>\",\"hovertext\":[\"Vivienne Westwood\"],\"legendgroup\":\"Vivienne Westwood\",\"marker\":{\"color\":\"#FF6692\",\"pattern\":{\"shape\":\"\"}},\"name\":\"Vivienne Westwood\",\"offsetgroup\":\"Vivienne Westwood\",\"orientation\":\"v\",\"showlegend\":true,\"textposition\":\"auto\",\"x\":[\"Vivienne Westwood\"],\"xaxis\":\"x\",\"y\":[135.0],\"yaxis\":\"y\",\"type\":\"bar\"},{\"alignmentgroup\":\"True\",\"hovertemplate\":\"<b>%{hovertext}</b><br><br>brand_name=%{x}<br>y=%{y}<extra></extra>\",\"hovertext\":[\"Waven\"],\"legendgroup\":\"Waven\",\"marker\":{\"color\":\"#B6E880\",\"pattern\":{\"shape\":\"\"}},\"name\":\"Waven\",\"offsetgroup\":\"Waven\",\"orientation\":\"v\",\"showlegend\":true,\"textposition\":\"auto\",\"x\":[\"Waven\"],\"xaxis\":\"x\",\"y\":[34.0],\"yaxis\":\"y\",\"type\":\"bar\"},{\"alignmentgroup\":\"True\",\"hovertemplate\":\"<b>%{hovertext}</b><br><br>brand_name=%{x}<br>y=%{y}<extra></extra>\",\"hovertext\":[\"Zoe Ayla\"],\"legendgroup\":\"Zoe Ayla\",\"marker\":{\"color\":\"#FF97FF\",\"pattern\":{\"shape\":\"\"}},\"name\":\"Zoe Ayla\",\"offsetgroup\":\"Zoe Ayla\",\"orientation\":\"v\",\"showlegend\":true,\"textposition\":\"auto\",\"x\":[\"Zoe Ayla\"],\"xaxis\":\"x\",\"y\":[33.0],\"yaxis\":\"y\",\"type\":\"bar\"},{\"alignmentgroup\":\"True\",\"hovertemplate\":\"<b>%{hovertext}</b><br><br>brand_name=%{x}<br>y=%{y}<extra></extra>\",\"hovertext\":[\"adidas Originals\"],\"legendgroup\":\"adidas Originals\",\"marker\":{\"color\":\"#FECB52\",\"pattern\":{\"shape\":\"\"}},\"name\":\"adidas Originals\",\"offsetgroup\":\"adidas Originals\",\"orientation\":\"v\",\"showlegend\":true,\"textposition\":\"auto\",\"x\":[\"adidas Originals\"],\"xaxis\":\"x\",\"y\":[0.0],\"yaxis\":\"y\",\"type\":\"bar\"},{\"alignmentgroup\":\"True\",\"hovertemplate\":\"<b>%{hovertext}</b><br><br>brand_name=%{x}<br>y=%{y}<extra></extra>\",\"hovertext\":[\"adidas performance\"],\"legendgroup\":\"adidas performance\",\"marker\":{\"color\":\"#636efa\",\"pattern\":{\"shape\":\"\"}},\"name\":\"adidas performance\",\"offsetgroup\":\"adidas performance\",\"orientation\":\"v\",\"showlegend\":true,\"textposition\":\"auto\",\"x\":[\"adidas performance\"],\"xaxis\":\"x\",\"y\":[0.0],\"yaxis\":\"y\",\"type\":\"bar\"}],                        {\"template\":{\"data\":{\"histogram2dcontour\":[{\"type\":\"histogram2dcontour\",\"colorbar\":{\"outlinewidth\":0,\"ticks\":\"\"},\"colorscale\":[[0.0,\"#0d0887\"],[0.1111111111111111,\"#46039f\"],[0.2222222222222222,\"#7201a8\"],[0.3333333333333333,\"#9c179e\"],[0.4444444444444444,\"#bd3786\"],[0.5555555555555556,\"#d8576b\"],[0.6666666666666666,\"#ed7953\"],[0.7777777777777778,\"#fb9f3a\"],[0.8888888888888888,\"#fdca26\"],[1.0,\"#f0f921\"]]}],\"choropleth\":[{\"type\":\"choropleth\",\"colorbar\":{\"outlinewidth\":0,\"ticks\":\"\"}}],\"histogram2d\":[{\"type\":\"histogram2d\",\"colorbar\":{\"outlinewidth\":0,\"ticks\":\"\"},\"colorscale\":[[0.0,\"#0d0887\"],[0.1111111111111111,\"#46039f\"],[0.2222222222222222,\"#7201a8\"],[0.3333333333333333,\"#9c179e\"],[0.4444444444444444,\"#bd3786\"],[0.5555555555555556,\"#d8576b\"],[0.6666666666666666,\"#ed7953\"],[0.7777777777777778,\"#fb9f3a\"],[0.8888888888888888,\"#fdca26\"],[1.0,\"#f0f921\"]]}],\"heatmap\":[{\"type\":\"heatmap\",\"colorbar\":{\"outlinewidth\":0,\"ticks\":\"\"},\"colorscale\":[[0.0,\"#0d0887\"],[0.1111111111111111,\"#46039f\"],[0.2222222222222222,\"#7201a8\"],[0.3333333333333333,\"#9c179e\"],[0.4444444444444444,\"#bd3786\"],[0.5555555555555556,\"#d8576b\"],[0.6666666666666666,\"#ed7953\"],[0.7777777777777778,\"#fb9f3a\"],[0.8888888888888888,\"#fdca26\"],[1.0,\"#f0f921\"]]}],\"heatmapgl\":[{\"type\":\"heatmapgl\",\"colorbar\":{\"outlinewidth\":0,\"ticks\":\"\"},\"colorscale\":[[0.0,\"#0d0887\"],[0.1111111111111111,\"#46039f\"],[0.2222222222222222,\"#7201a8\"],[0.3333333333333333,\"#9c179e\"],[0.4444444444444444,\"#bd3786\"],[0.5555555555555556,\"#d8576b\"],[0.6666666666666666,\"#ed7953\"],[0.7777777777777778,\"#fb9f3a\"],[0.8888888888888888,\"#fdca26\"],[1.0,\"#f0f921\"]]}],\"contourcarpet\":[{\"type\":\"contourcarpet\",\"colorbar\":{\"outlinewidth\":0,\"ticks\":\"\"}}],\"contour\":[{\"type\":\"contour\",\"colorbar\":{\"outlinewidth\":0,\"ticks\":\"\"},\"colorscale\":[[0.0,\"#0d0887\"],[0.1111111111111111,\"#46039f\"],[0.2222222222222222,\"#7201a8\"],[0.3333333333333333,\"#9c179e\"],[0.4444444444444444,\"#bd3786\"],[0.5555555555555556,\"#d8576b\"],[0.6666666666666666,\"#ed7953\"],[0.7777777777777778,\"#fb9f3a\"],[0.8888888888888888,\"#fdca26\"],[1.0,\"#f0f921\"]]}],\"surface\":[{\"type\":\"surface\",\"colorbar\":{\"outlinewidth\":0,\"ticks\":\"\"},\"colorscale\":[[0.0,\"#0d0887\"],[0.1111111111111111,\"#46039f\"],[0.2222222222222222,\"#7201a8\"],[0.3333333333333333,\"#9c179e\"],[0.4444444444444444,\"#bd3786\"],[0.5555555555555556,\"#d8576b\"],[0.6666666666666666,\"#ed7953\"],[0.7777777777777778,\"#fb9f3a\"],[0.8888888888888888,\"#fdca26\"],[1.0,\"#f0f921\"]]}],\"mesh3d\":[{\"type\":\"mesh3d\",\"colorbar\":{\"outlinewidth\":0,\"ticks\":\"\"}}],\"scatter\":[{\"fillpattern\":{\"fillmode\":\"overlay\",\"size\":10,\"solidity\":0.2},\"type\":\"scatter\"}],\"parcoords\":[{\"type\":\"parcoords\",\"line\":{\"colorbar\":{\"outlinewidth\":0,\"ticks\":\"\"}}}],\"scatterpolargl\":[{\"type\":\"scatterpolargl\",\"marker\":{\"colorbar\":{\"outlinewidth\":0,\"ticks\":\"\"}}}],\"bar\":[{\"error_x\":{\"color\":\"#2a3f5f\"},\"error_y\":{\"color\":\"#2a3f5f\"},\"marker\":{\"line\":{\"color\":\"#E5ECF6\",\"width\":0.5},\"pattern\":{\"fillmode\":\"overlay\",\"size\":10,\"solidity\":0.2}},\"type\":\"bar\"}],\"scattergeo\":[{\"type\":\"scattergeo\",\"marker\":{\"colorbar\":{\"outlinewidth\":0,\"ticks\":\"\"}}}],\"scatterpolar\":[{\"type\":\"scatterpolar\",\"marker\":{\"colorbar\":{\"outlinewidth\":0,\"ticks\":\"\"}}}],\"histogram\":[{\"marker\":{\"pattern\":{\"fillmode\":\"overlay\",\"size\":10,\"solidity\":0.2}},\"type\":\"histogram\"}],\"scattergl\":[{\"type\":\"scattergl\",\"marker\":{\"colorbar\":{\"outlinewidth\":0,\"ticks\":\"\"}}}],\"scatter3d\":[{\"type\":\"scatter3d\",\"line\":{\"colorbar\":{\"outlinewidth\":0,\"ticks\":\"\"}},\"marker\":{\"colorbar\":{\"outlinewidth\":0,\"ticks\":\"\"}}}],\"scattermapbox\":[{\"type\":\"scattermapbox\",\"marker\":{\"colorbar\":{\"outlinewidth\":0,\"ticks\":\"\"}}}],\"scatterternary\":[{\"type\":\"scatterternary\",\"marker\":{\"colorbar\":{\"outlinewidth\":0,\"ticks\":\"\"}}}],\"scattercarpet\":[{\"type\":\"scattercarpet\",\"marker\":{\"colorbar\":{\"outlinewidth\":0,\"ticks\":\"\"}}}],\"carpet\":[{\"aaxis\":{\"endlinecolor\":\"#2a3f5f\",\"gridcolor\":\"white\",\"linecolor\":\"white\",\"minorgridcolor\":\"white\",\"startlinecolor\":\"#2a3f5f\"},\"baxis\":{\"endlinecolor\":\"#2a3f5f\",\"gridcolor\":\"white\",\"linecolor\":\"white\",\"minorgridcolor\":\"white\",\"startlinecolor\":\"#2a3f5f\"},\"type\":\"carpet\"}],\"table\":[{\"cells\":{\"fill\":{\"color\":\"#EBF0F8\"},\"line\":{\"color\":\"white\"}},\"header\":{\"fill\":{\"color\":\"#C8D4E3\"},\"line\":{\"color\":\"white\"}},\"type\":\"table\"}],\"barpolar\":[{\"marker\":{\"line\":{\"color\":\"#E5ECF6\",\"width\":0.5},\"pattern\":{\"fillmode\":\"overlay\",\"size\":10,\"solidity\":0.2}},\"type\":\"barpolar\"}],\"pie\":[{\"automargin\":true,\"type\":\"pie\"}]},\"layout\":{\"autotypenumbers\":\"strict\",\"colorway\":[\"#636efa\",\"#EF553B\",\"#00cc96\",\"#ab63fa\",\"#FFA15A\",\"#19d3f3\",\"#FF6692\",\"#B6E880\",\"#FF97FF\",\"#FECB52\"],\"font\":{\"color\":\"#2a3f5f\"},\"hovermode\":\"closest\",\"hoverlabel\":{\"align\":\"left\"},\"paper_bgcolor\":\"white\",\"plot_bgcolor\":\"#E5ECF6\",\"polar\":{\"bgcolor\":\"#E5ECF6\",\"angularaxis\":{\"gridcolor\":\"white\",\"linecolor\":\"white\",\"ticks\":\"\"},\"radialaxis\":{\"gridcolor\":\"white\",\"linecolor\":\"white\",\"ticks\":\"\"}},\"ternary\":{\"bgcolor\":\"#E5ECF6\",\"aaxis\":{\"gridcolor\":\"white\",\"linecolor\":\"white\",\"ticks\":\"\"},\"baxis\":{\"gridcolor\":\"white\",\"linecolor\":\"white\",\"ticks\":\"\"},\"caxis\":{\"gridcolor\":\"white\",\"linecolor\":\"white\",\"ticks\":\"\"}},\"coloraxis\":{\"colorbar\":{\"outlinewidth\":0,\"ticks\":\"\"}},\"colorscale\":{\"sequential\":[[0.0,\"#0d0887\"],[0.1111111111111111,\"#46039f\"],[0.2222222222222222,\"#7201a8\"],[0.3333333333333333,\"#9c179e\"],[0.4444444444444444,\"#bd3786\"],[0.5555555555555556,\"#d8576b\"],[0.6666666666666666,\"#ed7953\"],[0.7777777777777778,\"#fb9f3a\"],[0.8888888888888888,\"#fdca26\"],[1.0,\"#f0f921\"]],\"sequentialminus\":[[0.0,\"#0d0887\"],[0.1111111111111111,\"#46039f\"],[0.2222222222222222,\"#7201a8\"],[0.3333333333333333,\"#9c179e\"],[0.4444444444444444,\"#bd3786\"],[0.5555555555555556,\"#d8576b\"],[0.6666666666666666,\"#ed7953\"],[0.7777777777777778,\"#fb9f3a\"],[0.8888888888888888,\"#fdca26\"],[1.0,\"#f0f921\"]],\"diverging\":[[0,\"#8e0152\"],[0.1,\"#c51b7d\"],[0.2,\"#de77ae\"],[0.3,\"#f1b6da\"],[0.4,\"#fde0ef\"],[0.5,\"#f7f7f7\"],[0.6,\"#e6f5d0\"],[0.7,\"#b8e186\"],[0.8,\"#7fbc41\"],[0.9,\"#4d9221\"],[1,\"#276419\"]]},\"xaxis\":{\"gridcolor\":\"white\",\"linecolor\":\"white\",\"ticks\":\"\",\"title\":{\"standoff\":15},\"zerolinecolor\":\"white\",\"automargin\":true,\"zerolinewidth\":2},\"yaxis\":{\"gridcolor\":\"white\",\"linecolor\":\"white\",\"ticks\":\"\",\"title\":{\"standoff\":15},\"zerolinecolor\":\"white\",\"automargin\":true,\"zerolinewidth\":2},\"scene\":{\"xaxis\":{\"backgroundcolor\":\"#E5ECF6\",\"gridcolor\":\"white\",\"linecolor\":\"white\",\"showbackground\":true,\"ticks\":\"\",\"zerolinecolor\":\"white\",\"gridwidth\":2},\"yaxis\":{\"backgroundcolor\":\"#E5ECF6\",\"gridcolor\":\"white\",\"linecolor\":\"white\",\"showbackground\":true,\"ticks\":\"\",\"zerolinecolor\":\"white\",\"gridwidth\":2},\"zaxis\":{\"backgroundcolor\":\"#E5ECF6\",\"gridcolor\":\"white\",\"linecolor\":\"white\",\"showbackground\":true,\"ticks\":\"\",\"zerolinecolor\":\"white\",\"gridwidth\":2}},\"shapedefaults\":{\"line\":{\"color\":\"#2a3f5f\"}},\"annotationdefaults\":{\"arrowcolor\":\"#2a3f5f\",\"arrowhead\":0,\"arrowwidth\":1},\"geo\":{\"bgcolor\":\"white\",\"landcolor\":\"#E5ECF6\",\"subunitcolor\":\"white\",\"showland\":true,\"showlakes\":true,\"lakecolor\":\"white\"},\"title\":{\"x\":0.05},\"mapbox\":{\"style\":\"light\"}}},\"xaxis\":{\"anchor\":\"y\",\"domain\":[0.0,1.0],\"title\":{\"text\":\"brand_name\"},\"categoryorder\":\"array\",\"categoryarray\":[\"ASOS DESIGN\",\"ASOS Tall\",\"AX Paris\",\"Another Influence\",\"Barneys Originals Plus\",\"Beauut\",\"Bellfield\",\"Bench\",\"Boardmans\",\"Brave Soul\",\"Charles & Keith\",\"Claudia Canova\",\"Collusion\",\"Don't Think Twice\",\"Dune\",\"FIT HUT\",\"Fiorucci\",\"Flounce London\",\"Forever Unique\",\"French Connection\",\"Frock and Frill\",\"Ginger Ray\",\"Glamorous\",\"Influence\",\"Jack & Jones\",\"LOLA MAY TALL\",\"Liquorish\",\"Lola May\",\"London Rebel\",\"Love Moschino\",\"Mario Badescu\",\"Miss Selfridge\",\"NaaNaa\",\"Original Penguin\",\"Oskia\",\"Parisian\",\"Polo Ralph Lauren\",\"Puma\",\"Rebellious Fashion\",\"Reebok\",\"Replay\",\"Revolution\",\"Revolution Skincare\",\"SVNX\",\"Soul Star\",\"The North Face\",\"Threadbare\",\"Toms\",\"Topman\",\"True Decadence\",\"Truffle Collection\",\"Truffle Collection Wide Fit\",\"UGG\",\"UNIQUE21\",\"Vans\",\"Virgos Lounge\",\"Vivienne Westwood\",\"Waven\",\"Zoe Ayla\",\"adidas Originals\",\"adidas performance\"]},\"yaxis\":{\"anchor\":\"x\",\"domain\":[0.0,1.0],\"title\":{\"text\":\"y\"}},\"legend\":{\"title\":{\"text\":\"brand_name\"},\"tracegroupgap\":0},\"title\":{\"text\":\"Dicount % offered by brands\"},\"barmode\":\"relative\"},                        {\"responsive\": true}                    ).then(function(){\n",
       "                            \n",
       "var gd = document.getElementById('5df9ae32-5f0d-458a-bda6-6ba80d5d4e71');\n",
       "var x = new MutationObserver(function (mutations, observer) {{\n",
       "        var display = window.getComputedStyle(gd).display;\n",
       "        if (!display || display === 'none') {{\n",
       "            console.log([gd, 'removed!']);\n",
       "            Plotly.purge(gd);\n",
       "            observer.disconnect();\n",
       "        }}\n",
       "}});\n",
       "\n",
       "// Listen for the removal of the full notebook cells\n",
       "var notebookContainer = gd.closest('#notebook-container');\n",
       "if (notebookContainer) {{\n",
       "    x.observe(notebookContainer, {childList: true});\n",
       "}}\n",
       "\n",
       "// Listen for the clearing of the current output cell\n",
       "var outputEl = gd.closest('.output');\n",
       "if (outputEl) {{\n",
       "    x.observe(outputEl, {childList: true});\n",
       "}}\n",
       "\n",
       "                        })                };                });            </script>        </div>"
      ]
     },
     "metadata": {},
     "output_type": "display_data"
    }
   ],
   "source": [
    "i=px.bar(r,r.index,r.values,color=r.index,title='Dicount % offered by brands',hover_name=r.index)\n",
    "i.show()"
   ]
  },
  {
   "cell_type": "markdown",
   "id": "604b595a",
   "metadata": {
    "papermill": {
     "duration": 0.018043,
     "end_time": "2023-03-13T21:02:57.777310",
     "exception": false,
     "start_time": "2023-03-13T21:02:57.759267",
     "status": "completed"
    },
    "tags": []
   },
   "source": [
    "Vivienne Westwood, Frock and Frill and Virgos Lounge have highest discounts on the product."
   ]
  },
  {
   "cell_type": "markdown",
   "id": "eedb5560",
   "metadata": {
    "papermill": {
     "duration": 0.017852,
     "end_time": "2023-03-13T21:02:57.813406",
     "exception": false,
     "start_time": "2023-03-13T21:02:57.795554",
     "status": "completed"
    },
    "tags": []
   },
   "source": [
    "# **Conclusion**"
   ]
  },
  {
   "cell_type": "markdown",
   "id": "91fa67f8",
   "metadata": {
    "papermill": {
     "duration": 0.017946,
     "end_time": "2023-03-13T21:02:57.849833",
     "exception": false,
     "start_time": "2023-03-13T21:02:57.831887",
     "status": "completed"
    },
    "tags": []
   },
   "source": [
    "The Online E-Commerce brands are currently flourishing in india and in coming times will even grow further. Though it is major cause of damaging the store retailers business , it is more friendly for the indian consumer as indian makret is price oriented and makes majority decisons based on price. The website also helps in promoting fast fashion brands as its what people are looking for these days as the websites can make reach to even mobile parts of the country and people can enjoy this as well as people living in cities."
   ]
  },
  {
   "cell_type": "code",
   "execution_count": null,
   "id": "b28a795d",
   "metadata": {
    "papermill": {
     "duration": 0.017987,
     "end_time": "2023-03-13T21:02:57.886092",
     "exception": false,
     "start_time": "2023-03-13T21:02:57.868105",
     "status": "completed"
    },
    "tags": []
   },
   "outputs": [],
   "source": []
  }
 ],
 "metadata": {
  "kernelspec": {
   "display_name": "Python 3",
   "language": "python",
   "name": "python3"
  },
  "language_info": {
   "codemirror_mode": {
    "name": "ipython",
    "version": 3
   },
   "file_extension": ".py",
   "mimetype": "text/x-python",
   "name": "python",
   "nbconvert_exporter": "python",
   "pygments_lexer": "ipython3",
   "version": "3.7.12"
  },
  "papermill": {
   "default_parameters": {},
   "duration": 20.987252,
   "end_time": "2023-03-13T21:02:58.932186",
   "environment_variables": {},
   "exception": null,
   "input_path": "__notebook__.ipynb",
   "output_path": "__notebook__.ipynb",
   "parameters": {},
   "start_time": "2023-03-13T21:02:37.944934",
   "version": "2.4.0"
  }
 },
 "nbformat": 4,
 "nbformat_minor": 5
}
