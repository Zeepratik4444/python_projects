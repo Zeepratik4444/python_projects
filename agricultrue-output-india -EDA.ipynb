{
 "cells": [
  {
   "cell_type": "markdown",
   "id": "2c0f7007",
   "metadata": {
    "papermill": {
     "duration": 0.016364,
     "end_time": "2023-03-06T21:18:01.631667",
     "exception": false,
     "start_time": "2023-03-06T21:18:01.615303",
     "status": "completed"
    },
    "tags": []
   },
   "source": [
    "# **Hello There!**\n",
    "> In this notebook we have crop production data of india to perform \n",
    "> basic EDA on this dataset and for visualization of data**"
   ]
  },
  {
   "cell_type": "code",
   "execution_count": 1,
   "id": "2d6ddef0",
   "metadata": {
    "execution": {
     "iopub.execute_input": "2023-03-06T21:18:01.665113Z",
     "iopub.status.busy": "2023-03-06T21:18:01.664104Z",
     "iopub.status.idle": "2023-03-06T21:18:14.702603Z",
     "shell.execute_reply": "2023-03-06T21:18:14.700734Z"
    },
    "papermill": {
     "duration": 13.058937,
     "end_time": "2023-03-06T21:18:14.705933",
     "exception": false,
     "start_time": "2023-03-06T21:18:01.646996",
     "status": "completed"
    },
    "tags": []
   },
   "outputs": [
    {
     "name": "stdout",
     "output_type": "stream",
     "text": [
      "Requirement already satisfied: chart_studio in c:\\users\\pratik\\anaconda3\\lib\\site-packages (1.1.0)\n",
      "Requirement already satisfied: six in c:\\users\\pratik\\anaconda3\\lib\\site-packages (from chart_studio) (1.16.0)\n",
      "Requirement already satisfied: retrying>=1.3.3 in c:\\users\\pratik\\anaconda3\\lib\\site-packages (from chart_studio) (1.3.4)\n",
      "Requirement already satisfied: plotly in c:\\users\\pratik\\anaconda3\\lib\\site-packages (from chart_studio) (5.9.0)\n",
      "Requirement already satisfied: requests in c:\\users\\pratik\\anaconda3\\lib\\site-packages (from chart_studio) (2.28.1)\n",
      "Requirement already satisfied: tenacity>=6.2.0 in c:\\users\\pratik\\anaconda3\\lib\\site-packages (from plotly->chart_studio) (8.0.1)\n",
      "Requirement already satisfied: charset-normalizer<3,>=2 in c:\\users\\pratik\\anaconda3\\lib\\site-packages (from requests->chart_studio) (2.0.4)\n",
      "Requirement already satisfied: urllib3<1.27,>=1.21.1 in c:\\users\\pratik\\anaconda3\\lib\\site-packages (from requests->chart_studio) (1.26.11)\n",
      "Requirement already satisfied: idna<4,>=2.5 in c:\\users\\pratik\\anaconda3\\lib\\site-packages (from requests->chart_studio) (3.3)\n",
      "Requirement already satisfied: certifi>=2017.4.17 in c:\\users\\pratik\\anaconda3\\lib\\site-packages (from requests->chart_studio) (2022.9.14)\n",
      "Note: you may need to restart the kernel to use updated packages.\n"
     ]
    }
   ],
   "source": [
    "pip install chart_studio"
   ]
  },
  {
   "cell_type": "markdown",
   "id": "5db53341",
   "metadata": {
    "papermill": {
     "duration": 0.016676,
     "end_time": "2023-03-06T21:18:14.738806",
     "exception": false,
     "start_time": "2023-03-06T21:18:14.722130",
     "status": "completed"
    },
    "tags": []
   },
   "source": [
    "**Importing the libraries required**"
   ]
  },
  {
   "cell_type": "code",
   "execution_count": 2,
   "id": "e864e844",
   "metadata": {
    "execution": {
     "iopub.execute_input": "2023-03-06T21:18:14.772157Z",
     "iopub.status.busy": "2023-03-06T21:18:14.771712Z",
     "iopub.status.idle": "2023-03-06T21:18:19.970454Z",
     "shell.execute_reply": "2023-03-06T21:18:19.968994Z"
    },
    "papermill": {
     "duration": 5.218936,
     "end_time": "2023-03-06T21:18:19.973273",
     "exception": false,
     "start_time": "2023-03-06T21:18:14.754337",
     "status": "completed"
    },
    "tags": []
   },
   "outputs": [
    {
     "data": {
      "text/html": [
       "        <script type=\"text/javascript\">\n",
       "        window.PlotlyConfig = {MathJaxConfig: 'local'};\n",
       "        if (window.MathJax && window.MathJax.Hub && window.MathJax.Hub.Config) {window.MathJax.Hub.Config({SVG: {font: \"STIX-Web\"}});}\n",
       "        if (typeof require !== 'undefined') {\n",
       "        require.undef(\"plotly\");\n",
       "        requirejs.config({\n",
       "            paths: {\n",
       "                'plotly': ['https://cdn.plot.ly/plotly-2.12.1.min']\n",
       "            }\n",
       "        });\n",
       "        require(['plotly'], function(Plotly) {\n",
       "            window._Plotly = Plotly;\n",
       "        });\n",
       "        }\n",
       "        </script>\n",
       "        "
      ]
     },
     "metadata": {},
     "output_type": "display_data"
    }
   ],
   "source": [
    "import numpy as np\n",
    "import pandas as pd\n",
    "import seaborn as sns \n",
    "import matplotlib.pyplot as plt\n",
    "import cufflinks as cs\n",
    "%matplotlib inline\n",
    "import chart_studio as cs\n",
    "import plotly \n",
    "import plotly.express as px\n",
    "from plotly.offline import download_plotlyjs,init_notebook_mode,plot,iplot\n",
    "plotly.offline.init_notebook_mode(connected=True)"
   ]
  },
  {
   "cell_type": "markdown",
   "id": "4bca4eda",
   "metadata": {
    "papermill": {
     "duration": 0.015356,
     "end_time": "2023-03-06T21:18:20.004429",
     "exception": false,
     "start_time": "2023-03-06T21:18:19.989073",
     "status": "completed"
    },
    "tags": []
   },
   "source": [
    "**Loading up the data where eda will be done**"
   ]
  },
  {
   "cell_type": "code",
   "execution_count": 3,
   "id": "c80d0389",
   "metadata": {
    "execution": {
     "iopub.execute_input": "2023-03-06T21:18:20.037688Z",
     "iopub.status.busy": "2023-03-06T21:18:20.037256Z",
     "iopub.status.idle": "2023-03-06T21:18:20.085227Z",
     "shell.execute_reply": "2023-03-06T21:18:20.083772Z"
    },
    "papermill": {
     "duration": 0.068984,
     "end_time": "2023-03-06T21:18:20.088848",
     "exception": false,
     "start_time": "2023-03-06T21:18:20.019864",
     "status": "completed"
    },
    "tags": []
   },
   "outputs": [],
   "source": [
    "df1= pd.read_csv('datafile (1).csv')\n",
    "df2=pd.read_csv('datafile (2).csv')\n",
    "df3=pd.read_csv('datafile (3).csv')\n",
    "df4=pd.read_csv('datafile.csv')"
   ]
  },
  {
   "cell_type": "code",
   "execution_count": 4,
   "id": "787003dc",
   "metadata": {
    "execution": {
     "iopub.execute_input": "2023-03-06T21:18:20.124806Z",
     "iopub.status.busy": "2023-03-06T21:18:20.124300Z",
     "iopub.status.idle": "2023-03-06T21:18:20.163582Z",
     "shell.execute_reply": "2023-03-06T21:18:20.162538Z"
    },
    "papermill": {
     "duration": 0.06046,
     "end_time": "2023-03-06T21:18:20.166301",
     "exception": false,
     "start_time": "2023-03-06T21:18:20.105841",
     "status": "completed"
    },
    "tags": []
   },
   "outputs": [
    {
     "data": {
      "text/html": [
       "<div>\n",
       "<style scoped>\n",
       "    .dataframe tbody tr th:only-of-type {\n",
       "        vertical-align: middle;\n",
       "    }\n",
       "\n",
       "    .dataframe tbody tr th {\n",
       "        vertical-align: top;\n",
       "    }\n",
       "\n",
       "    .dataframe thead th {\n",
       "        text-align: right;\n",
       "    }\n",
       "</style>\n",
       "<table border=\"1\" class=\"dataframe\">\n",
       "  <thead>\n",
       "    <tr style=\"text-align: right;\">\n",
       "      <th></th>\n",
       "      <th>Crop</th>\n",
       "      <th>State</th>\n",
       "      <th>Cost of Cultivation (`/Hectare) A2+FL</th>\n",
       "      <th>Cost of Cultivation (`/Hectare) C2</th>\n",
       "      <th>Cost of Production (`/Quintal) C2</th>\n",
       "      <th>Yield (Quintal/ Hectare)</th>\n",
       "    </tr>\n",
       "  </thead>\n",
       "  <tbody>\n",
       "    <tr>\n",
       "      <th>38</th>\n",
       "      <td>RAPESEED AND MUSTARD</td>\n",
       "      <td>Gujarat</td>\n",
       "      <td>13740.64</td>\n",
       "      <td>19083.55</td>\n",
       "      <td>1610.40</td>\n",
       "      <td>11.61</td>\n",
       "    </tr>\n",
       "    <tr>\n",
       "      <th>15</th>\n",
       "      <td>GROUNDNUT</td>\n",
       "      <td>Karnataka</td>\n",
       "      <td>13647.10</td>\n",
       "      <td>17314.20</td>\n",
       "      <td>3484.01</td>\n",
       "      <td>4.71</td>\n",
       "    </tr>\n",
       "    <tr>\n",
       "      <th>45</th>\n",
       "      <td>WHEAT</td>\n",
       "      <td>Madhya Pradesh</td>\n",
       "      <td>12464.40</td>\n",
       "      <td>22489.75</td>\n",
       "      <td>810.25</td>\n",
       "      <td>23.59</td>\n",
       "    </tr>\n",
       "    <tr>\n",
       "      <th>33</th>\n",
       "      <td>PADDY</td>\n",
       "      <td>Punjab</td>\n",
       "      <td>25154.75</td>\n",
       "      <td>45291.24</td>\n",
       "      <td>669.86</td>\n",
       "      <td>67.41</td>\n",
       "    </tr>\n",
       "    <tr>\n",
       "      <th>26</th>\n",
       "      <td>MOONG</td>\n",
       "      <td>Rajasthan</td>\n",
       "      <td>6204.23</td>\n",
       "      <td>9165.59</td>\n",
       "      <td>2068.67</td>\n",
       "      <td>4.05</td>\n",
       "    </tr>\n",
       "    <tr>\n",
       "      <th>6</th>\n",
       "      <td>COTTON</td>\n",
       "      <td>Punjab</td>\n",
       "      <td>29047.10</td>\n",
       "      <td>50828.83</td>\n",
       "      <td>2003.76</td>\n",
       "      <td>24.39</td>\n",
       "    </tr>\n",
       "    <tr>\n",
       "      <th>25</th>\n",
       "      <td>MOONG</td>\n",
       "      <td>Orissa</td>\n",
       "      <td>5483.54</td>\n",
       "      <td>8266.98</td>\n",
       "      <td>2614.14</td>\n",
       "      <td>3.01</td>\n",
       "    </tr>\n",
       "    <tr>\n",
       "      <th>12</th>\n",
       "      <td>GRAM</td>\n",
       "      <td>Uttar Pradesh</td>\n",
       "      <td>12833.04</td>\n",
       "      <td>21618.43</td>\n",
       "      <td>1882.68</td>\n",
       "      <td>10.93</td>\n",
       "    </tr>\n",
       "    <tr>\n",
       "      <th>23</th>\n",
       "      <td>MAIZE</td>\n",
       "      <td>Uttar Pradesh</td>\n",
       "      <td>15635.43</td>\n",
       "      <td>21045.11</td>\n",
       "      <td>1387.36</td>\n",
       "      <td>13.70</td>\n",
       "    </tr>\n",
       "    <tr>\n",
       "      <th>11</th>\n",
       "      <td>GRAM</td>\n",
       "      <td>Madhya Pradesh</td>\n",
       "      <td>9803.89</td>\n",
       "      <td>16873.17</td>\n",
       "      <td>1551.94</td>\n",
       "      <td>10.29</td>\n",
       "    </tr>\n",
       "  </tbody>\n",
       "</table>\n",
       "</div>"
      ],
      "text/plain": [
       "                    Crop           State  \\\n",
       "38  RAPESEED AND MUSTARD         Gujarat   \n",
       "15             GROUNDNUT       Karnataka   \n",
       "45                 WHEAT  Madhya Pradesh   \n",
       "33                 PADDY          Punjab   \n",
       "26                 MOONG       Rajasthan   \n",
       "6                 COTTON          Punjab   \n",
       "25                 MOONG          Orissa   \n",
       "12                  GRAM   Uttar Pradesh   \n",
       "23                 MAIZE   Uttar Pradesh   \n",
       "11                  GRAM  Madhya Pradesh   \n",
       "\n",
       "    Cost of Cultivation (`/Hectare) A2+FL  Cost of Cultivation (`/Hectare) C2  \\\n",
       "38                               13740.64                            19083.55   \n",
       "15                               13647.10                            17314.20   \n",
       "45                               12464.40                            22489.75   \n",
       "33                               25154.75                            45291.24   \n",
       "26                                6204.23                             9165.59   \n",
       "6                                29047.10                            50828.83   \n",
       "25                                5483.54                             8266.98   \n",
       "12                               12833.04                            21618.43   \n",
       "23                               15635.43                            21045.11   \n",
       "11                                9803.89                            16873.17   \n",
       "\n",
       "    Cost of Production (`/Quintal) C2  Yield (Quintal/ Hectare)   \n",
       "38                            1610.40                      11.61  \n",
       "15                            3484.01                       4.71  \n",
       "45                             810.25                      23.59  \n",
       "33                             669.86                      67.41  \n",
       "26                            2068.67                       4.05  \n",
       "6                             2003.76                      24.39  \n",
       "25                            2614.14                       3.01  \n",
       "12                            1882.68                      10.93  \n",
       "23                            1387.36                      13.70  \n",
       "11                            1551.94                      10.29  "
      ]
     },
     "execution_count": 4,
     "metadata": {},
     "output_type": "execute_result"
    }
   ],
   "source": [
    "df1.sample(10)"
   ]
  },
  {
   "cell_type": "code",
   "execution_count": 5,
   "id": "69248201",
   "metadata": {
    "execution": {
     "iopub.execute_input": "2023-03-06T21:18:20.203600Z",
     "iopub.status.busy": "2023-03-06T21:18:20.202764Z",
     "iopub.status.idle": "2023-03-06T21:18:20.228103Z",
     "shell.execute_reply": "2023-03-06T21:18:20.226608Z"
    },
    "papermill": {
     "duration": 0.048412,
     "end_time": "2023-03-06T21:18:20.231489",
     "exception": false,
     "start_time": "2023-03-06T21:18:20.183077",
     "status": "completed"
    },
    "tags": []
   },
   "outputs": [
    {
     "name": "stdout",
     "output_type": "stream",
     "text": [
      "<class 'pandas.core.frame.DataFrame'>\n",
      "RangeIndex: 49 entries, 0 to 48\n",
      "Data columns (total 6 columns):\n",
      " #   Column                                 Non-Null Count  Dtype  \n",
      "---  ------                                 --------------  -----  \n",
      " 0   Crop                                   49 non-null     object \n",
      " 1   State                                  49 non-null     object \n",
      " 2   Cost of Cultivation (`/Hectare) A2+FL  49 non-null     float64\n",
      " 3   Cost of Cultivation (`/Hectare) C2     49 non-null     float64\n",
      " 4   Cost of Production (`/Quintal) C2      49 non-null     float64\n",
      " 5   Yield (Quintal/ Hectare)               49 non-null     float64\n",
      "dtypes: float64(4), object(2)\n",
      "memory usage: 2.4+ KB\n"
     ]
    }
   ],
   "source": [
    "df1.info()"
   ]
  },
  {
   "cell_type": "markdown",
   "id": "43de5dd0",
   "metadata": {
    "papermill": {
     "duration": 0.016042,
     "end_time": "2023-03-06T21:18:20.264191",
     "exception": false,
     "start_time": "2023-03-06T21:18:20.248149",
     "status": "completed"
    },
    "tags": []
   },
   "source": [
    "**We will use sample functoin to bring 10 random rows from the dataset**"
   ]
  },
  {
   "cell_type": "code",
   "execution_count": 6,
   "id": "0c0531e1",
   "metadata": {
    "execution": {
     "iopub.execute_input": "2023-03-06T21:18:20.300094Z",
     "iopub.status.busy": "2023-03-06T21:18:20.299647Z",
     "iopub.status.idle": "2023-03-06T21:18:20.331995Z",
     "shell.execute_reply": "2023-03-06T21:18:20.330343Z"
    },
    "papermill": {
     "duration": 0.054115,
     "end_time": "2023-03-06T21:18:20.335271",
     "exception": false,
     "start_time": "2023-03-06T21:18:20.281156",
     "status": "completed"
    },
    "tags": []
   },
   "outputs": [
    {
     "data": {
      "text/html": [
       "<div>\n",
       "<style scoped>\n",
       "    .dataframe tbody tr th:only-of-type {\n",
       "        vertical-align: middle;\n",
       "    }\n",
       "\n",
       "    .dataframe tbody tr th {\n",
       "        vertical-align: top;\n",
       "    }\n",
       "\n",
       "    .dataframe thead th {\n",
       "        text-align: right;\n",
       "    }\n",
       "</style>\n",
       "<table border=\"1\" class=\"dataframe\">\n",
       "  <thead>\n",
       "    <tr style=\"text-align: right;\">\n",
       "      <th></th>\n",
       "      <th>Crop</th>\n",
       "      <th>Production 2006-07</th>\n",
       "      <th>Production 2007-08</th>\n",
       "      <th>Production 2008-09</th>\n",
       "      <th>Production 2009-10</th>\n",
       "      <th>Production 2010-11</th>\n",
       "      <th>Area 2006-07</th>\n",
       "      <th>Area 2007-08</th>\n",
       "      <th>Area 2008-09</th>\n",
       "      <th>Area 2009-10</th>\n",
       "      <th>Area 2010-11</th>\n",
       "      <th>Yield 2006-07</th>\n",
       "      <th>Yield 2007-08</th>\n",
       "      <th>Yield 2008-09</th>\n",
       "      <th>Yield 2009-10</th>\n",
       "      <th>Yield 2010-11</th>\n",
       "    </tr>\n",
       "  </thead>\n",
       "  <tbody>\n",
       "    <tr>\n",
       "      <th>12</th>\n",
       "      <td>Arhar</td>\n",
       "      <td>97.0</td>\n",
       "      <td>128.9</td>\n",
       "      <td>94.9</td>\n",
       "      <td>103.3</td>\n",
       "      <td>119.9</td>\n",
       "      <td>99.7</td>\n",
       "      <td>104.3</td>\n",
       "      <td>94.5</td>\n",
       "      <td>97.0</td>\n",
       "      <td>122.2</td>\n",
       "      <td>97.3</td>\n",
       "      <td>123.6</td>\n",
       "      <td>100.4</td>\n",
       "      <td>106.5</td>\n",
       "      <td>98.1</td>\n",
       "    </tr>\n",
       "    <tr>\n",
       "      <th>50</th>\n",
       "      <td>Sweet potato</td>\n",
       "      <td>81.1</td>\n",
       "      <td>79.3</td>\n",
       "      <td>94.2</td>\n",
       "      <td>92.1</td>\n",
       "      <td>88.1</td>\n",
       "      <td>75.8</td>\n",
       "      <td>75.4</td>\n",
       "      <td>88.4</td>\n",
       "      <td>84.6</td>\n",
       "      <td>80.4</td>\n",
       "      <td>106.9</td>\n",
       "      <td>105.2</td>\n",
       "      <td>106.6</td>\n",
       "      <td>108.8</td>\n",
       "      <td>109.6</td>\n",
       "    </tr>\n",
       "    <tr>\n",
       "      <th>44</th>\n",
       "      <td>Cardamom</td>\n",
       "      <td>159.2</td>\n",
       "      <td>135.8</td>\n",
       "      <td>157.1</td>\n",
       "      <td>159.2</td>\n",
       "      <td>162.2</td>\n",
       "      <td>93.4</td>\n",
       "      <td>77.8</td>\n",
       "      <td>87.5</td>\n",
       "      <td>85.8</td>\n",
       "      <td>82.7</td>\n",
       "      <td>170.5</td>\n",
       "      <td>174.7</td>\n",
       "      <td>179.6</td>\n",
       "      <td>185.6</td>\n",
       "      <td>196.1</td>\n",
       "    </tr>\n",
       "    <tr>\n",
       "      <th>1</th>\n",
       "      <td>Rice</td>\n",
       "      <td>200.8</td>\n",
       "      <td>207.9</td>\n",
       "      <td>213.3</td>\n",
       "      <td>191.6</td>\n",
       "      <td>206.4</td>\n",
       "      <td>168.5</td>\n",
       "      <td>168.9</td>\n",
       "      <td>175.1</td>\n",
       "      <td>161.2</td>\n",
       "      <td>164.8</td>\n",
       "      <td>119.2</td>\n",
       "      <td>123.1</td>\n",
       "      <td>121.8</td>\n",
       "      <td>118.9</td>\n",
       "      <td>125.2</td>\n",
       "    </tr>\n",
       "    <tr>\n",
       "      <th>36</th>\n",
       "      <td>Coffee</td>\n",
       "      <td>138.0</td>\n",
       "      <td>139.8</td>\n",
       "      <td>139.9</td>\n",
       "      <td>154.5</td>\n",
       "      <td>161.1</td>\n",
       "      <td>117.9</td>\n",
       "      <td>119.8</td>\n",
       "      <td>121.9</td>\n",
       "      <td>123.7</td>\n",
       "      <td>125.4</td>\n",
       "      <td>117.0</td>\n",
       "      <td>116.7</td>\n",
       "      <td>114.8</td>\n",
       "      <td>125.0</td>\n",
       "      <td>128.5</td>\n",
       "    </tr>\n",
       "    <tr>\n",
       "      <th>18</th>\n",
       "      <td>Sesamum</td>\n",
       "      <td>95.5</td>\n",
       "      <td>116.8</td>\n",
       "      <td>98.8</td>\n",
       "      <td>90.8</td>\n",
       "      <td>137.9</td>\n",
       "      <td>74.2</td>\n",
       "      <td>78.4</td>\n",
       "      <td>78.8</td>\n",
       "      <td>84.6</td>\n",
       "      <td>90.7</td>\n",
       "      <td>128.7</td>\n",
       "      <td>149.1</td>\n",
       "      <td>125.4</td>\n",
       "      <td>107.4</td>\n",
       "      <td>151.9</td>\n",
       "    </tr>\n",
       "    <tr>\n",
       "      <th>22</th>\n",
       "      <td>Safflower</td>\n",
       "      <td>67.3</td>\n",
       "      <td>62.8</td>\n",
       "      <td>53.0</td>\n",
       "      <td>50.1</td>\n",
       "      <td>42.1</td>\n",
       "      <td>55.8</td>\n",
       "      <td>47.4</td>\n",
       "      <td>43.6</td>\n",
       "      <td>42.6</td>\n",
       "      <td>36.1</td>\n",
       "      <td>120.6</td>\n",
       "      <td>132.6</td>\n",
       "      <td>121.5</td>\n",
       "      <td>117.5</td>\n",
       "      <td>116.7</td>\n",
       "    </tr>\n",
       "    <tr>\n",
       "      <th>14</th>\n",
       "      <td>Total Pulses</td>\n",
       "      <td>130.3</td>\n",
       "      <td>135.4</td>\n",
       "      <td>133.7</td>\n",
       "      <td>134.5</td>\n",
       "      <td>167.4</td>\n",
       "      <td>122.1</td>\n",
       "      <td>124.4</td>\n",
       "      <td>116.3</td>\n",
       "      <td>122.6</td>\n",
       "      <td>139.0</td>\n",
       "      <td>106.7</td>\n",
       "      <td>108.8</td>\n",
       "      <td>114.9</td>\n",
       "      <td>109.7</td>\n",
       "      <td>120.4</td>\n",
       "    </tr>\n",
       "    <tr>\n",
       "      <th>41</th>\n",
       "      <td>Dry ginger</td>\n",
       "      <td>206.3</td>\n",
       "      <td>200.6</td>\n",
       "      <td>199.3</td>\n",
       "      <td>202.0</td>\n",
       "      <td>368.1</td>\n",
       "      <td>176.2</td>\n",
       "      <td>172.9</td>\n",
       "      <td>180.4</td>\n",
       "      <td>179.4</td>\n",
       "      <td>247.4</td>\n",
       "      <td>117.1</td>\n",
       "      <td>116.0</td>\n",
       "      <td>110.5</td>\n",
       "      <td>112.6</td>\n",
       "      <td>148.8</td>\n",
       "    </tr>\n",
       "    <tr>\n",
       "      <th>15</th>\n",
       "      <td>Total Non-Food grains</td>\n",
       "      <td>155.4</td>\n",
       "      <td>156.8</td>\n",
       "      <td>141.2</td>\n",
       "      <td>143.2</td>\n",
       "      <td>168.4</td>\n",
       "      <td>126.6</td>\n",
       "      <td>128.6</td>\n",
       "      <td>131.5</td>\n",
       "      <td>126.7</td>\n",
       "      <td>136.5</td>\n",
       "      <td>122.8</td>\n",
       "      <td>122.0</td>\n",
       "      <td>107.4</td>\n",
       "      <td>113.1</td>\n",
       "      <td>123.4</td>\n",
       "    </tr>\n",
       "  </tbody>\n",
       "</table>\n",
       "</div>"
      ],
      "text/plain": [
       "         Crop               Production 2006-07  Production 2007-08  \\\n",
       "12                   Arhar                97.0               128.9   \n",
       "50          Sweet potato                  81.1                79.3   \n",
       "44               Cardamom                159.2               135.8   \n",
       "1                     Rice               200.8               207.9   \n",
       "36                 Coffee                138.0               139.8   \n",
       "18                 Sesamum                95.5               116.8   \n",
       "22               Safflower                67.3                62.8   \n",
       "14            Total Pulses               130.3               135.4   \n",
       "41             Dry ginger                206.3               200.6   \n",
       "15  Total Non-Food grains                155.4               156.8   \n",
       "\n",
       "    Production 2008-09  Production 2009-10  Production 2010-11  Area 2006-07  \\\n",
       "12                94.9               103.3               119.9          99.7   \n",
       "50                94.2                92.1                88.1          75.8   \n",
       "44               157.1               159.2               162.2          93.4   \n",
       "1                213.3               191.6               206.4         168.5   \n",
       "36               139.9               154.5               161.1         117.9   \n",
       "18                98.8                90.8               137.9          74.2   \n",
       "22                53.0                50.1                42.1          55.8   \n",
       "14               133.7               134.5               167.4         122.1   \n",
       "41               199.3               202.0               368.1         176.2   \n",
       "15               141.2               143.2               168.4         126.6   \n",
       "\n",
       "    Area 2007-08  Area 2008-09  Area 2009-10  Area 2010-11  Yield 2006-07  \\\n",
       "12         104.3          94.5          97.0         122.2           97.3   \n",
       "50          75.4          88.4          84.6          80.4          106.9   \n",
       "44          77.8          87.5          85.8          82.7          170.5   \n",
       "1          168.9         175.1         161.2         164.8          119.2   \n",
       "36         119.8         121.9         123.7         125.4          117.0   \n",
       "18          78.4          78.8          84.6          90.7          128.7   \n",
       "22          47.4          43.6          42.6          36.1          120.6   \n",
       "14         124.4         116.3         122.6         139.0          106.7   \n",
       "41         172.9         180.4         179.4         247.4          117.1   \n",
       "15         128.6         131.5         126.7         136.5          122.8   \n",
       "\n",
       "    Yield 2007-08  Yield 2008-09  Yield 2009-10  Yield 2010-11  \n",
       "12          123.6          100.4          106.5           98.1  \n",
       "50          105.2          106.6          108.8          109.6  \n",
       "44          174.7          179.6          185.6          196.1  \n",
       "1           123.1          121.8          118.9          125.2  \n",
       "36          116.7          114.8          125.0          128.5  \n",
       "18          149.1          125.4          107.4          151.9  \n",
       "22          132.6          121.5          117.5          116.7  \n",
       "14          108.8          114.9          109.7          120.4  \n",
       "41          116.0          110.5          112.6          148.8  \n",
       "15          122.0          107.4          113.1          123.4  "
      ]
     },
     "execution_count": 6,
     "metadata": {},
     "output_type": "execute_result"
    }
   ],
   "source": [
    "df2.sample(10)"
   ]
  },
  {
   "cell_type": "markdown",
   "id": "44cb8a1b",
   "metadata": {
    "papermill": {
     "duration": 0.01675,
     "end_time": "2023-03-06T21:18:20.368865",
     "exception": false,
     "start_time": "2023-03-06T21:18:20.352115",
     "status": "completed"
    },
    "tags": []
   },
   "source": [
    "**The particular table was having columns name issue, we have correctly named it to perform EDA effeicientlly.**"
   ]
  },
  {
   "cell_type": "code",
   "execution_count": 7,
   "id": "53976786",
   "metadata": {
    "execution": {
     "iopub.execute_input": "2023-03-06T21:18:20.405180Z",
     "iopub.status.busy": "2023-03-06T21:18:20.404764Z",
     "iopub.status.idle": "2023-03-06T21:18:20.414207Z",
     "shell.execute_reply": "2023-03-06T21:18:20.412478Z"
    },
    "papermill": {
     "duration": 0.030515,
     "end_time": "2023-03-06T21:18:20.416740",
     "exception": false,
     "start_time": "2023-03-06T21:18:20.386225",
     "status": "completed"
    },
    "tags": []
   },
   "outputs": [
    {
     "data": {
      "text/plain": [
       "Index(['Crop', 'Production 2006-07', 'Production 2007-08',\n",
       "       'Production 2008-09', 'Production 2009-10', 'Production 2010-11',\n",
       "       'Area 2006-07', 'Area 2007-08', 'Area 2008-09', 'Area 2009-10',\n",
       "       'Area 2010-11', 'Yield 2006-07', 'Yield 2007-08', 'Yield 2008-09',\n",
       "       'Yield 2009-10', 'Yield 2010-11'],\n",
       "      dtype='object')"
      ]
     },
     "execution_count": 7,
     "metadata": {},
     "output_type": "execute_result"
    }
   ],
   "source": [
    "df2_pd=df2\n",
    "df2_pd.rename(columns={'Crop             ':'Crop'},inplace=True)\n",
    "df2.columns"
   ]
  },
  {
   "cell_type": "markdown",
   "id": "30a0edc5",
   "metadata": {
    "papermill": {
     "duration": 0.01616,
     "end_time": "2023-03-06T21:18:20.449492",
     "exception": false,
     "start_time": "2023-03-06T21:18:20.433332",
     "status": "completed"
    },
    "tags": []
   },
   "source": [
    "**Making sure by calling out values with key we changed it with**"
   ]
  },
  {
   "cell_type": "code",
   "execution_count": 8,
   "id": "5bcca71e",
   "metadata": {
    "execution": {
     "iopub.execute_input": "2023-03-06T21:18:20.484759Z",
     "iopub.status.busy": "2023-03-06T21:18:20.484272Z",
     "iopub.status.idle": "2023-03-06T21:18:20.496230Z",
     "shell.execute_reply": "2023-03-06T21:18:20.494745Z"
    },
    "papermill": {
     "duration": 0.032947,
     "end_time": "2023-03-06T21:18:20.498965",
     "exception": false,
     "start_time": "2023-03-06T21:18:20.466018",
     "status": "completed"
    },
    "tags": []
   },
   "outputs": [
    {
     "data": {
      "text/plain": [
       "0              Total Foodgrains\n",
       "1                          Rice\n",
       "2                         Wheat\n",
       "3                         Jowar\n",
       "4                         Bajra\n",
       "5                         Maize\n",
       "6                          Ragi\n",
       "7                 Small millets\n",
       "8                        Barley\n",
       "9                Coarse Cereals\n",
       "10                      Cereals\n",
       "11                         Gram\n",
       "12                        Arhar\n",
       "13                 Other Pulses\n",
       "14                 Total Pulses\n",
       "15       Total Non-Food grains \n",
       "16               Total Oilseeds\n",
       "17                    Groundnut\n",
       "18                      Sesamum\n",
       "19            Rapeseed &Mustard\n",
       "20                      Linseed\n",
       "21                  Castor seed\n",
       "22                    Safflower\n",
       "23                   Niger seed\n",
       "24                    Sunflower\n",
       "25                     Soyabean\n",
       "26                Nine Oilseeds\n",
       "27                      Coconut\n",
       "28                  Cotton seed\n",
       "29                 Total Fibers\n",
       "30                 Cotton(lint)\n",
       "31                         Jute\n",
       "32                        Mesta\n",
       "33                 Jute & Mesta\n",
       "34                    Sannhamp \n",
       "35                         Tea \n",
       "36                      Coffee \n",
       "37                      Rubber \n",
       "38                 Total Spices\n",
       "39                 Black pepper\n",
       "40                 Dry chilies \n",
       "41                  Dry ginger \n",
       "42                    Turmeric \n",
       "43                   Arecanut  \n",
       "44                    Cardamom \n",
       "45                    Coriander\n",
       "46                     Garlic  \n",
       "47    Total Fruits & Vegetables\n",
       "48                       Potato\n",
       "49                      Tapioca\n",
       "50               Sweet potato  \n",
       "51                        Onion\n",
       "52                     Banana  \n",
       "53                    Sugarcane\n",
       "54                      Tobacco\n",
       "Name: Crop, dtype: object"
      ]
     },
     "execution_count": 8,
     "metadata": {},
     "output_type": "execute_result"
    }
   ],
   "source": [
    "df2['Crop']"
   ]
  },
  {
   "cell_type": "markdown",
   "id": "d55cdb0c",
   "metadata": {
    "papermill": {
     "duration": 0.016539,
     "end_time": "2023-03-06T21:18:20.532330",
     "exception": false,
     "start_time": "2023-03-06T21:18:20.515791",
     "status": "completed"
    },
    "tags": []
   },
   "source": [
    "**Here we can know the dimension of a dataset through shape function**"
   ]
  },
  {
   "cell_type": "code",
   "execution_count": 9,
   "id": "3f71568f",
   "metadata": {
    "execution": {
     "iopub.execute_input": "2023-03-06T21:18:20.568021Z",
     "iopub.status.busy": "2023-03-06T21:18:20.567618Z",
     "iopub.status.idle": "2023-03-06T21:18:20.575658Z",
     "shell.execute_reply": "2023-03-06T21:18:20.574175Z"
    },
    "papermill": {
     "duration": 0.028931,
     "end_time": "2023-03-06T21:18:20.578067",
     "exception": false,
     "start_time": "2023-03-06T21:18:20.549136",
     "status": "completed"
    },
    "tags": []
   },
   "outputs": [
    {
     "data": {
      "text/plain": [
       "(55, 16)"
      ]
     },
     "execution_count": 9,
     "metadata": {},
     "output_type": "execute_result"
    }
   ],
   "source": [
    "df2.shape"
   ]
  },
  {
   "cell_type": "code",
   "execution_count": 10,
   "id": "0565ed30",
   "metadata": {
    "execution": {
     "iopub.execute_input": "2023-03-06T21:18:20.613843Z",
     "iopub.status.busy": "2023-03-06T21:18:20.613266Z",
     "iopub.status.idle": "2023-03-06T21:18:20.629233Z",
     "shell.execute_reply": "2023-03-06T21:18:20.628205Z"
    },
    "papermill": {
     "duration": 0.037103,
     "end_time": "2023-03-06T21:18:20.631898",
     "exception": false,
     "start_time": "2023-03-06T21:18:20.594795",
     "status": "completed"
    },
    "tags": []
   },
   "outputs": [
    {
     "data": {
      "text/html": [
       "<div>\n",
       "<style scoped>\n",
       "    .dataframe tbody tr th:only-of-type {\n",
       "        vertical-align: middle;\n",
       "    }\n",
       "\n",
       "    .dataframe tbody tr th {\n",
       "        vertical-align: top;\n",
       "    }\n",
       "\n",
       "    .dataframe thead th {\n",
       "        text-align: right;\n",
       "    }\n",
       "</style>\n",
       "<table border=\"1\" class=\"dataframe\">\n",
       "  <thead>\n",
       "    <tr style=\"text-align: right;\">\n",
       "      <th></th>\n",
       "      <th>Crop</th>\n",
       "      <th>Variety</th>\n",
       "      <th>Season/ duration in days</th>\n",
       "      <th>Recommended Zone</th>\n",
       "      <th>Unnamed: 4</th>\n",
       "    </tr>\n",
       "  </thead>\n",
       "  <tbody>\n",
       "    <tr>\n",
       "      <th>21</th>\n",
       "      <td>Maize</td>\n",
       "      <td>HQPM-4</td>\n",
       "      <td>95</td>\n",
       "      <td>Punjab, Haryana, Delhi, West and Central UP, B...</td>\n",
       "      <td>NaN</td>\n",
       "    </tr>\n",
       "    <tr>\n",
       "      <th>69</th>\n",
       "      <td>Cowpea (Fodder)</td>\n",
       "      <td>UPC 628</td>\n",
       "      <td>145-150</td>\n",
       "      <td>States of Uttarakhand, HP, J &amp; K, Punjab, Hary...</td>\n",
       "      <td>NaN</td>\n",
       "    </tr>\n",
       "    <tr>\n",
       "      <th>31</th>\n",
       "      <td>Pearl Millet</td>\n",
       "      <td>RHB 177 (MH 1486)</td>\n",
       "      <td>NaN</td>\n",
       "      <td>Rajasthan, Haryana and Gujarat under rainfed l...</td>\n",
       "      <td>NaN</td>\n",
       "    </tr>\n",
       "    <tr>\n",
       "      <th>47</th>\n",
       "      <td>Bengal Gram</td>\n",
       "      <td>PKV KABULI-4</td>\n",
       "      <td>110</td>\n",
       "      <td>Maharashtra, Madhya Pradesh under irrigated co...</td>\n",
       "      <td>NaN</td>\n",
       "    </tr>\n",
       "    <tr>\n",
       "      <th>20</th>\n",
       "      <td>Maize</td>\n",
       "      <td>HSC1</td>\n",
       "      <td>80-82</td>\n",
       "      <td>Himachal Pradesh and Uttarakhand under Kharif ...</td>\n",
       "      <td>NaN</td>\n",
       "    </tr>\n",
       "    <tr>\n",
       "      <th>71</th>\n",
       "      <td>Jute</td>\n",
       "      <td>ARPITA  (JBC-5)</td>\n",
       "      <td>-</td>\n",
       "      <td>West Bengal and Assam under rainfed agro system.</td>\n",
       "      <td>NaN</td>\n",
       "    </tr>\n",
       "    <tr>\n",
       "      <th>54</th>\n",
       "      <td>French Bean</td>\n",
       "      <td>Gujarat Rajmash-1 (DPR 88-1-2)</td>\n",
       "      <td>108</td>\n",
       "      <td>Gujarat, Southern Part of Rajasthan, Maharasht...</td>\n",
       "      <td>NaN</td>\n",
       "    </tr>\n",
       "    <tr>\n",
       "      <th>73</th>\n",
       "      <td>Mesta</td>\n",
       "      <td>SHRESTHA (JRM-5)</td>\n",
       "      <td>-</td>\n",
       "      <td>Andhra Pradesh, Orissa, Assam, Maharashtra, Bi...</td>\n",
       "      <td>NaN</td>\n",
       "    </tr>\n",
       "    <tr>\n",
       "      <th>38</th>\n",
       "      <td>Yellow Sarson</td>\n",
       "      <td>Pitambari (RYSK-05-02)</td>\n",
       "      <td>110-115</td>\n",
       "      <td>UP, West Bengal, Haryana, Bihar, Gujarat, Utta...</td>\n",
       "      <td>NaN</td>\n",
       "    </tr>\n",
       "    <tr>\n",
       "      <th>34</th>\n",
       "      <td>Indian Mustard</td>\n",
       "      <td>DRMR 601 (NRCDR 601)</td>\n",
       "      <td>144</td>\n",
       "      <td>Rajasthan, Haryana, Punjab, Delhi and Jammu &amp; ...</td>\n",
       "      <td>NaN</td>\n",
       "    </tr>\n",
       "  </tbody>\n",
       "</table>\n",
       "</div>"
      ],
      "text/plain": [
       "               Crop                         Variety Season/ duration in days  \\\n",
       "21            Maize                          HQPM-4                       95   \n",
       "69  Cowpea (Fodder)                         UPC 628                  145-150   \n",
       "31     Pearl Millet               RHB 177 (MH 1486)                      NaN   \n",
       "47      Bengal Gram                    PKV KABULI-4                      110   \n",
       "20            Maize                            HSC1                    80-82   \n",
       "71             Jute                 ARPITA  (JBC-5)                        -   \n",
       "54      French Bean  Gujarat Rajmash-1 (DPR 88-1-2)                      108   \n",
       "73            Mesta                SHRESTHA (JRM-5)                        -   \n",
       "38    Yellow Sarson          Pitambari (RYSK-05-02)                  110-115   \n",
       "34   Indian Mustard            DRMR 601 (NRCDR 601)                      144   \n",
       "\n",
       "                                     Recommended Zone  Unnamed: 4  \n",
       "21  Punjab, Haryana, Delhi, West and Central UP, B...         NaN  \n",
       "69  States of Uttarakhand, HP, J & K, Punjab, Hary...         NaN  \n",
       "31  Rajasthan, Haryana and Gujarat under rainfed l...         NaN  \n",
       "47  Maharashtra, Madhya Pradesh under irrigated co...         NaN  \n",
       "20  Himachal Pradesh and Uttarakhand under Kharif ...         NaN  \n",
       "71   West Bengal and Assam under rainfed agro system.         NaN  \n",
       "54  Gujarat, Southern Part of Rajasthan, Maharasht...         NaN  \n",
       "73  Andhra Pradesh, Orissa, Assam, Maharashtra, Bi...         NaN  \n",
       "38  UP, West Bengal, Haryana, Bihar, Gujarat, Utta...         NaN  \n",
       "34  Rajasthan, Haryana, Punjab, Delhi and Jammu & ...         NaN  "
      ]
     },
     "execution_count": 10,
     "metadata": {},
     "output_type": "execute_result"
    }
   ],
   "source": [
    "df3.sample(10)"
   ]
  },
  {
   "cell_type": "code",
   "execution_count": 11,
   "id": "262d4089",
   "metadata": {
    "execution": {
     "iopub.execute_input": "2023-03-06T21:18:20.668224Z",
     "iopub.status.busy": "2023-03-06T21:18:20.667753Z",
     "iopub.status.idle": "2023-03-06T21:18:20.692378Z",
     "shell.execute_reply": "2023-03-06T21:18:20.690842Z"
    },
    "papermill": {
     "duration": 0.046318,
     "end_time": "2023-03-06T21:18:20.695329",
     "exception": false,
     "start_time": "2023-03-06T21:18:20.649011",
     "status": "completed"
    },
    "tags": []
   },
   "outputs": [
    {
     "data": {
      "text/html": [
       "<div>\n",
       "<style scoped>\n",
       "    .dataframe tbody tr th:only-of-type {\n",
       "        vertical-align: middle;\n",
       "    }\n",
       "\n",
       "    .dataframe tbody tr th {\n",
       "        vertical-align: top;\n",
       "    }\n",
       "\n",
       "    .dataframe thead th {\n",
       "        text-align: right;\n",
       "    }\n",
       "</style>\n",
       "<table border=\"1\" class=\"dataframe\">\n",
       "  <thead>\n",
       "    <tr style=\"text-align: right;\">\n",
       "      <th></th>\n",
       "      <th>Crop</th>\n",
       "      <th>2004-05</th>\n",
       "      <th>2005-06</th>\n",
       "      <th>2006-07</th>\n",
       "      <th>2007-08</th>\n",
       "      <th>2008-09</th>\n",
       "      <th>2009-10</th>\n",
       "      <th>2010-11</th>\n",
       "      <th>2011-12</th>\n",
       "    </tr>\n",
       "  </thead>\n",
       "  <tbody>\n",
       "    <tr>\n",
       "      <th>0</th>\n",
       "      <td>Rice</td>\n",
       "      <td>100.0</td>\n",
       "      <td>101.0</td>\n",
       "      <td>99.0</td>\n",
       "      <td>105.0</td>\n",
       "      <td>112.0</td>\n",
       "      <td>121.0</td>\n",
       "      <td>117.0</td>\n",
       "      <td>110.0</td>\n",
       "    </tr>\n",
       "    <tr>\n",
       "      <th>1</th>\n",
       "      <td>Wheat</td>\n",
       "      <td>100.0</td>\n",
       "      <td>101.0</td>\n",
       "      <td>112.0</td>\n",
       "      <td>115.0</td>\n",
       "      <td>117.0</td>\n",
       "      <td>127.0</td>\n",
       "      <td>120.0</td>\n",
       "      <td>108.0</td>\n",
       "    </tr>\n",
       "    <tr>\n",
       "      <th>2</th>\n",
       "      <td>Coarse Cereals</td>\n",
       "      <td>100.0</td>\n",
       "      <td>107.0</td>\n",
       "      <td>110.0</td>\n",
       "      <td>115.0</td>\n",
       "      <td>113.0</td>\n",
       "      <td>123.0</td>\n",
       "      <td>122.0</td>\n",
       "      <td>136.0</td>\n",
       "    </tr>\n",
       "    <tr>\n",
       "      <th>3</th>\n",
       "      <td>Pulses</td>\n",
       "      <td>100.0</td>\n",
       "      <td>108.0</td>\n",
       "      <td>134.0</td>\n",
       "      <td>124.0</td>\n",
       "      <td>124.0</td>\n",
       "      <td>146.0</td>\n",
       "      <td>137.0</td>\n",
       "      <td>129.0</td>\n",
       "    </tr>\n",
       "    <tr>\n",
       "      <th>4</th>\n",
       "      <td>Vegetables</td>\n",
       "      <td>100.0</td>\n",
       "      <td>109.0</td>\n",
       "      <td>103.0</td>\n",
       "      <td>118.0</td>\n",
       "      <td>113.0</td>\n",
       "      <td>124.0</td>\n",
       "      <td>128.0</td>\n",
       "      <td>115.0</td>\n",
       "    </tr>\n",
       "    <tr>\n",
       "      <th>5</th>\n",
       "      <td>Fruits</td>\n",
       "      <td>100.0</td>\n",
       "      <td>99.0</td>\n",
       "      <td>99.0</td>\n",
       "      <td>98.0</td>\n",
       "      <td>102.0</td>\n",
       "      <td>104.0</td>\n",
       "      <td>114.0</td>\n",
       "      <td>119.0</td>\n",
       "    </tr>\n",
       "    <tr>\n",
       "      <th>6</th>\n",
       "      <td>Milk</td>\n",
       "      <td>100.0</td>\n",
       "      <td>97.0</td>\n",
       "      <td>98.0</td>\n",
       "      <td>98.0</td>\n",
       "      <td>98.0</td>\n",
       "      <td>112.0</td>\n",
       "      <td>123.0</td>\n",
       "      <td>124.0</td>\n",
       "    </tr>\n",
       "    <tr>\n",
       "      <th>7</th>\n",
       "      <td>Eggs, Fish and Meat</td>\n",
       "      <td>100.0</td>\n",
       "      <td>102.0</td>\n",
       "      <td>101.0</td>\n",
       "      <td>100.0</td>\n",
       "      <td>99.0</td>\n",
       "      <td>116.0</td>\n",
       "      <td>133.0</td>\n",
       "      <td>137.0</td>\n",
       "    </tr>\n",
       "    <tr>\n",
       "      <th>8</th>\n",
       "      <td>Oilseeds</td>\n",
       "      <td>100.0</td>\n",
       "      <td>86.0</td>\n",
       "      <td>85.0</td>\n",
       "      <td>97.0</td>\n",
       "      <td>104.0</td>\n",
       "      <td>103.0</td>\n",
       "      <td>99.0</td>\n",
       "      <td>102.0</td>\n",
       "    </tr>\n",
       "    <tr>\n",
       "      <th>9</th>\n",
       "      <td>Sugarcane</td>\n",
       "      <td>100.0</td>\n",
       "      <td>96.0</td>\n",
       "      <td>91.0</td>\n",
       "      <td>87.0</td>\n",
       "      <td>80.0</td>\n",
       "      <td>81.0</td>\n",
       "      <td>109.0</td>\n",
       "      <td>107.0</td>\n",
       "    </tr>\n",
       "  </tbody>\n",
       "</table>\n",
       "</div>"
      ],
      "text/plain": [
       "                  Crop  2004-05  2005-06  2006-07  2007-08  2008-09  2009-10  \\\n",
       "0                 Rice    100.0    101.0     99.0    105.0    112.0    121.0   \n",
       "1                Wheat    100.0    101.0    112.0    115.0    117.0    127.0   \n",
       "2       Coarse Cereals    100.0    107.0    110.0    115.0    113.0    123.0   \n",
       "3               Pulses    100.0    108.0    134.0    124.0    124.0    146.0   \n",
       "4          Vegetables     100.0    109.0    103.0    118.0    113.0    124.0   \n",
       "5               Fruits    100.0     99.0     99.0     98.0    102.0    104.0   \n",
       "6                 Milk    100.0     97.0     98.0     98.0     98.0    112.0   \n",
       "7  Eggs, Fish and Meat    100.0    102.0    101.0    100.0     99.0    116.0   \n",
       "8             Oilseeds    100.0     86.0     85.0     97.0    104.0    103.0   \n",
       "9           Sugarcane     100.0     96.0     91.0     87.0     80.0     81.0   \n",
       "\n",
       "   2010-11  2011-12  \n",
       "0    117.0    110.0  \n",
       "1    120.0    108.0  \n",
       "2    122.0    136.0  \n",
       "3    137.0    129.0  \n",
       "4    128.0    115.0  \n",
       "5    114.0    119.0  \n",
       "6    123.0    124.0  \n",
       "7    133.0    137.0  \n",
       "8     99.0    102.0  \n",
       "9    109.0    107.0  "
      ]
     },
     "execution_count": 11,
     "metadata": {},
     "output_type": "execute_result"
    }
   ],
   "source": [
    "df4.head(10)"
   ]
  },
  {
   "cell_type": "markdown",
   "id": "90a23d8e",
   "metadata": {
    "papermill": {
     "duration": 0.016985,
     "end_time": "2023-03-06T21:18:20.730248",
     "exception": false,
     "start_time": "2023-03-06T21:18:20.713263",
     "status": "completed"
    },
    "tags": []
   },
   "source": [
    "**Using isna funciton to know if columns have null datas in them and then summing\n",
    "it up to know no. of blank values in the columns**"
   ]
  },
  {
   "cell_type": "code",
   "execution_count": 12,
   "id": "e971f0ef",
   "metadata": {
    "execution": {
     "iopub.execute_input": "2023-03-06T21:18:20.767014Z",
     "iopub.status.busy": "2023-03-06T21:18:20.766570Z",
     "iopub.status.idle": "2023-03-06T21:18:20.776900Z",
     "shell.execute_reply": "2023-03-06T21:18:20.775731Z"
    },
    "papermill": {
     "duration": 0.031752,
     "end_time": "2023-03-06T21:18:20.779414",
     "exception": false,
     "start_time": "2023-03-06T21:18:20.747662",
     "status": "completed"
    },
    "tags": []
   },
   "outputs": [
    {
     "data": {
      "text/plain": [
       "Crop                                     0\n",
       "State                                    0\n",
       "Cost of Cultivation (`/Hectare) A2+FL    0\n",
       "Cost of Cultivation (`/Hectare) C2       0\n",
       "Cost of Production (`/Quintal) C2        0\n",
       "Yield (Quintal/ Hectare)                 0\n",
       "dtype: int64"
      ]
     },
     "execution_count": 12,
     "metadata": {},
     "output_type": "execute_result"
    }
   ],
   "source": [
    "df1.isna().sum()"
   ]
  },
  {
   "cell_type": "code",
   "execution_count": 13,
   "id": "de2b40d9",
   "metadata": {
    "execution": {
     "iopub.execute_input": "2023-03-06T21:18:20.816492Z",
     "iopub.status.busy": "2023-03-06T21:18:20.816031Z",
     "iopub.status.idle": "2023-03-06T21:18:20.826589Z",
     "shell.execute_reply": "2023-03-06T21:18:20.825382Z"
    },
    "papermill": {
     "duration": 0.032311,
     "end_time": "2023-03-06T21:18:20.829299",
     "exception": false,
     "start_time": "2023-03-06T21:18:20.796988",
     "status": "completed"
    },
    "tags": []
   },
   "outputs": [
    {
     "data": {
      "text/plain": [
       "Crop                  0\n",
       "Production 2006-07    0\n",
       "Production 2007-08    0\n",
       "Production 2008-09    0\n",
       "Production 2009-10    0\n",
       "Production 2010-11    0\n",
       "Area 2006-07          0\n",
       "Area 2007-08          0\n",
       "Area 2008-09          0\n",
       "Area 2009-10          0\n",
       "Area 2010-11          0\n",
       "Yield 2006-07         0\n",
       "Yield 2007-08         0\n",
       "Yield 2008-09         0\n",
       "Yield 2009-10         0\n",
       "Yield 2010-11         0\n",
       "dtype: int64"
      ]
     },
     "execution_count": 13,
     "metadata": {},
     "output_type": "execute_result"
    }
   ],
   "source": [
    "df2.isna().sum()"
   ]
  },
  {
   "cell_type": "code",
   "execution_count": 14,
   "id": "fb40fb7b",
   "metadata": {
    "execution": {
     "iopub.execute_input": "2023-03-06T21:18:20.867723Z",
     "iopub.status.busy": "2023-03-06T21:18:20.867297Z",
     "iopub.status.idle": "2023-03-06T21:18:20.877956Z",
     "shell.execute_reply": "2023-03-06T21:18:20.876645Z"
    },
    "papermill": {
     "duration": 0.03335,
     "end_time": "2023-03-06T21:18:20.880540",
     "exception": false,
     "start_time": "2023-03-06T21:18:20.847190",
     "status": "completed"
    },
    "tags": []
   },
   "outputs": [
    {
     "data": {
      "text/plain": [
       "Crop                         0\n",
       "Variety                      0\n",
       "Season/ duration in days    28\n",
       "Recommended Zone             1\n",
       "Unnamed: 4                  78\n",
       "dtype: int64"
      ]
     },
     "execution_count": 14,
     "metadata": {},
     "output_type": "execute_result"
    }
   ],
   "source": [
    "\n",
    "df3.isna().sum()"
   ]
  },
  {
   "cell_type": "code",
   "execution_count": 15,
   "id": "897d07a2",
   "metadata": {
    "execution": {
     "iopub.execute_input": "2023-03-06T21:18:20.919988Z",
     "iopub.status.busy": "2023-03-06T21:18:20.919557Z",
     "iopub.status.idle": "2023-03-06T21:18:20.929666Z",
     "shell.execute_reply": "2023-03-06T21:18:20.928341Z"
    },
    "papermill": {
     "duration": 0.033217,
     "end_time": "2023-03-06T21:18:20.932181",
     "exception": false,
     "start_time": "2023-03-06T21:18:20.898964",
     "status": "completed"
    },
    "tags": []
   },
   "outputs": [
    {
     "data": {
      "text/plain": [
       "Crop       1\n",
       "2004-05    1\n",
       "2005-06    1\n",
       "2006-07    1\n",
       "2007-08    1\n",
       "2008-09    1\n",
       "2009-10    1\n",
       "2010-11    1\n",
       "2011-12    1\n",
       "dtype: int64"
      ]
     },
     "execution_count": 15,
     "metadata": {},
     "output_type": "execute_result"
    }
   ],
   "source": [
    "df4.isna().sum()"
   ]
  },
  {
   "cell_type": "markdown",
   "id": "57393e63",
   "metadata": {
    "papermill": {
     "duration": 0.017369,
     "end_time": "2023-03-06T21:18:20.967488",
     "exception": false,
     "start_time": "2023-03-06T21:18:20.950119",
     "status": "completed"
    },
    "tags": []
   },
   "source": [
    "**We have find out a situation df4 table and making sure the null values are replaced by mean of columns in the dataset**"
   ]
  },
  {
   "cell_type": "code",
   "execution_count": 16,
   "id": "e4e7e51a",
   "metadata": {
    "execution": {
     "iopub.execute_input": "2023-03-06T21:18:21.005307Z",
     "iopub.status.busy": "2023-03-06T21:18:21.004917Z",
     "iopub.status.idle": "2023-03-06T21:18:21.010811Z",
     "shell.execute_reply": "2023-03-06T21:18:21.009884Z"
    },
    "papermill": {
     "duration": 0.027772,
     "end_time": "2023-03-06T21:18:21.013165",
     "exception": false,
     "start_time": "2023-03-06T21:18:20.985393",
     "status": "completed"
    },
    "tags": []
   },
   "outputs": [],
   "source": [
    "mean=df4['2004-05'].mean(skipna= True)\n",
    "df4['2004-05']=df4['2004-05'].fillna(mean)"
   ]
  },
  {
   "cell_type": "code",
   "execution_count": 17,
   "id": "47f97915",
   "metadata": {
    "execution": {
     "iopub.execute_input": "2023-03-06T21:18:21.051032Z",
     "iopub.status.busy": "2023-03-06T21:18:21.050597Z",
     "iopub.status.idle": "2023-03-06T21:18:21.056997Z",
     "shell.execute_reply": "2023-03-06T21:18:21.055879Z"
    },
    "papermill": {
     "duration": 0.02834,
     "end_time": "2023-03-06T21:18:21.059426",
     "exception": false,
     "start_time": "2023-03-06T21:18:21.031086",
     "status": "completed"
    },
    "tags": []
   },
   "outputs": [],
   "source": [
    "mean= df4['2005-06'].mean(skipna=True)\n",
    "df4['2005-06']=df4['2005-06'].fillna(mean)"
   ]
  },
  {
   "cell_type": "code",
   "execution_count": 18,
   "id": "2bc00e63",
   "metadata": {
    "execution": {
     "iopub.execute_input": "2023-03-06T21:18:21.097510Z",
     "iopub.status.busy": "2023-03-06T21:18:21.097056Z",
     "iopub.status.idle": "2023-03-06T21:18:21.103754Z",
     "shell.execute_reply": "2023-03-06T21:18:21.102537Z"
    },
    "papermill": {
     "duration": 0.028261,
     "end_time": "2023-03-06T21:18:21.106105",
     "exception": false,
     "start_time": "2023-03-06T21:18:21.077844",
     "status": "completed"
    },
    "tags": []
   },
   "outputs": [],
   "source": [
    "mean= df4['2006-07'].mean(skipna= True)\n",
    "df4['2006-07']=df4['2006-07'].fillna(mean)"
   ]
  },
  {
   "cell_type": "code",
   "execution_count": 19,
   "id": "a122034a",
   "metadata": {
    "execution": {
     "iopub.execute_input": "2023-03-06T21:18:21.144705Z",
     "iopub.status.busy": "2023-03-06T21:18:21.144254Z",
     "iopub.status.idle": "2023-03-06T21:18:21.150339Z",
     "shell.execute_reply": "2023-03-06T21:18:21.149360Z"
    },
    "papermill": {
     "duration": 0.02831,
     "end_time": "2023-03-06T21:18:21.152543",
     "exception": false,
     "start_time": "2023-03-06T21:18:21.124233",
     "status": "completed"
    },
    "tags": []
   },
   "outputs": [],
   "source": [
    "mean= df4['2007-08'].mean(skipna=True)\n",
    "df4['2007-08']=df4['2007-08'].fillna(mean)"
   ]
  },
  {
   "cell_type": "code",
   "execution_count": 20,
   "id": "f6c1df40",
   "metadata": {
    "execution": {
     "iopub.execute_input": "2023-03-06T21:18:21.190078Z",
     "iopub.status.busy": "2023-03-06T21:18:21.189618Z",
     "iopub.status.idle": "2023-03-06T21:18:21.196446Z",
     "shell.execute_reply": "2023-03-06T21:18:21.195165Z"
    },
    "papermill": {
     "duration": 0.028761,
     "end_time": "2023-03-06T21:18:21.199021",
     "exception": false,
     "start_time": "2023-03-06T21:18:21.170260",
     "status": "completed"
    },
    "tags": []
   },
   "outputs": [],
   "source": [
    "mean= df4['2008-09'].mean(skipna=True)\n",
    "df4['2008-09']=df4['2008-09'].fillna(mean)"
   ]
  },
  {
   "cell_type": "code",
   "execution_count": 21,
   "id": "86c07a66",
   "metadata": {
    "execution": {
     "iopub.execute_input": "2023-03-06T21:18:21.237445Z",
     "iopub.status.busy": "2023-03-06T21:18:21.236983Z",
     "iopub.status.idle": "2023-03-06T21:18:21.243796Z",
     "shell.execute_reply": "2023-03-06T21:18:21.242477Z"
    },
    "papermill": {
     "duration": 0.029155,
     "end_time": "2023-03-06T21:18:21.246322",
     "exception": false,
     "start_time": "2023-03-06T21:18:21.217167",
     "status": "completed"
    },
    "tags": []
   },
   "outputs": [],
   "source": [
    "mean=df4['2009-10'].mean(skipna=True)\n",
    "df4['2009-10']=df4['2009-10'].fillna(mean)"
   ]
  },
  {
   "cell_type": "code",
   "execution_count": 22,
   "id": "b60ffd1b",
   "metadata": {
    "execution": {
     "iopub.execute_input": "2023-03-06T21:18:21.286802Z",
     "iopub.status.busy": "2023-03-06T21:18:21.286026Z",
     "iopub.status.idle": "2023-03-06T21:18:21.293337Z",
     "shell.execute_reply": "2023-03-06T21:18:21.291813Z"
    },
    "papermill": {
     "duration": 0.031651,
     "end_time": "2023-03-06T21:18:21.296162",
     "exception": false,
     "start_time": "2023-03-06T21:18:21.264511",
     "status": "completed"
    },
    "tags": []
   },
   "outputs": [],
   "source": [
    "mean=df4['2010-11'].mean(skipna=True)\n",
    "df4['2010-11']=df4['2010-11'].fillna(mean)"
   ]
  },
  {
   "cell_type": "code",
   "execution_count": 23,
   "id": "4c78dde8",
   "metadata": {
    "execution": {
     "iopub.execute_input": "2023-03-06T21:18:21.335706Z",
     "iopub.status.busy": "2023-03-06T21:18:21.334427Z",
     "iopub.status.idle": "2023-03-06T21:18:21.340696Z",
     "shell.execute_reply": "2023-03-06T21:18:21.339814Z"
    },
    "papermill": {
     "duration": 0.028476,
     "end_time": "2023-03-06T21:18:21.343167",
     "exception": false,
     "start_time": "2023-03-06T21:18:21.314691",
     "status": "completed"
    },
    "tags": []
   },
   "outputs": [],
   "source": [
    "mean=df4['2011-12'].mean(skipna=True)\n",
    "df4['2011-12']=df4['2011-12'].fillna(mean)"
   ]
  },
  {
   "cell_type": "markdown",
   "id": "0a9e1c68",
   "metadata": {
    "papermill": {
     "duration": 0.018129,
     "end_time": "2023-03-06T21:18:21.379120",
     "exception": false,
     "start_time": "2023-03-06T21:18:21.360991",
     "status": "completed"
    },
    "tags": []
   },
   "source": [
    "**Trough dropna we have removed a row from the dataset to make data eda ready**"
   ]
  },
  {
   "cell_type": "code",
   "execution_count": 24,
   "id": "0206a972",
   "metadata": {
    "execution": {
     "iopub.execute_input": "2023-03-06T21:18:21.417498Z",
     "iopub.status.busy": "2023-03-06T21:18:21.416701Z",
     "iopub.status.idle": "2023-03-06T21:18:21.424279Z",
     "shell.execute_reply": "2023-03-06T21:18:21.422965Z"
    },
    "papermill": {
     "duration": 0.029688,
     "end_time": "2023-03-06T21:18:21.426840",
     "exception": false,
     "start_time": "2023-03-06T21:18:21.397152",
     "status": "completed"
    },
    "tags": []
   },
   "outputs": [],
   "source": [
    "df4.dropna(subset=['Crop'],axis=0,inplace =True)"
   ]
  },
  {
   "cell_type": "code",
   "execution_count": 25,
   "id": "563d68a5",
   "metadata": {
    "execution": {
     "iopub.execute_input": "2023-03-06T21:18:21.464623Z",
     "iopub.status.busy": "2023-03-06T21:18:21.463817Z",
     "iopub.status.idle": "2023-03-06T21:18:21.473535Z",
     "shell.execute_reply": "2023-03-06T21:18:21.472357Z"
    },
    "papermill": {
     "duration": 0.031427,
     "end_time": "2023-03-06T21:18:21.476139",
     "exception": false,
     "start_time": "2023-03-06T21:18:21.444712",
     "status": "completed"
    },
    "tags": []
   },
   "outputs": [
    {
     "data": {
      "text/plain": [
       "Crop       0\n",
       "2004-05    0\n",
       "2005-06    0\n",
       "2006-07    0\n",
       "2007-08    0\n",
       "2008-09    0\n",
       "2009-10    0\n",
       "2010-11    0\n",
       "2011-12    0\n",
       "dtype: int64"
      ]
     },
     "execution_count": 25,
     "metadata": {},
     "output_type": "execute_result"
    }
   ],
   "source": [
    "df4.isna().sum()"
   ]
  },
  {
   "cell_type": "markdown",
   "id": "efe4cbe8",
   "metadata": {
    "papermill": {
     "duration": 0.017721,
     "end_time": "2023-03-06T21:18:21.511823",
     "exception": false,
     "start_time": "2023-03-06T21:18:21.494102",
     "status": "completed"
    },
    "tags": []
   },
   "source": [
    "**To know the contents from a tables column we use unique function**"
   ]
  },
  {
   "cell_type": "code",
   "execution_count": 26,
   "id": "cacf743d",
   "metadata": {
    "execution": {
     "iopub.execute_input": "2023-03-06T21:18:21.549917Z",
     "iopub.status.busy": "2023-03-06T21:18:21.549432Z",
     "iopub.status.idle": "2023-03-06T21:18:21.558015Z",
     "shell.execute_reply": "2023-03-06T21:18:21.557031Z"
    },
    "papermill": {
     "duration": 0.030263,
     "end_time": "2023-03-06T21:18:21.560280",
     "exception": false,
     "start_time": "2023-03-06T21:18:21.530017",
     "status": "completed"
    },
    "tags": []
   },
   "outputs": [
    {
     "data": {
      "text/plain": [
       "array(['Paddy', 'Wheat', 'Barley', 'Maize', 'Pearl Millet',\n",
       "       'Finger Millet', 'Indian Mustard', 'Yellow Sarson', 'Linseed',\n",
       "       'Groundnut', 'Sesame', 'Chickpea ', 'Bengal Gram', 'Lentil',\n",
       "       'Fieldpea', 'French Bean', 'Mungbean', 'Urdbean', 'Cluster Bean',\n",
       "       'Horse Gram', 'Sugarcane', 'Napier Bajra Hybrid', 'Oat',\n",
       "       'Tall Fescue Grass', 'Cowpea (Fodder)', 'Jute', 'Mesta', 'Cotton',\n",
       "       'Desi Cotton'], dtype=object)"
      ]
     },
     "execution_count": 26,
     "metadata": {},
     "output_type": "execute_result"
    }
   ],
   "source": [
    "df3['Crop'].unique()"
   ]
  },
  {
   "cell_type": "markdown",
   "id": "e6234e23",
   "metadata": {
    "papermill": {
     "duration": 0.017906,
     "end_time": "2023-03-06T21:18:21.596544",
     "exception": false,
     "start_time": "2023-03-06T21:18:21.578638",
     "status": "completed"
    },
    "tags": []
   },
   "source": [
    "**e have value_counts funtion to know a tables columns count of repeats in the data column**"
   ]
  },
  {
   "cell_type": "code",
   "execution_count": 27,
   "id": "c07b6d4c",
   "metadata": {
    "execution": {
     "iopub.execute_input": "2023-03-06T21:18:21.634910Z",
     "iopub.status.busy": "2023-03-06T21:18:21.634064Z",
     "iopub.status.idle": "2023-03-06T21:18:21.644142Z",
     "shell.execute_reply": "2023-03-06T21:18:21.642891Z"
    },
    "papermill": {
     "duration": 0.032278,
     "end_time": "2023-03-06T21:18:21.646694",
     "exception": false,
     "start_time": "2023-03-06T21:18:21.614416",
     "status": "completed"
    },
    "tags": []
   },
   "outputs": [
    {
     "data": {
      "text/plain": [
       "ARHAR                   5\n",
       "COTTON                  5\n",
       "GRAM                    5\n",
       "GROUNDNUT               5\n",
       "MAIZE                   5\n",
       "MOONG                   5\n",
       "PADDY                   5\n",
       "RAPESEED AND MUSTARD    5\n",
       "SUGARCANE               5\n",
       "WHEAT                   4\n",
       "Name: Crop, dtype: int64"
      ]
     },
     "execution_count": 27,
     "metadata": {},
     "output_type": "execute_result"
    }
   ],
   "source": [
    "count=df1['Crop'].value_counts()\n",
    "count"
   ]
  },
  {
   "cell_type": "markdown",
   "id": "2b97155d",
   "metadata": {
    "papermill": {
     "duration": 0.017852,
     "end_time": "2023-03-06T21:18:21.682777",
     "exception": false,
     "start_time": "2023-03-06T21:18:21.664925",
     "status": "completed"
    },
    "tags": []
   },
   "source": [
    "**We have plotted a figure to show a pie chart showing us share of diffrent crops in production in the year 2011-12**"
   ]
  },
  {
   "cell_type": "markdown",
   "id": "413cfbe6",
   "metadata": {
    "papermill": {
     "duration": 0.018126,
     "end_time": "2023-03-06T21:18:21.719873",
     "exception": false,
     "start_time": "2023-03-06T21:18:21.701747",
     "status": "completed"
    },
    "tags": []
   },
   "source": [
    "***Q1. What was the share of crops in total prodcution in 2011-12?***"
   ]
  },
  {
   "cell_type": "code",
   "execution_count": 28,
   "id": "cb02fa59",
   "metadata": {
    "execution": {
     "iopub.execute_input": "2023-03-06T21:18:21.759321Z",
     "iopub.status.busy": "2023-03-06T21:18:21.758094Z",
     "iopub.status.idle": "2023-03-06T21:18:22.113940Z",
     "shell.execute_reply": "2023-03-06T21:18:22.112577Z"
    },
    "papermill": {
     "duration": 0.378347,
     "end_time": "2023-03-06T21:18:22.116560",
     "exception": false,
     "start_time": "2023-03-06T21:18:21.738213",
     "status": "completed"
    },
    "tags": []
   },
   "outputs": [
    {
     "data": {
      "image/png": "[encoded data removed]",
      "text/plain": [
       "<Figure size 1200x600 with 1 Axes>"
      ]
     },
     "metadata": {},
     "output_type": "display_data"
    }
   ],
   "source": [
    "plt.figure(figsize=(12,6))\n",
    "sns.set_style('white')\n",
    "color=sns.color_palette('cool')\n",
    "plt.pie(df4['2011-12'],\n",
    "        labels=df4['Crop'],\n",
    "        autopct='%0.1f%%',\n",
    "        shadow= True,\n",
    "        colors=color)\n",
    "plt.title('Production of crops in 2011-12')\n",
    "plt.show()"
   ]
  },
  {
   "cell_type": "markdown",
   "id": "dbe70ded",
   "metadata": {
    "papermill": {
     "duration": 0.019164,
     "end_time": "2023-03-06T21:18:22.156099",
     "exception": false,
     "start_time": "2023-03-06T21:18:22.136935",
     "status": "completed"
    },
    "tags": []
   },
   "source": [
    "**We have plotted a countplot to know the no. varities of each crops which is prouduced in india**"
   ]
  },
  {
   "cell_type": "markdown",
   "id": "8d5a258a",
   "metadata": {
    "papermill": {
     "duration": 0.019352,
     "end_time": "2023-03-06T21:18:22.194935",
     "exception": false,
     "start_time": "2023-03-06T21:18:22.175583",
     "status": "completed"
    },
    "tags": []
   },
   "source": [
    "***Q2. What crops has diffrent kinds of vareities and who has the most varieties in all these crops?***"
   ]
  },
  {
   "cell_type": "code",
   "execution_count": 29,
   "id": "297a41fd",
   "metadata": {
    "execution": {
     "iopub.execute_input": "2023-03-06T21:18:22.236043Z",
     "iopub.status.busy": "2023-03-06T21:18:22.235579Z",
     "iopub.status.idle": "2023-03-06T21:18:22.754535Z",
     "shell.execute_reply": "2023-03-06T21:18:22.753232Z"
    },
    "papermill": {
     "duration": 0.542649,
     "end_time": "2023-03-06T21:18:22.757192",
     "exception": false,
     "start_time": "2023-03-06T21:18:22.214543",
     "status": "completed"
    },
    "tags": []
   },
   "outputs": [
    {
     "data": {
      "image/png": "[encoded data removed]",
      "text/plain": [
       "<Figure size 1200x600 with 1 Axes>"
      ]
     },
     "metadata": {},
     "output_type": "display_data"
    }
   ],
   "source": [
    "plt.figure(figsize=(12,6))\n",
    "sns.countplot(x=df3['Crop'],data=df3)\n",
    "plt.xticks(rotation='vertical')\n",
    "plt.xlabel('Crop')\n",
    "plt.ylabel('count')\n",
    "plt.title('Crop Varieties')\n",
    "plt.show()"
   ]
  },
  {
   "cell_type": "markdown",
   "id": "68d157b5",
   "metadata": {
    "papermill": {
     "duration": 0.020539,
     "end_time": "2023-03-06T21:18:22.798556",
     "exception": false,
     "start_time": "2023-03-06T21:18:22.778017",
     "status": "completed"
    },
    "tags": []
   },
   "source": [
    "Wheat has a the most amount of varieties in all the crops"
   ]
  },
  {
   "cell_type": "markdown",
   "id": "d4c93166",
   "metadata": {
    "papermill": {
     "duration": 0.020622,
     "end_time": "2023-03-06T21:18:22.839953",
     "exception": false,
     "start_time": "2023-03-06T21:18:22.819331",
     "status": "completed"
    },
    "tags": []
   },
   "source": [
    "**We have plotted bar chart to show total yeild of diifrent crops in the year 2010-11**"
   ]
  },
  {
   "cell_type": "markdown",
   "id": "9b74b3d2",
   "metadata": {
    "papermill": {
     "duration": 0.020625,
     "end_time": "2023-03-06T21:18:22.881255",
     "exception": false,
     "start_time": "2023-03-06T21:18:22.860630",
     "status": "completed"
    },
    "tags": []
   },
   "source": [
    "***Q3. What are the diffrent crops yeild in the year 2010-11?***"
   ]
  },
  {
   "cell_type": "code",
   "execution_count": 30,
   "id": "918cb864",
   "metadata": {
    "execution": {
     "iopub.execute_input": "2023-03-06T21:18:22.924674Z",
     "iopub.status.busy": "2023-03-06T21:18:22.924194Z",
     "iopub.status.idle": "2023-03-06T21:18:25.108683Z",
     "shell.execute_reply": "2023-03-06T21:18:25.107719Z"
    },
    "papermill": {
     "duration": 2.213859,
     "end_time": "2023-03-06T21:18:25.115912",
     "exception": false,
     "start_time": "2023-03-06T21:18:22.902053",
     "status": "completed"
    },
    "tags": []
   },
   "outputs": [
    {
     "data": {
      "image/png": "[encoded data removed]",
      "text/plain": [
       "<Figure size 3000x1000 with 1 Axes>"
      ]
     },
     "metadata": {},
     "output_type": "display_data"
    }
   ],
   "source": [
    "plt.figure(figsize=(30,10))\n",
    "sns.barplot(x=df2['Crop'],y=df2['Yield 2010-11'],data=df2)\n",
    "plt.xticks(rotation='vertical',fontsize=25)\n",
    "plt.yticks(fontsize=25)\n",
    "plt.xlabel('Crop',fontsize=35)\n",
    "plt.ylabel('Yield in 2010-11',fontsize=20)\n",
    "plt.title('Yield in 2010-11',fontsize=50)\n",
    "plt.show()"
   ]
  },
  {
   "cell_type": "markdown",
   "id": "2b83b951",
   "metadata": {
    "papermill": {
     "duration": 0.026203,
     "end_time": "2023-03-06T21:18:25.170877",
     "exception": false,
     "start_time": "2023-03-06T21:18:25.144674",
     "status": "completed"
    },
    "tags": []
   },
   "source": [
    "Total Spices has the largest yeild in the year 2010-11"
   ]
  },
  {
   "cell_type": "markdown",
   "id": "ec4f808e",
   "metadata": {
    "papermill": {
     "duration": 0.025829,
     "end_time": "2023-03-06T21:18:25.222987",
     "exception": false,
     "start_time": "2023-03-06T21:18:25.197158",
     "status": "completed"
    },
    "tags": []
   },
   "source": [
    "**The process below we have done to group the data and its values to make a heirarchy and use this to view data diffrently.**"
   ]
  },
  {
   "cell_type": "code",
   "execution_count": 31,
   "id": "a2f77892",
   "metadata": {
    "execution": {
     "iopub.execute_input": "2023-03-06T21:18:25.278080Z",
     "iopub.status.busy": "2023-03-06T21:18:25.277252Z",
     "iopub.status.idle": "2023-03-06T21:18:25.295084Z",
     "shell.execute_reply": "2023-03-06T21:18:25.294120Z"
    },
    "papermill": {
     "duration": 0.047888,
     "end_time": "2023-03-06T21:18:25.297417",
     "exception": false,
     "start_time": "2023-03-06T21:18:25.249529",
     "status": "completed"
    },
    "tags": []
   },
   "outputs": [
    {
     "data": {
      "text/html": [
       "<div>\n",
       "<style scoped>\n",
       "    .dataframe tbody tr th:only-of-type {\n",
       "        vertical-align: middle;\n",
       "    }\n",
       "\n",
       "    .dataframe tbody tr th {\n",
       "        vertical-align: top;\n",
       "    }\n",
       "\n",
       "    .dataframe thead th {\n",
       "        text-align: right;\n",
       "    }\n",
       "</style>\n",
       "<table border=\"1\" class=\"dataframe\">\n",
       "  <thead>\n",
       "    <tr style=\"text-align: right;\">\n",
       "      <th></th>\n",
       "      <th>Cost of Cultivation (`/Hectare) A2+FL</th>\n",
       "      <th>Cost of Cultivation (`/Hectare) C2</th>\n",
       "      <th>Cost of Production (`/Quintal) C2</th>\n",
       "      <th>Yield (Quintal/ Hectare)</th>\n",
       "    </tr>\n",
       "    <tr>\n",
       "      <th>Crop</th>\n",
       "      <th></th>\n",
       "      <th></th>\n",
       "      <th></th>\n",
       "      <th></th>\n",
       "    </tr>\n",
       "  </thead>\n",
       "  <tbody>\n",
       "    <tr>\n",
       "      <th>ARHAR</th>\n",
       "      <td>13607.646</td>\n",
       "      <td>21719.8460</td>\n",
       "      <td>2491.7300</td>\n",
       "      <td>8.406</td>\n",
       "    </tr>\n",
       "    <tr>\n",
       "      <th>COTTON</th>\n",
       "      <td>28286.874</td>\n",
       "      <td>42958.1980</td>\n",
       "      <td>2271.9660</td>\n",
       "      <td>18.772</td>\n",
       "    </tr>\n",
       "    <tr>\n",
       "      <th>GRAM</th>\n",
       "      <td>11719.510</td>\n",
       "      <td>19308.7740</td>\n",
       "      <td>1792.6000</td>\n",
       "      <td>10.558</td>\n",
       "    </tr>\n",
       "    <tr>\n",
       "      <th>GROUNDNUT</th>\n",
       "      <td>21282.782</td>\n",
       "      <td>28188.0760</td>\n",
       "      <td>2704.6380</td>\n",
       "      <td>10.288</td>\n",
       "    </tr>\n",
       "    <tr>\n",
       "      <th>MAIZE</th>\n",
       "      <td>16610.150</td>\n",
       "      <td>23837.2980</td>\n",
       "      <td>774.5660</td>\n",
       "      <td>30.798</td>\n",
       "    </tr>\n",
       "    <tr>\n",
       "      <th>MOONG</th>\n",
       "      <td>7118.670</td>\n",
       "      <td>10776.3960</td>\n",
       "      <td>2990.1000</td>\n",
       "      <td>4.196</td>\n",
       "    </tr>\n",
       "    <tr>\n",
       "      <th>PADDY</th>\n",
       "      <td>22810.140</td>\n",
       "      <td>35768.2220</td>\n",
       "      <td>727.7340</td>\n",
       "      <td>46.296</td>\n",
       "    </tr>\n",
       "    <tr>\n",
       "      <th>RAPESEED AND MUSTARD</th>\n",
       "      <td>12260.490</td>\n",
       "      <td>21223.4320</td>\n",
       "      <td>1415.5940</td>\n",
       "      <td>14.320</td>\n",
       "    </tr>\n",
       "    <tr>\n",
       "      <th>SUGARCANE</th>\n",
       "      <td>52164.716</td>\n",
       "      <td>79655.0260</td>\n",
       "      <td>98.6480</td>\n",
       "      <td>790.496</td>\n",
       "    </tr>\n",
       "    <tr>\n",
       "      <th>WHEAT</th>\n",
       "      <td>17127.110</td>\n",
       "      <td>29923.0825</td>\n",
       "      <td>767.1175</td>\n",
       "      <td>33.900</td>\n",
       "    </tr>\n",
       "  </tbody>\n",
       "</table>\n",
       "</div>"
      ],
      "text/plain": [
       "                      Cost of Cultivation (`/Hectare) A2+FL  \\\n",
       "Crop                                                          \n",
       "ARHAR                                             13607.646   \n",
       "COTTON                                            28286.874   \n",
       "GRAM                                              11719.510   \n",
       "GROUNDNUT                                         21282.782   \n",
       "MAIZE                                             16610.150   \n",
       "MOONG                                              7118.670   \n",
       "PADDY                                             22810.140   \n",
       "RAPESEED AND MUSTARD                              12260.490   \n",
       "SUGARCANE                                         52164.716   \n",
       "WHEAT                                             17127.110   \n",
       "\n",
       "                      Cost of Cultivation (`/Hectare) C2  \\\n",
       "Crop                                                       \n",
       "ARHAR                                         21719.8460   \n",
       "COTTON                                        42958.1980   \n",
       "GRAM                                          19308.7740   \n",
       "GROUNDNUT                                     28188.0760   \n",
       "MAIZE                                         23837.2980   \n",
       "MOONG                                         10776.3960   \n",
       "PADDY                                         35768.2220   \n",
       "RAPESEED AND MUSTARD                          21223.4320   \n",
       "SUGARCANE                                     79655.0260   \n",
       "WHEAT                                         29923.0825   \n",
       "\n",
       "                      Cost of Production (`/Quintal) C2  \\\n",
       "Crop                                                      \n",
       "ARHAR                                         2491.7300   \n",
       "COTTON                                        2271.9660   \n",
       "GRAM                                          1792.6000   \n",
       "GROUNDNUT                                     2704.6380   \n",
       "MAIZE                                          774.5660   \n",
       "MOONG                                         2990.1000   \n",
       "PADDY                                          727.7340   \n",
       "RAPESEED AND MUSTARD                          1415.5940   \n",
       "SUGARCANE                                       98.6480   \n",
       "WHEAT                                          767.1175   \n",
       "\n",
       "                      Yield (Quintal/ Hectare)   \n",
       "Crop                                             \n",
       "ARHAR                                     8.406  \n",
       "COTTON                                   18.772  \n",
       "GRAM                                     10.558  \n",
       "GROUNDNUT                                10.288  \n",
       "MAIZE                                    30.798  \n",
       "MOONG                                     4.196  \n",
       "PADDY                                    46.296  \n",
       "RAPESEED AND MUSTARD                     14.320  \n",
       "SUGARCANE                               790.496  \n",
       "WHEAT                                    33.900  "
      ]
     },
     "execution_count": 31,
     "metadata": {},
     "output_type": "execute_result"
    }
   ],
   "source": [
    "s=df1.groupby('Crop')\n",
    "s.mean()"
   ]
  },
  {
   "cell_type": "markdown",
   "id": "92f42a93",
   "metadata": {
    "papermill": {
     "duration": 0.026269,
     "end_time": "2023-03-06T21:18:25.350843",
     "exception": false,
     "start_time": "2023-03-06T21:18:25.324574",
     "status": "completed"
    },
    "tags": []
   },
   "source": [
    "we have used masking to use the data we need from the table"
   ]
  },
  {
   "cell_type": "code",
   "execution_count": 32,
   "id": "5e2bc5b5",
   "metadata": {
    "execution": {
     "iopub.execute_input": "2023-03-06T21:18:25.406780Z",
     "iopub.status.busy": "2023-03-06T21:18:25.405996Z",
     "iopub.status.idle": "2023-03-06T21:18:25.411969Z",
     "shell.execute_reply": "2023-03-06T21:18:25.410933Z"
    },
    "papermill": {
     "duration": 0.036923,
     "end_time": "2023-03-06T21:18:25.414593",
     "exception": false,
     "start_time": "2023-03-06T21:18:25.377670",
     "status": "completed"
    },
    "tags": []
   },
   "outputs": [],
   "source": [
    "cols=df1.columns\n",
    "cols\n",
    "color=sns.color_palette('PuOr')"
   ]
  },
  {
   "cell_type": "markdown",
   "id": "226b24f4",
   "metadata": {
    "papermill": {
     "duration": 0.025916,
     "end_time": "2023-03-06T21:18:25.466942",
     "exception": false,
     "start_time": "2023-03-06T21:18:25.441026",
     "status": "completed"
    },
    "tags": []
   },
   "source": [
    "**Plotiing a bar chart by using crops as basis to evalueate all the attributes of the data.**"
   ]
  },
  {
   "cell_type": "markdown",
   "id": "f7a9669d",
   "metadata": {
    "papermill": {
     "duration": 0.026317,
     "end_time": "2023-03-06T21:18:25.519969",
     "exception": false,
     "start_time": "2023-03-06T21:18:25.493652",
     "status": "completed"
    },
    "tags": []
   },
   "source": [
    "***Q4. What costs does one bear if they decide to grow a particular crop in their farm?***"
   ]
  },
  {
   "cell_type": "code",
   "execution_count": 33,
   "id": "cc826286",
   "metadata": {
    "execution": {
     "iopub.execute_input": "2023-03-06T21:18:25.575767Z",
     "iopub.status.busy": "2023-03-06T21:18:25.575078Z",
     "iopub.status.idle": "2023-03-06T21:18:26.063393Z",
     "shell.execute_reply": "2023-03-06T21:18:26.062084Z"
    },
    "papermill": {
     "duration": 0.519501,
     "end_time": "2023-03-06T21:18:26.066050",
     "exception": false,
     "start_time": "2023-03-06T21:18:25.546549",
     "status": "completed"
    },
    "tags": []
   },
   "outputs": [
    {
     "data": {
      "text/plain": [
       "<AxesSubplot:xlabel='Crop'>"
      ]
     },
     "execution_count": 33,
     "metadata": {},
     "output_type": "execute_result"
    },
    {
     "data": {
      "image/png": "[encoded data removed]",
      "text/plain": [
       "<Figure size 1200x600 with 1 Axes>"
      ]
     },
     "metadata": {},
     "output_type": "display_data"
    }
   ],
   "source": [
    "df1.groupby('Crop')[cols].mean().plot(kind='bar', figsize=(12,6),color=color)"
   ]
  },
  {
   "cell_type": "markdown",
   "id": "7bc3be23",
   "metadata": {
    "papermill": {
     "duration": 0.031495,
     "end_time": "2023-03-06T21:18:26.125997",
     "exception": false,
     "start_time": "2023-03-06T21:18:26.094502",
     "status": "completed"
    },
    "tags": []
   },
   "source": [
    "Sugarcane has the highest cost of prodcution in all the crops"
   ]
  },
  {
   "cell_type": "markdown",
   "id": "04b5b033",
   "metadata": {
    "papermill": {
     "duration": 0.027837,
     "end_time": "2023-03-06T21:18:26.186063",
     "exception": false,
     "start_time": "2023-03-06T21:18:26.158226",
     "status": "completed"
    },
    "tags": []
   },
   "source": [
    "**A pie chart to show the yeild capacity of diffrent states on a given area.**"
   ]
  },
  {
   "cell_type": "markdown",
   "id": "10cbd76f",
   "metadata": {
    "papermill": {
     "duration": 0.029076,
     "end_time": "2023-03-06T21:18:26.243276",
     "exception": false,
     "start_time": "2023-03-06T21:18:26.214200",
     "status": "completed"
    },
    "tags": []
   },
   "source": [
    "***Q5. What is share of states in total yeild of crops?***"
   ]
  },
  {
   "cell_type": "code",
   "execution_count": 34,
   "id": "5a873474",
   "metadata": {
    "execution": {
     "iopub.execute_input": "2023-03-06T21:18:26.301130Z",
     "iopub.status.busy": "2023-03-06T21:18:26.300406Z",
     "iopub.status.idle": "2023-03-06T21:18:27.820729Z",
     "shell.execute_reply": "2023-03-06T21:18:27.819373Z"
    },
    "papermill": {
     "duration": 1.553254,
     "end_time": "2023-03-06T21:18:27.824287",
     "exception": false,
     "start_time": "2023-03-06T21:18:26.271033",
     "status": "completed"
    },
    "tags": []
   },
   "outputs": [
    {
     "data": {
      "application/vnd.plotly.v1+json": {
       "config": {
        "plotlyServerURL": "https://plot.ly"
       },
       "data": [
        {
         "domain": {
          "x": [
           0,
           1
          ],
          "y": [
           0,
           1
          ]
         },
         "hovertemplate": "label=%{label}<br>value=%{value}<extra></extra>",
         "labels": [
          [
           "Andhra Pradesh",
           [
            6.42,
            17.83,
            16.69,
            11.97,
            42.68,
            5.9,
            56,
            757.92
           ]
          ],
          [
           "Bihar",
           [
            42.95
           ]
          ],
          [
           "Gujarat",
           [
            9.59,
            19.05,
            13.45,
            11.61
           ]
          ],
          [
           "Haryana",
           [
            19.9,
            19.94
           ]
          ],
          [
           "Karnataka",
           [
            7.47,
            4.71,
            31.1,
            1.32,
            986.21
           ]
          ],
          [
           "Madhya Pradesh",
           [
            10.29,
            12.94,
            23.59
           ]
          ],
          [
           "Maharashtra",
           [
            8.72,
            12.69,
            8.05,
            9.33,
            6.7,
            744.01
           ]
          ],
          [
           "Orissa",
           [
            3.01,
            32.42
           ]
          ],
          [
           "Punjab",
           [
            24.39,
            67.41,
            39.83
           ]
          ],
          [
           "Rajasthan",
           [
            6.83,
            23.56,
            4.05,
            13.54,
            37.19
           ]
          ],
          [
           "Tamil Nadu",
           [
            11.98,
            1015.45
           ]
          ],
          [
           "Uttar Pradesh",
           [
            9.83,
            10.93,
            13.7,
            36.61,
            13.57,
            448.89,
            34.99
           ]
          ],
          [
           "West Bengal",
           [
            39.04
           ]
          ]
         ],
         "legendgroup": "",
         "name": "",
         "showlegend": true,
         "type": "pie",
         "values": [
          915.41,
          42.95,
          53.7,
          39.84,
          1030.81,
          46.82,
          789.5,
          35.43,
          131.63,
          85.16999999999999,
          1027.43,
          568.52,
          39.04
         ]
        }
       ],
       "layout": {
        "legend": {
         "tracegroupgap": 0
        },
        "template": {
         "data": {
          "bar": [
           {
            "error_x": {
             "color": "#2a3f5f"
            },
            "error_y": {
             "color": "#2a3f5f"
            },
            "marker": {
             "line": {
              "color": "#E5ECF6",
              "width": 0.5
             },
             "pattern": {
              "fillmode": "overlay",
              "size": 10,
              "solidity": 0.2
             }
            },
            "type": "bar"
           }
          ],
          "barpolar": [
           {
            "marker": {
             "line": {
              "color": "#E5ECF6",
              "width": 0.5
             },
             "pattern": {
              "fillmode": "overlay",
              "size": 10,
              "solidity": 0.2
             }
            },
            "type": "barpolar"
           }
          ],
          "carpet": [
           {
            "aaxis": {
             "endlinecolor": "#2a3f5f",
             "gridcolor": "white",
             "linecolor": "white",
             "minorgridcolor": "white",
             "startlinecolor": "#2a3f5f"
            },
            "baxis": {
             "endlinecolor": "#2a3f5f",
             "gridcolor": "white",
             "linecolor": "white",
             "minorgridcolor": "white",
             "startlinecolor": "#2a3f5f"
            },
            "type": "carpet"
           }
          ],
          "choropleth": [
           {
            "colorbar": {
             "outlinewidth": 0,
             "ticks": ""
            },
            "type": "choropleth"
           }
          ],
          "contour": [
           {
            "colorbar": {
             "outlinewidth": 0,
             "ticks": ""
            },
            "colorscale": [
             [
              0,
              "#0d0887"
             ],
             [
              0.1111111111111111,
              "#46039f"
             ],
             [
              0.2222222222222222,
              "#7201a8"
             ],
             [
              0.3333333333333333,
              "#9c179e"
             ],
             [
              0.4444444444444444,
              "#bd3786"
             ],
             [
              0.5555555555555556,
              "#d8576b"
             ],
             [
              0.6666666666666666,
              "#ed7953"
             ],
             [
              0.7777777777777778,
              "#fb9f3a"
             ],
             [
              0.8888888888888888,
              "#fdca26"
             ],
             [
              1,
              "#f0f921"
             ]
            ],
            "type": "contour"
           }
          ],
          "contourcarpet": [
           {
            "colorbar": {
             "outlinewidth": 0,
             "ticks": ""
            },
            "type": "contourcarpet"
           }
          ],
          "heatmap": [
           {
            "colorbar": {
             "outlinewidth": 0,
             "ticks": ""
            },
            "colorscale": [
             [
              0,
              "#0d0887"
             ],
             [
              0.1111111111111111,
              "#46039f"
             ],
             [
              0.2222222222222222,
              "#7201a8"
             ],
             [
              0.3333333333333333,
              "#9c179e"
             ],
             [
              0.4444444444444444,
              "#bd3786"
             ],
             [
              0.5555555555555556,
              "#d8576b"
             ],
             [
              0.6666666666666666,
              "#ed7953"
             ],
             [
              0.7777777777777778,
              "#fb9f3a"
             ],
             [
              0.8888888888888888,
              "#fdca26"
             ],
             [
              1,
              "#f0f921"
             ]
            ],
            "type": "heatmap"
           }
          ],
          "heatmapgl": [
           {
            "colorbar": {
             "outlinewidth": 0,
             "ticks": ""
            },
            "colorscale": [
             [
              0,
              "#0d0887"
             ],
             [
              0.1111111111111111,
              "#46039f"
             ],
             [
              0.2222222222222222,
              "#7201a8"
             ],
             [
              0.3333333333333333,
              "#9c179e"
             ],
             [
              0.4444444444444444,
              "#bd3786"
             ],
             [
              0.5555555555555556,
              "#d8576b"
             ],
             [
              0.6666666666666666,
              "#ed7953"
             ],
             [
              0.7777777777777778,
              "#fb9f3a"
             ],
             [
              0.8888888888888888,
              "#fdca26"
             ],
             [
              1,
              "#f0f921"
             ]
            ],
            "type": "heatmapgl"
           }
          ],
          "histogram": [
           {
            "marker": {
             "pattern": {
              "fillmode": "overlay",
              "size": 10,
              "solidity": 0.2
             }
            },
            "type": "histogram"
           }
          ],
          "histogram2d": [
           {
            "colorbar": {
             "outlinewidth": 0,
             "ticks": ""
            },
            "colorscale": [
             [
              0,
              "#0d0887"
             ],
             [
              0.1111111111111111,
              "#46039f"
             ],
             [
              0.2222222222222222,
              "#7201a8"
             ],
             [
              0.3333333333333333,
              "#9c179e"
             ],
             [
              0.4444444444444444,
              "#bd3786"
             ],
             [
              0.5555555555555556,
              "#d8576b"
             ],
             [
              0.6666666666666666,
              "#ed7953"
             ],
             [
              0.7777777777777778,
              "#fb9f3a"
             ],
             [
              0.8888888888888888,
              "#fdca26"
             ],
             [
              1,
              "#f0f921"
             ]
            ],
            "type": "histogram2d"
           }
          ],
          "histogram2dcontour": [
           {
            "colorbar": {
             "outlinewidth": 0,
             "ticks": ""
            },
            "colorscale": [
             [
              0,
              "#0d0887"
             ],
             [
              0.1111111111111111,
              "#46039f"
             ],
             [
              0.2222222222222222,
              "#7201a8"
             ],
             [
              0.3333333333333333,
              "#9c179e"
             ],
             [
              0.4444444444444444,
              "#bd3786"
             ],
             [
              0.5555555555555556,
              "#d8576b"
             ],
             [
              0.6666666666666666,
              "#ed7953"
             ],
             [
              0.7777777777777778,
              "#fb9f3a"
             ],
             [
              0.8888888888888888,
              "#fdca26"
             ],
             [
              1,
              "#f0f921"
             ]
            ],
            "type": "histogram2dcontour"
           }
          ],
          "mesh3d": [
           {
            "colorbar": {
             "outlinewidth": 0,
             "ticks": ""
            },
            "type": "mesh3d"
           }
          ],
          "parcoords": [
           {
            "line": {
             "colorbar": {
              "outlinewidth": 0,
              "ticks": ""
             }
            },
            "type": "parcoords"
           }
          ],
          "pie": [
           {
            "automargin": true,
            "type": "pie"
           }
          ],
          "scatter": [
           {
            "fillpattern": {
             "fillmode": "overlay",
             "size": 10,
             "solidity": 0.2
            },
            "type": "scatter"
           }
          ],
          "scatter3d": [
           {
            "line": {
             "colorbar": {
              "outlinewidth": 0,
              "ticks": ""
             }
            },
            "marker": {
             "colorbar": {
              "outlinewidth": 0,
              "ticks": ""
             }
            },
            "type": "scatter3d"
           }
          ],
          "scattercarpet": [
           {
            "marker": {
             "colorbar": {
              "outlinewidth": 0,
              "ticks": ""
             }
            },
            "type": "scattercarpet"
           }
          ],
          "scattergeo": [
           {
            "marker": {
             "colorbar": {
              "outlinewidth": 0,
              "ticks": ""
             }
            },
            "type": "scattergeo"
           }
          ],
          "scattergl": [
           {
            "marker": {
             "colorbar": {
              "outlinewidth": 0,
              "ticks": ""
             }
            },
            "type": "scattergl"
           }
          ],
          "scattermapbox": [
           {
            "marker": {
             "colorbar": {
              "outlinewidth": 0,
              "ticks": ""
             }
            },
            "type": "scattermapbox"
           }
          ],
          "scatterpolar": [
           {
            "marker": {
             "colorbar": {
              "outlinewidth": 0,
              "ticks": ""
             }
            },
            "type": "scatterpolar"
           }
          ],
          "scatterpolargl": [
           {
            "marker": {
             "colorbar": {
              "outlinewidth": 0,
              "ticks": ""
             }
            },
            "type": "scatterpolargl"
           }
          ],
          "scatterternary": [
           {
            "marker": {
             "colorbar": {
              "outlinewidth": 0,
              "ticks": ""
             }
            },
            "type": "scatterternary"
           }
          ],
          "surface": [
           {
            "colorbar": {
             "outlinewidth": 0,
             "ticks": ""
            },
            "colorscale": [
             [
              0,
              "#0d0887"
             ],
             [
              0.1111111111111111,
              "#46039f"
             ],
             [
              0.2222222222222222,
              "#7201a8"
             ],
             [
              0.3333333333333333,
              "#9c179e"
             ],
             [
              0.4444444444444444,
              "#bd3786"
             ],
             [
              0.5555555555555556,
              "#d8576b"
             ],
             [
              0.6666666666666666,
              "#ed7953"
             ],
             [
              0.7777777777777778,
              "#fb9f3a"
             ],
             [
              0.8888888888888888,
              "#fdca26"
             ],
             [
              1,
              "#f0f921"
             ]
            ],
            "type": "surface"
           }
          ],
          "table": [
           {
            "cells": {
             "fill": {
              "color": "#EBF0F8"
             },
             "line": {
              "color": "white"
             }
            },
            "header": {
             "fill": {
              "color": "#C8D4E3"
             },
             "line": {
              "color": "white"
             }
            },
            "type": "table"
           }
          ]
         },
         "layout": {
          "annotationdefaults": {
           "arrowcolor": "#2a3f5f",
           "arrowhead": 0,
           "arrowwidth": 1
          },
          "autotypenumbers": "strict",
          "coloraxis": {
           "colorbar": {
            "outlinewidth": 0,
            "ticks": ""
           }
          },
          "colorscale": {
           "diverging": [
            [
             0,
             "#8e0152"
            ],
            [
             0.1,
             "#c51b7d"
            ],
            [
             0.2,
             "#de77ae"
            ],
            [
             0.3,
             "#f1b6da"
            ],
            [
             0.4,
             "#fde0ef"
            ],
            [
             0.5,
             "#f7f7f7"
            ],
            [
             0.6,
             "#e6f5d0"
            ],
            [
             0.7,
             "#b8e186"
            ],
            [
             0.8,
             "#7fbc41"
            ],
            [
             0.9,
             "#4d9221"
            ],
            [
             1,
             "#276419"
            ]
           ],
           "sequential": [
            [
             0,
             "#0d0887"
            ],
            [
             0.1111111111111111,
             "#46039f"
            ],
            [
             0.2222222222222222,
             "#7201a8"
            ],
            [
             0.3333333333333333,
             "#9c179e"
            ],
            [
             0.4444444444444444,
             "#bd3786"
            ],
            [
             0.5555555555555556,
             "#d8576b"
            ],
            [
             0.6666666666666666,
             "#ed7953"
            ],
            [
             0.7777777777777778,
             "#fb9f3a"
            ],
            [
             0.8888888888888888,
             "#fdca26"
            ],
            [
             1,
             "#f0f921"
            ]
           ],
           "sequentialminus": [
            [
             0,
             "#0d0887"
            ],
            [
             0.1111111111111111,
             "#46039f"
            ],
            [
             0.2222222222222222,
             "#7201a8"
            ],
            [
             0.3333333333333333,
             "#9c179e"
            ],
            [
             0.4444444444444444,
             "#bd3786"
            ],
            [
             0.5555555555555556,
             "#d8576b"
            ],
            [
             0.6666666666666666,
             "#ed7953"
            ],
            [
             0.7777777777777778,
             "#fb9f3a"
            ],
            [
             0.8888888888888888,
             "#fdca26"
            ],
            [
             1,
             "#f0f921"
            ]
           ]
          },
          "colorway": [
           "#636efa",
           "#EF553B",
           "#00cc96",
           "#ab63fa",
           "#FFA15A",
           "#19d3f3",
           "#FF6692",
           "#B6E880",
           "#FF97FF",
           "#FECB52"
          ],
          "font": {
           "color": "#2a3f5f"
          },
          "geo": {
           "bgcolor": "white",
           "lakecolor": "white",
           "landcolor": "#E5ECF6",
           "showlakes": true,
           "showland": true,
           "subunitcolor": "white"
          },
          "hoverlabel": {
           "align": "left"
          },
          "hovermode": "closest",
          "mapbox": {
           "style": "light"
          },
          "paper_bgcolor": "white",
          "plot_bgcolor": "#E5ECF6",
          "polar": {
           "angularaxis": {
            "gridcolor": "white",
            "linecolor": "white",
            "ticks": ""
           },
           "bgcolor": "#E5ECF6",
           "radialaxis": {
            "gridcolor": "white",
            "linecolor": "white",
            "ticks": ""
           }
          },
          "scene": {
           "xaxis": {
            "backgroundcolor": "#E5ECF6",
            "gridcolor": "white",
            "gridwidth": 2,
            "linecolor": "white",
            "showbackground": true,
            "ticks": "",
            "zerolinecolor": "white"
           },
           "yaxis": {
            "backgroundcolor": "#E5ECF6",
            "gridcolor": "white",
            "gridwidth": 2,
            "linecolor": "white",
            "showbackground": true,
            "ticks": "",
            "zerolinecolor": "white"
           },
           "zaxis": {
            "backgroundcolor": "#E5ECF6",
            "gridcolor": "white",
            "gridwidth": 2,
            "linecolor": "white",
            "showbackground": true,
            "ticks": "",
            "zerolinecolor": "white"
           }
          },
          "shapedefaults": {
           "line": {
            "color": "#2a3f5f"
           }
          },
          "ternary": {
           "aaxis": {
            "gridcolor": "white",
            "linecolor": "white",
            "ticks": ""
           },
           "baxis": {
            "gridcolor": "white",
            "linecolor": "white",
            "ticks": ""
           },
           "bgcolor": "#E5ECF6",
           "caxis": {
            "gridcolor": "white",
            "linecolor": "white",
            "ticks": ""
           }
          },
          "title": {
           "x": 0.05
          },
          "xaxis": {
           "automargin": true,
           "gridcolor": "white",
           "linecolor": "white",
           "ticks": "",
           "title": {
            "standoff": 15
           },
           "zerolinecolor": "white",
           "zerolinewidth": 2
          },
          "yaxis": {
           "automargin": true,
           "gridcolor": "white",
           "linecolor": "white",
           "ticks": "",
           "title": {
            "standoff": 15
           },
           "zerolinecolor": "white",
           "zerolinewidth": 2
          }
         }
        },
        "title": {
         "text": "State wise yeild(Quintal/Hectare) "
        }
       }
      },
      "text/html": [
       "<div>                            <div id=\"16002e47-4720-44f1-aa8f-9262e24c21fc\" class=\"plotly-graph-div\" style=\"height:525px; width:100%;\"></div>            <script type=\"text/javascript\">                require([\"plotly\"], function(Plotly) {                    window.PLOTLYENV=window.PLOTLYENV || {};                                    if (document.getElementById(\"16002e47-4720-44f1-aa8f-9262e24c21fc\")) {                    Plotly.newPlot(                        \"16002e47-4720-44f1-aa8f-9262e24c21fc\",                        [{\"domain\":{\"x\":[0.0,1.0],\"y\":[0.0,1.0]},\"hovertemplate\":\"label=%{label}<br>value=%{value}<extra></extra>\",\"labels\":[[\"Andhra Pradesh\",[6.42,17.83,16.69,11.97,42.68,5.9,56.0,757.92]],[\"Bihar\",[42.95]],[\"Gujarat\",[9.59,19.05,13.45,11.61]],[\"Haryana\",[19.9,19.94]],[\"Karnataka\",[7.47,4.71,31.1,1.32,986.21]],[\"Madhya Pradesh\",[10.29,12.94,23.59]],[\"Maharashtra\",[8.72,12.69,8.05,9.33,6.7,744.01]],[\"Orissa\",[3.01,32.42]],[\"Punjab\",[24.39,67.41,39.83]],[\"Rajasthan\",[6.83,23.56,4.05,13.54,37.19]],[\"Tamil Nadu\",[11.98,1015.45]],[\"Uttar Pradesh\",[9.83,10.93,13.7,36.61,13.57,448.89,34.99]],[\"West Bengal\",[39.04]]],\"legendgroup\":\"\",\"name\":\"\",\"showlegend\":true,\"values\":[915.41,42.95,53.7,39.84,1030.81,46.82,789.5,35.43,131.63,85.16999999999999,1027.43,568.52,39.04],\"type\":\"pie\"}],                        {\"template\":{\"data\":{\"histogram2dcontour\":[{\"type\":\"histogram2dcontour\",\"colorbar\":{\"outlinewidth\":0,\"ticks\":\"\"},\"colorscale\":[[0.0,\"#0d0887\"],[0.1111111111111111,\"#46039f\"],[0.2222222222222222,\"#7201a8\"],[0.3333333333333333,\"#9c179e\"],[0.4444444444444444,\"#bd3786\"],[0.5555555555555556,\"#d8576b\"],[0.6666666666666666,\"#ed7953\"],[0.7777777777777778,\"#fb9f3a\"],[0.8888888888888888,\"#fdca26\"],[1.0,\"#f0f921\"]]}],\"choropleth\":[{\"type\":\"choropleth\",\"colorbar\":{\"outlinewidth\":0,\"ticks\":\"\"}}],\"histogram2d\":[{\"type\":\"histogram2d\",\"colorbar\":{\"outlinewidth\":0,\"ticks\":\"\"},\"colorscale\":[[0.0,\"#0d0887\"],[0.1111111111111111,\"#46039f\"],[0.2222222222222222,\"#7201a8\"],[0.3333333333333333,\"#9c179e\"],[0.4444444444444444,\"#bd3786\"],[0.5555555555555556,\"#d8576b\"],[0.6666666666666666,\"#ed7953\"],[0.7777777777777778,\"#fb9f3a\"],[0.8888888888888888,\"#fdca26\"],[1.0,\"#f0f921\"]]}],\"heatmap\":[{\"type\":\"heatmap\",\"colorbar\":{\"outlinewidth\":0,\"ticks\":\"\"},\"colorscale\":[[0.0,\"#0d0887\"],[0.1111111111111111,\"#46039f\"],[0.2222222222222222,\"#7201a8\"],[0.3333333333333333,\"#9c179e\"],[0.4444444444444444,\"#bd3786\"],[0.5555555555555556,\"#d8576b\"],[0.6666666666666666,\"#ed7953\"],[0.7777777777777778,\"#fb9f3a\"],[0.8888888888888888,\"#fdca26\"],[1.0,\"#f0f921\"]]}],\"heatmapgl\":[{\"type\":\"heatmapgl\",\"colorbar\":{\"outlinewidth\":0,\"ticks\":\"\"},\"colorscale\":[[0.0,\"#0d0887\"],[0.1111111111111111,\"#46039f\"],[0.2222222222222222,\"#7201a8\"],[0.3333333333333333,\"#9c179e\"],[0.4444444444444444,\"#bd3786\"],[0.5555555555555556,\"#d8576b\"],[0.6666666666666666,\"#ed7953\"],[0.7777777777777778,\"#fb9f3a\"],[0.8888888888888888,\"#fdca26\"],[1.0,\"#f0f921\"]]}],\"contourcarpet\":[{\"type\":\"contourcarpet\",\"colorbar\":{\"outlinewidth\":0,\"ticks\":\"\"}}],\"contour\":[{\"type\":\"contour\",\"colorbar\":{\"outlinewidth\":0,\"ticks\":\"\"},\"colorscale\":[[0.0,\"#0d0887\"],[0.1111111111111111,\"#46039f\"],[0.2222222222222222,\"#7201a8\"],[0.3333333333333333,\"#9c179e\"],[0.4444444444444444,\"#bd3786\"],[0.5555555555555556,\"#d8576b\"],[0.6666666666666666,\"#ed7953\"],[0.7777777777777778,\"#fb9f3a\"],[0.8888888888888888,\"#fdca26\"],[1.0,\"#f0f921\"]]}],\"surface\":[{\"type\":\"surface\",\"colorbar\":{\"outlinewidth\":0,\"ticks\":\"\"},\"colorscale\":[[0.0,\"#0d0887\"],[0.1111111111111111,\"#46039f\"],[0.2222222222222222,\"#7201a8\"],[0.3333333333333333,\"#9c179e\"],[0.4444444444444444,\"#bd3786\"],[0.5555555555555556,\"#d8576b\"],[0.6666666666666666,\"#ed7953\"],[0.7777777777777778,\"#fb9f3a\"],[0.8888888888888888,\"#fdca26\"],[1.0,\"#f0f921\"]]}],\"mesh3d\":[{\"type\":\"mesh3d\",\"colorbar\":{\"outlinewidth\":0,\"ticks\":\"\"}}],\"scatter\":[{\"fillpattern\":{\"fillmode\":\"overlay\",\"size\":10,\"solidity\":0.2},\"type\":\"scatter\"}],\"parcoords\":[{\"type\":\"parcoords\",\"line\":{\"colorbar\":{\"outlinewidth\":0,\"ticks\":\"\"}}}],\"scatterpolargl\":[{\"type\":\"scatterpolargl\",\"marker\":{\"colorbar\":{\"outlinewidth\":0,\"ticks\":\"\"}}}],\"bar\":[{\"error_x\":{\"color\":\"#2a3f5f\"},\"error_y\":{\"color\":\"#2a3f5f\"},\"marker\":{\"line\":{\"color\":\"#E5ECF6\",\"width\":0.5},\"pattern\":{\"fillmode\":\"overlay\",\"size\":10,\"solidity\":0.2}},\"type\":\"bar\"}],\"scattergeo\":[{\"type\":\"scattergeo\",\"marker\":{\"colorbar\":{\"outlinewidth\":0,\"ticks\":\"\"}}}],\"scatterpolar\":[{\"type\":\"scatterpolar\",\"marker\":{\"colorbar\":{\"outlinewidth\":0,\"ticks\":\"\"}}}],\"histogram\":[{\"marker\":{\"pattern\":{\"fillmode\":\"overlay\",\"size\":10,\"solidity\":0.2}},\"type\":\"histogram\"}],\"scattergl\":[{\"type\":\"scattergl\",\"marker\":{\"colorbar\":{\"outlinewidth\":0,\"ticks\":\"\"}}}],\"scatter3d\":[{\"type\":\"scatter3d\",\"line\":{\"colorbar\":{\"outlinewidth\":0,\"ticks\":\"\"}},\"marker\":{\"colorbar\":{\"outlinewidth\":0,\"ticks\":\"\"}}}],\"scattermapbox\":[{\"type\":\"scattermapbox\",\"marker\":{\"colorbar\":{\"outlinewidth\":0,\"ticks\":\"\"}}}],\"scatterternary\":[{\"type\":\"scatterternary\",\"marker\":{\"colorbar\":{\"outlinewidth\":0,\"ticks\":\"\"}}}],\"scattercarpet\":[{\"type\":\"scattercarpet\",\"marker\":{\"colorbar\":{\"outlinewidth\":0,\"ticks\":\"\"}}}],\"carpet\":[{\"aaxis\":{\"endlinecolor\":\"#2a3f5f\",\"gridcolor\":\"white\",\"linecolor\":\"white\",\"minorgridcolor\":\"white\",\"startlinecolor\":\"#2a3f5f\"},\"baxis\":{\"endlinecolor\":\"#2a3f5f\",\"gridcolor\":\"white\",\"linecolor\":\"white\",\"minorgridcolor\":\"white\",\"startlinecolor\":\"#2a3f5f\"},\"type\":\"carpet\"}],\"table\":[{\"cells\":{\"fill\":{\"color\":\"#EBF0F8\"},\"line\":{\"color\":\"white\"}},\"header\":{\"fill\":{\"color\":\"#C8D4E3\"},\"line\":{\"color\":\"white\"}},\"type\":\"table\"}],\"barpolar\":[{\"marker\":{\"line\":{\"color\":\"#E5ECF6\",\"width\":0.5},\"pattern\":{\"fillmode\":\"overlay\",\"size\":10,\"solidity\":0.2}},\"type\":\"barpolar\"}],\"pie\":[{\"automargin\":true,\"type\":\"pie\"}]},\"layout\":{\"autotypenumbers\":\"strict\",\"colorway\":[\"#636efa\",\"#EF553B\",\"#00cc96\",\"#ab63fa\",\"#FFA15A\",\"#19d3f3\",\"#FF6692\",\"#B6E880\",\"#FF97FF\",\"#FECB52\"],\"font\":{\"color\":\"#2a3f5f\"},\"hovermode\":\"closest\",\"hoverlabel\":{\"align\":\"left\"},\"paper_bgcolor\":\"white\",\"plot_bgcolor\":\"#E5ECF6\",\"polar\":{\"bgcolor\":\"#E5ECF6\",\"angularaxis\":{\"gridcolor\":\"white\",\"linecolor\":\"white\",\"ticks\":\"\"},\"radialaxis\":{\"gridcolor\":\"white\",\"linecolor\":\"white\",\"ticks\":\"\"}},\"ternary\":{\"bgcolor\":\"#E5ECF6\",\"aaxis\":{\"gridcolor\":\"white\",\"linecolor\":\"white\",\"ticks\":\"\"},\"baxis\":{\"gridcolor\":\"white\",\"linecolor\":\"white\",\"ticks\":\"\"},\"caxis\":{\"gridcolor\":\"white\",\"linecolor\":\"white\",\"ticks\":\"\"}},\"coloraxis\":{\"colorbar\":{\"outlinewidth\":0,\"ticks\":\"\"}},\"colorscale\":{\"sequential\":[[0.0,\"#0d0887\"],[0.1111111111111111,\"#46039f\"],[0.2222222222222222,\"#7201a8\"],[0.3333333333333333,\"#9c179e\"],[0.4444444444444444,\"#bd3786\"],[0.5555555555555556,\"#d8576b\"],[0.6666666666666666,\"#ed7953\"],[0.7777777777777778,\"#fb9f3a\"],[0.8888888888888888,\"#fdca26\"],[1.0,\"#f0f921\"]],\"sequentialminus\":[[0.0,\"#0d0887\"],[0.1111111111111111,\"#46039f\"],[0.2222222222222222,\"#7201a8\"],[0.3333333333333333,\"#9c179e\"],[0.4444444444444444,\"#bd3786\"],[0.5555555555555556,\"#d8576b\"],[0.6666666666666666,\"#ed7953\"],[0.7777777777777778,\"#fb9f3a\"],[0.8888888888888888,\"#fdca26\"],[1.0,\"#f0f921\"]],\"diverging\":[[0,\"#8e0152\"],[0.1,\"#c51b7d\"],[0.2,\"#de77ae\"],[0.3,\"#f1b6da\"],[0.4,\"#fde0ef\"],[0.5,\"#f7f7f7\"],[0.6,\"#e6f5d0\"],[0.7,\"#b8e186\"],[0.8,\"#7fbc41\"],[0.9,\"#4d9221\"],[1,\"#276419\"]]},\"xaxis\":{\"gridcolor\":\"white\",\"linecolor\":\"white\",\"ticks\":\"\",\"title\":{\"standoff\":15},\"zerolinecolor\":\"white\",\"automargin\":true,\"zerolinewidth\":2},\"yaxis\":{\"gridcolor\":\"white\",\"linecolor\":\"white\",\"ticks\":\"\",\"title\":{\"standoff\":15},\"zerolinecolor\":\"white\",\"automargin\":true,\"zerolinewidth\":2},\"scene\":{\"xaxis\":{\"backgroundcolor\":\"#E5ECF6\",\"gridcolor\":\"white\",\"linecolor\":\"white\",\"showbackground\":true,\"ticks\":\"\",\"zerolinecolor\":\"white\",\"gridwidth\":2},\"yaxis\":{\"backgroundcolor\":\"#E5ECF6\",\"gridcolor\":\"white\",\"linecolor\":\"white\",\"showbackground\":true,\"ticks\":\"\",\"zerolinecolor\":\"white\",\"gridwidth\":2},\"zaxis\":{\"backgroundcolor\":\"#E5ECF6\",\"gridcolor\":\"white\",\"linecolor\":\"white\",\"showbackground\":true,\"ticks\":\"\",\"zerolinecolor\":\"white\",\"gridwidth\":2}},\"shapedefaults\":{\"line\":{\"color\":\"#2a3f5f\"}},\"annotationdefaults\":{\"arrowcolor\":\"#2a3f5f\",\"arrowhead\":0,\"arrowwidth\":1},\"geo\":{\"bgcolor\":\"white\",\"landcolor\":\"#E5ECF6\",\"subunitcolor\":\"white\",\"showland\":true,\"showlakes\":true,\"lakecolor\":\"white\"},\"title\":{\"x\":0.05},\"mapbox\":{\"style\":\"light\"}}},\"legend\":{\"tracegroupgap\":0},\"title\":{\"text\":\"State wise yeild(Quintal/Hectare) \"}},                        {\"responsive\": true}                    ).then(function(){\n",
       "                            \n",
       "var gd = document.getElementById('16002e47-4720-44f1-aa8f-9262e24c21fc');\n",
       "var x = new MutationObserver(function (mutations, observer) {{\n",
       "        var display = window.getComputedStyle(gd).display;\n",
       "        if (!display || display === 'none') {{\n",
       "            console.log([gd, 'removed!']);\n",
       "            Plotly.purge(gd);\n",
       "            observer.disconnect();\n",
       "        }}\n",
       "}});\n",
       "\n",
       "// Listen for the removal of the full notebook cells\n",
       "var notebookContainer = gd.closest('#notebook-container');\n",
       "if (notebookContainer) {{\n",
       "    x.observe(notebookContainer, {childList: true});\n",
       "}}\n",
       "\n",
       "// Listen for the clearing of the current output cell\n",
       "var outputEl = gd.closest('.output');\n",
       "if (outputEl) {{\n",
       "    x.observe(outputEl, {childList: true});\n",
       "}}\n",
       "\n",
       "                        })                };                });            </script>        </div>"
      ]
     },
     "metadata": {},
     "output_type": "display_data"
    }
   ],
   "source": [
    "fig=px.pie(df1,values=df1.groupby('State')[cols[-1]].sum(),names=df1.groupby('State')[cols[-1]],\n",
    "           title='State wise yeild(Quintal/Hectare) ')\n",
    "fig.show()"
   ]
  },
  {
   "cell_type": "markdown",
   "id": "83f574fc",
   "metadata": {
    "papermill": {
     "duration": 0.034221,
     "end_time": "2023-03-06T21:18:27.893155",
     "exception": false,
     "start_time": "2023-03-06T21:18:27.858934",
     "status": "completed"
    },
    "tags": []
   },
   "source": [
    "**Karnatka & Tamil Nadu has the most capacity in terms of yeild(quintal/heactare)**"
   ]
  },
  {
   "cell_type": "code",
   "execution_count": 35,
   "id": "3a7cd160",
   "metadata": {
    "execution": {
     "iopub.execute_input": "2023-03-06T21:18:27.962049Z",
     "iopub.status.busy": "2023-03-06T21:18:27.961548Z",
     "iopub.status.idle": "2023-03-06T21:18:27.971219Z",
     "shell.execute_reply": "2023-03-06T21:18:27.969943Z"
    },
    "papermill": {
     "duration": 0.047545,
     "end_time": "2023-03-06T21:18:27.973771",
     "exception": false,
     "start_time": "2023-03-06T21:18:27.926226",
     "status": "completed"
    },
    "tags": []
   },
   "outputs": [
    {
     "data": {
      "text/plain": [
       "Index(['Production 2006-07', 'Production 2007-08', 'Production 2008-09',\n",
       "       'Production 2009-10'],\n",
       "      dtype='object')"
      ]
     },
     "execution_count": 35,
     "metadata": {},
     "output_type": "execute_result"
    }
   ],
   "source": [
    "col=df2.columns\n",
    "col= col.drop(col[5:16])\n",
    "col=col.drop(col[0])\n",
    "col"
   ]
  },
  {
   "cell_type": "code",
   "execution_count": 36,
   "id": "3cb3156b",
   "metadata": {
    "execution": {
     "iopub.execute_input": "2023-03-06T21:18:28.044102Z",
     "iopub.status.busy": "2023-03-06T21:18:28.042977Z",
     "iopub.status.idle": "2023-03-06T21:18:28.051603Z",
     "shell.execute_reply": "2023-03-06T21:18:28.050578Z"
    },
    "papermill": {
     "duration": 0.046823,
     "end_time": "2023-03-06T21:18:28.054322",
     "exception": false,
     "start_time": "2023-03-06T21:18:28.007499",
     "status": "completed"
    },
    "tags": []
   },
   "outputs": [],
   "source": [
    "t=df2[['Crop','Production 2006-07','Production 2007-08','Production 2008-09','Production 2009-10','Production 2010-11']]\n",
    "t.rename(index=t['Crop'],inplace=True)"
   ]
  },
  {
   "cell_type": "markdown",
   "id": "d0797adb",
   "metadata": {
    "papermill": {
     "duration": 0.033095,
     "end_time": "2023-03-06T21:18:28.120543",
     "exception": false,
     "start_time": "2023-03-06T21:18:28.087448",
     "status": "completed"
    },
    "tags": []
   },
   "source": [
    "***Q6. Which crop has the biggest combined production?***"
   ]
  },
  {
   "cell_type": "code",
   "execution_count": 37,
   "id": "15f1119d",
   "metadata": {
    "execution": {
     "iopub.execute_input": "2023-03-06T21:18:28.189445Z",
     "iopub.status.busy": "2023-03-06T21:18:28.188716Z",
     "iopub.status.idle": "2023-03-06T21:18:30.654968Z",
     "shell.execute_reply": "2023-03-06T21:18:30.653615Z"
    },
    "papermill": {
     "duration": 2.504125,
     "end_time": "2023-03-06T21:18:30.657957",
     "exception": false,
     "start_time": "2023-03-06T21:18:28.153832",
     "status": "completed"
    },
    "tags": []
   },
   "outputs": [
    {
     "name": "stderr",
     "output_type": "stream",
     "text": [
      "C:\\Users\\pratik\\anaconda3\\lib\\site-packages\\pandas\\plotting\\_matplotlib\\core.py:278: UserWarning:\n",
      "\n",
      "'color' and 'colormap' cannot be used simultaneously. Using 'color'\n",
      "\n",
      "C:\\Users\\pratik\\anaconda3\\lib\\site-packages\\pandas\\plotting\\_matplotlib\\style.py:123: UserWarning:\n",
      "\n",
      "'color' and 'colormap' cannot be used simultaneously. Using 'color'\n",
      "\n"
     ]
    },
    {
     "data": {
      "image/png": "[encoded data removed]",
      "text/plain": [
       "<Figure size 1200x600 with 1 Axes>"
      ]
     },
     "metadata": {},
     "output_type": "display_data"
    }
   ],
   "source": [
    "t.plot(kind='bar',stacked= True,figsize=(12,6),color=sns.color_palette('Paired'),cmap=True)\n",
    "plt.title('Total Production of Crops in 2006-2011 period')\n",
    "plt.xlabel('Crops')\n",
    "plt.ylabel('Production')\n",
    "plt.xticks(fontsize=10)\n",
    "plt.show()"
   ]
  },
  {
   "cell_type": "markdown",
   "id": "1c1fea8c",
   "metadata": {
    "papermill": {
     "duration": 0.041657,
     "end_time": "2023-03-06T21:18:30.737362",
     "exception": false,
     "start_time": "2023-03-06T21:18:30.695705",
     "status": "completed"
    },
    "tags": []
   },
   "source": [
    "We can see in the graph that total spices has the biggest contribution for the production and is growing every year as well."
   ]
  },
  {
   "cell_type": "code",
   "execution_count": 38,
   "id": "57ef58ce",
   "metadata": {
    "execution": {
     "iopub.execute_input": "2023-03-06T21:18:30.811448Z",
     "iopub.status.busy": "2023-03-06T21:18:30.810993Z",
     "iopub.status.idle": "2023-03-06T21:18:30.833838Z",
     "shell.execute_reply": "2023-03-06T21:18:30.832554Z"
    },
    "papermill": {
     "duration": 0.064395,
     "end_time": "2023-03-06T21:18:30.836668",
     "exception": false,
     "start_time": "2023-03-06T21:18:30.772273",
     "status": "completed"
    },
    "tags": []
   },
   "outputs": [
    {
     "data": {
      "text/html": [
       "<div>\n",
       "<style scoped>\n",
       "    .dataframe tbody tr th:only-of-type {\n",
       "        vertical-align: middle;\n",
       "    }\n",
       "\n",
       "    .dataframe tbody tr th {\n",
       "        vertical-align: top;\n",
       "    }\n",
       "\n",
       "    .dataframe thead th {\n",
       "        text-align: right;\n",
       "    }\n",
       "</style>\n",
       "<table border=\"1\" class=\"dataframe\">\n",
       "  <thead>\n",
       "    <tr style=\"text-align: right;\">\n",
       "      <th></th>\n",
       "      <th></th>\n",
       "      <th>Yield (Quintal/ Hectare)</th>\n",
       "    </tr>\n",
       "    <tr>\n",
       "      <th>Crop</th>\n",
       "      <th>State</th>\n",
       "      <th></th>\n",
       "    </tr>\n",
       "  </thead>\n",
       "  <tbody>\n",
       "    <tr>\n",
       "      <th rowspan=\"5\" valign=\"top\">ARHAR</th>\n",
       "      <th>Andhra Pradesh</th>\n",
       "      <td>6.42</td>\n",
       "    </tr>\n",
       "    <tr>\n",
       "      <th>Gujarat</th>\n",
       "      <td>9.59</td>\n",
       "    </tr>\n",
       "    <tr>\n",
       "      <th>Karnataka</th>\n",
       "      <td>7.47</td>\n",
       "    </tr>\n",
       "    <tr>\n",
       "      <th>Maharashtra</th>\n",
       "      <td>8.72</td>\n",
       "    </tr>\n",
       "    <tr>\n",
       "      <th>Uttar Pradesh</th>\n",
       "      <td>9.83</td>\n",
       "    </tr>\n",
       "    <tr>\n",
       "      <th rowspan=\"5\" valign=\"top\">COTTON</th>\n",
       "      <th>Andhra Pradesh</th>\n",
       "      <td>17.83</td>\n",
       "    </tr>\n",
       "    <tr>\n",
       "      <th>Gujarat</th>\n",
       "      <td>19.05</td>\n",
       "    </tr>\n",
       "    <tr>\n",
       "      <th>Haryana</th>\n",
       "      <td>19.90</td>\n",
       "    </tr>\n",
       "    <tr>\n",
       "      <th>Maharashtra</th>\n",
       "      <td>12.69</td>\n",
       "    </tr>\n",
       "    <tr>\n",
       "      <th>Punjab</th>\n",
       "      <td>24.39</td>\n",
       "    </tr>\n",
       "    <tr>\n",
       "      <th rowspan=\"5\" valign=\"top\">GRAM</th>\n",
       "      <th>Andhra Pradesh</th>\n",
       "      <td>16.69</td>\n",
       "    </tr>\n",
       "    <tr>\n",
       "      <th>Madhya Pradesh</th>\n",
       "      <td>10.29</td>\n",
       "    </tr>\n",
       "    <tr>\n",
       "      <th>Maharashtra</th>\n",
       "      <td>8.05</td>\n",
       "    </tr>\n",
       "    <tr>\n",
       "      <th>Rajasthan</th>\n",
       "      <td>6.83</td>\n",
       "    </tr>\n",
       "    <tr>\n",
       "      <th>Uttar Pradesh</th>\n",
       "      <td>10.93</td>\n",
       "    </tr>\n",
       "    <tr>\n",
       "      <th rowspan=\"5\" valign=\"top\">GROUNDNUT</th>\n",
       "      <th>Andhra Pradesh</th>\n",
       "      <td>11.97</td>\n",
       "    </tr>\n",
       "    <tr>\n",
       "      <th>Gujarat</th>\n",
       "      <td>13.45</td>\n",
       "    </tr>\n",
       "    <tr>\n",
       "      <th>Karnataka</th>\n",
       "      <td>4.71</td>\n",
       "    </tr>\n",
       "    <tr>\n",
       "      <th>Maharashtra</th>\n",
       "      <td>9.33</td>\n",
       "    </tr>\n",
       "    <tr>\n",
       "      <th>Tamil Nadu</th>\n",
       "      <td>11.98</td>\n",
       "    </tr>\n",
       "    <tr>\n",
       "      <th rowspan=\"5\" valign=\"top\">MAIZE</th>\n",
       "      <th>Andhra Pradesh</th>\n",
       "      <td>42.68</td>\n",
       "    </tr>\n",
       "    <tr>\n",
       "      <th>Bihar</th>\n",
       "      <td>42.95</td>\n",
       "    </tr>\n",
       "    <tr>\n",
       "      <th>Karnataka</th>\n",
       "      <td>31.10</td>\n",
       "    </tr>\n",
       "    <tr>\n",
       "      <th>Rajasthan</th>\n",
       "      <td>23.56</td>\n",
       "    </tr>\n",
       "    <tr>\n",
       "      <th>Uttar Pradesh</th>\n",
       "      <td>13.70</td>\n",
       "    </tr>\n",
       "    <tr>\n",
       "      <th rowspan=\"5\" valign=\"top\">MOONG</th>\n",
       "      <th>Andhra Pradesh</th>\n",
       "      <td>5.90</td>\n",
       "    </tr>\n",
       "    <tr>\n",
       "      <th>Karnataka</th>\n",
       "      <td>1.32</td>\n",
       "    </tr>\n",
       "    <tr>\n",
       "      <th>Maharashtra</th>\n",
       "      <td>6.70</td>\n",
       "    </tr>\n",
       "    <tr>\n",
       "      <th>Orissa</th>\n",
       "      <td>3.01</td>\n",
       "    </tr>\n",
       "    <tr>\n",
       "      <th>Rajasthan</th>\n",
       "      <td>4.05</td>\n",
       "    </tr>\n",
       "    <tr>\n",
       "      <th rowspan=\"5\" valign=\"top\">PADDY</th>\n",
       "      <th>Andhra Pradesh</th>\n",
       "      <td>56.00</td>\n",
       "    </tr>\n",
       "    <tr>\n",
       "      <th>Orissa</th>\n",
       "      <td>32.42</td>\n",
       "    </tr>\n",
       "    <tr>\n",
       "      <th>Punjab</th>\n",
       "      <td>67.41</td>\n",
       "    </tr>\n",
       "    <tr>\n",
       "      <th>Uttar Pradesh</th>\n",
       "      <td>36.61</td>\n",
       "    </tr>\n",
       "    <tr>\n",
       "      <th>West Bengal</th>\n",
       "      <td>39.04</td>\n",
       "    </tr>\n",
       "    <tr>\n",
       "      <th rowspan=\"5\" valign=\"top\">RAPESEED AND MUSTARD</th>\n",
       "      <th>Gujarat</th>\n",
       "      <td>11.61</td>\n",
       "    </tr>\n",
       "    <tr>\n",
       "      <th>Haryana</th>\n",
       "      <td>19.94</td>\n",
       "    </tr>\n",
       "    <tr>\n",
       "      <th>Madhya Pradesh</th>\n",
       "      <td>12.94</td>\n",
       "    </tr>\n",
       "    <tr>\n",
       "      <th>Rajasthan</th>\n",
       "      <td>13.54</td>\n",
       "    </tr>\n",
       "    <tr>\n",
       "      <th>Uttar Pradesh</th>\n",
       "      <td>13.57</td>\n",
       "    </tr>\n",
       "    <tr>\n",
       "      <th rowspan=\"5\" valign=\"top\">SUGARCANE</th>\n",
       "      <th>Andhra Pradesh</th>\n",
       "      <td>757.92</td>\n",
       "    </tr>\n",
       "    <tr>\n",
       "      <th>Karnataka</th>\n",
       "      <td>986.21</td>\n",
       "    </tr>\n",
       "    <tr>\n",
       "      <th>Maharashtra</th>\n",
       "      <td>744.01</td>\n",
       "    </tr>\n",
       "    <tr>\n",
       "      <th>Tamil Nadu</th>\n",
       "      <td>1015.45</td>\n",
       "    </tr>\n",
       "    <tr>\n",
       "      <th>Uttar Pradesh</th>\n",
       "      <td>448.89</td>\n",
       "    </tr>\n",
       "    <tr>\n",
       "      <th rowspan=\"4\" valign=\"top\">WHEAT</th>\n",
       "      <th>Madhya Pradesh</th>\n",
       "      <td>23.59</td>\n",
       "    </tr>\n",
       "    <tr>\n",
       "      <th>Punjab</th>\n",
       "      <td>39.83</td>\n",
       "    </tr>\n",
       "    <tr>\n",
       "      <th>Rajasthan</th>\n",
       "      <td>37.19</td>\n",
       "    </tr>\n",
       "    <tr>\n",
       "      <th>Uttar Pradesh</th>\n",
       "      <td>34.99</td>\n",
       "    </tr>\n",
       "  </tbody>\n",
       "</table>\n",
       "</div>"
      ],
      "text/plain": [
       "                                     Yield (Quintal/ Hectare) \n",
       "Crop                 State                                    \n",
       "ARHAR                Andhra Pradesh                       6.42\n",
       "                     Gujarat                              9.59\n",
       "                     Karnataka                            7.47\n",
       "                     Maharashtra                          8.72\n",
       "                     Uttar Pradesh                        9.83\n",
       "COTTON               Andhra Pradesh                      17.83\n",
       "                     Gujarat                             19.05\n",
       "                     Haryana                             19.90\n",
       "                     Maharashtra                         12.69\n",
       "                     Punjab                              24.39\n",
       "GRAM                 Andhra Pradesh                      16.69\n",
       "                     Madhya Pradesh                      10.29\n",
       "                     Maharashtra                          8.05\n",
       "                     Rajasthan                            6.83\n",
       "                     Uttar Pradesh                       10.93\n",
       "GROUNDNUT            Andhra Pradesh                      11.97\n",
       "                     Gujarat                             13.45\n",
       "                     Karnataka                            4.71\n",
       "                     Maharashtra                          9.33\n",
       "                     Tamil Nadu                          11.98\n",
       "MAIZE                Andhra Pradesh                      42.68\n",
       "                     Bihar                               42.95\n",
       "                     Karnataka                           31.10\n",
       "                     Rajasthan                           23.56\n",
       "                     Uttar Pradesh                       13.70\n",
       "MOONG                Andhra Pradesh                       5.90\n",
       "                     Karnataka                            1.32\n",
       "                     Maharashtra                          6.70\n",
       "                     Orissa                               3.01\n",
       "                     Rajasthan                            4.05\n",
       "PADDY                Andhra Pradesh                      56.00\n",
       "                     Orissa                              32.42\n",
       "                     Punjab                              67.41\n",
       "                     Uttar Pradesh                       36.61\n",
       "                     West Bengal                         39.04\n",
       "RAPESEED AND MUSTARD Gujarat                             11.61\n",
       "                     Haryana                             19.94\n",
       "                     Madhya Pradesh                      12.94\n",
       "                     Rajasthan                           13.54\n",
       "                     Uttar Pradesh                       13.57\n",
       "SUGARCANE            Andhra Pradesh                     757.92\n",
       "                     Karnataka                          986.21\n",
       "                     Maharashtra                        744.01\n",
       "                     Tamil Nadu                        1015.45\n",
       "                     Uttar Pradesh                      448.89\n",
       "WHEAT                Madhya Pradesh                      23.59\n",
       "                     Punjab                              39.83\n",
       "                     Rajasthan                           37.19\n",
       "                     Uttar Pradesh                       34.99"
      ]
     },
     "execution_count": 38,
     "metadata": {},
     "output_type": "execute_result"
    }
   ],
   "source": [
    "e=df1.groupby(['Crop','State'])['Yield (Quintal/ Hectare) '].sum()\n",
    "e=pd.DataFrame(e)\n",
    "e"
   ]
  },
  {
   "cell_type": "markdown",
   "id": "22bb55f7",
   "metadata": {
    "papermill": {
     "duration": 0.035845,
     "end_time": "2023-03-06T21:18:30.908289",
     "exception": false,
     "start_time": "2023-03-06T21:18:30.872444",
     "status": "completed"
    },
    "tags": []
   },
   "source": [
    "***Q7. What is the states best yeild capacity crop?***"
   ]
  },
  {
   "cell_type": "code",
   "execution_count": 39,
   "id": "239ffbbe",
   "metadata": {
    "execution": {
     "iopub.execute_input": "2023-03-06T21:18:30.982220Z",
     "iopub.status.busy": "2023-03-06T21:18:30.981453Z",
     "iopub.status.idle": "2023-03-06T21:18:31.103440Z",
     "shell.execute_reply": "2023-03-06T21:18:31.102299Z"
    },
    "papermill": {
     "duration": 0.162844,
     "end_time": "2023-03-06T21:18:31.107005",
     "exception": false,
     "start_time": "2023-03-06T21:18:30.944161",
     "status": "completed"
    },
    "tags": []
   },
   "outputs": [
    {
     "data": {
      "application/vnd.plotly.v1+json": {
       "config": {
        "plotlyServerURL": "https://plot.ly"
       },
       "data": [
        {
         "branchvalues": "total",
         "customdata": [
          [
           6.42
          ],
          [
           9.59
          ],
          [
           7.47
          ],
          [
           8.72
          ],
          [
           9.83
          ],
          [
           17.83
          ],
          [
           19.05
          ],
          [
           19.9
          ],
          [
           12.69
          ],
          [
           24.39
          ],
          [
           16.69
          ],
          [
           10.29
          ],
          [
           8.05
          ],
          [
           6.83
          ],
          [
           10.93
          ],
          [
           11.97
          ],
          [
           13.45
          ],
          [
           4.71
          ],
          [
           9.33
          ],
          [
           11.98
          ],
          [
           42.68
          ],
          [
           42.95
          ],
          [
           31.1
          ],
          [
           23.56
          ],
          [
           13.7
          ],
          [
           5.9
          ],
          [
           1.32
          ],
          [
           6.7
          ],
          [
           3.01
          ],
          [
           4.05
          ],
          [
           56
          ],
          [
           32.42
          ],
          [
           67.41
          ],
          [
           36.61
          ],
          [
           39.04
          ],
          [
           11.61
          ],
          [
           19.94
          ],
          [
           12.94
          ],
          [
           13.54
          ],
          [
           13.57
          ],
          [
           757.92
          ],
          [
           986.21
          ],
          [
           744.01
          ],
          [
           1015.45
          ],
          [
           448.89
          ],
          [
           23.59
          ],
          [
           39.83
          ],
          [
           37.19
          ],
          [
           34.99
          ],
          [
           915.41
          ],
          [
           42.95
          ],
          [
           53.7
          ],
          [
           39.84
          ],
          [
           1030.81
          ],
          [
           46.82
          ],
          [
           789.5
          ],
          [
           35.43
          ],
          [
           131.63
          ],
          [
           85.16999999999999
          ],
          [
           1027.43
          ],
          [
           568.52
          ],
          [
           39.04
          ]
         ],
         "domain": {
          "x": [
           0,
           1
          ],
          "y": [
           0,
           1
          ]
         },
         "hovertemplate": "labels=%{label}<br>Yield (Quintal/ Hectare) =%{customdata[0]}<br>parent=%{parent}<br>id=%{id}<extra></extra>",
         "ids": [
          "Andhra Pradesh/ARHAR",
          "Gujarat/ARHAR",
          "Karnataka/ARHAR",
          "Maharashtra/ARHAR",
          "Uttar Pradesh/ARHAR",
          "Andhra Pradesh/COTTON",
          "Gujarat/COTTON",
          "Haryana/COTTON",
          "Maharashtra/COTTON",
          "Punjab/COTTON",
          "Andhra Pradesh/GRAM",
          "Madhya Pradesh/GRAM",
          "Maharashtra/GRAM",
          "Rajasthan/GRAM",
          "Uttar Pradesh/GRAM",
          "Andhra Pradesh/GROUNDNUT",
          "Gujarat/GROUNDNUT",
          "Karnataka/GROUNDNUT",
          "Maharashtra/GROUNDNUT",
          "Tamil Nadu/GROUNDNUT",
          "Andhra Pradesh/MAIZE",
          "Bihar/MAIZE",
          "Karnataka/MAIZE",
          "Rajasthan/MAIZE",
          "Uttar Pradesh/MAIZE",
          "Andhra Pradesh/MOONG",
          "Karnataka/MOONG",
          "Maharashtra/MOONG",
          "Orissa/MOONG",
          "Rajasthan/MOONG",
          "Andhra Pradesh/PADDY",
          "Orissa/PADDY",
          "Punjab/PADDY",
          "Uttar Pradesh/PADDY",
          "West Bengal/PADDY",
          "Gujarat/RAPESEED AND MUSTARD",
          "Haryana/RAPESEED AND MUSTARD",
          "Madhya Pradesh/RAPESEED AND MUSTARD",
          "Rajasthan/RAPESEED AND MUSTARD",
          "Uttar Pradesh/RAPESEED AND MUSTARD",
          "Andhra Pradesh/SUGARCANE",
          "Karnataka/SUGARCANE",
          "Maharashtra/SUGARCANE",
          "Tamil Nadu/SUGARCANE",
          "Uttar Pradesh/SUGARCANE",
          "Madhya Pradesh/WHEAT",
          "Punjab/WHEAT",
          "Rajasthan/WHEAT",
          "Uttar Pradesh/WHEAT",
          "Andhra Pradesh",
          "Bihar",
          "Gujarat",
          "Haryana",
          "Karnataka",
          "Madhya Pradesh",
          "Maharashtra",
          "Orissa",
          "Punjab",
          "Rajasthan",
          "Tamil Nadu",
          "Uttar Pradesh",
          "West Bengal"
         ],
         "labels": [
          "ARHAR",
          "ARHAR",
          "ARHAR",
          "ARHAR",
          "ARHAR",
          "COTTON",
          "COTTON",
          "COTTON",
          "COTTON",
          "COTTON",
          "GRAM",
          "GRAM",
          "GRAM",
          "GRAM",
          "GRAM",
          "GROUNDNUT",
          "GROUNDNUT",
          "GROUNDNUT",
          "GROUNDNUT",
          "GROUNDNUT",
          "MAIZE",
          "MAIZE",
          "MAIZE",
          "MAIZE",
          "MAIZE",
          "MOONG",
          "MOONG",
          "MOONG",
          "MOONG",
          "MOONG",
          "PADDY",
          "PADDY",
          "PADDY",
          "PADDY",
          "PADDY",
          "RAPESEED AND MUSTARD",
          "RAPESEED AND MUSTARD",
          "RAPESEED AND MUSTARD",
          "RAPESEED AND MUSTARD",
          "RAPESEED AND MUSTARD",
          "SUGARCANE",
          "SUGARCANE",
          "SUGARCANE",
          "SUGARCANE",
          "SUGARCANE",
          "WHEAT",
          "WHEAT",
          "WHEAT",
          "WHEAT",
          "Andhra Pradesh",
          "Bihar",
          "Gujarat",
          "Haryana",
          "Karnataka",
          "Madhya Pradesh",
          "Maharashtra",
          "Orissa",
          "Punjab",
          "Rajasthan",
          "Tamil Nadu",
          "Uttar Pradesh",
          "West Bengal"
         ],
         "name": "",
         "parents": [
          "Andhra Pradesh",
          "Gujarat",
          "Karnataka",
          "Maharashtra",
          "Uttar Pradesh",
          "Andhra Pradesh",
          "Gujarat",
          "Haryana",
          "Maharashtra",
          "Punjab",
          "Andhra Pradesh",
          "Madhya Pradesh",
          "Maharashtra",
          "Rajasthan",
          "Uttar Pradesh",
          "Andhra Pradesh",
          "Gujarat",
          "Karnataka",
          "Maharashtra",
          "Tamil Nadu",
          "Andhra Pradesh",
          "Bihar",
          "Karnataka",
          "Rajasthan",
          "Uttar Pradesh",
          "Andhra Pradesh",
          "Karnataka",
          "Maharashtra",
          "Orissa",
          "Rajasthan",
          "Andhra Pradesh",
          "Orissa",
          "Punjab",
          "Uttar Pradesh",
          "West Bengal",
          "Gujarat",
          "Haryana",
          "Madhya Pradesh",
          "Rajasthan",
          "Uttar Pradesh",
          "Andhra Pradesh",
          "Karnataka",
          "Maharashtra",
          "Tamil Nadu",
          "Uttar Pradesh",
          "Madhya Pradesh",
          "Punjab",
          "Rajasthan",
          "Uttar Pradesh",
          "",
          "",
          "",
          "",
          "",
          "",
          "",
          "",
          "",
          "",
          "",
          "",
          ""
         ],
         "type": "sunburst",
         "values": [
          6.42,
          9.59,
          7.47,
          8.72,
          9.83,
          17.83,
          19.05,
          19.9,
          12.69,
          24.39,
          16.69,
          10.29,
          8.05,
          6.83,
          10.93,
          11.97,
          13.45,
          4.71,
          9.33,
          11.98,
          42.68,
          42.95,
          31.1,
          23.56,
          13.7,
          5.9,
          1.32,
          6.7,
          3.01,
          4.05,
          56,
          32.42,
          67.41,
          36.61,
          39.04,
          11.61,
          19.94,
          12.94,
          13.54,
          13.57,
          757.92,
          986.21,
          744.01,
          1015.45,
          448.89,
          23.59,
          39.83,
          37.19,
          34.99,
          915.41,
          42.95,
          53.7,
          39.84,
          1030.81,
          46.82,
          789.5,
          35.43,
          131.63,
          85.16999999999999,
          1027.43,
          568.52,
          39.04
         ]
        }
       ],
       "layout": {
        "legend": {
         "tracegroupgap": 0
        },
        "margin": {
         "t": 60
        },
        "template": {
         "data": {
          "bar": [
           {
            "error_x": {
             "color": "#2a3f5f"
            },
            "error_y": {
             "color": "#2a3f5f"
            },
            "marker": {
             "line": {
              "color": "#E5ECF6",
              "width": 0.5
             },
             "pattern": {
              "fillmode": "overlay",
              "size": 10,
              "solidity": 0.2
             }
            },
            "type": "bar"
           }
          ],
          "barpolar": [
           {
            "marker": {
             "line": {
              "color": "#E5ECF6",
              "width": 0.5
             },
             "pattern": {
              "fillmode": "overlay",
              "size": 10,
              "solidity": 0.2
             }
            },
            "type": "barpolar"
           }
          ],
          "carpet": [
           {
            "aaxis": {
             "endlinecolor": "#2a3f5f",
             "gridcolor": "white",
             "linecolor": "white",
             "minorgridcolor": "white",
             "startlinecolor": "#2a3f5f"
            },
            "baxis": {
             "endlinecolor": "#2a3f5f",
             "gridcolor": "white",
             "linecolor": "white",
             "minorgridcolor": "white",
             "startlinecolor": "#2a3f5f"
            },
            "type": "carpet"
           }
          ],
          "choropleth": [
           {
            "colorbar": {
             "outlinewidth": 0,
             "ticks": ""
            },
            "type": "choropleth"
           }
          ],
          "contour": [
           {
            "colorbar": {
             "outlinewidth": 0,
             "ticks": ""
            },
            "colorscale": [
             [
              0,
              "#0d0887"
             ],
             [
              0.1111111111111111,
              "#46039f"
             ],
             [
              0.2222222222222222,
              "#7201a8"
             ],
             [
              0.3333333333333333,
              "#9c179e"
             ],
             [
              0.4444444444444444,
              "#bd3786"
             ],
             [
              0.5555555555555556,
              "#d8576b"
             ],
             [
              0.6666666666666666,
              "#ed7953"
             ],
             [
              0.7777777777777778,
              "#fb9f3a"
             ],
             [
              0.8888888888888888,
              "#fdca26"
             ],
             [
              1,
              "#f0f921"
             ]
            ],
            "type": "contour"
           }
          ],
          "contourcarpet": [
           {
            "colorbar": {
             "outlinewidth": 0,
             "ticks": ""
            },
            "type": "contourcarpet"
           }
          ],
          "heatmap": [
           {
            "colorbar": {
             "outlinewidth": 0,
             "ticks": ""
            },
            "colorscale": [
             [
              0,
              "#0d0887"
             ],
             [
              0.1111111111111111,
              "#46039f"
             ],
             [
              0.2222222222222222,
              "#7201a8"
             ],
             [
              0.3333333333333333,
              "#9c179e"
             ],
             [
              0.4444444444444444,
              "#bd3786"
             ],
             [
              0.5555555555555556,
              "#d8576b"
             ],
             [
              0.6666666666666666,
              "#ed7953"
             ],
             [
              0.7777777777777778,
              "#fb9f3a"
             ],
             [
              0.8888888888888888,
              "#fdca26"
             ],
             [
              1,
              "#f0f921"
             ]
            ],
            "type": "heatmap"
           }
          ],
          "heatmapgl": [
           {
            "colorbar": {
             "outlinewidth": 0,
             "ticks": ""
            },
            "colorscale": [
             [
              0,
              "#0d0887"
             ],
             [
              0.1111111111111111,
              "#46039f"
             ],
             [
              0.2222222222222222,
              "#7201a8"
             ],
             [
              0.3333333333333333,
              "#9c179e"
             ],
             [
              0.4444444444444444,
              "#bd3786"
             ],
             [
              0.5555555555555556,
              "#d8576b"
             ],
             [
              0.6666666666666666,
              "#ed7953"
             ],
             [
              0.7777777777777778,
              "#fb9f3a"
             ],
             [
              0.8888888888888888,
              "#fdca26"
             ],
             [
              1,
              "#f0f921"
             ]
            ],
            "type": "heatmapgl"
           }
          ],
          "histogram": [
           {
            "marker": {
             "pattern": {
              "fillmode": "overlay",
              "size": 10,
              "solidity": 0.2
             }
            },
            "type": "histogram"
           }
          ],
          "histogram2d": [
           {
            "colorbar": {
             "outlinewidth": 0,
             "ticks": ""
            },
            "colorscale": [
             [
              0,
              "#0d0887"
             ],
             [
              0.1111111111111111,
              "#46039f"
             ],
             [
              0.2222222222222222,
              "#7201a8"
             ],
             [
              0.3333333333333333,
              "#9c179e"
             ],
             [
              0.4444444444444444,
              "#bd3786"
             ],
             [
              0.5555555555555556,
              "#d8576b"
             ],
             [
              0.6666666666666666,
              "#ed7953"
             ],
             [
              0.7777777777777778,
              "#fb9f3a"
             ],
             [
              0.8888888888888888,
              "#fdca26"
             ],
             [
              1,
              "#f0f921"
             ]
            ],
            "type": "histogram2d"
           }
          ],
          "histogram2dcontour": [
           {
            "colorbar": {
             "outlinewidth": 0,
             "ticks": ""
            },
            "colorscale": [
             [
              0,
              "#0d0887"
             ],
             [
              0.1111111111111111,
              "#46039f"
             ],
             [
              0.2222222222222222,
              "#7201a8"
             ],
             [
              0.3333333333333333,
              "#9c179e"
             ],
             [
              0.4444444444444444,
              "#bd3786"
             ],
             [
              0.5555555555555556,
              "#d8576b"
             ],
             [
              0.6666666666666666,
              "#ed7953"
             ],
             [
              0.7777777777777778,
              "#fb9f3a"
             ],
             [
              0.8888888888888888,
              "#fdca26"
             ],
             [
              1,
              "#f0f921"
             ]
            ],
            "type": "histogram2dcontour"
           }
          ],
          "mesh3d": [
           {
            "colorbar": {
             "outlinewidth": 0,
             "ticks": ""
            },
            "type": "mesh3d"
           }
          ],
          "parcoords": [
           {
            "line": {
             "colorbar": {
              "outlinewidth": 0,
              "ticks": ""
             }
            },
            "type": "parcoords"
           }
          ],
          "pie": [
           {
            "automargin": true,
            "type": "pie"
           }
          ],
          "scatter": [
           {
            "fillpattern": {
             "fillmode": "overlay",
             "size": 10,
             "solidity": 0.2
            },
            "type": "scatter"
           }
          ],
          "scatter3d": [
           {
            "line": {
             "colorbar": {
              "outlinewidth": 0,
              "ticks": ""
             }
            },
            "marker": {
             "colorbar": {
              "outlinewidth": 0,
              "ticks": ""
             }
            },
            "type": "scatter3d"
           }
          ],
          "scattercarpet": [
           {
            "marker": {
             "colorbar": {
              "outlinewidth": 0,
              "ticks": ""
             }
            },
            "type": "scattercarpet"
           }
          ],
          "scattergeo": [
           {
            "marker": {
             "colorbar": {
              "outlinewidth": 0,
              "ticks": ""
             }
            },
            "type": "scattergeo"
           }
          ],
          "scattergl": [
           {
            "marker": {
             "colorbar": {
              "outlinewidth": 0,
              "ticks": ""
             }
            },
            "type": "scattergl"
           }
          ],
          "scattermapbox": [
           {
            "marker": {
             "colorbar": {
              "outlinewidth": 0,
              "ticks": ""
             }
            },
            "type": "scattermapbox"
           }
          ],
          "scatterpolar": [
           {
            "marker": {
             "colorbar": {
              "outlinewidth": 0,
              "ticks": ""
             }
            },
            "type": "scatterpolar"
           }
          ],
          "scatterpolargl": [
           {
            "marker": {
             "colorbar": {
              "outlinewidth": 0,
              "ticks": ""
             }
            },
            "type": "scatterpolargl"
           }
          ],
          "scatterternary": [
           {
            "marker": {
             "colorbar": {
              "outlinewidth": 0,
              "ticks": ""
             }
            },
            "type": "scatterternary"
           }
          ],
          "surface": [
           {
            "colorbar": {
             "outlinewidth": 0,
             "ticks": ""
            },
            "colorscale": [
             [
              0,
              "#0d0887"
             ],
             [
              0.1111111111111111,
              "#46039f"
             ],
             [
              0.2222222222222222,
              "#7201a8"
             ],
             [
              0.3333333333333333,
              "#9c179e"
             ],
             [
              0.4444444444444444,
              "#bd3786"
             ],
             [
              0.5555555555555556,
              "#d8576b"
             ],
             [
              0.6666666666666666,
              "#ed7953"
             ],
             [
              0.7777777777777778,
              "#fb9f3a"
             ],
             [
              0.8888888888888888,
              "#fdca26"
             ],
             [
              1,
              "#f0f921"
             ]
            ],
            "type": "surface"
           }
          ],
          "table": [
           {
            "cells": {
             "fill": {
              "color": "#EBF0F8"
             },
             "line": {
              "color": "white"
             }
            },
            "header": {
             "fill": {
              "color": "#C8D4E3"
             },
             "line": {
              "color": "white"
             }
            },
            "type": "table"
           }
          ]
         },
         "layout": {
          "annotationdefaults": {
           "arrowcolor": "#2a3f5f",
           "arrowhead": 0,
           "arrowwidth": 1
          },
          "autotypenumbers": "strict",
          "coloraxis": {
           "colorbar": {
            "outlinewidth": 0,
            "ticks": ""
           }
          },
          "colorscale": {
           "diverging": [
            [
             0,
             "#8e0152"
            ],
            [
             0.1,
             "#c51b7d"
            ],
            [
             0.2,
             "#de77ae"
            ],
            [
             0.3,
             "#f1b6da"
            ],
            [
             0.4,
             "#fde0ef"
            ],
            [
             0.5,
             "#f7f7f7"
            ],
            [
             0.6,
             "#e6f5d0"
            ],
            [
             0.7,
             "#b8e186"
            ],
            [
             0.8,
             "#7fbc41"
            ],
            [
             0.9,
             "#4d9221"
            ],
            [
             1,
             "#276419"
            ]
           ],
           "sequential": [
            [
             0,
             "#0d0887"
            ],
            [
             0.1111111111111111,
             "#46039f"
            ],
            [
             0.2222222222222222,
             "#7201a8"
            ],
            [
             0.3333333333333333,
             "#9c179e"
            ],
            [
             0.4444444444444444,
             "#bd3786"
            ],
            [
             0.5555555555555556,
             "#d8576b"
            ],
            [
             0.6666666666666666,
             "#ed7953"
            ],
            [
             0.7777777777777778,
             "#fb9f3a"
            ],
            [
             0.8888888888888888,
             "#fdca26"
            ],
            [
             1,
             "#f0f921"
            ]
           ],
           "sequentialminus": [
            [
             0,
             "#0d0887"
            ],
            [
             0.1111111111111111,
             "#46039f"
            ],
            [
             0.2222222222222222,
             "#7201a8"
            ],
            [
             0.3333333333333333,
             "#9c179e"
            ],
            [
             0.4444444444444444,
             "#bd3786"
            ],
            [
             0.5555555555555556,
             "#d8576b"
            ],
            [
             0.6666666666666666,
             "#ed7953"
            ],
            [
             0.7777777777777778,
             "#fb9f3a"
            ],
            [
             0.8888888888888888,
             "#fdca26"
            ],
            [
             1,
             "#f0f921"
            ]
           ]
          },
          "colorway": [
           "#636efa",
           "#EF553B",
           "#00cc96",
           "#ab63fa",
           "#FFA15A",
           "#19d3f3",
           "#FF6692",
           "#B6E880",
           "#FF97FF",
           "#FECB52"
          ],
          "font": {
           "color": "#2a3f5f"
          },
          "geo": {
           "bgcolor": "white",
           "lakecolor": "white",
           "landcolor": "#E5ECF6",
           "showlakes": true,
           "showland": true,
           "subunitcolor": "white"
          },
          "hoverlabel": {
           "align": "left"
          },
          "hovermode": "closest",
          "mapbox": {
           "style": "light"
          },
          "paper_bgcolor": "white",
          "plot_bgcolor": "#E5ECF6",
          "polar": {
           "angularaxis": {
            "gridcolor": "white",
            "linecolor": "white",
            "ticks": ""
           },
           "bgcolor": "#E5ECF6",
           "radialaxis": {
            "gridcolor": "white",
            "linecolor": "white",
            "ticks": ""
           }
          },
          "scene": {
           "xaxis": {
            "backgroundcolor": "#E5ECF6",
            "gridcolor": "white",
            "gridwidth": 2,
            "linecolor": "white",
            "showbackground": true,
            "ticks": "",
            "zerolinecolor": "white"
           },
           "yaxis": {
            "backgroundcolor": "#E5ECF6",
            "gridcolor": "white",
            "gridwidth": 2,
            "linecolor": "white",
            "showbackground": true,
            "ticks": "",
            "zerolinecolor": "white"
           },
           "zaxis": {
            "backgroundcolor": "#E5ECF6",
            "gridcolor": "white",
            "gridwidth": 2,
            "linecolor": "white",
            "showbackground": true,
            "ticks": "",
            "zerolinecolor": "white"
           }
          },
          "shapedefaults": {
           "line": {
            "color": "#2a3f5f"
           }
          },
          "ternary": {
           "aaxis": {
            "gridcolor": "white",
            "linecolor": "white",
            "ticks": ""
           },
           "baxis": {
            "gridcolor": "white",
            "linecolor": "white",
            "ticks": ""
           },
           "bgcolor": "#E5ECF6",
           "caxis": {
            "gridcolor": "white",
            "linecolor": "white",
            "ticks": ""
           }
          },
          "title": {
           "x": 0.05
          },
          "xaxis": {
           "automargin": true,
           "gridcolor": "white",
           "linecolor": "white",
           "ticks": "",
           "title": {
            "standoff": 15
           },
           "zerolinecolor": "white",
           "zerolinewidth": 2
          },
          "yaxis": {
           "automargin": true,
           "gridcolor": "white",
           "linecolor": "white",
           "ticks": "",
           "title": {
            "standoff": 15
           },
           "zerolinecolor": "white",
           "zerolinewidth": 2
          }
         }
        }
       }
      },
      "text/html": [
       "<div>                            <div id=\"ce1daa15-adff-4192-84bb-a81c8b24ceb0\" class=\"plotly-graph-div\" style=\"height:525px; width:100%;\"></div>            <script type=\"text/javascript\">                require([\"plotly\"], function(Plotly) {                    window.PLOTLYENV=window.PLOTLYENV || {};                                    if (document.getElementById(\"ce1daa15-adff-4192-84bb-a81c8b24ceb0\")) {                    Plotly.newPlot(                        \"ce1daa15-adff-4192-84bb-a81c8b24ceb0\",                        [{\"branchvalues\":\"total\",\"customdata\":[[6.42],[9.59],[7.47],[8.72],[9.83],[17.83],[19.05],[19.9],[12.69],[24.39],[16.69],[10.29],[8.05],[6.83],[10.93],[11.97],[13.45],[4.71],[9.33],[11.98],[42.68],[42.95],[31.1],[23.56],[13.7],[5.9],[1.32],[6.7],[3.01],[4.05],[56.0],[32.42],[67.41],[36.61],[39.04],[11.61],[19.94],[12.94],[13.54],[13.57],[757.92],[986.21],[744.01],[1015.45],[448.89],[23.59],[39.83],[37.19],[34.99],[915.41],[42.95],[53.7],[39.84],[1030.81],[46.82],[789.5],[35.43],[131.63],[85.16999999999999],[1027.43],[568.52],[39.04]],\"domain\":{\"x\":[0.0,1.0],\"y\":[0.0,1.0]},\"hovertemplate\":\"labels=%{label}<br>Yield (Quintal/ Hectare) =%{customdata[0]}<br>parent=%{parent}<br>id=%{id}<extra></extra>\",\"ids\":[\"Andhra Pradesh/ARHAR\",\"Gujarat/ARHAR\",\"Karnataka/ARHAR\",\"Maharashtra/ARHAR\",\"Uttar Pradesh/ARHAR\",\"Andhra Pradesh/COTTON\",\"Gujarat/COTTON\",\"Haryana/COTTON\",\"Maharashtra/COTTON\",\"Punjab/COTTON\",\"Andhra Pradesh/GRAM\",\"Madhya Pradesh/GRAM\",\"Maharashtra/GRAM\",\"Rajasthan/GRAM\",\"Uttar Pradesh/GRAM\",\"Andhra Pradesh/GROUNDNUT\",\"Gujarat/GROUNDNUT\",\"Karnataka/GROUNDNUT\",\"Maharashtra/GROUNDNUT\",\"Tamil Nadu/GROUNDNUT\",\"Andhra Pradesh/MAIZE\",\"Bihar/MAIZE\",\"Karnataka/MAIZE\",\"Rajasthan/MAIZE\",\"Uttar Pradesh/MAIZE\",\"Andhra Pradesh/MOONG\",\"Karnataka/MOONG\",\"Maharashtra/MOONG\",\"Orissa/MOONG\",\"Rajasthan/MOONG\",\"Andhra Pradesh/PADDY\",\"Orissa/PADDY\",\"Punjab/PADDY\",\"Uttar Pradesh/PADDY\",\"West Bengal/PADDY\",\"Gujarat/RAPESEED AND MUSTARD\",\"Haryana/RAPESEED AND MUSTARD\",\"Madhya Pradesh/RAPESEED AND MUSTARD\",\"Rajasthan/RAPESEED AND MUSTARD\",\"Uttar Pradesh/RAPESEED AND MUSTARD\",\"Andhra Pradesh/SUGARCANE\",\"Karnataka/SUGARCANE\",\"Maharashtra/SUGARCANE\",\"Tamil Nadu/SUGARCANE\",\"Uttar Pradesh/SUGARCANE\",\"Madhya Pradesh/WHEAT\",\"Punjab/WHEAT\",\"Rajasthan/WHEAT\",\"Uttar Pradesh/WHEAT\",\"Andhra Pradesh\",\"Bihar\",\"Gujarat\",\"Haryana\",\"Karnataka\",\"Madhya Pradesh\",\"Maharashtra\",\"Orissa\",\"Punjab\",\"Rajasthan\",\"Tamil Nadu\",\"Uttar Pradesh\",\"West Bengal\"],\"labels\":[\"ARHAR\",\"ARHAR\",\"ARHAR\",\"ARHAR\",\"ARHAR\",\"COTTON\",\"COTTON\",\"COTTON\",\"COTTON\",\"COTTON\",\"GRAM\",\"GRAM\",\"GRAM\",\"GRAM\",\"GRAM\",\"GROUNDNUT\",\"GROUNDNUT\",\"GROUNDNUT\",\"GROUNDNUT\",\"GROUNDNUT\",\"MAIZE\",\"MAIZE\",\"MAIZE\",\"MAIZE\",\"MAIZE\",\"MOONG\",\"MOONG\",\"MOONG\",\"MOONG\",\"MOONG\",\"PADDY\",\"PADDY\",\"PADDY\",\"PADDY\",\"PADDY\",\"RAPESEED AND MUSTARD\",\"RAPESEED AND MUSTARD\",\"RAPESEED AND MUSTARD\",\"RAPESEED AND MUSTARD\",\"RAPESEED AND MUSTARD\",\"SUGARCANE\",\"SUGARCANE\",\"SUGARCANE\",\"SUGARCANE\",\"SUGARCANE\",\"WHEAT\",\"WHEAT\",\"WHEAT\",\"WHEAT\",\"Andhra Pradesh\",\"Bihar\",\"Gujarat\",\"Haryana\",\"Karnataka\",\"Madhya Pradesh\",\"Maharashtra\",\"Orissa\",\"Punjab\",\"Rajasthan\",\"Tamil Nadu\",\"Uttar Pradesh\",\"West Bengal\"],\"name\":\"\",\"parents\":[\"Andhra Pradesh\",\"Gujarat\",\"Karnataka\",\"Maharashtra\",\"Uttar Pradesh\",\"Andhra Pradesh\",\"Gujarat\",\"Haryana\",\"Maharashtra\",\"Punjab\",\"Andhra Pradesh\",\"Madhya Pradesh\",\"Maharashtra\",\"Rajasthan\",\"Uttar Pradesh\",\"Andhra Pradesh\",\"Gujarat\",\"Karnataka\",\"Maharashtra\",\"Tamil Nadu\",\"Andhra Pradesh\",\"Bihar\",\"Karnataka\",\"Rajasthan\",\"Uttar Pradesh\",\"Andhra Pradesh\",\"Karnataka\",\"Maharashtra\",\"Orissa\",\"Rajasthan\",\"Andhra Pradesh\",\"Orissa\",\"Punjab\",\"Uttar Pradesh\",\"West Bengal\",\"Gujarat\",\"Haryana\",\"Madhya Pradesh\",\"Rajasthan\",\"Uttar Pradesh\",\"Andhra Pradesh\",\"Karnataka\",\"Maharashtra\",\"Tamil Nadu\",\"Uttar Pradesh\",\"Madhya Pradesh\",\"Punjab\",\"Rajasthan\",\"Uttar Pradesh\",\"\",\"\",\"\",\"\",\"\",\"\",\"\",\"\",\"\",\"\",\"\",\"\",\"\"],\"values\":[6.42,9.59,7.47,8.72,9.83,17.83,19.05,19.9,12.69,24.39,16.69,10.29,8.05,6.83,10.93,11.97,13.45,4.71,9.33,11.98,42.68,42.95,31.1,23.56,13.7,5.9,1.32,6.7,3.01,4.05,56.0,32.42,67.41,36.61,39.04,11.61,19.94,12.94,13.54,13.57,757.92,986.21,744.01,1015.45,448.89,23.59,39.83,37.19,34.99,915.41,42.95,53.7,39.84,1030.81,46.82,789.5,35.43,131.63,85.16999999999999,1027.43,568.52,39.04],\"type\":\"sunburst\"}],                        {\"template\":{\"data\":{\"histogram2dcontour\":[{\"type\":\"histogram2dcontour\",\"colorbar\":{\"outlinewidth\":0,\"ticks\":\"\"},\"colorscale\":[[0.0,\"#0d0887\"],[0.1111111111111111,\"#46039f\"],[0.2222222222222222,\"#7201a8\"],[0.3333333333333333,\"#9c179e\"],[0.4444444444444444,\"#bd3786\"],[0.5555555555555556,\"#d8576b\"],[0.6666666666666666,\"#ed7953\"],[0.7777777777777778,\"#fb9f3a\"],[0.8888888888888888,\"#fdca26\"],[1.0,\"#f0f921\"]]}],\"choropleth\":[{\"type\":\"choropleth\",\"colorbar\":{\"outlinewidth\":0,\"ticks\":\"\"}}],\"histogram2d\":[{\"type\":\"histogram2d\",\"colorbar\":{\"outlinewidth\":0,\"ticks\":\"\"},\"colorscale\":[[0.0,\"#0d0887\"],[0.1111111111111111,\"#46039f\"],[0.2222222222222222,\"#7201a8\"],[0.3333333333333333,\"#9c179e\"],[0.4444444444444444,\"#bd3786\"],[0.5555555555555556,\"#d8576b\"],[0.6666666666666666,\"#ed7953\"],[0.7777777777777778,\"#fb9f3a\"],[0.8888888888888888,\"#fdca26\"],[1.0,\"#f0f921\"]]}],\"heatmap\":[{\"type\":\"heatmap\",\"colorbar\":{\"outlinewidth\":0,\"ticks\":\"\"},\"colorscale\":[[0.0,\"#0d0887\"],[0.1111111111111111,\"#46039f\"],[0.2222222222222222,\"#7201a8\"],[0.3333333333333333,\"#9c179e\"],[0.4444444444444444,\"#bd3786\"],[0.5555555555555556,\"#d8576b\"],[0.6666666666666666,\"#ed7953\"],[0.7777777777777778,\"#fb9f3a\"],[0.8888888888888888,\"#fdca26\"],[1.0,\"#f0f921\"]]}],\"heatmapgl\":[{\"type\":\"heatmapgl\",\"colorbar\":{\"outlinewidth\":0,\"ticks\":\"\"},\"colorscale\":[[0.0,\"#0d0887\"],[0.1111111111111111,\"#46039f\"],[0.2222222222222222,\"#7201a8\"],[0.3333333333333333,\"#9c179e\"],[0.4444444444444444,\"#bd3786\"],[0.5555555555555556,\"#d8576b\"],[0.6666666666666666,\"#ed7953\"],[0.7777777777777778,\"#fb9f3a\"],[0.8888888888888888,\"#fdca26\"],[1.0,\"#f0f921\"]]}],\"contourcarpet\":[{\"type\":\"contourcarpet\",\"colorbar\":{\"outlinewidth\":0,\"ticks\":\"\"}}],\"contour\":[{\"type\":\"contour\",\"colorbar\":{\"outlinewidth\":0,\"ticks\":\"\"},\"colorscale\":[[0.0,\"#0d0887\"],[0.1111111111111111,\"#46039f\"],[0.2222222222222222,\"#7201a8\"],[0.3333333333333333,\"#9c179e\"],[0.4444444444444444,\"#bd3786\"],[0.5555555555555556,\"#d8576b\"],[0.6666666666666666,\"#ed7953\"],[0.7777777777777778,\"#fb9f3a\"],[0.8888888888888888,\"#fdca26\"],[1.0,\"#f0f921\"]]}],\"surface\":[{\"type\":\"surface\",\"colorbar\":{\"outlinewidth\":0,\"ticks\":\"\"},\"colorscale\":[[0.0,\"#0d0887\"],[0.1111111111111111,\"#46039f\"],[0.2222222222222222,\"#7201a8\"],[0.3333333333333333,\"#9c179e\"],[0.4444444444444444,\"#bd3786\"],[0.5555555555555556,\"#d8576b\"],[0.6666666666666666,\"#ed7953\"],[0.7777777777777778,\"#fb9f3a\"],[0.8888888888888888,\"#fdca26\"],[1.0,\"#f0f921\"]]}],\"mesh3d\":[{\"type\":\"mesh3d\",\"colorbar\":{\"outlinewidth\":0,\"ticks\":\"\"}}],\"scatter\":[{\"fillpattern\":{\"fillmode\":\"overlay\",\"size\":10,\"solidity\":0.2},\"type\":\"scatter\"}],\"parcoords\":[{\"type\":\"parcoords\",\"line\":{\"colorbar\":{\"outlinewidth\":0,\"ticks\":\"\"}}}],\"scatterpolargl\":[{\"type\":\"scatterpolargl\",\"marker\":{\"colorbar\":{\"outlinewidth\":0,\"ticks\":\"\"}}}],\"bar\":[{\"error_x\":{\"color\":\"#2a3f5f\"},\"error_y\":{\"color\":\"#2a3f5f\"},\"marker\":{\"line\":{\"color\":\"#E5ECF6\",\"width\":0.5},\"pattern\":{\"fillmode\":\"overlay\",\"size\":10,\"solidity\":0.2}},\"type\":\"bar\"}],\"scattergeo\":[{\"type\":\"scattergeo\",\"marker\":{\"colorbar\":{\"outlinewidth\":0,\"ticks\":\"\"}}}],\"scatterpolar\":[{\"type\":\"scatterpolar\",\"marker\":{\"colorbar\":{\"outlinewidth\":0,\"ticks\":\"\"}}}],\"histogram\":[{\"marker\":{\"pattern\":{\"fillmode\":\"overlay\",\"size\":10,\"solidity\":0.2}},\"type\":\"histogram\"}],\"scattergl\":[{\"type\":\"scattergl\",\"marker\":{\"colorbar\":{\"outlinewidth\":0,\"ticks\":\"\"}}}],\"scatter3d\":[{\"type\":\"scatter3d\",\"line\":{\"colorbar\":{\"outlinewidth\":0,\"ticks\":\"\"}},\"marker\":{\"colorbar\":{\"outlinewidth\":0,\"ticks\":\"\"}}}],\"scattermapbox\":[{\"type\":\"scattermapbox\",\"marker\":{\"colorbar\":{\"outlinewidth\":0,\"ticks\":\"\"}}}],\"scatterternary\":[{\"type\":\"scatterternary\",\"marker\":{\"colorbar\":{\"outlinewidth\":0,\"ticks\":\"\"}}}],\"scattercarpet\":[{\"type\":\"scattercarpet\",\"marker\":{\"colorbar\":{\"outlinewidth\":0,\"ticks\":\"\"}}}],\"carpet\":[{\"aaxis\":{\"endlinecolor\":\"#2a3f5f\",\"gridcolor\":\"white\",\"linecolor\":\"white\",\"minorgridcolor\":\"white\",\"startlinecolor\":\"#2a3f5f\"},\"baxis\":{\"endlinecolor\":\"#2a3f5f\",\"gridcolor\":\"white\",\"linecolor\":\"white\",\"minorgridcolor\":\"white\",\"startlinecolor\":\"#2a3f5f\"},\"type\":\"carpet\"}],\"table\":[{\"cells\":{\"fill\":{\"color\":\"#EBF0F8\"},\"line\":{\"color\":\"white\"}},\"header\":{\"fill\":{\"color\":\"#C8D4E3\"},\"line\":{\"color\":\"white\"}},\"type\":\"table\"}],\"barpolar\":[{\"marker\":{\"line\":{\"color\":\"#E5ECF6\",\"width\":0.5},\"pattern\":{\"fillmode\":\"overlay\",\"size\":10,\"solidity\":0.2}},\"type\":\"barpolar\"}],\"pie\":[{\"automargin\":true,\"type\":\"pie\"}]},\"layout\":{\"autotypenumbers\":\"strict\",\"colorway\":[\"#636efa\",\"#EF553B\",\"#00cc96\",\"#ab63fa\",\"#FFA15A\",\"#19d3f3\",\"#FF6692\",\"#B6E880\",\"#FF97FF\",\"#FECB52\"],\"font\":{\"color\":\"#2a3f5f\"},\"hovermode\":\"closest\",\"hoverlabel\":{\"align\":\"left\"},\"paper_bgcolor\":\"white\",\"plot_bgcolor\":\"#E5ECF6\",\"polar\":{\"bgcolor\":\"#E5ECF6\",\"angularaxis\":{\"gridcolor\":\"white\",\"linecolor\":\"white\",\"ticks\":\"\"},\"radialaxis\":{\"gridcolor\":\"white\",\"linecolor\":\"white\",\"ticks\":\"\"}},\"ternary\":{\"bgcolor\":\"#E5ECF6\",\"aaxis\":{\"gridcolor\":\"white\",\"linecolor\":\"white\",\"ticks\":\"\"},\"baxis\":{\"gridcolor\":\"white\",\"linecolor\":\"white\",\"ticks\":\"\"},\"caxis\":{\"gridcolor\":\"white\",\"linecolor\":\"white\",\"ticks\":\"\"}},\"coloraxis\":{\"colorbar\":{\"outlinewidth\":0,\"ticks\":\"\"}},\"colorscale\":{\"sequential\":[[0.0,\"#0d0887\"],[0.1111111111111111,\"#46039f\"],[0.2222222222222222,\"#7201a8\"],[0.3333333333333333,\"#9c179e\"],[0.4444444444444444,\"#bd3786\"],[0.5555555555555556,\"#d8576b\"],[0.6666666666666666,\"#ed7953\"],[0.7777777777777778,\"#fb9f3a\"],[0.8888888888888888,\"#fdca26\"],[1.0,\"#f0f921\"]],\"sequentialminus\":[[0.0,\"#0d0887\"],[0.1111111111111111,\"#46039f\"],[0.2222222222222222,\"#7201a8\"],[0.3333333333333333,\"#9c179e\"],[0.4444444444444444,\"#bd3786\"],[0.5555555555555556,\"#d8576b\"],[0.6666666666666666,\"#ed7953\"],[0.7777777777777778,\"#fb9f3a\"],[0.8888888888888888,\"#fdca26\"],[1.0,\"#f0f921\"]],\"diverging\":[[0,\"#8e0152\"],[0.1,\"#c51b7d\"],[0.2,\"#de77ae\"],[0.3,\"#f1b6da\"],[0.4,\"#fde0ef\"],[0.5,\"#f7f7f7\"],[0.6,\"#e6f5d0\"],[0.7,\"#b8e186\"],[0.8,\"#7fbc41\"],[0.9,\"#4d9221\"],[1,\"#276419\"]]},\"xaxis\":{\"gridcolor\":\"white\",\"linecolor\":\"white\",\"ticks\":\"\",\"title\":{\"standoff\":15},\"zerolinecolor\":\"white\",\"automargin\":true,\"zerolinewidth\":2},\"yaxis\":{\"gridcolor\":\"white\",\"linecolor\":\"white\",\"ticks\":\"\",\"title\":{\"standoff\":15},\"zerolinecolor\":\"white\",\"automargin\":true,\"zerolinewidth\":2},\"scene\":{\"xaxis\":{\"backgroundcolor\":\"#E5ECF6\",\"gridcolor\":\"white\",\"linecolor\":\"white\",\"showbackground\":true,\"ticks\":\"\",\"zerolinecolor\":\"white\",\"gridwidth\":2},\"yaxis\":{\"backgroundcolor\":\"#E5ECF6\",\"gridcolor\":\"white\",\"linecolor\":\"white\",\"showbackground\":true,\"ticks\":\"\",\"zerolinecolor\":\"white\",\"gridwidth\":2},\"zaxis\":{\"backgroundcolor\":\"#E5ECF6\",\"gridcolor\":\"white\",\"linecolor\":\"white\",\"showbackground\":true,\"ticks\":\"\",\"zerolinecolor\":\"white\",\"gridwidth\":2}},\"shapedefaults\":{\"line\":{\"color\":\"#2a3f5f\"}},\"annotationdefaults\":{\"arrowcolor\":\"#2a3f5f\",\"arrowhead\":0,\"arrowwidth\":1},\"geo\":{\"bgcolor\":\"white\",\"landcolor\":\"#E5ECF6\",\"subunitcolor\":\"white\",\"showland\":true,\"showlakes\":true,\"lakecolor\":\"white\"},\"title\":{\"x\":0.05},\"mapbox\":{\"style\":\"light\"}}},\"legend\":{\"tracegroupgap\":0},\"margin\":{\"t\":60}},                        {\"responsive\": true}                    ).then(function(){\n",
       "                            \n",
       "var gd = document.getElementById('ce1daa15-adff-4192-84bb-a81c8b24ceb0');\n",
       "var x = new MutationObserver(function (mutations, observer) {{\n",
       "        var display = window.getComputedStyle(gd).display;\n",
       "        if (!display || display === 'none') {{\n",
       "            console.log([gd, 'removed!']);\n",
       "            Plotly.purge(gd);\n",
       "            observer.disconnect();\n",
       "        }}\n",
       "}});\n",
       "\n",
       "// Listen for the removal of the full notebook cells\n",
       "var notebookContainer = gd.closest('#notebook-container');\n",
       "if (notebookContainer) {{\n",
       "    x.observe(notebookContainer, {childList: true});\n",
       "}}\n",
       "\n",
       "// Listen for the clearing of the current output cell\n",
       "var outputEl = gd.closest('.output');\n",
       "if (outputEl) {{\n",
       "    x.observe(outputEl, {childList: true});\n",
       "}}\n",
       "\n",
       "                        })                };                });            </script>        </div>"
      ]
     },
     "metadata": {},
     "output_type": "display_data"
    },
    {
     "data": {
      "text/plain": [
       "<Figure size 1200x600 with 0 Axes>"
      ]
     },
     "metadata": {},
     "output_type": "display_data"
    }
   ],
   "source": [
    "plt.figure(figsize=(12,6))\n",
    "o=px.sunburst(df1,path=['State','Crop'],values='Yield (Quintal/ Hectare) ',\n",
    "              hover_data=['Yield (Quintal/ Hectare) '])\n",
    "o.show()"
   ]
  },
  {
   "cell_type": "markdown",
   "id": "4b54754a",
   "metadata": {
    "papermill": {
     "duration": 0.04145,
     "end_time": "2023-03-06T21:18:31.192808",
     "exception": false,
     "start_time": "2023-03-06T21:18:31.151358",
     "status": "completed"
    },
    "tags": []
   },
   "source": [
    "We can see majorly sugarcane has the highest yeild allover in major state"
   ]
  },
  {
   "cell_type": "code",
   "execution_count": 72,
   "id": "3af659af",
   "metadata": {
    "execution": {
     "iopub.execute_input": "2023-03-06T21:18:31.279598Z",
     "iopub.status.busy": "2023-03-06T21:18:31.278772Z",
     "iopub.status.idle": "2023-03-06T21:18:31.299684Z",
     "shell.execute_reply": "2023-03-06T21:18:31.298358Z"
    },
    "papermill": {
     "duration": 0.067713,
     "end_time": "2023-03-06T21:18:31.302536",
     "exception": false,
     "start_time": "2023-03-06T21:18:31.234823",
     "status": "completed"
    },
    "tags": []
   },
   "outputs": [
    {
     "data": {
      "text/html": [
       "<div>\n",
       "<style scoped>\n",
       "    .dataframe tbody tr th:only-of-type {\n",
       "        vertical-align: middle;\n",
       "    }\n",
       "\n",
       "    .dataframe tbody tr th {\n",
       "        vertical-align: top;\n",
       "    }\n",
       "\n",
       "    .dataframe thead th {\n",
       "        text-align: right;\n",
       "    }\n",
       "</style>\n",
       "<table border=\"1\" class=\"dataframe\">\n",
       "  <thead>\n",
       "    <tr style=\"text-align: right;\">\n",
       "      <th></th>\n",
       "      <th>Rice</th>\n",
       "      <th>Rice</th>\n",
       "      <th>Wheat</th>\n",
       "      <th>Coarse Cereals</th>\n",
       "      <th>Pulses</th>\n",
       "      <th>Vegetables</th>\n",
       "      <th>Fruits</th>\n",
       "      <th>Milk</th>\n",
       "      <th>Eggs, Fish and Meat</th>\n",
       "      <th>Oilseeds</th>\n",
       "      <th>Sugarcane</th>\n",
       "      <th>Fibers</th>\n",
       "      <th>All Agriculture</th>\n",
       "    </tr>\n",
       "  </thead>\n",
       "  <tbody>\n",
       "    <tr>\n",
       "      <th>1</th>\n",
       "      <td>100.0</td>\n",
       "      <td>100.0</td>\n",
       "      <td>100.0</td>\n",
       "      <td>100.0</td>\n",
       "      <td>100.0</td>\n",
       "      <td>100.0</td>\n",
       "      <td>100.0</td>\n",
       "      <td>100.0</td>\n",
       "      <td>100.0</td>\n",
       "      <td>100.0</td>\n",
       "      <td>100.0</td>\n",
       "      <td>100.0</td>\n",
       "      <td>100.0</td>\n",
       "    </tr>\n",
       "    <tr>\n",
       "      <th>2</th>\n",
       "      <td>101.0</td>\n",
       "      <td>101.0</td>\n",
       "      <td>101.0</td>\n",
       "      <td>107.0</td>\n",
       "      <td>108.0</td>\n",
       "      <td>109.0</td>\n",
       "      <td>99.0</td>\n",
       "      <td>97.0</td>\n",
       "      <td>102.0</td>\n",
       "      <td>86.0</td>\n",
       "      <td>96.0</td>\n",
       "      <td>92.0</td>\n",
       "      <td>99.0</td>\n",
       "    </tr>\n",
       "    <tr>\n",
       "      <th>3</th>\n",
       "      <td>99.0</td>\n",
       "      <td>99.0</td>\n",
       "      <td>112.0</td>\n",
       "      <td>110.0</td>\n",
       "      <td>134.0</td>\n",
       "      <td>103.0</td>\n",
       "      <td>99.0</td>\n",
       "      <td>98.0</td>\n",
       "      <td>101.0</td>\n",
       "      <td>85.0</td>\n",
       "      <td>91.0</td>\n",
       "      <td>91.0</td>\n",
       "      <td>101.0</td>\n",
       "    </tr>\n",
       "    <tr>\n",
       "      <th>4</th>\n",
       "      <td>105.0</td>\n",
       "      <td>105.0</td>\n",
       "      <td>115.0</td>\n",
       "      <td>115.0</td>\n",
       "      <td>124.0</td>\n",
       "      <td>118.0</td>\n",
       "      <td>98.0</td>\n",
       "      <td>98.0</td>\n",
       "      <td>100.0</td>\n",
       "      <td>97.0</td>\n",
       "      <td>87.0</td>\n",
       "      <td>96.0</td>\n",
       "      <td>104.0</td>\n",
       "    </tr>\n",
       "    <tr>\n",
       "      <th>5</th>\n",
       "      <td>112.0</td>\n",
       "      <td>112.0</td>\n",
       "      <td>117.0</td>\n",
       "      <td>113.0</td>\n",
       "      <td>124.0</td>\n",
       "      <td>113.0</td>\n",
       "      <td>102.0</td>\n",
       "      <td>98.0</td>\n",
       "      <td>99.0</td>\n",
       "      <td>104.0</td>\n",
       "      <td>80.0</td>\n",
       "      <td>109.0</td>\n",
       "      <td>106.0</td>\n",
       "    </tr>\n",
       "    <tr>\n",
       "      <th>6</th>\n",
       "      <td>121.0</td>\n",
       "      <td>121.0</td>\n",
       "      <td>127.0</td>\n",
       "      <td>123.0</td>\n",
       "      <td>146.0</td>\n",
       "      <td>124.0</td>\n",
       "      <td>104.0</td>\n",
       "      <td>112.0</td>\n",
       "      <td>116.0</td>\n",
       "      <td>103.0</td>\n",
       "      <td>81.0</td>\n",
       "      <td>107.0</td>\n",
       "      <td>115.0</td>\n",
       "    </tr>\n",
       "    <tr>\n",
       "      <th>7</th>\n",
       "      <td>117.0</td>\n",
       "      <td>117.0</td>\n",
       "      <td>120.0</td>\n",
       "      <td>122.0</td>\n",
       "      <td>137.0</td>\n",
       "      <td>128.0</td>\n",
       "      <td>114.0</td>\n",
       "      <td>123.0</td>\n",
       "      <td>133.0</td>\n",
       "      <td>99.0</td>\n",
       "      <td>109.0</td>\n",
       "      <td>138.0</td>\n",
       "      <td>123.0</td>\n",
       "    </tr>\n",
       "    <tr>\n",
       "      <th>8</th>\n",
       "      <td>110.0</td>\n",
       "      <td>110.0</td>\n",
       "      <td>108.0</td>\n",
       "      <td>136.0</td>\n",
       "      <td>129.0</td>\n",
       "      <td>115.0</td>\n",
       "      <td>119.0</td>\n",
       "      <td>124.0</td>\n",
       "      <td>137.0</td>\n",
       "      <td>102.0</td>\n",
       "      <td>107.0</td>\n",
       "      <td>140.0</td>\n",
       "      <td>122.0</td>\n",
       "    </tr>\n",
       "  </tbody>\n",
       "</table>\n",
       "</div>"
      ],
      "text/plain": [
       "    Rice   Rice  Wheat Coarse Cereals Pulses Vegetables  Fruits   Milk  \\\n",
       "1  100.0  100.0  100.0          100.0  100.0       100.0  100.0  100.0   \n",
       "2  101.0  101.0  101.0          107.0  108.0       109.0   99.0   97.0   \n",
       "3   99.0   99.0  112.0          110.0  134.0       103.0   99.0   98.0   \n",
       "4  105.0  105.0  115.0          115.0  124.0       118.0   98.0   98.0   \n",
       "5  112.0  112.0  117.0          113.0  124.0       113.0  102.0   98.0   \n",
       "6  121.0  121.0  127.0          123.0  146.0       124.0  104.0  112.0   \n",
       "7  117.0  117.0  120.0          122.0  137.0       128.0  114.0  123.0   \n",
       "8  110.0  110.0  108.0          136.0  129.0       115.0  119.0  124.0   \n",
       "\n",
       "  Eggs, Fish and Meat Oilseeds Sugarcane  Fibers All Agriculture  \n",
       "1               100.0    100.0      100.0  100.0           100.0  \n",
       "2               102.0     86.0       96.0   92.0            99.0  \n",
       "3               101.0     85.0       91.0   91.0           101.0  \n",
       "4               100.0     97.0       87.0   96.0           104.0  \n",
       "5                99.0    104.0       80.0  109.0           106.0  \n",
       "6               116.0    103.0       81.0  107.0           115.0  \n",
       "7               133.0     99.0      109.0  138.0           123.0  \n",
       "8               137.0    102.0      107.0  140.0           122.0  "
      ]
     },
     "execution_count": 72,
     "metadata": {},
     "output_type": "execute_result"
    }
   ],
   "source": [
    "df4t=df4.transpose().reset_index()\n",
    "df4t.rename(columns=df4t.iloc[0],inplace= True)\n",
    "df4t=df4t[1:]\n",
    "df4t"
   ]
  },
  {
   "cell_type": "code",
   "execution_count": 55,
   "id": "82c2c188",
   "metadata": {
    "execution": {
     "iopub.execute_input": "2023-03-06T21:18:31.389236Z",
     "iopub.status.busy": "2023-03-06T21:18:31.388831Z",
     "iopub.status.idle": "2023-03-06T21:18:31.393758Z",
     "shell.execute_reply": "2023-03-06T21:18:31.392493Z"
    },
    "papermill": {
     "duration": 0.051509,
     "end_time": "2023-03-06T21:18:31.396204",
     "exception": false,
     "start_time": "2023-03-06T21:18:31.344695",
     "status": "completed"
    },
    "tags": []
   },
   "outputs": [
    {
     "data": {
      "text/plain": [
       "Index(['Rice', 'Wheat', 'Coarse Cereals', 'Pulses', 'Vegetables ', 'Fruits',\n",
       "       'Milk', 'Eggs, Fish and Meat', 'Oilseeds', 'Sugarcane ', 'Fibers',\n",
       "       'All Agriculture'],\n",
       "      dtype='object')"
      ]
     },
     "execution_count": 55,
     "metadata": {},
     "output_type": "execute_result"
    }
   ],
   "source": [
    "p=df4t.columns\n",
    "p=p[1:]\n",
    "p"
   ]
  },
  {
   "cell_type": "markdown",
   "id": "72bea2ab",
   "metadata": {
    "papermill": {
     "duration": 0.041558,
     "end_time": "2023-03-06T21:18:31.479711",
     "exception": false,
     "start_time": "2023-03-06T21:18:31.438153",
     "status": "completed"
    },
    "tags": []
   },
   "source": [
    "***Q8. What is the crop production in the time frame of 2004-2012?***"
   ]
  },
  {
   "cell_type": "code",
   "execution_count": 60,
   "id": "a1ae79de",
   "metadata": {},
   "outputs": [
    {
     "ename": "ValueError",
     "evalue": "Per-column arrays must each be 1-dimensional",
     "output_type": "error",
     "traceback": [
      "\u001b[1;31m---------------------------------------------------------------------------\u001b[0m",
      "\u001b[1;31mValueError\u001b[0m                                Traceback (most recent call last)",
      "\u001b[1;32m~\\AppData\\Local\\Temp\\ipykernel_12212\\3235930349.py\u001b[0m in \u001b[0;36m<module>\u001b[1;34m\u001b[0m\n\u001b[1;32m----> 1\u001b[1;33m \u001b[0msns\u001b[0m\u001b[1;33m.\u001b[0m\u001b[0mlineplot\u001b[0m\u001b[1;33m(\u001b[0m\u001b[0mdf4t\u001b[0m\u001b[1;33m.\u001b[0m\u001b[0mindex\u001b[0m\u001b[1;33m,\u001b[0m\u001b[0mdf4t\u001b[0m\u001b[1;33m.\u001b[0m\u001b[0mvalues\u001b[0m\u001b[1;33m,\u001b[0m\u001b[0mhue\u001b[0m\u001b[1;33m=\u001b[0m\u001b[0mdf4t\u001b[0m\u001b[1;33m.\u001b[0m\u001b[0mcolumns\u001b[0m\u001b[1;33m)\u001b[0m\u001b[1;33m\u001b[0m\u001b[1;33m\u001b[0m\u001b[0m\n\u001b[0m",
      "\u001b[1;32m~\\anaconda3\\lib\\site-packages\\seaborn\\_decorators.py\u001b[0m in \u001b[0;36minner_f\u001b[1;34m(*args, **kwargs)\u001b[0m\n\u001b[0;32m     44\u001b[0m             )\n\u001b[0;32m     45\u001b[0m         \u001b[0mkwargs\u001b[0m\u001b[1;33m.\u001b[0m\u001b[0mupdate\u001b[0m\u001b[1;33m(\u001b[0m\u001b[1;33m{\u001b[0m\u001b[0mk\u001b[0m\u001b[1;33m:\u001b[0m \u001b[0marg\u001b[0m \u001b[1;32mfor\u001b[0m \u001b[0mk\u001b[0m\u001b[1;33m,\u001b[0m \u001b[0marg\u001b[0m \u001b[1;32min\u001b[0m \u001b[0mzip\u001b[0m\u001b[1;33m(\u001b[0m\u001b[0msig\u001b[0m\u001b[1;33m.\u001b[0m\u001b[0mparameters\u001b[0m\u001b[1;33m,\u001b[0m \u001b[0margs\u001b[0m\u001b[1;33m)\u001b[0m\u001b[1;33m}\u001b[0m\u001b[1;33m)\u001b[0m\u001b[1;33m\u001b[0m\u001b[1;33m\u001b[0m\u001b[0m\n\u001b[1;32m---> 46\u001b[1;33m         \u001b[1;32mreturn\u001b[0m \u001b[0mf\u001b[0m\u001b[1;33m(\u001b[0m\u001b[1;33m**\u001b[0m\u001b[0mkwargs\u001b[0m\u001b[1;33m)\u001b[0m\u001b[1;33m\u001b[0m\u001b[1;33m\u001b[0m\u001b[0m\n\u001b[0m\u001b[0;32m     47\u001b[0m     \u001b[1;32mreturn\u001b[0m \u001b[0minner_f\u001b[0m\u001b[1;33m\u001b[0m\u001b[1;33m\u001b[0m\u001b[0m\n\u001b[0;32m     48\u001b[0m \u001b[1;33m\u001b[0m\u001b[0m\n",
      "\u001b[1;32m~\\anaconda3\\lib\\site-packages\\seaborn\\relational.py\u001b[0m in \u001b[0;36mlineplot\u001b[1;34m(x, y, hue, size, style, data, palette, hue_order, hue_norm, sizes, size_order, size_norm, dashes, markers, style_order, units, estimator, ci, n_boot, seed, sort, err_style, err_kws, legend, ax, **kwargs)\u001b[0m\n\u001b[0;32m    690\u001b[0m \u001b[1;33m\u001b[0m\u001b[0m\n\u001b[0;32m    691\u001b[0m     \u001b[0mvariables\u001b[0m \u001b[1;33m=\u001b[0m \u001b[0m_LinePlotter\u001b[0m\u001b[1;33m.\u001b[0m\u001b[0mget_semantics\u001b[0m\u001b[1;33m(\u001b[0m\u001b[0mlocals\u001b[0m\u001b[1;33m(\u001b[0m\u001b[1;33m)\u001b[0m\u001b[1;33m)\u001b[0m\u001b[1;33m\u001b[0m\u001b[1;33m\u001b[0m\u001b[0m\n\u001b[1;32m--> 692\u001b[1;33m     p = _LinePlotter(\n\u001b[0m\u001b[0;32m    693\u001b[0m         \u001b[0mdata\u001b[0m\u001b[1;33m=\u001b[0m\u001b[0mdata\u001b[0m\u001b[1;33m,\u001b[0m \u001b[0mvariables\u001b[0m\u001b[1;33m=\u001b[0m\u001b[0mvariables\u001b[0m\u001b[1;33m,\u001b[0m\u001b[1;33m\u001b[0m\u001b[1;33m\u001b[0m\u001b[0m\n\u001b[0;32m    694\u001b[0m         \u001b[0mestimator\u001b[0m\u001b[1;33m=\u001b[0m\u001b[0mestimator\u001b[0m\u001b[1;33m,\u001b[0m \u001b[0mci\u001b[0m\u001b[1;33m=\u001b[0m\u001b[0mci\u001b[0m\u001b[1;33m,\u001b[0m \u001b[0mn_boot\u001b[0m\u001b[1;33m=\u001b[0m\u001b[0mn_boot\u001b[0m\u001b[1;33m,\u001b[0m \u001b[0mseed\u001b[0m\u001b[1;33m=\u001b[0m\u001b[0mseed\u001b[0m\u001b[1;33m,\u001b[0m\u001b[1;33m\u001b[0m\u001b[1;33m\u001b[0m\u001b[0m\n",
      "\u001b[1;32m~\\anaconda3\\lib\\site-packages\\seaborn\\relational.py\u001b[0m in \u001b[0;36m__init__\u001b[1;34m(self, data, variables, estimator, ci, n_boot, seed, sort, err_style, err_kws, legend)\u001b[0m\n\u001b[0;32m    365\u001b[0m         )\n\u001b[0;32m    366\u001b[0m \u001b[1;33m\u001b[0m\u001b[0m\n\u001b[1;32m--> 367\u001b[1;33m         \u001b[0msuper\u001b[0m\u001b[1;33m(\u001b[0m\u001b[1;33m)\u001b[0m\u001b[1;33m.\u001b[0m\u001b[0m__init__\u001b[0m\u001b[1;33m(\u001b[0m\u001b[0mdata\u001b[0m\u001b[1;33m=\u001b[0m\u001b[0mdata\u001b[0m\u001b[1;33m,\u001b[0m \u001b[0mvariables\u001b[0m\u001b[1;33m=\u001b[0m\u001b[0mvariables\u001b[0m\u001b[1;33m)\u001b[0m\u001b[1;33m\u001b[0m\u001b[1;33m\u001b[0m\u001b[0m\n\u001b[0m\u001b[0;32m    368\u001b[0m \u001b[1;33m\u001b[0m\u001b[0m\n\u001b[0;32m    369\u001b[0m         \u001b[0mself\u001b[0m\u001b[1;33m.\u001b[0m\u001b[0mestimator\u001b[0m \u001b[1;33m=\u001b[0m \u001b[0mestimator\u001b[0m\u001b[1;33m\u001b[0m\u001b[1;33m\u001b[0m\u001b[0m\n",
      "\u001b[1;32m~\\anaconda3\\lib\\site-packages\\seaborn\\_core.py\u001b[0m in \u001b[0;36m__init__\u001b[1;34m(self, data, variables)\u001b[0m\n\u001b[0;32m    603\u001b[0m     \u001b[1;32mdef\u001b[0m \u001b[0m__init__\u001b[0m\u001b[1;33m(\u001b[0m\u001b[0mself\u001b[0m\u001b[1;33m,\u001b[0m \u001b[0mdata\u001b[0m\u001b[1;33m=\u001b[0m\u001b[1;32mNone\u001b[0m\u001b[1;33m,\u001b[0m \u001b[0mvariables\u001b[0m\u001b[1;33m=\u001b[0m\u001b[1;33m{\u001b[0m\u001b[1;33m}\u001b[0m\u001b[1;33m)\u001b[0m\u001b[1;33m:\u001b[0m\u001b[1;33m\u001b[0m\u001b[1;33m\u001b[0m\u001b[0m\n\u001b[0;32m    604\u001b[0m \u001b[1;33m\u001b[0m\u001b[0m\n\u001b[1;32m--> 605\u001b[1;33m         \u001b[0mself\u001b[0m\u001b[1;33m.\u001b[0m\u001b[0massign_variables\u001b[0m\u001b[1;33m(\u001b[0m\u001b[0mdata\u001b[0m\u001b[1;33m,\u001b[0m \u001b[0mvariables\u001b[0m\u001b[1;33m)\u001b[0m\u001b[1;33m\u001b[0m\u001b[1;33m\u001b[0m\u001b[0m\n\u001b[0m\u001b[0;32m    606\u001b[0m \u001b[1;33m\u001b[0m\u001b[0m\n\u001b[0;32m    607\u001b[0m         \u001b[1;32mfor\u001b[0m \u001b[0mvar\u001b[0m\u001b[1;33m,\u001b[0m \u001b[0mcls\u001b[0m \u001b[1;32min\u001b[0m \u001b[0mself\u001b[0m\u001b[1;33m.\u001b[0m\u001b[0m_semantic_mappings\u001b[0m\u001b[1;33m.\u001b[0m\u001b[0mitems\u001b[0m\u001b[1;33m(\u001b[0m\u001b[1;33m)\u001b[0m\u001b[1;33m:\u001b[0m\u001b[1;33m\u001b[0m\u001b[1;33m\u001b[0m\u001b[0m\n",
      "\u001b[1;32m~\\anaconda3\\lib\\site-packages\\seaborn\\_core.py\u001b[0m in \u001b[0;36massign_variables\u001b[1;34m(self, data, variables)\u001b[0m\n\u001b[0;32m    666\u001b[0m         \u001b[1;32melse\u001b[0m\u001b[1;33m:\u001b[0m\u001b[1;33m\u001b[0m\u001b[1;33m\u001b[0m\u001b[0m\n\u001b[0;32m    667\u001b[0m             \u001b[0mself\u001b[0m\u001b[1;33m.\u001b[0m\u001b[0minput_format\u001b[0m \u001b[1;33m=\u001b[0m \u001b[1;34m\"long\"\u001b[0m\u001b[1;33m\u001b[0m\u001b[1;33m\u001b[0m\u001b[0m\n\u001b[1;32m--> 668\u001b[1;33m             plot_data, variables = self._assign_variables_longform(\n\u001b[0m\u001b[0;32m    669\u001b[0m                 \u001b[0mdata\u001b[0m\u001b[1;33m,\u001b[0m \u001b[1;33m**\u001b[0m\u001b[0mvariables\u001b[0m\u001b[1;33m,\u001b[0m\u001b[1;33m\u001b[0m\u001b[1;33m\u001b[0m\u001b[0m\n\u001b[0;32m    670\u001b[0m             )\n",
      "\u001b[1;32m~\\anaconda3\\lib\\site-packages\\seaborn\\_core.py\u001b[0m in \u001b[0;36m_assign_variables_longform\u001b[1;34m(self, data, **kwargs)\u001b[0m\n\u001b[0;32m    925\u001b[0m         \u001b[1;31m# Construct a tidy plot DataFrame. This will convert a number of\u001b[0m\u001b[1;33m\u001b[0m\u001b[1;33m\u001b[0m\u001b[0m\n\u001b[0;32m    926\u001b[0m         \u001b[1;31m# types automatically, aligning on index in case of pandas objects\u001b[0m\u001b[1;33m\u001b[0m\u001b[1;33m\u001b[0m\u001b[0m\n\u001b[1;32m--> 927\u001b[1;33m         \u001b[0mplot_data\u001b[0m \u001b[1;33m=\u001b[0m \u001b[0mpd\u001b[0m\u001b[1;33m.\u001b[0m\u001b[0mDataFrame\u001b[0m\u001b[1;33m(\u001b[0m\u001b[0mplot_data\u001b[0m\u001b[1;33m)\u001b[0m\u001b[1;33m\u001b[0m\u001b[1;33m\u001b[0m\u001b[0m\n\u001b[0m\u001b[0;32m    928\u001b[0m \u001b[1;33m\u001b[0m\u001b[0m\n\u001b[0;32m    929\u001b[0m         \u001b[1;31m# Reduce the variables dictionary to fields with valid data\u001b[0m\u001b[1;33m\u001b[0m\u001b[1;33m\u001b[0m\u001b[0m\n",
      "\u001b[1;32m~\\anaconda3\\lib\\site-packages\\pandas\\core\\frame.py\u001b[0m in \u001b[0;36m__init__\u001b[1;34m(self, data, index, columns, dtype, copy)\u001b[0m\n\u001b[0;32m    634\u001b[0m         \u001b[1;32melif\u001b[0m \u001b[0misinstance\u001b[0m\u001b[1;33m(\u001b[0m\u001b[0mdata\u001b[0m\u001b[1;33m,\u001b[0m \u001b[0mdict\u001b[0m\u001b[1;33m)\u001b[0m\u001b[1;33m:\u001b[0m\u001b[1;33m\u001b[0m\u001b[1;33m\u001b[0m\u001b[0m\n\u001b[0;32m    635\u001b[0m             \u001b[1;31m# GH#38939 de facto copy defaults to False only in non-dict cases\u001b[0m\u001b[1;33m\u001b[0m\u001b[1;33m\u001b[0m\u001b[0m\n\u001b[1;32m--> 636\u001b[1;33m             \u001b[0mmgr\u001b[0m \u001b[1;33m=\u001b[0m \u001b[0mdict_to_mgr\u001b[0m\u001b[1;33m(\u001b[0m\u001b[0mdata\u001b[0m\u001b[1;33m,\u001b[0m \u001b[0mindex\u001b[0m\u001b[1;33m,\u001b[0m \u001b[0mcolumns\u001b[0m\u001b[1;33m,\u001b[0m \u001b[0mdtype\u001b[0m\u001b[1;33m=\u001b[0m\u001b[0mdtype\u001b[0m\u001b[1;33m,\u001b[0m \u001b[0mcopy\u001b[0m\u001b[1;33m=\u001b[0m\u001b[0mcopy\u001b[0m\u001b[1;33m,\u001b[0m \u001b[0mtyp\u001b[0m\u001b[1;33m=\u001b[0m\u001b[0mmanager\u001b[0m\u001b[1;33m)\u001b[0m\u001b[1;33m\u001b[0m\u001b[1;33m\u001b[0m\u001b[0m\n\u001b[0m\u001b[0;32m    637\u001b[0m         \u001b[1;32melif\u001b[0m \u001b[0misinstance\u001b[0m\u001b[1;33m(\u001b[0m\u001b[0mdata\u001b[0m\u001b[1;33m,\u001b[0m \u001b[0mma\u001b[0m\u001b[1;33m.\u001b[0m\u001b[0mMaskedArray\u001b[0m\u001b[1;33m)\u001b[0m\u001b[1;33m:\u001b[0m\u001b[1;33m\u001b[0m\u001b[1;33m\u001b[0m\u001b[0m\n\u001b[0;32m    638\u001b[0m             \u001b[1;32mimport\u001b[0m \u001b[0mnumpy\u001b[0m\u001b[1;33m.\u001b[0m\u001b[0mma\u001b[0m\u001b[1;33m.\u001b[0m\u001b[0mmrecords\u001b[0m \u001b[1;32mas\u001b[0m \u001b[0mmrecords\u001b[0m\u001b[1;33m\u001b[0m\u001b[1;33m\u001b[0m\u001b[0m\n",
      "\u001b[1;32m~\\anaconda3\\lib\\site-packages\\pandas\\core\\internals\\construction.py\u001b[0m in \u001b[0;36mdict_to_mgr\u001b[1;34m(data, index, columns, dtype, typ, copy)\u001b[0m\n\u001b[0;32m    500\u001b[0m         \u001b[1;31m# TODO: can we get rid of the dt64tz special case above?\u001b[0m\u001b[1;33m\u001b[0m\u001b[1;33m\u001b[0m\u001b[0m\n\u001b[0;32m    501\u001b[0m \u001b[1;33m\u001b[0m\u001b[0m\n\u001b[1;32m--> 502\u001b[1;33m     \u001b[1;32mreturn\u001b[0m \u001b[0marrays_to_mgr\u001b[0m\u001b[1;33m(\u001b[0m\u001b[0marrays\u001b[0m\u001b[1;33m,\u001b[0m \u001b[0mcolumns\u001b[0m\u001b[1;33m,\u001b[0m \u001b[0mindex\u001b[0m\u001b[1;33m,\u001b[0m \u001b[0mdtype\u001b[0m\u001b[1;33m=\u001b[0m\u001b[0mdtype\u001b[0m\u001b[1;33m,\u001b[0m \u001b[0mtyp\u001b[0m\u001b[1;33m=\u001b[0m\u001b[0mtyp\u001b[0m\u001b[1;33m,\u001b[0m \u001b[0mconsolidate\u001b[0m\u001b[1;33m=\u001b[0m\u001b[0mcopy\u001b[0m\u001b[1;33m)\u001b[0m\u001b[1;33m\u001b[0m\u001b[1;33m\u001b[0m\u001b[0m\n\u001b[0m\u001b[0;32m    503\u001b[0m \u001b[1;33m\u001b[0m\u001b[0m\n\u001b[0;32m    504\u001b[0m \u001b[1;33m\u001b[0m\u001b[0m\n",
      "\u001b[1;32m~\\anaconda3\\lib\\site-packages\\pandas\\core\\internals\\construction.py\u001b[0m in \u001b[0;36marrays_to_mgr\u001b[1;34m(arrays, columns, index, dtype, verify_integrity, typ, consolidate)\u001b[0m\n\u001b[0;32m    118\u001b[0m         \u001b[1;31m# figure out the index, if necessary\u001b[0m\u001b[1;33m\u001b[0m\u001b[1;33m\u001b[0m\u001b[0m\n\u001b[0;32m    119\u001b[0m         \u001b[1;32mif\u001b[0m \u001b[0mindex\u001b[0m \u001b[1;32mis\u001b[0m \u001b[1;32mNone\u001b[0m\u001b[1;33m:\u001b[0m\u001b[1;33m\u001b[0m\u001b[1;33m\u001b[0m\u001b[0m\n\u001b[1;32m--> 120\u001b[1;33m             \u001b[0mindex\u001b[0m \u001b[1;33m=\u001b[0m \u001b[0m_extract_index\u001b[0m\u001b[1;33m(\u001b[0m\u001b[0marrays\u001b[0m\u001b[1;33m)\u001b[0m\u001b[1;33m\u001b[0m\u001b[1;33m\u001b[0m\u001b[0m\n\u001b[0m\u001b[0;32m    121\u001b[0m         \u001b[1;32melse\u001b[0m\u001b[1;33m:\u001b[0m\u001b[1;33m\u001b[0m\u001b[1;33m\u001b[0m\u001b[0m\n\u001b[0;32m    122\u001b[0m             \u001b[0mindex\u001b[0m \u001b[1;33m=\u001b[0m \u001b[0mensure_index\u001b[0m\u001b[1;33m(\u001b[0m\u001b[0mindex\u001b[0m\u001b[1;33m)\u001b[0m\u001b[1;33m\u001b[0m\u001b[1;33m\u001b[0m\u001b[0m\n",
      "\u001b[1;32m~\\anaconda3\\lib\\site-packages\\pandas\\core\\internals\\construction.py\u001b[0m in \u001b[0;36m_extract_index\u001b[1;34m(data)\u001b[0m\n\u001b[0;32m    659\u001b[0m                 \u001b[0mraw_lengths\u001b[0m\u001b[1;33m.\u001b[0m\u001b[0mappend\u001b[0m\u001b[1;33m(\u001b[0m\u001b[0mlen\u001b[0m\u001b[1;33m(\u001b[0m\u001b[0mval\u001b[0m\u001b[1;33m)\u001b[0m\u001b[1;33m)\u001b[0m\u001b[1;33m\u001b[0m\u001b[1;33m\u001b[0m\u001b[0m\n\u001b[0;32m    660\u001b[0m             \u001b[1;32melif\u001b[0m \u001b[0misinstance\u001b[0m\u001b[1;33m(\u001b[0m\u001b[0mval\u001b[0m\u001b[1;33m,\u001b[0m \u001b[0mnp\u001b[0m\u001b[1;33m.\u001b[0m\u001b[0mndarray\u001b[0m\u001b[1;33m)\u001b[0m \u001b[1;32mand\u001b[0m \u001b[0mval\u001b[0m\u001b[1;33m.\u001b[0m\u001b[0mndim\u001b[0m \u001b[1;33m>\u001b[0m \u001b[1;36m1\u001b[0m\u001b[1;33m:\u001b[0m\u001b[1;33m\u001b[0m\u001b[1;33m\u001b[0m\u001b[0m\n\u001b[1;32m--> 661\u001b[1;33m                 \u001b[1;32mraise\u001b[0m \u001b[0mValueError\u001b[0m\u001b[1;33m(\u001b[0m\u001b[1;34m\"Per-column arrays must each be 1-dimensional\"\u001b[0m\u001b[1;33m)\u001b[0m\u001b[1;33m\u001b[0m\u001b[1;33m\u001b[0m\u001b[0m\n\u001b[0m\u001b[0;32m    662\u001b[0m \u001b[1;33m\u001b[0m\u001b[0m\n\u001b[0;32m    663\u001b[0m         \u001b[1;32mif\u001b[0m \u001b[1;32mnot\u001b[0m \u001b[0mindexes\u001b[0m \u001b[1;32mand\u001b[0m \u001b[1;32mnot\u001b[0m \u001b[0mraw_lengths\u001b[0m\u001b[1;33m:\u001b[0m\u001b[1;33m\u001b[0m\u001b[1;33m\u001b[0m\u001b[0m\n",
      "\u001b[1;31mValueError\u001b[0m: Per-column arrays must each be 1-dimensional"
     ]
    }
   ],
   "source": [
    "sns.lineplot(df4t.index,df4t.values,hue=df4t.columns)"
   ]
  },
  {
   "cell_type": "code",
   "execution_count": 42,
   "id": "bfd5f4c1",
   "metadata": {
    "execution": {
     "iopub.execute_input": "2023-03-06T21:18:31.567520Z",
     "iopub.status.busy": "2023-03-06T21:18:31.566597Z",
     "iopub.status.idle": "2023-03-06T21:18:31.743127Z",
     "shell.execute_reply": "2023-03-06T21:18:31.741670Z"
    },
    "papermill": {
     "duration": 0.223814,
     "end_time": "2023-03-06T21:18:31.746680",
     "exception": false,
     "start_time": "2023-03-06T21:18:31.522866",
     "status": "completed"
    },
    "tags": []
   },
   "outputs": [
    {
     "data": {
      "application/vnd.plotly.v1+json": {
       "config": {
        "plotlyServerURL": "https://plot.ly"
       },
       "data": [
        {
         "hovertemplate": "variable=Rice<br>index=%{x}<br>value=%{y}<extra></extra>",
         "legendgroup": "Rice",
         "line": {
          "color": "#636efa",
          "dash": "solid"
         },
         "marker": {
          "symbol": "circle"
         },
         "mode": "lines+markers",
         "name": "Rice",
         "orientation": "v",
         "showlegend": true,
         "type": "scatter",
         "x": [
          "2004-05",
          "2005-06",
          "2006-07",
          "2007-08",
          "2008-09",
          "2009-10",
          "2010-11",
          "2011-12"
         ],
         "xaxis": "x",
         "y": [
          100,
          101,
          99,
          105,
          112,
          121,
          117,
          110
         ],
         "yaxis": "y"
        },
        {
         "hovertemplate": "variable=Wheat<br>index=%{x}<br>value=%{y}<extra></extra>",
         "legendgroup": "Wheat",
         "line": {
          "color": "#EF553B",
          "dash": "solid"
         },
         "marker": {
          "symbol": "circle"
         },
         "mode": "lines+markers",
         "name": "Wheat",
         "orientation": "v",
         "showlegend": true,
         "type": "scatter",
         "x": [
          "2004-05",
          "2005-06",
          "2006-07",
          "2007-08",
          "2008-09",
          "2009-10",
          "2010-11",
          "2011-12"
         ],
         "xaxis": "x",
         "y": [
          100,
          101,
          112,
          115,
          117,
          127,
          120,
          108
         ],
         "yaxis": "y"
        },
        {
         "hovertemplate": "variable=Coarse Cereals<br>index=%{x}<br>value=%{y}<extra></extra>",
         "legendgroup": "Coarse Cereals",
         "line": {
          "color": "#00cc96",
          "dash": "solid"
         },
         "marker": {
          "symbol": "circle"
         },
         "mode": "lines+markers",
         "name": "Coarse Cereals",
         "orientation": "v",
         "showlegend": true,
         "type": "scatter",
         "x": [
          "2004-05",
          "2005-06",
          "2006-07",
          "2007-08",
          "2008-09",
          "2009-10",
          "2010-11",
          "2011-12"
         ],
         "xaxis": "x",
         "y": [
          100,
          107,
          110,
          115,
          113,
          123,
          122,
          136
         ],
         "yaxis": "y"
        },
        {
         "hovertemplate": "variable=Pulses<br>index=%{x}<br>value=%{y}<extra></extra>",
         "legendgroup": "Pulses",
         "line": {
          "color": "#ab63fa",
          "dash": "solid"
         },
         "marker": {
          "symbol": "circle"
         },
         "mode": "lines+markers",
         "name": "Pulses",
         "orientation": "v",
         "showlegend": true,
         "type": "scatter",
         "x": [
          "2004-05",
          "2005-06",
          "2006-07",
          "2007-08",
          "2008-09",
          "2009-10",
          "2010-11",
          "2011-12"
         ],
         "xaxis": "x",
         "y": [
          100,
          108,
          134,
          124,
          124,
          146,
          137,
          129
         ],
         "yaxis": "y"
        },
        {
         "hovertemplate": "variable=Vegetables <br>index=%{x}<br>value=%{y}<extra></extra>",
         "legendgroup": "Vegetables ",
         "line": {
          "color": "#FFA15A",
          "dash": "solid"
         },
         "marker": {
          "symbol": "circle"
         },
         "mode": "lines+markers",
         "name": "Vegetables ",
         "orientation": "v",
         "showlegend": true,
         "type": "scatter",
         "x": [
          "2004-05",
          "2005-06",
          "2006-07",
          "2007-08",
          "2008-09",
          "2009-10",
          "2010-11",
          "2011-12"
         ],
         "xaxis": "x",
         "y": [
          100,
          109,
          103,
          118,
          113,
          124,
          128,
          115
         ],
         "yaxis": "y"
        },
        {
         "hovertemplate": "variable=Fruits<br>index=%{x}<br>value=%{y}<extra></extra>",
         "legendgroup": "Fruits",
         "line": {
          "color": "#19d3f3",
          "dash": "solid"
         },
         "marker": {
          "symbol": "circle"
         },
         "mode": "lines+markers",
         "name": "Fruits",
         "orientation": "v",
         "showlegend": true,
         "type": "scatter",
         "x": [
          "2004-05",
          "2005-06",
          "2006-07",
          "2007-08",
          "2008-09",
          "2009-10",
          "2010-11",
          "2011-12"
         ],
         "xaxis": "x",
         "y": [
          100,
          99,
          99,
          98,
          102,
          104,
          114,
          119
         ],
         "yaxis": "y"
        },
        {
         "hovertemplate": "variable=Milk<br>index=%{x}<br>value=%{y}<extra></extra>",
         "legendgroup": "Milk",
         "line": {
          "color": "#FF6692",
          "dash": "solid"
         },
         "marker": {
          "symbol": "circle"
         },
         "mode": "lines+markers",
         "name": "Milk",
         "orientation": "v",
         "showlegend": true,
         "type": "scatter",
         "x": [
          "2004-05",
          "2005-06",
          "2006-07",
          "2007-08",
          "2008-09",
          "2009-10",
          "2010-11",
          "2011-12"
         ],
         "xaxis": "x",
         "y": [
          100,
          97,
          98,
          98,
          98,
          112,
          123,
          124
         ],
         "yaxis": "y"
        },
        {
         "hovertemplate": "variable=Eggs, Fish and Meat<br>index=%{x}<br>value=%{y}<extra></extra>",
         "legendgroup": "Eggs, Fish and Meat",
         "line": {
          "color": "#B6E880",
          "dash": "solid"
         },
         "marker": {
          "symbol": "circle"
         },
         "mode": "lines+markers",
         "name": "Eggs, Fish and Meat",
         "orientation": "v",
         "showlegend": true,
         "type": "scatter",
         "x": [
          "2004-05",
          "2005-06",
          "2006-07",
          "2007-08",
          "2008-09",
          "2009-10",
          "2010-11",
          "2011-12"
         ],
         "xaxis": "x",
         "y": [
          100,
          102,
          101,
          100,
          99,
          116,
          133,
          137
         ],
         "yaxis": "y"
        },
        {
         "hovertemplate": "variable=Oilseeds<br>index=%{x}<br>value=%{y}<extra></extra>",
         "legendgroup": "Oilseeds",
         "line": {
          "color": "#FF97FF",
          "dash": "solid"
         },
         "marker": {
          "symbol": "circle"
         },
         "mode": "lines+markers",
         "name": "Oilseeds",
         "orientation": "v",
         "showlegend": true,
         "type": "scatter",
         "x": [
          "2004-05",
          "2005-06",
          "2006-07",
          "2007-08",
          "2008-09",
          "2009-10",
          "2010-11",
          "2011-12"
         ],
         "xaxis": "x",
         "y": [
          100,
          86,
          85,
          97,
          104,
          103,
          99,
          102
         ],
         "yaxis": "y"
        },
        {
         "hovertemplate": "variable=Sugarcane <br>index=%{x}<br>value=%{y}<extra></extra>",
         "legendgroup": "Sugarcane ",
         "line": {
          "color": "#FECB52",
          "dash": "solid"
         },
         "marker": {
          "symbol": "circle"
         },
         "mode": "lines+markers",
         "name": "Sugarcane ",
         "orientation": "v",
         "showlegend": true,
         "type": "scatter",
         "x": [
          "2004-05",
          "2005-06",
          "2006-07",
          "2007-08",
          "2008-09",
          "2009-10",
          "2010-11",
          "2011-12"
         ],
         "xaxis": "x",
         "y": [
          100,
          96,
          91,
          87,
          80,
          81,
          109,
          107
         ],
         "yaxis": "y"
        },
        {
         "hovertemplate": "variable=Fibers<br>index=%{x}<br>value=%{y}<extra></extra>",
         "legendgroup": "Fibers",
         "line": {
          "color": "#636efa",
          "dash": "solid"
         },
         "marker": {
          "symbol": "circle"
         },
         "mode": "lines+markers",
         "name": "Fibers",
         "orientation": "v",
         "showlegend": true,
         "type": "scatter",
         "x": [
          "2004-05",
          "2005-06",
          "2006-07",
          "2007-08",
          "2008-09",
          "2009-10",
          "2010-11",
          "2011-12"
         ],
         "xaxis": "x",
         "y": [
          100,
          92,
          91,
          96,
          109,
          107,
          138,
          140
         ],
         "yaxis": "y"
        },
        {
         "hovertemplate": "variable=All Agriculture<br>index=%{x}<br>value=%{y}<extra></extra>",
         "legendgroup": "All Agriculture",
         "line": {
          "color": "#EF553B",
          "dash": "solid"
         },
         "marker": {
          "symbol": "circle"
         },
         "mode": "lines+markers",
         "name": "All Agriculture",
         "orientation": "v",
         "showlegend": true,
         "type": "scatter",
         "x": [
          "2004-05",
          "2005-06",
          "2006-07",
          "2007-08",
          "2008-09",
          "2009-10",
          "2010-11",
          "2011-12"
         ],
         "xaxis": "x",
         "y": [
          100,
          99,
          101,
          104,
          106,
          115,
          123,
          122
         ],
         "yaxis": "y"
        }
       ],
       "layout": {
        "legend": {
         "title": {
          "text": "variable"
         },
         "tracegroupgap": 0
        },
        "margin": {
         "t": 60
        },
        "template": {
         "data": {
          "bar": [
           {
            "error_x": {
             "color": "#2a3f5f"
            },
            "error_y": {
             "color": "#2a3f5f"
            },
            "marker": {
             "line": {
              "color": "#E5ECF6",
              "width": 0.5
             },
             "pattern": {
              "fillmode": "overlay",
              "size": 10,
              "solidity": 0.2
             }
            },
            "type": "bar"
           }
          ],
          "barpolar": [
           {
            "marker": {
             "line": {
              "color": "#E5ECF6",
              "width": 0.5
             },
             "pattern": {
              "fillmode": "overlay",
              "size": 10,
              "solidity": 0.2
             }
            },
            "type": "barpolar"
           }
          ],
          "carpet": [
           {
            "aaxis": {
             "endlinecolor": "#2a3f5f",
             "gridcolor": "white",
             "linecolor": "white",
             "minorgridcolor": "white",
             "startlinecolor": "#2a3f5f"
            },
            "baxis": {
             "endlinecolor": "#2a3f5f",
             "gridcolor": "white",
             "linecolor": "white",
             "minorgridcolor": "white",
             "startlinecolor": "#2a3f5f"
            },
            "type": "carpet"
           }
          ],
          "choropleth": [
           {
            "colorbar": {
             "outlinewidth": 0,
             "ticks": ""
            },
            "type": "choropleth"
           }
          ],
          "contour": [
           {
            "colorbar": {
             "outlinewidth": 0,
             "ticks": ""
            },
            "colorscale": [
             [
              0,
              "#0d0887"
             ],
             [
              0.1111111111111111,
              "#46039f"
             ],
             [
              0.2222222222222222,
              "#7201a8"
             ],
             [
              0.3333333333333333,
              "#9c179e"
             ],
             [
              0.4444444444444444,
              "#bd3786"
             ],
             [
              0.5555555555555556,
              "#d8576b"
             ],
             [
              0.6666666666666666,
              "#ed7953"
             ],
             [
              0.7777777777777778,
              "#fb9f3a"
             ],
             [
              0.8888888888888888,
              "#fdca26"
             ],
             [
              1,
              "#f0f921"
             ]
            ],
            "type": "contour"
           }
          ],
          "contourcarpet": [
           {
            "colorbar": {
             "outlinewidth": 0,
             "ticks": ""
            },
            "type": "contourcarpet"
           }
          ],
          "heatmap": [
           {
            "colorbar": {
             "outlinewidth": 0,
             "ticks": ""
            },
            "colorscale": [
             [
              0,
              "#0d0887"
             ],
             [
              0.1111111111111111,
              "#46039f"
             ],
             [
              0.2222222222222222,
              "#7201a8"
             ],
             [
              0.3333333333333333,
              "#9c179e"
             ],
             [
              0.4444444444444444,
              "#bd3786"
             ],
             [
              0.5555555555555556,
              "#d8576b"
             ],
             [
              0.6666666666666666,
              "#ed7953"
             ],
             [
              0.7777777777777778,
              "#fb9f3a"
             ],
             [
              0.8888888888888888,
              "#fdca26"
             ],
             [
              1,
              "#f0f921"
             ]
            ],
            "type": "heatmap"
           }
          ],
          "heatmapgl": [
           {
            "colorbar": {
             "outlinewidth": 0,
             "ticks": ""
            },
            "colorscale": [
             [
              0,
              "#0d0887"
             ],
             [
              0.1111111111111111,
              "#46039f"
             ],
             [
              0.2222222222222222,
              "#7201a8"
             ],
             [
              0.3333333333333333,
              "#9c179e"
             ],
             [
              0.4444444444444444,
              "#bd3786"
             ],
             [
              0.5555555555555556,
              "#d8576b"
             ],
             [
              0.6666666666666666,
              "#ed7953"
             ],
             [
              0.7777777777777778,
              "#fb9f3a"
             ],
             [
              0.8888888888888888,
              "#fdca26"
             ],
             [
              1,
              "#f0f921"
             ]
            ],
            "type": "heatmapgl"
           }
          ],
          "histogram": [
           {
            "marker": {
             "pattern": {
              "fillmode": "overlay",
              "size": 10,
              "solidity": 0.2
             }
            },
            "type": "histogram"
           }
          ],
          "histogram2d": [
           {
            "colorbar": {
             "outlinewidth": 0,
             "ticks": ""
            },
            "colorscale": [
             [
              0,
              "#0d0887"
             ],
             [
              0.1111111111111111,
              "#46039f"
             ],
             [
              0.2222222222222222,
              "#7201a8"
             ],
             [
              0.3333333333333333,
              "#9c179e"
             ],
             [
              0.4444444444444444,
              "#bd3786"
             ],
             [
              0.5555555555555556,
              "#d8576b"
             ],
             [
              0.6666666666666666,
              "#ed7953"
             ],
             [
              0.7777777777777778,
              "#fb9f3a"
             ],
             [
              0.8888888888888888,
              "#fdca26"
             ],
             [
              1,
              "#f0f921"
             ]
            ],
            "type": "histogram2d"
           }
          ],
          "histogram2dcontour": [
           {
            "colorbar": {
             "outlinewidth": 0,
             "ticks": ""
            },
            "colorscale": [
             [
              0,
              "#0d0887"
             ],
             [
              0.1111111111111111,
              "#46039f"
             ],
             [
              0.2222222222222222,
              "#7201a8"
             ],
             [
              0.3333333333333333,
              "#9c179e"
             ],
             [
              0.4444444444444444,
              "#bd3786"
             ],
             [
              0.5555555555555556,
              "#d8576b"
             ],
             [
              0.6666666666666666,
              "#ed7953"
             ],
             [
              0.7777777777777778,
              "#fb9f3a"
             ],
             [
              0.8888888888888888,
              "#fdca26"
             ],
             [
              1,
              "#f0f921"
             ]
            ],
            "type": "histogram2dcontour"
           }
          ],
          "mesh3d": [
           {
            "colorbar": {
             "outlinewidth": 0,
             "ticks": ""
            },
            "type": "mesh3d"
           }
          ],
          "parcoords": [
           {
            "line": {
             "colorbar": {
              "outlinewidth": 0,
              "ticks": ""
             }
            },
            "type": "parcoords"
           }
          ],
          "pie": [
           {
            "automargin": true,
            "type": "pie"
           }
          ],
          "scatter": [
           {
            "fillpattern": {
             "fillmode": "overlay",
             "size": 10,
             "solidity": 0.2
            },
            "type": "scatter"
           }
          ],
          "scatter3d": [
           {
            "line": {
             "colorbar": {
              "outlinewidth": 0,
              "ticks": ""
             }
            },
            "marker": {
             "colorbar": {
              "outlinewidth": 0,
              "ticks": ""
             }
            },
            "type": "scatter3d"
           }
          ],
          "scattercarpet": [
           {
            "marker": {
             "colorbar": {
              "outlinewidth": 0,
              "ticks": ""
             }
            },
            "type": "scattercarpet"
           }
          ],
          "scattergeo": [
           {
            "marker": {
             "colorbar": {
              "outlinewidth": 0,
              "ticks": ""
             }
            },
            "type": "scattergeo"
           }
          ],
          "scattergl": [
           {
            "marker": {
             "colorbar": {
              "outlinewidth": 0,
              "ticks": ""
             }
            },
            "type": "scattergl"
           }
          ],
          "scattermapbox": [
           {
            "marker": {
             "colorbar": {
              "outlinewidth": 0,
              "ticks": ""
             }
            },
            "type": "scattermapbox"
           }
          ],
          "scatterpolar": [
           {
            "marker": {
             "colorbar": {
              "outlinewidth": 0,
              "ticks": ""
             }
            },
            "type": "scatterpolar"
           }
          ],
          "scatterpolargl": [
           {
            "marker": {
             "colorbar": {
              "outlinewidth": 0,
              "ticks": ""
             }
            },
            "type": "scatterpolargl"
           }
          ],
          "scatterternary": [
           {
            "marker": {
             "colorbar": {
              "outlinewidth": 0,
              "ticks": ""
             }
            },
            "type": "scatterternary"
           }
          ],
          "surface": [
           {
            "colorbar": {
             "outlinewidth": 0,
             "ticks": ""
            },
            "colorscale": [
             [
              0,
              "#0d0887"
             ],
             [
              0.1111111111111111,
              "#46039f"
             ],
             [
              0.2222222222222222,
              "#7201a8"
             ],
             [
              0.3333333333333333,
              "#9c179e"
             ],
             [
              0.4444444444444444,
              "#bd3786"
             ],
             [
              0.5555555555555556,
              "#d8576b"
             ],
             [
              0.6666666666666666,
              "#ed7953"
             ],
             [
              0.7777777777777778,
              "#fb9f3a"
             ],
             [
              0.8888888888888888,
              "#fdca26"
             ],
             [
              1,
              "#f0f921"
             ]
            ],
            "type": "surface"
           }
          ],
          "table": [
           {
            "cells": {
             "fill": {
              "color": "#EBF0F8"
             },
             "line": {
              "color": "white"
             }
            },
            "header": {
             "fill": {
              "color": "#C8D4E3"
             },
             "line": {
              "color": "white"
             }
            },
            "type": "table"
           }
          ]
         },
         "layout": {
          "annotationdefaults": {
           "arrowcolor": "#2a3f5f",
           "arrowhead": 0,
           "arrowwidth": 1
          },
          "autotypenumbers": "strict",
          "coloraxis": {
           "colorbar": {
            "outlinewidth": 0,
            "ticks": ""
           }
          },
          "colorscale": {
           "diverging": [
            [
             0,
             "#8e0152"
            ],
            [
             0.1,
             "#c51b7d"
            ],
            [
             0.2,
             "#de77ae"
            ],
            [
             0.3,
             "#f1b6da"
            ],
            [
             0.4,
             "#fde0ef"
            ],
            [
             0.5,
             "#f7f7f7"
            ],
            [
             0.6,
             "#e6f5d0"
            ],
            [
             0.7,
             "#b8e186"
            ],
            [
             0.8,
             "#7fbc41"
            ],
            [
             0.9,
             "#4d9221"
            ],
            [
             1,
             "#276419"
            ]
           ],
           "sequential": [
            [
             0,
             "#0d0887"
            ],
            [
             0.1111111111111111,
             "#46039f"
            ],
            [
             0.2222222222222222,
             "#7201a8"
            ],
            [
             0.3333333333333333,
             "#9c179e"
            ],
            [
             0.4444444444444444,
             "#bd3786"
            ],
            [
             0.5555555555555556,
             "#d8576b"
            ],
            [
             0.6666666666666666,
             "#ed7953"
            ],
            [
             0.7777777777777778,
             "#fb9f3a"
            ],
            [
             0.8888888888888888,
             "#fdca26"
            ],
            [
             1,
             "#f0f921"
            ]
           ],
           "sequentialminus": [
            [
             0,
             "#0d0887"
            ],
            [
             0.1111111111111111,
             "#46039f"
            ],
            [
             0.2222222222222222,
             "#7201a8"
            ],
            [
             0.3333333333333333,
             "#9c179e"
            ],
            [
             0.4444444444444444,
             "#bd3786"
            ],
            [
             0.5555555555555556,
             "#d8576b"
            ],
            [
             0.6666666666666666,
             "#ed7953"
            ],
            [
             0.7777777777777778,
             "#fb9f3a"
            ],
            [
             0.8888888888888888,
             "#fdca26"
            ],
            [
             1,
             "#f0f921"
            ]
           ]
          },
          "colorway": [
           "#636efa",
           "#EF553B",
           "#00cc96",
           "#ab63fa",
           "#FFA15A",
           "#19d3f3",
           "#FF6692",
           "#B6E880",
           "#FF97FF",
           "#FECB52"
          ],
          "font": {
           "color": "#2a3f5f"
          },
          "geo": {
           "bgcolor": "white",
           "lakecolor": "white",
           "landcolor": "#E5ECF6",
           "showlakes": true,
           "showland": true,
           "subunitcolor": "white"
          },
          "hoverlabel": {
           "align": "left"
          },
          "hovermode": "closest",
          "mapbox": {
           "style": "light"
          },
          "paper_bgcolor": "white",
          "plot_bgcolor": "#E5ECF6",
          "polar": {
           "angularaxis": {
            "gridcolor": "white",
            "linecolor": "white",
            "ticks": ""
           },
           "bgcolor": "#E5ECF6",
           "radialaxis": {
            "gridcolor": "white",
            "linecolor": "white",
            "ticks": ""
           }
          },
          "scene": {
           "xaxis": {
            "backgroundcolor": "#E5ECF6",
            "gridcolor": "white",
            "gridwidth": 2,
            "linecolor": "white",
            "showbackground": true,
            "ticks": "",
            "zerolinecolor": "white"
           },
           "yaxis": {
            "backgroundcolor": "#E5ECF6",
            "gridcolor": "white",
            "gridwidth": 2,
            "linecolor": "white",
            "showbackground": true,
            "ticks": "",
            "zerolinecolor": "white"
           },
           "zaxis": {
            "backgroundcolor": "#E5ECF6",
            "gridcolor": "white",
            "gridwidth": 2,
            "linecolor": "white",
            "showbackground": true,
            "ticks": "",
            "zerolinecolor": "white"
           }
          },
          "shapedefaults": {
           "line": {
            "color": "#2a3f5f"
           }
          },
          "ternary": {
           "aaxis": {
            "gridcolor": "white",
            "linecolor": "white",
            "ticks": ""
           },
           "baxis": {
            "gridcolor": "white",
            "linecolor": "white",
            "ticks": ""
           },
           "bgcolor": "#E5ECF6",
           "caxis": {
            "gridcolor": "white",
            "linecolor": "white",
            "ticks": ""
           }
          },
          "title": {
           "x": 0.05
          },
          "xaxis": {
           "automargin": true,
           "gridcolor": "white",
           "linecolor": "white",
           "ticks": "",
           "title": {
            "standoff": 15
           },
           "zerolinecolor": "white",
           "zerolinewidth": 2
          },
          "yaxis": {
           "automargin": true,
           "gridcolor": "white",
           "linecolor": "white",
           "ticks": "",
           "title": {
            "standoff": 15
           },
           "zerolinecolor": "white",
           "zerolinewidth": 2
          }
         }
        },
        "xaxis": {
         "anchor": "y",
         "domain": [
          0,
          1
         ],
         "title": {
          "text": "index"
         }
        },
        "yaxis": {
         "anchor": "x",
         "domain": [
          0,
          1
         ],
         "title": {
          "text": "value"
         }
        }
       }
      },
      "text/html": [
       "<div>                            <div id=\"3e9252e6-9bfc-4193-adfb-9195ba2bc214\" class=\"plotly-graph-div\" style=\"height:525px; width:100%;\"></div>            <script type=\"text/javascript\">                require([\"plotly\"], function(Plotly) {                    window.PLOTLYENV=window.PLOTLYENV || {};                                    if (document.getElementById(\"3e9252e6-9bfc-4193-adfb-9195ba2bc214\")) {                    Plotly.newPlot(                        \"3e9252e6-9bfc-4193-adfb-9195ba2bc214\",                        [{\"hovertemplate\":\"variable=Rice<br>index=%{x}<br>value=%{y}<extra></extra>\",\"legendgroup\":\"Rice\",\"line\":{\"color\":\"#636efa\",\"dash\":\"solid\"},\"marker\":{\"symbol\":\"circle\"},\"mode\":\"lines+markers\",\"name\":\"Rice\",\"orientation\":\"v\",\"showlegend\":true,\"x\":[\"2004-05\",\"2005-06\",\"2006-07\",\"2007-08\",\"2008-09\",\"2009-10\",\"2010-11\",\"2011-12\"],\"xaxis\":\"x\",\"y\":[100.0,101.0,99.0,105.0,112.0,121.0,117.0,110.0],\"yaxis\":\"y\",\"type\":\"scatter\"},{\"hovertemplate\":\"variable=Wheat<br>index=%{x}<br>value=%{y}<extra></extra>\",\"legendgroup\":\"Wheat\",\"line\":{\"color\":\"#EF553B\",\"dash\":\"solid\"},\"marker\":{\"symbol\":\"circle\"},\"mode\":\"lines+markers\",\"name\":\"Wheat\",\"orientation\":\"v\",\"showlegend\":true,\"x\":[\"2004-05\",\"2005-06\",\"2006-07\",\"2007-08\",\"2008-09\",\"2009-10\",\"2010-11\",\"2011-12\"],\"xaxis\":\"x\",\"y\":[100.0,101.0,112.0,115.0,117.0,127.0,120.0,108.0],\"yaxis\":\"y\",\"type\":\"scatter\"},{\"hovertemplate\":\"variable=Coarse Cereals<br>index=%{x}<br>value=%{y}<extra></extra>\",\"legendgroup\":\"Coarse Cereals\",\"line\":{\"color\":\"#00cc96\",\"dash\":\"solid\"},\"marker\":{\"symbol\":\"circle\"},\"mode\":\"lines+markers\",\"name\":\"Coarse Cereals\",\"orientation\":\"v\",\"showlegend\":true,\"x\":[\"2004-05\",\"2005-06\",\"2006-07\",\"2007-08\",\"2008-09\",\"2009-10\",\"2010-11\",\"2011-12\"],\"xaxis\":\"x\",\"y\":[100.0,107.0,110.0,115.0,113.0,123.0,122.0,136.0],\"yaxis\":\"y\",\"type\":\"scatter\"},{\"hovertemplate\":\"variable=Pulses<br>index=%{x}<br>value=%{y}<extra></extra>\",\"legendgroup\":\"Pulses\",\"line\":{\"color\":\"#ab63fa\",\"dash\":\"solid\"},\"marker\":{\"symbol\":\"circle\"},\"mode\":\"lines+markers\",\"name\":\"Pulses\",\"orientation\":\"v\",\"showlegend\":true,\"x\":[\"2004-05\",\"2005-06\",\"2006-07\",\"2007-08\",\"2008-09\",\"2009-10\",\"2010-11\",\"2011-12\"],\"xaxis\":\"x\",\"y\":[100.0,108.0,134.0,124.0,124.0,146.0,137.0,129.0],\"yaxis\":\"y\",\"type\":\"scatter\"},{\"hovertemplate\":\"variable=Vegetables <br>index=%{x}<br>value=%{y}<extra></extra>\",\"legendgroup\":\"Vegetables \",\"line\":{\"color\":\"#FFA15A\",\"dash\":\"solid\"},\"marker\":{\"symbol\":\"circle\"},\"mode\":\"lines+markers\",\"name\":\"Vegetables \",\"orientation\":\"v\",\"showlegend\":true,\"x\":[\"2004-05\",\"2005-06\",\"2006-07\",\"2007-08\",\"2008-09\",\"2009-10\",\"2010-11\",\"2011-12\"],\"xaxis\":\"x\",\"y\":[100.0,109.0,103.0,118.0,113.0,124.0,128.0,115.0],\"yaxis\":\"y\",\"type\":\"scatter\"},{\"hovertemplate\":\"variable=Fruits<br>index=%{x}<br>value=%{y}<extra></extra>\",\"legendgroup\":\"Fruits\",\"line\":{\"color\":\"#19d3f3\",\"dash\":\"solid\"},\"marker\":{\"symbol\":\"circle\"},\"mode\":\"lines+markers\",\"name\":\"Fruits\",\"orientation\":\"v\",\"showlegend\":true,\"x\":[\"2004-05\",\"2005-06\",\"2006-07\",\"2007-08\",\"2008-09\",\"2009-10\",\"2010-11\",\"2011-12\"],\"xaxis\":\"x\",\"y\":[100.0,99.0,99.0,98.0,102.0,104.0,114.0,119.0],\"yaxis\":\"y\",\"type\":\"scatter\"},{\"hovertemplate\":\"variable=Milk<br>index=%{x}<br>value=%{y}<extra></extra>\",\"legendgroup\":\"Milk\",\"line\":{\"color\":\"#FF6692\",\"dash\":\"solid\"},\"marker\":{\"symbol\":\"circle\"},\"mode\":\"lines+markers\",\"name\":\"Milk\",\"orientation\":\"v\",\"showlegend\":true,\"x\":[\"2004-05\",\"2005-06\",\"2006-07\",\"2007-08\",\"2008-09\",\"2009-10\",\"2010-11\",\"2011-12\"],\"xaxis\":\"x\",\"y\":[100.0,97.0,98.0,98.0,98.0,112.0,123.0,124.0],\"yaxis\":\"y\",\"type\":\"scatter\"},{\"hovertemplate\":\"variable=Eggs, Fish and Meat<br>index=%{x}<br>value=%{y}<extra></extra>\",\"legendgroup\":\"Eggs, Fish and Meat\",\"line\":{\"color\":\"#B6E880\",\"dash\":\"solid\"},\"marker\":{\"symbol\":\"circle\"},\"mode\":\"lines+markers\",\"name\":\"Eggs, Fish and Meat\",\"orientation\":\"v\",\"showlegend\":true,\"x\":[\"2004-05\",\"2005-06\",\"2006-07\",\"2007-08\",\"2008-09\",\"2009-10\",\"2010-11\",\"2011-12\"],\"xaxis\":\"x\",\"y\":[100.0,102.0,101.0,100.0,99.0,116.0,133.0,137.0],\"yaxis\":\"y\",\"type\":\"scatter\"},{\"hovertemplate\":\"variable=Oilseeds<br>index=%{x}<br>value=%{y}<extra></extra>\",\"legendgroup\":\"Oilseeds\",\"line\":{\"color\":\"#FF97FF\",\"dash\":\"solid\"},\"marker\":{\"symbol\":\"circle\"},\"mode\":\"lines+markers\",\"name\":\"Oilseeds\",\"orientation\":\"v\",\"showlegend\":true,\"x\":[\"2004-05\",\"2005-06\",\"2006-07\",\"2007-08\",\"2008-09\",\"2009-10\",\"2010-11\",\"2011-12\"],\"xaxis\":\"x\",\"y\":[100.0,86.0,85.0,97.0,104.0,103.0,99.0,102.0],\"yaxis\":\"y\",\"type\":\"scatter\"},{\"hovertemplate\":\"variable=Sugarcane <br>index=%{x}<br>value=%{y}<extra></extra>\",\"legendgroup\":\"Sugarcane \",\"line\":{\"color\":\"#FECB52\",\"dash\":\"solid\"},\"marker\":{\"symbol\":\"circle\"},\"mode\":\"lines+markers\",\"name\":\"Sugarcane \",\"orientation\":\"v\",\"showlegend\":true,\"x\":[\"2004-05\",\"2005-06\",\"2006-07\",\"2007-08\",\"2008-09\",\"2009-10\",\"2010-11\",\"2011-12\"],\"xaxis\":\"x\",\"y\":[100.0,96.0,91.0,87.0,80.0,81.0,109.0,107.0],\"yaxis\":\"y\",\"type\":\"scatter\"},{\"hovertemplate\":\"variable=Fibers<br>index=%{x}<br>value=%{y}<extra></extra>\",\"legendgroup\":\"Fibers\",\"line\":{\"color\":\"#636efa\",\"dash\":\"solid\"},\"marker\":{\"symbol\":\"circle\"},\"mode\":\"lines+markers\",\"name\":\"Fibers\",\"orientation\":\"v\",\"showlegend\":true,\"x\":[\"2004-05\",\"2005-06\",\"2006-07\",\"2007-08\",\"2008-09\",\"2009-10\",\"2010-11\",\"2011-12\"],\"xaxis\":\"x\",\"y\":[100.0,92.0,91.0,96.0,109.0,107.0,138.0,140.0],\"yaxis\":\"y\",\"type\":\"scatter\"},{\"hovertemplate\":\"variable=All Agriculture<br>index=%{x}<br>value=%{y}<extra></extra>\",\"legendgroup\":\"All Agriculture\",\"line\":{\"color\":\"#EF553B\",\"dash\":\"solid\"},\"marker\":{\"symbol\":\"circle\"},\"mode\":\"lines+markers\",\"name\":\"All Agriculture\",\"orientation\":\"v\",\"showlegend\":true,\"x\":[\"2004-05\",\"2005-06\",\"2006-07\",\"2007-08\",\"2008-09\",\"2009-10\",\"2010-11\",\"2011-12\"],\"xaxis\":\"x\",\"y\":[100.0,99.0,101.0,104.0,106.0,115.0,123.0,122.0],\"yaxis\":\"y\",\"type\":\"scatter\"}],                        {\"template\":{\"data\":{\"histogram2dcontour\":[{\"type\":\"histogram2dcontour\",\"colorbar\":{\"outlinewidth\":0,\"ticks\":\"\"},\"colorscale\":[[0.0,\"#0d0887\"],[0.1111111111111111,\"#46039f\"],[0.2222222222222222,\"#7201a8\"],[0.3333333333333333,\"#9c179e\"],[0.4444444444444444,\"#bd3786\"],[0.5555555555555556,\"#d8576b\"],[0.6666666666666666,\"#ed7953\"],[0.7777777777777778,\"#fb9f3a\"],[0.8888888888888888,\"#fdca26\"],[1.0,\"#f0f921\"]]}],\"choropleth\":[{\"type\":\"choropleth\",\"colorbar\":{\"outlinewidth\":0,\"ticks\":\"\"}}],\"histogram2d\":[{\"type\":\"histogram2d\",\"colorbar\":{\"outlinewidth\":0,\"ticks\":\"\"},\"colorscale\":[[0.0,\"#0d0887\"],[0.1111111111111111,\"#46039f\"],[0.2222222222222222,\"#7201a8\"],[0.3333333333333333,\"#9c179e\"],[0.4444444444444444,\"#bd3786\"],[0.5555555555555556,\"#d8576b\"],[0.6666666666666666,\"#ed7953\"],[0.7777777777777778,\"#fb9f3a\"],[0.8888888888888888,\"#fdca26\"],[1.0,\"#f0f921\"]]}],\"heatmap\":[{\"type\":\"heatmap\",\"colorbar\":{\"outlinewidth\":0,\"ticks\":\"\"},\"colorscale\":[[0.0,\"#0d0887\"],[0.1111111111111111,\"#46039f\"],[0.2222222222222222,\"#7201a8\"],[0.3333333333333333,\"#9c179e\"],[0.4444444444444444,\"#bd3786\"],[0.5555555555555556,\"#d8576b\"],[0.6666666666666666,\"#ed7953\"],[0.7777777777777778,\"#fb9f3a\"],[0.8888888888888888,\"#fdca26\"],[1.0,\"#f0f921\"]]}],\"heatmapgl\":[{\"type\":\"heatmapgl\",\"colorbar\":{\"outlinewidth\":0,\"ticks\":\"\"},\"colorscale\":[[0.0,\"#0d0887\"],[0.1111111111111111,\"#46039f\"],[0.2222222222222222,\"#7201a8\"],[0.3333333333333333,\"#9c179e\"],[0.4444444444444444,\"#bd3786\"],[0.5555555555555556,\"#d8576b\"],[0.6666666666666666,\"#ed7953\"],[0.7777777777777778,\"#fb9f3a\"],[0.8888888888888888,\"#fdca26\"],[1.0,\"#f0f921\"]]}],\"contourcarpet\":[{\"type\":\"contourcarpet\",\"colorbar\":{\"outlinewidth\":0,\"ticks\":\"\"}}],\"contour\":[{\"type\":\"contour\",\"colorbar\":{\"outlinewidth\":0,\"ticks\":\"\"},\"colorscale\":[[0.0,\"#0d0887\"],[0.1111111111111111,\"#46039f\"],[0.2222222222222222,\"#7201a8\"],[0.3333333333333333,\"#9c179e\"],[0.4444444444444444,\"#bd3786\"],[0.5555555555555556,\"#d8576b\"],[0.6666666666666666,\"#ed7953\"],[0.7777777777777778,\"#fb9f3a\"],[0.8888888888888888,\"#fdca26\"],[1.0,\"#f0f921\"]]}],\"surface\":[{\"type\":\"surface\",\"colorbar\":{\"outlinewidth\":0,\"ticks\":\"\"},\"colorscale\":[[0.0,\"#0d0887\"],[0.1111111111111111,\"#46039f\"],[0.2222222222222222,\"#7201a8\"],[0.3333333333333333,\"#9c179e\"],[0.4444444444444444,\"#bd3786\"],[0.5555555555555556,\"#d8576b\"],[0.6666666666666666,\"#ed7953\"],[0.7777777777777778,\"#fb9f3a\"],[0.8888888888888888,\"#fdca26\"],[1.0,\"#f0f921\"]]}],\"mesh3d\":[{\"type\":\"mesh3d\",\"colorbar\":{\"outlinewidth\":0,\"ticks\":\"\"}}],\"scatter\":[{\"fillpattern\":{\"fillmode\":\"overlay\",\"size\":10,\"solidity\":0.2},\"type\":\"scatter\"}],\"parcoords\":[{\"type\":\"parcoords\",\"line\":{\"colorbar\":{\"outlinewidth\":0,\"ticks\":\"\"}}}],\"scatterpolargl\":[{\"type\":\"scatterpolargl\",\"marker\":{\"colorbar\":{\"outlinewidth\":0,\"ticks\":\"\"}}}],\"bar\":[{\"error_x\":{\"color\":\"#2a3f5f\"},\"error_y\":{\"color\":\"#2a3f5f\"},\"marker\":{\"line\":{\"color\":\"#E5ECF6\",\"width\":0.5},\"pattern\":{\"fillmode\":\"overlay\",\"size\":10,\"solidity\":0.2}},\"type\":\"bar\"}],\"scattergeo\":[{\"type\":\"scattergeo\",\"marker\":{\"colorbar\":{\"outlinewidth\":0,\"ticks\":\"\"}}}],\"scatterpolar\":[{\"type\":\"scatterpolar\",\"marker\":{\"colorbar\":{\"outlinewidth\":0,\"ticks\":\"\"}}}],\"histogram\":[{\"marker\":{\"pattern\":{\"fillmode\":\"overlay\",\"size\":10,\"solidity\":0.2}},\"type\":\"histogram\"}],\"scattergl\":[{\"type\":\"scattergl\",\"marker\":{\"colorbar\":{\"outlinewidth\":0,\"ticks\":\"\"}}}],\"scatter3d\":[{\"type\":\"scatter3d\",\"line\":{\"colorbar\":{\"outlinewidth\":0,\"ticks\":\"\"}},\"marker\":{\"colorbar\":{\"outlinewidth\":0,\"ticks\":\"\"}}}],\"scattermapbox\":[{\"type\":\"scattermapbox\",\"marker\":{\"colorbar\":{\"outlinewidth\":0,\"ticks\":\"\"}}}],\"scatterternary\":[{\"type\":\"scatterternary\",\"marker\":{\"colorbar\":{\"outlinewidth\":0,\"ticks\":\"\"}}}],\"scattercarpet\":[{\"type\":\"scattercarpet\",\"marker\":{\"colorbar\":{\"outlinewidth\":0,\"ticks\":\"\"}}}],\"carpet\":[{\"aaxis\":{\"endlinecolor\":\"#2a3f5f\",\"gridcolor\":\"white\",\"linecolor\":\"white\",\"minorgridcolor\":\"white\",\"startlinecolor\":\"#2a3f5f\"},\"baxis\":{\"endlinecolor\":\"#2a3f5f\",\"gridcolor\":\"white\",\"linecolor\":\"white\",\"minorgridcolor\":\"white\",\"startlinecolor\":\"#2a3f5f\"},\"type\":\"carpet\"}],\"table\":[{\"cells\":{\"fill\":{\"color\":\"#EBF0F8\"},\"line\":{\"color\":\"white\"}},\"header\":{\"fill\":{\"color\":\"#C8D4E3\"},\"line\":{\"color\":\"white\"}},\"type\":\"table\"}],\"barpolar\":[{\"marker\":{\"line\":{\"color\":\"#E5ECF6\",\"width\":0.5},\"pattern\":{\"fillmode\":\"overlay\",\"size\":10,\"solidity\":0.2}},\"type\":\"barpolar\"}],\"pie\":[{\"automargin\":true,\"type\":\"pie\"}]},\"layout\":{\"autotypenumbers\":\"strict\",\"colorway\":[\"#636efa\",\"#EF553B\",\"#00cc96\",\"#ab63fa\",\"#FFA15A\",\"#19d3f3\",\"#FF6692\",\"#B6E880\",\"#FF97FF\",\"#FECB52\"],\"font\":{\"color\":\"#2a3f5f\"},\"hovermode\":\"closest\",\"hoverlabel\":{\"align\":\"left\"},\"paper_bgcolor\":\"white\",\"plot_bgcolor\":\"#E5ECF6\",\"polar\":{\"bgcolor\":\"#E5ECF6\",\"angularaxis\":{\"gridcolor\":\"white\",\"linecolor\":\"white\",\"ticks\":\"\"},\"radialaxis\":{\"gridcolor\":\"white\",\"linecolor\":\"white\",\"ticks\":\"\"}},\"ternary\":{\"bgcolor\":\"#E5ECF6\",\"aaxis\":{\"gridcolor\":\"white\",\"linecolor\":\"white\",\"ticks\":\"\"},\"baxis\":{\"gridcolor\":\"white\",\"linecolor\":\"white\",\"ticks\":\"\"},\"caxis\":{\"gridcolor\":\"white\",\"linecolor\":\"white\",\"ticks\":\"\"}},\"coloraxis\":{\"colorbar\":{\"outlinewidth\":0,\"ticks\":\"\"}},\"colorscale\":{\"sequential\":[[0.0,\"#0d0887\"],[0.1111111111111111,\"#46039f\"],[0.2222222222222222,\"#7201a8\"],[0.3333333333333333,\"#9c179e\"],[0.4444444444444444,\"#bd3786\"],[0.5555555555555556,\"#d8576b\"],[0.6666666666666666,\"#ed7953\"],[0.7777777777777778,\"#fb9f3a\"],[0.8888888888888888,\"#fdca26\"],[1.0,\"#f0f921\"]],\"sequentialminus\":[[0.0,\"#0d0887\"],[0.1111111111111111,\"#46039f\"],[0.2222222222222222,\"#7201a8\"],[0.3333333333333333,\"#9c179e\"],[0.4444444444444444,\"#bd3786\"],[0.5555555555555556,\"#d8576b\"],[0.6666666666666666,\"#ed7953\"],[0.7777777777777778,\"#fb9f3a\"],[0.8888888888888888,\"#fdca26\"],[1.0,\"#f0f921\"]],\"diverging\":[[0,\"#8e0152\"],[0.1,\"#c51b7d\"],[0.2,\"#de77ae\"],[0.3,\"#f1b6da\"],[0.4,\"#fde0ef\"],[0.5,\"#f7f7f7\"],[0.6,\"#e6f5d0\"],[0.7,\"#b8e186\"],[0.8,\"#7fbc41\"],[0.9,\"#4d9221\"],[1,\"#276419\"]]},\"xaxis\":{\"gridcolor\":\"white\",\"linecolor\":\"white\",\"ticks\":\"\",\"title\":{\"standoff\":15},\"zerolinecolor\":\"white\",\"automargin\":true,\"zerolinewidth\":2},\"yaxis\":{\"gridcolor\":\"white\",\"linecolor\":\"white\",\"ticks\":\"\",\"title\":{\"standoff\":15},\"zerolinecolor\":\"white\",\"automargin\":true,\"zerolinewidth\":2},\"scene\":{\"xaxis\":{\"backgroundcolor\":\"#E5ECF6\",\"gridcolor\":\"white\",\"linecolor\":\"white\",\"showbackground\":true,\"ticks\":\"\",\"zerolinecolor\":\"white\",\"gridwidth\":2},\"yaxis\":{\"backgroundcolor\":\"#E5ECF6\",\"gridcolor\":\"white\",\"linecolor\":\"white\",\"showbackground\":true,\"ticks\":\"\",\"zerolinecolor\":\"white\",\"gridwidth\":2},\"zaxis\":{\"backgroundcolor\":\"#E5ECF6\",\"gridcolor\":\"white\",\"linecolor\":\"white\",\"showbackground\":true,\"ticks\":\"\",\"zerolinecolor\":\"white\",\"gridwidth\":2}},\"shapedefaults\":{\"line\":{\"color\":\"#2a3f5f\"}},\"annotationdefaults\":{\"arrowcolor\":\"#2a3f5f\",\"arrowhead\":0,\"arrowwidth\":1},\"geo\":{\"bgcolor\":\"white\",\"landcolor\":\"#E5ECF6\",\"subunitcolor\":\"white\",\"showland\":true,\"showlakes\":true,\"lakecolor\":\"white\"},\"title\":{\"x\":0.05},\"mapbox\":{\"style\":\"light\"}}},\"xaxis\":{\"anchor\":\"y\",\"domain\":[0.0,1.0],\"title\":{\"text\":\"index\"}},\"yaxis\":{\"anchor\":\"x\",\"domain\":[0.0,1.0],\"title\":{\"text\":\"value\"}},\"legend\":{\"title\":{\"text\":\"variable\"},\"tracegroupgap\":0},\"margin\":{\"t\":60}},                        {\"responsive\": true}                    ).then(function(){\n",
       "                            \n",
       "var gd = document.getElementById('3e9252e6-9bfc-4193-adfb-9195ba2bc214');\n",
       "var x = new MutationObserver(function (mutations, observer) {{\n",
       "        var display = window.getComputedStyle(gd).display;\n",
       "        if (!display || display === 'none') {{\n",
       "            console.log([gd, 'removed!']);\n",
       "            Plotly.purge(gd);\n",
       "            observer.disconnect();\n",
       "        }}\n",
       "}});\n",
       "\n",
       "// Listen for the removal of the full notebook cells\n",
       "var notebookContainer = gd.closest('#notebook-container');\n",
       "if (notebookContainer) {{\n",
       "    x.observe(notebookContainer, {childList: true});\n",
       "}}\n",
       "\n",
       "// Listen for the clearing of the current output cell\n",
       "var outputEl = gd.closest('.output');\n",
       "if (outputEl) {{\n",
       "    x.observe(outputEl, {childList: true});\n",
       "}}\n",
       "\n",
       "                        })                };                });            </script>        </div>"
      ]
     },
     "metadata": {},
     "output_type": "display_data"
    }
   ],
   "source": [
    "a=px.line(df4t,markers=True)\n",
    "\n",
    "a.show()"
   ]
  },
  {
   "cell_type": "markdown",
   "id": "7c61e321",
   "metadata": {
    "papermill": {
     "duration": 0.049136,
     "end_time": "2023-03-06T21:18:31.845849",
     "exception": false,
     "start_time": "2023-03-06T21:18:31.796713",
     "status": "completed"
    },
    "tags": []
   },
   "source": [
    "We can see fluctuations of crop produce in and fiber has climbed a major portion between 2010 and 2011"
   ]
  },
  {
   "cell_type": "markdown",
   "id": "44ddd380",
   "metadata": {
    "papermill": {
     "duration": 0.048724,
     "end_time": "2023-03-06T21:18:31.943864",
     "exception": false,
     "start_time": "2023-03-06T21:18:31.895140",
     "status": "completed"
    },
    "tags": []
   },
   "source": [
    "# **Conclusion**"
   ]
  },
  {
   "cell_type": "markdown",
   "id": "0c37a90b",
   "metadata": {
    "papermill": {
     "duration": 0.04881,
     "end_time": "2023-03-06T21:18:32.042942",
     "exception": false,
     "start_time": "2023-03-06T21:18:31.994132",
     "status": "completed"
    },
    "tags": []
   },
   "source": [
    "By doing this analysis i feel it has contributed to my knowledge and have some conclusions from the dataset & while we all know how important agriculture is for the nation and still has a lot people relying on agriculture for income . While this dataset offers a lot of data but farming and agriculture is still a declining industry. As much we need agri-products we do not encourage the farmers enough, we do not celebrate them and thus people in the agriculture industry is declining. This industry needs new age solutions so that every farmer earns better and lives a better life which he looks for."
   ]
  }
 ],
 "metadata": {
  "kernelspec": {
   "display_name": "Python 3 (ipykernel)",
   "language": "python",
   "name": "python3"
  },
  "language_info": {
   "codemirror_mode": {
    "name": "ipython",
    "version": 3
   },
   "file_extension": ".py",
   "mimetype": "text/x-python",
   "name": "python",
   "nbconvert_exporter": "python",
   "pygments_lexer": "ipython3",
   "version": "3.9.13"
  },
  "papermill": {
   "default_parameters": {},
   "duration": 42.703455,
   "end_time": "2023-03-06T21:18:33.219002",
   "environment_variables": {},
   "exception": null,
   "input_path": "__notebook__.ipynb",
   "output_path": "__notebook__.ipynb",
   "parameters": {},
   "start_time": "2023-03-06T21:17:50.515547",
   "version": "2.4.0"
  }
 },
 "nbformat": 4,
 "nbformat_minor": 5
}
